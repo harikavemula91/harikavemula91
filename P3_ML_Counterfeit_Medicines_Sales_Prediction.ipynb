{
  "nbformat": 4,
  "nbformat_minor": 0,
  "metadata": {
    "colab": {
      "name": "Project3_Python.ipynb",
      "provenance": [],
      "authorship_tag": "ABX9TyNB2F/5pDyL4DtzCBh4CgdN",
      "include_colab_link": true
    },
    "kernelspec": {
      "name": "python3",
      "display_name": "Python 3"
    }
  },
  "cells": [
    {
      "cell_type": "markdown",
      "metadata": {
        "id": "view-in-github",
        "colab_type": "text"
      },
      "source": [
        "<a href=\"https://colab.research.google.com/github/harikavemula91/harikavemula91/blob/main/P3_ML_Counterfeit_Medicines_Sales_Prediction.ipynb\" target=\"_parent\"><img src=\"https://colab.research.google.com/assets/colab-badge.svg\" alt=\"Open In Colab\"/></a>"
      ]
    },
    {
      "cell_type": "code",
      "metadata": {
        "id": "Ui3-mt0yQxIg"
      },
      "source": [
        "import warnings\n",
        "warnings.filterwarnings('ignore')\n",
        "import pandas as pd\n",
        "import math\n",
        "from sklearn.model_selection import train_test_split,KFold \n",
        "import numpy as np\n",
        "\n",
        "#cross validation has been renamed and deprecated due to which we are gettng module name error.\n",
        "#cross validation sub-module to model_selection.Try substituting cross_validation to model_selection"
      ],
      "execution_count": null,
      "outputs": []
    },
    {
      "cell_type": "code",
      "metadata": {
        "id": "Zgik3UlNUpiK"
      },
      "source": [
        "#datafile_train=r'C:/Users/harish/Downloads/Data/Data/Consumer_Complaints_train.csv'\n",
        "#datafile_test=r'C:/Users/harish/Downloads/Data/Data/Consumer_Complaints_test_share.csv'\n",
        "datafile_train=r'counterfeit_train.csv'\n",
        "datafile_test=r'counterfeit_test.csv'\n",
        "cf_train=pd.read_csv(datafile_train)\n",
        "cf_test=pd.read_csv(datafile_test)"
      ],
      "execution_count": null,
      "outputs": []
    },
    {
      "cell_type": "code",
      "metadata": {
        "id": "W-SGNPoSUpT_",
        "colab": {
          "base_uri": "https://localhost:8080/",
          "height": 238
        },
        "outputId": "b88a7e90-e84d-4d64-945d-5c7f6d875f17"
      },
      "source": [
        "cf_train.dtypes\n"
      ],
      "execution_count": null,
      "outputs": [
        {
          "output_type": "execute_result",
          "data": {
            "text/plain": [
              "Medicine_ID             object\n",
              "Counterfeit_Weight     float64\n",
              "DistArea_ID             object\n",
              "Active_Since             int64\n",
              "Medicine_MRP           float64\n",
              "Medicine_Type           object\n",
              "SidEffect_Level         object\n",
              "Availability_rating    float64\n",
              "Area_Type               object\n",
              "Area_City_Type          object\n",
              "Area_dist_level         object\n",
              "Counterfeit_Sales      float64\n",
              "dtype: object"
            ]
          },
          "metadata": {
            "tags": []
          },
          "execution_count": 171
        }
      ]
    },
    {
      "cell_type": "code",
      "metadata": {
        "id": "3n3uofhiUpJ5",
        "colab": {
          "base_uri": "https://localhost:8080/",
          "height": 221
        },
        "outputId": "ed904c9e-2f2b-49ec-9264-b1e3f09df05a"
      },
      "source": [
        "cf_test.dtypes"
      ],
      "execution_count": null,
      "outputs": [
        {
          "output_type": "execute_result",
          "data": {
            "text/plain": [
              "Medicine_ID             object\n",
              "Counterfeit_Weight     float64\n",
              "DistArea_ID             object\n",
              "Active_Since             int64\n",
              "Medicine_MRP           float64\n",
              "Medicine_Type           object\n",
              "SidEffect_Level         object\n",
              "Availability_rating    float64\n",
              "Area_Type               object\n",
              "Area_City_Type          object\n",
              "Area_dist_level         object\n",
              "dtype: object"
            ]
          },
          "metadata": {
            "tags": []
          },
          "execution_count": 172
        }
      ]
    },
    {
      "cell_type": "code",
      "metadata": {
        "id": "__J_b0ovUo_Z",
        "colab": {
          "base_uri": "https://localhost:8080/",
          "height": 224
        },
        "outputId": "786773c8-fc91-4f25-bbe6-6dd6c6bd5455"
      },
      "source": [
        "cf_train.head()"
      ],
      "execution_count": null,
      "outputs": [
        {
          "output_type": "execute_result",
          "data": {
            "text/html": [
              "<div>\n",
              "<style scoped>\n",
              "    .dataframe tbody tr th:only-of-type {\n",
              "        vertical-align: middle;\n",
              "    }\n",
              "\n",
              "    .dataframe tbody tr th {\n",
              "        vertical-align: top;\n",
              "    }\n",
              "\n",
              "    .dataframe thead th {\n",
              "        text-align: right;\n",
              "    }\n",
              "</style>\n",
              "<table border=\"1\" class=\"dataframe\">\n",
              "  <thead>\n",
              "    <tr style=\"text-align: right;\">\n",
              "      <th></th>\n",
              "      <th>Medicine_ID</th>\n",
              "      <th>Counterfeit_Weight</th>\n",
              "      <th>DistArea_ID</th>\n",
              "      <th>Active_Since</th>\n",
              "      <th>Medicine_MRP</th>\n",
              "      <th>Medicine_Type</th>\n",
              "      <th>SidEffect_Level</th>\n",
              "      <th>Availability_rating</th>\n",
              "      <th>Area_Type</th>\n",
              "      <th>Area_City_Type</th>\n",
              "      <th>Area_dist_level</th>\n",
              "      <th>Counterfeit_Sales</th>\n",
              "    </tr>\n",
              "  </thead>\n",
              "  <tbody>\n",
              "    <tr>\n",
              "      <th>0</th>\n",
              "      <td>RRA15</td>\n",
              "      <td>13.100</td>\n",
              "      <td>Area046</td>\n",
              "      <td>1995</td>\n",
              "      <td>160.2366</td>\n",
              "      <td>Antimalarial</td>\n",
              "      <td>critical</td>\n",
              "      <td>0.070422</td>\n",
              "      <td>DownTown</td>\n",
              "      <td>Tier 1</td>\n",
              "      <td>Small</td>\n",
              "      <td>1775.5026</td>\n",
              "    </tr>\n",
              "    <tr>\n",
              "      <th>1</th>\n",
              "      <td>YVV26</td>\n",
              "      <td>NaN</td>\n",
              "      <td>Area027</td>\n",
              "      <td>1983</td>\n",
              "      <td>110.4384</td>\n",
              "      <td>Mstablizers</td>\n",
              "      <td>mild</td>\n",
              "      <td>0.013000</td>\n",
              "      <td>CityLimits</td>\n",
              "      <td>Tier 3</td>\n",
              "      <td>Medium</td>\n",
              "      <td>3069.1520</td>\n",
              "    </tr>\n",
              "    <tr>\n",
              "      <th>2</th>\n",
              "      <td>LJC15</td>\n",
              "      <td>9.025</td>\n",
              "      <td>Area046</td>\n",
              "      <td>1995</td>\n",
              "      <td>259.4092</td>\n",
              "      <td>Cardiac</td>\n",
              "      <td>mild</td>\n",
              "      <td>0.060783</td>\n",
              "      <td>DownTown</td>\n",
              "      <td>Tier 1</td>\n",
              "      <td>Small</td>\n",
              "      <td>2603.0920</td>\n",
              "    </tr>\n",
              "    <tr>\n",
              "      <th>3</th>\n",
              "      <td>GWC40</td>\n",
              "      <td>11.800</td>\n",
              "      <td>Area046</td>\n",
              "      <td>1995</td>\n",
              "      <td>99.9830</td>\n",
              "      <td>OralContraceptives</td>\n",
              "      <td>mild</td>\n",
              "      <td>0.065555</td>\n",
              "      <td>DownTown</td>\n",
              "      <td>Tier 1</td>\n",
              "      <td>Small</td>\n",
              "      <td>1101.7130</td>\n",
              "    </tr>\n",
              "    <tr>\n",
              "      <th>4</th>\n",
              "      <td>QMN13</td>\n",
              "      <td>NaN</td>\n",
              "      <td>Area019</td>\n",
              "      <td>1983</td>\n",
              "      <td>56.4402</td>\n",
              "      <td>Hreplacements</td>\n",
              "      <td>critical</td>\n",
              "      <td>0.248859</td>\n",
              "      <td>MidTownResidential</td>\n",
              "      <td>Tier 1</td>\n",
              "      <td>Small</td>\n",
              "      <td>158.9402</td>\n",
              "    </tr>\n",
              "  </tbody>\n",
              "</table>\n",
              "</div>"
            ],
            "text/plain": [
              "  Medicine_ID  Counterfeit_Weight  ... Area_dist_level  Counterfeit_Sales\n",
              "0       RRA15              13.100  ...           Small          1775.5026\n",
              "1       YVV26                 NaN  ...          Medium          3069.1520\n",
              "2       LJC15               9.025  ...           Small          2603.0920\n",
              "3       GWC40              11.800  ...           Small          1101.7130\n",
              "4       QMN13                 NaN  ...           Small           158.9402\n",
              "\n",
              "[5 rows x 12 columns]"
            ]
          },
          "metadata": {
            "tags": []
          },
          "execution_count": 173
        }
      ]
    },
    {
      "cell_type": "code",
      "metadata": {
        "id": "E46E0NqLUo01",
        "colab": {
          "base_uri": "https://localhost:8080/",
          "height": 297
        },
        "outputId": "31f439e9-201e-41d8-aa59-6702b1f5b057"
      },
      "source": [
        "cf_train.describe()"
      ],
      "execution_count": null,
      "outputs": [
        {
          "output_type": "execute_result",
          "data": {
            "text/html": [
              "<div>\n",
              "<style scoped>\n",
              "    .dataframe tbody tr th:only-of-type {\n",
              "        vertical-align: middle;\n",
              "    }\n",
              "\n",
              "    .dataframe tbody tr th {\n",
              "        vertical-align: top;\n",
              "    }\n",
              "\n",
              "    .dataframe thead th {\n",
              "        text-align: right;\n",
              "    }\n",
              "</style>\n",
              "<table border=\"1\" class=\"dataframe\">\n",
              "  <thead>\n",
              "    <tr style=\"text-align: right;\">\n",
              "      <th></th>\n",
              "      <th>Counterfeit_Weight</th>\n",
              "      <th>Active_Since</th>\n",
              "      <th>Medicine_MRP</th>\n",
              "      <th>Availability_rating</th>\n",
              "      <th>Counterfeit_Sales</th>\n",
              "    </tr>\n",
              "  </thead>\n",
              "  <tbody>\n",
              "    <tr>\n",
              "      <th>count</th>\n",
              "      <td>5652.000000</td>\n",
              "      <td>6818.000000</td>\n",
              "      <td>6818.000000</td>\n",
              "      <td>6818.000000</td>\n",
              "      <td>6818.000000</td>\n",
              "    </tr>\n",
              "    <tr>\n",
              "      <th>mean</th>\n",
              "      <td>14.115057</td>\n",
              "      <td>1995.836316</td>\n",
              "      <td>151.401518</td>\n",
              "      <td>0.079174</td>\n",
              "      <td>2280.583480</td>\n",
              "    </tr>\n",
              "    <tr>\n",
              "      <th>std</th>\n",
              "      <td>4.649668</td>\n",
              "      <td>8.368979</td>\n",
              "      <td>62.203961</td>\n",
              "      <td>0.051481</td>\n",
              "      <td>1693.354404</td>\n",
              "    </tr>\n",
              "    <tr>\n",
              "      <th>min</th>\n",
              "      <td>5.855000</td>\n",
              "      <td>1983.000000</td>\n",
              "      <td>41.790000</td>\n",
              "      <td>0.013000</td>\n",
              "      <td>146.290000</td>\n",
              "    </tr>\n",
              "    <tr>\n",
              "      <th>25%</th>\n",
              "      <td>9.995000</td>\n",
              "      <td>1985.000000</td>\n",
              "      <td>104.509400</td>\n",
              "      <td>0.040058</td>\n",
              "      <td>933.265600</td>\n",
              "    </tr>\n",
              "    <tr>\n",
              "      <th>50%</th>\n",
              "      <td>13.800000</td>\n",
              "      <td>1997.000000</td>\n",
              "      <td>153.195700</td>\n",
              "      <td>0.066955</td>\n",
              "      <td>1902.670400</td>\n",
              "    </tr>\n",
              "    <tr>\n",
              "      <th>75%</th>\n",
              "      <td>18.050000</td>\n",
              "      <td>2002.000000</td>\n",
              "      <td>196.148350</td>\n",
              "      <td>0.107697</td>\n",
              "      <td>3207.638400</td>\n",
              "    </tr>\n",
              "    <tr>\n",
              "      <th>max</th>\n",
              "      <td>22.650000</td>\n",
              "      <td>2007.000000</td>\n",
              "      <td>277.188400</td>\n",
              "      <td>0.341391</td>\n",
              "      <td>13199.964800</td>\n",
              "    </tr>\n",
              "  </tbody>\n",
              "</table>\n",
              "</div>"
            ],
            "text/plain": [
              "       Counterfeit_Weight  Active_Since  ...  Availability_rating  Counterfeit_Sales\n",
              "count         5652.000000   6818.000000  ...          6818.000000        6818.000000\n",
              "mean            14.115057   1995.836316  ...             0.079174        2280.583480\n",
              "std              4.649668      8.368979  ...             0.051481        1693.354404\n",
              "min              5.855000   1983.000000  ...             0.013000         146.290000\n",
              "25%              9.995000   1985.000000  ...             0.040058         933.265600\n",
              "50%             13.800000   1997.000000  ...             0.066955        1902.670400\n",
              "75%             18.050000   2002.000000  ...             0.107697        3207.638400\n",
              "max             22.650000   2007.000000  ...             0.341391       13199.964800\n",
              "\n",
              "[8 rows x 5 columns]"
            ]
          },
          "metadata": {
            "tags": []
          },
          "execution_count": 174
        }
      ]
    },
    {
      "cell_type": "code",
      "metadata": {
        "id": "j7BA4xsc3L0U",
        "colab": {
          "base_uri": "https://localhost:8080/",
          "height": 204
        },
        "outputId": "1927dc9c-0482-40b8-95b2-004464dd30f2"
      },
      "source": [
        "cf_train.corr()"
      ],
      "execution_count": null,
      "outputs": [
        {
          "output_type": "execute_result",
          "data": {
            "text/html": [
              "<div>\n",
              "<style scoped>\n",
              "    .dataframe tbody tr th:only-of-type {\n",
              "        vertical-align: middle;\n",
              "    }\n",
              "\n",
              "    .dataframe tbody tr th {\n",
              "        vertical-align: top;\n",
              "    }\n",
              "\n",
              "    .dataframe thead th {\n",
              "        text-align: right;\n",
              "    }\n",
              "</style>\n",
              "<table border=\"1\" class=\"dataframe\">\n",
              "  <thead>\n",
              "    <tr style=\"text-align: right;\">\n",
              "      <th></th>\n",
              "      <th>Counterfeit_Weight</th>\n",
              "      <th>Active_Since</th>\n",
              "      <th>Medicine_MRP</th>\n",
              "      <th>Availability_rating</th>\n",
              "      <th>Counterfeit_Sales</th>\n",
              "    </tr>\n",
              "  </thead>\n",
              "  <tbody>\n",
              "    <tr>\n",
              "      <th>Counterfeit_Weight</th>\n",
              "      <td>1.000000</td>\n",
              "      <td>-0.016590</td>\n",
              "      <td>0.028523</td>\n",
              "      <td>-0.017632</td>\n",
              "      <td>0.005959</td>\n",
              "    </tr>\n",
              "    <tr>\n",
              "      <th>Active_Since</th>\n",
              "      <td>-0.016590</td>\n",
              "      <td>1.000000</td>\n",
              "      <td>0.002996</td>\n",
              "      <td>-0.075744</td>\n",
              "      <td>-0.039595</td>\n",
              "    </tr>\n",
              "    <tr>\n",
              "      <th>Medicine_MRP</th>\n",
              "      <td>0.028523</td>\n",
              "      <td>0.002996</td>\n",
              "      <td>1.000000</td>\n",
              "      <td>-0.003216</td>\n",
              "      <td>0.573684</td>\n",
              "    </tr>\n",
              "    <tr>\n",
              "      <th>Availability_rating</th>\n",
              "      <td>-0.017632</td>\n",
              "      <td>-0.075744</td>\n",
              "      <td>-0.003216</td>\n",
              "      <td>1.000000</td>\n",
              "      <td>-0.124058</td>\n",
              "    </tr>\n",
              "    <tr>\n",
              "      <th>Counterfeit_Sales</th>\n",
              "      <td>0.005959</td>\n",
              "      <td>-0.039595</td>\n",
              "      <td>0.573684</td>\n",
              "      <td>-0.124058</td>\n",
              "      <td>1.000000</td>\n",
              "    </tr>\n",
              "  </tbody>\n",
              "</table>\n",
              "</div>"
            ],
            "text/plain": [
              "                     Counterfeit_Weight  ...  Counterfeit_Sales\n",
              "Counterfeit_Weight             1.000000  ...           0.005959\n",
              "Active_Since                  -0.016590  ...          -0.039595\n",
              "Medicine_MRP                   0.028523  ...           0.573684\n",
              "Availability_rating           -0.017632  ...          -0.124058\n",
              "Counterfeit_Sales              0.005959  ...           1.000000\n",
              "\n",
              "[5 rows x 5 columns]"
            ]
          },
          "metadata": {
            "tags": []
          },
          "execution_count": 175
        }
      ]
    },
    {
      "cell_type": "code",
      "metadata": {
        "id": "kubvYYgw5vyn"
      },
      "source": [
        "import seaborn as sns\n",
        "%matplotlib inline"
      ],
      "execution_count": null,
      "outputs": []
    },
    {
      "cell_type": "code",
      "metadata": {
        "id": "YZhetbPJ5qL9",
        "colab": {
          "base_uri": "https://localhost:8080/",
          "height": 372
        },
        "outputId": "1e1aea1b-7749-4a61-f86b-d3909aebc128"
      },
      "source": [
        "sns.heatmap(cf_train.corr())"
      ],
      "execution_count": null,
      "outputs": [
        {
          "output_type": "execute_result",
          "data": {
            "text/plain": [
              "<matplotlib.axes._subplots.AxesSubplot at 0x7fd6d7c8d7b8>"
            ]
          },
          "metadata": {
            "tags": []
          },
          "execution_count": 177
        },
        {
          "output_type": "display_data",
          "data": {
            "image/png": "[encoded data removed]",
            "text/plain": [
              "<Figure size 432x288 with 2 Axes>"
            ]
          },
          "metadata": {
            "tags": [],
            "needs_background": "light"
          }
        }
      ]
    },
    {
      "cell_type": "code",
      "metadata": {
        "id": "oZqIxdSORuL5"
      },
      "source": [
        "cf_train.fillna(cf_train.mean(), inplace=True)\n",
        "#filling  missing values"
      ],
      "execution_count": null,
      "outputs": []
    },
    {
      "cell_type": "code",
      "metadata": {
        "id": "gyOlD_eISENT"
      },
      "source": [
        "cf_test.fillna(cf_test.mean(), inplace=True)"
      ],
      "execution_count": null,
      "outputs": []
    },
    {
      "cell_type": "code",
      "metadata": {
        "id": "U4jXJQ5RR4PN",
        "colab": {
          "base_uri": "https://localhost:8080/",
          "height": 221
        },
        "outputId": "f50e1c09-a342-4bdc-f195-107d201b0af8"
      },
      "source": [
        "cf_test.isnull().sum()"
      ],
      "execution_count": null,
      "outputs": [
        {
          "output_type": "execute_result",
          "data": {
            "text/plain": [
              "Medicine_ID            0\n",
              "Counterfeit_Weight     0\n",
              "DistArea_ID            0\n",
              "Active_Since           0\n",
              "Medicine_MRP           0\n",
              "Medicine_Type          0\n",
              "SidEffect_Level        0\n",
              "Availability_rating    0\n",
              "Area_Type              0\n",
              "Area_City_Type         0\n",
              "Area_dist_level        0\n",
              "dtype: int64"
            ]
          },
          "metadata": {
            "tags": []
          },
          "execution_count": 180
        }
      ]
    },
    {
      "cell_type": "code",
      "metadata": {
        "id": "LakS9qEyxJgk"
      },
      "source": [
        "from sklearn import preprocessing\n",
        "from sklearn.preprocessing import StandardScaler\n",
        "from sklearn.preprocessing import MinMaxScaler"
      ],
      "execution_count": null,
      "outputs": []
    },
    {
      "cell_type": "code",
      "metadata": {
        "id": "9C9A6nEex1Hj"
      },
      "source": [
        "min_max_scaler = preprocessing.MinMaxScaler()\n",
        "X=cf_train[['Medicine_MRP','Counterfeit_Weight']]\n",
        "X_min_max = min_max_scaler.fit_transform(X)\n",
        "\n",
        "X_test=cf_test[['Medicine_MRP','Counterfeit_Weight']]\n",
        "X_min_max_test = min_max_scaler.fit_transform(X_test)"
      ],
      "execution_count": null,
      "outputs": []
    },
    {
      "cell_type": "code",
      "metadata": {
        "id": "aDSMKHsT2Wjh",
        "colab": {
          "base_uri": "https://localhost:8080/",
          "height": 136
        },
        "outputId": "9d7d582e-e3e3-44bd-a84d-c5560cc5b2b7"
      },
      "source": [
        "X_min_max"
      ],
      "execution_count": null,
      "outputs": [
        {
          "output_type": "execute_result",
          "data": {
            "text/plain": [
              "array([[0.50317504, 0.43137839],\n",
              "       [0.29162645, 0.49181641],\n",
              "       [0.92447187, 0.18874665],\n",
              "       ...,\n",
              "       [0.64503072, 0.84221494],\n",
              "       [0.51435439, 0.25751712],\n",
              "       [0.5767244 , 0.12354868]])"
            ]
          },
          "metadata": {
            "tags": []
          },
          "execution_count": 183
        }
      ]
    },
    {
      "cell_type": "code",
      "metadata": {
        "id": "aw8e7usGH_8j"
      },
      "source": [
        "v=np.array(X_min_max)\n",
        "v_test=np.array(X_min_max_test)"
      ],
      "execution_count": null,
      "outputs": []
    },
    {
      "cell_type": "code",
      "metadata": {
        "id": "KzjLO70gJSrJ"
      },
      "source": [
        "cf_train['Medicine_MRP_n'], cf_train['Counterfeit_Weight_n'] = v.T\n",
        "cf_test['Medicine_MRP_n'], cf_test['Counterfeit_Weight_n'] = v_test.T\n"
      ],
      "execution_count": null,
      "outputs": []
    },
    {
      "cell_type": "code",
      "metadata": {
        "id": "DEsjwZTRJ0RS",
        "colab": {
          "base_uri": "https://localhost:8080/",
          "height": 272
        },
        "outputId": "e538989e-63e1-4b17-9739-f22702ac430d"
      },
      "source": [
        "cf_train.dtypes"
      ],
      "execution_count": null,
      "outputs": [
        {
          "output_type": "execute_result",
          "data": {
            "text/plain": [
              "Medicine_ID              object\n",
              "Counterfeit_Weight      float64\n",
              "DistArea_ID              object\n",
              "Active_Since              int64\n",
              "Medicine_MRP            float64\n",
              "Medicine_Type            object\n",
              "SidEffect_Level          object\n",
              "Availability_rating     float64\n",
              "Area_Type                object\n",
              "Area_City_Type           object\n",
              "Area_dist_level          object\n",
              "Counterfeit_Sales       float64\n",
              "Medicine_MRP_n          float64\n",
              "Counterfeit_Weight_n    float64\n",
              "dtype: object"
            ]
          },
          "metadata": {
            "tags": []
          },
          "execution_count": 186
        }
      ]
    },
    {
      "cell_type": "code",
      "metadata": {
        "id": "jMSopOJiLHIp",
        "colab": {
          "base_uri": "https://localhost:8080/",
          "height": 224
        },
        "outputId": "0c9bf6ec-fc05-496a-a0a8-8941be62ad5a"
      },
      "source": [
        "cf_train.head()"
      ],
      "execution_count": null,
      "outputs": [
        {
          "output_type": "execute_result",
          "data": {
            "text/html": [
              "<div>\n",
              "<style scoped>\n",
              "    .dataframe tbody tr th:only-of-type {\n",
              "        vertical-align: middle;\n",
              "    }\n",
              "\n",
              "    .dataframe tbody tr th {\n",
              "        vertical-align: top;\n",
              "    }\n",
              "\n",
              "    .dataframe thead th {\n",
              "        text-align: right;\n",
              "    }\n",
              "</style>\n",
              "<table border=\"1\" class=\"dataframe\">\n",
              "  <thead>\n",
              "    <tr style=\"text-align: right;\">\n",
              "      <th></th>\n",
              "      <th>Medicine_ID</th>\n",
              "      <th>Counterfeit_Weight</th>\n",
              "      <th>DistArea_ID</th>\n",
              "      <th>Active_Since</th>\n",
              "      <th>Medicine_MRP</th>\n",
              "      <th>Medicine_Type</th>\n",
              "      <th>SidEffect_Level</th>\n",
              "      <th>Availability_rating</th>\n",
              "      <th>Area_Type</th>\n",
              "      <th>Area_City_Type</th>\n",
              "      <th>Area_dist_level</th>\n",
              "      <th>Counterfeit_Sales</th>\n",
              "      <th>Medicine_MRP_n</th>\n",
              "      <th>Counterfeit_Weight_n</th>\n",
              "    </tr>\n",
              "  </thead>\n",
              "  <tbody>\n",
              "    <tr>\n",
              "      <th>0</th>\n",
              "      <td>RRA15</td>\n",
              "      <td>13.100000</td>\n",
              "      <td>Area046</td>\n",
              "      <td>1995</td>\n",
              "      <td>160.2366</td>\n",
              "      <td>Antimalarial</td>\n",
              "      <td>critical</td>\n",
              "      <td>0.070422</td>\n",
              "      <td>DownTown</td>\n",
              "      <td>Tier 1</td>\n",
              "      <td>Small</td>\n",
              "      <td>1775.5026</td>\n",
              "      <td>0.503175</td>\n",
              "      <td>0.431378</td>\n",
              "    </tr>\n",
              "    <tr>\n",
              "      <th>1</th>\n",
              "      <td>YVV26</td>\n",
              "      <td>14.115057</td>\n",
              "      <td>Area027</td>\n",
              "      <td>1983</td>\n",
              "      <td>110.4384</td>\n",
              "      <td>Mstablizers</td>\n",
              "      <td>mild</td>\n",
              "      <td>0.013000</td>\n",
              "      <td>CityLimits</td>\n",
              "      <td>Tier 3</td>\n",
              "      <td>Medium</td>\n",
              "      <td>3069.1520</td>\n",
              "      <td>0.291626</td>\n",
              "      <td>0.491816</td>\n",
              "    </tr>\n",
              "    <tr>\n",
              "      <th>2</th>\n",
              "      <td>LJC15</td>\n",
              "      <td>9.025000</td>\n",
              "      <td>Area046</td>\n",
              "      <td>1995</td>\n",
              "      <td>259.4092</td>\n",
              "      <td>Cardiac</td>\n",
              "      <td>mild</td>\n",
              "      <td>0.060783</td>\n",
              "      <td>DownTown</td>\n",
              "      <td>Tier 1</td>\n",
              "      <td>Small</td>\n",
              "      <td>2603.0920</td>\n",
              "      <td>0.924472</td>\n",
              "      <td>0.188747</td>\n",
              "    </tr>\n",
              "    <tr>\n",
              "      <th>3</th>\n",
              "      <td>GWC40</td>\n",
              "      <td>11.800000</td>\n",
              "      <td>Area046</td>\n",
              "      <td>1995</td>\n",
              "      <td>99.9830</td>\n",
              "      <td>OralContraceptives</td>\n",
              "      <td>mild</td>\n",
              "      <td>0.065555</td>\n",
              "      <td>DownTown</td>\n",
              "      <td>Tier 1</td>\n",
              "      <td>Small</td>\n",
              "      <td>1101.7130</td>\n",
              "      <td>0.247211</td>\n",
              "      <td>0.353974</td>\n",
              "    </tr>\n",
              "    <tr>\n",
              "      <th>4</th>\n",
              "      <td>QMN13</td>\n",
              "      <td>14.115057</td>\n",
              "      <td>Area019</td>\n",
              "      <td>1983</td>\n",
              "      <td>56.4402</td>\n",
              "      <td>Hreplacements</td>\n",
              "      <td>critical</td>\n",
              "      <td>0.248859</td>\n",
              "      <td>MidTownResidential</td>\n",
              "      <td>Tier 1</td>\n",
              "      <td>Small</td>\n",
              "      <td>158.9402</td>\n",
              "      <td>0.062236</td>\n",
              "      <td>0.491816</td>\n",
              "    </tr>\n",
              "  </tbody>\n",
              "</table>\n",
              "</div>"
            ],
            "text/plain": [
              "  Medicine_ID  Counterfeit_Weight  ... Medicine_MRP_n  Counterfeit_Weight_n\n",
              "0       RRA15           13.100000  ...       0.503175              0.431378\n",
              "1       YVV26           14.115057  ...       0.291626              0.491816\n",
              "2       LJC15            9.025000  ...       0.924472              0.188747\n",
              "3       GWC40           11.800000  ...       0.247211              0.353974\n",
              "4       QMN13           14.115057  ...       0.062236              0.491816\n",
              "\n",
              "[5 rows x 14 columns]"
            ]
          },
          "metadata": {
            "tags": []
          },
          "execution_count": 187
        }
      ]
    },
    {
      "cell_type": "code",
      "metadata": {
        "id": "z6wJi1HlUoiO",
        "colab": {
          "base_uri": "https://localhost:8080/",
          "height": 136
        },
        "outputId": "14da3359-dc6b-45b5-8e15-15b913e485bd"
      },
      "source": [
        "for col in cf_train.select_dtypes(['object']).columns:\n",
        "    print(col,':',cf_train[col].nunique())"
      ],
      "execution_count": null,
      "outputs": [
        {
          "output_type": "stream",
          "text": [
            "Medicine_ID : 1557\n",
            "DistArea_ID : 10\n",
            "Medicine_Type : 16\n",
            "SidEffect_Level : 2\n",
            "Area_Type : 4\n",
            "Area_City_Type : 3\n",
            "Area_dist_level : 4\n"
          ],
          "name": "stdout"
        }
      ]
    },
    {
      "cell_type": "code",
      "metadata": {
        "id": "zhNvleeud0mT",
        "colab": {
          "base_uri": "https://localhost:8080/",
          "height": 34
        },
        "outputId": "8346d857-8f4e-45af-9741-2166ce0ffe3d"
      },
      "source": [
        "cf_train['Active_Since'].unique()\n"
      ],
      "execution_count": null,
      "outputs": [
        {
          "output_type": "execute_result",
          "data": {
            "text/plain": [
              "array([1995, 1983, 2000, 2007, 1985, 2005, 1996, 2002, 1997])"
            ]
          },
          "metadata": {
            "tags": []
          },
          "execution_count": 189
        }
      ]
    },
    {
      "cell_type": "code",
      "metadata": {
        "id": "TfmwcMNnS9DU",
        "colab": {
          "base_uri": "https://localhost:8080/",
          "height": 34
        },
        "outputId": "9315164c-5642-4c3d-af16-740ac79388c1"
      },
      "source": [
        "cf_test['Active_Since'].unique()"
      ],
      "execution_count": null,
      "outputs": [
        {
          "output_type": "execute_result",
          "data": {
            "text/plain": [
              "array([1983, 2000, 1996, 1995, 2005, 2007, 1985, 1997, 2002])"
            ]
          },
          "metadata": {
            "tags": []
          },
          "execution_count": 190
        }
      ]
    },
    {
      "cell_type": "code",
      "metadata": {
        "id": "hb9Zrob4YWDa",
        "colab": {
          "base_uri": "https://localhost:8080/",
          "height": 272
        },
        "outputId": "116a7c2e-7d46-492a-8ce3-07301f15c9ab"
      },
      "source": [
        "cf_train.isnull().sum()"
      ],
      "execution_count": null,
      "outputs": [
        {
          "output_type": "execute_result",
          "data": {
            "text/plain": [
              "Medicine_ID             0\n",
              "Counterfeit_Weight      0\n",
              "DistArea_ID             0\n",
              "Active_Since            0\n",
              "Medicine_MRP            0\n",
              "Medicine_Type           0\n",
              "SidEffect_Level         0\n",
              "Availability_rating     0\n",
              "Area_Type               0\n",
              "Area_City_Type          0\n",
              "Area_dist_level         0\n",
              "Counterfeit_Sales       0\n",
              "Medicine_MRP_n          0\n",
              "Counterfeit_Weight_n    0\n",
              "dtype: int64"
            ]
          },
          "metadata": {
            "tags": []
          },
          "execution_count": 191
        }
      ]
    },
    {
      "cell_type": "code",
      "metadata": {
        "id": "M_6Wo0vdZADf"
      },
      "source": [
        "#test_1\n",
        "for col in ['Counterfeit_Weight','Medicine_MRP']:\n",
        "    cf_train.drop([col],1,inplace=True)\n",
        "    cf_test.drop([col],1,inplace=True)"
      ],
      "execution_count": null,
      "outputs": []
    },
    {
      "cell_type": "code",
      "metadata": {
        "id": "ui5k3a5QQSJu"
      },
      "source": [
        "#test_2 - better MAE\n",
        "\n",
        "for col in ['Counterfeit_Weight','Medicine_MRP','Availability_rating']:\n",
        "    cf_train.drop([col],1,inplace=True)\n",
        "    cf_test.drop([col],1,inplace=True)"
      ],
      "execution_count": null,
      "outputs": []
    },
    {
      "cell_type": "code",
      "metadata": {
        "id": "7CVY7FD2vNmM"
      },
      "source": [
        "#test_6 \n",
        "\n",
        "for col in ['Counterfeit_Weight','Medicine_MRP','Availability_rating','Area_dist_level']:\n",
        "    cf_train.drop([col],1,inplace=True)\n",
        "    cf_test.drop([col],1,inplace=True)"
      ],
      "execution_count": null,
      "outputs": []
    },
    {
      "cell_type": "code",
      "metadata": {
        "id": "wLVnEM3nw2X-"
      },
      "source": [
        "#test_7\n",
        "\n",
        "\n",
        "for col in ['Counterfeit_Weight','Medicine_MRP','Availability_rating','DistArea_ID']:\n",
        "    cf_train.drop([col],1,inplace=True)\n",
        "    cf_test.drop([col],1,inplace=True)"
      ],
      "execution_count": null,
      "outputs": []
    },
    {
      "cell_type": "code",
      "metadata": {
        "id": "GVHnf1-4IQbV"
      },
      "source": [
        "#latest_test10\n",
        "for col in ['Counterfeit_Weight','Medicine_MRP','Active_Since']:\n",
        "    cf_train.drop([col],1,inplace=True)\n",
        "    cf_test.drop([col],1,inplace=True)"
      ],
      "execution_count": null,
      "outputs": []
    },
    {
      "cell_type": "code",
      "metadata": {
        "id": "Mb49CfUxJAR5"
      },
      "source": [
        "#latest_test11\n",
        "for col in ['Availability_rating']:\n",
        "    cf_train.drop([col],1,inplace=True)\n",
        "    cf_test.drop([col],1,inplace=True)"
      ],
      "execution_count": null,
      "outputs": []
    },
    {
      "cell_type": "code",
      "metadata": {
        "id": "dsUxaeIdZByG",
        "colab": {
          "base_uri": "https://localhost:8080/",
          "height": 221
        },
        "outputId": "17ed9468-b5b6-4532-bedf-59b9bb428271"
      },
      "source": [
        "cf_train.isnull().sum()"
      ],
      "execution_count": null,
      "outputs": [
        {
          "output_type": "execute_result",
          "data": {
            "text/plain": [
              "Medicine_ID             0\n",
              "DistArea_ID             0\n",
              "Active_Since            0\n",
              "Medicine_Type           0\n",
              "SidEffect_Level         0\n",
              "Area_Type               0\n",
              "Area_City_Type          0\n",
              "Area_dist_level         0\n",
              "Counterfeit_Sales       0\n",
              "Medicine_MRP_n          0\n",
              "Counterfeit_Weight_n    0\n",
              "dtype: int64"
            ]
          },
          "metadata": {
            "tags": []
          },
          "execution_count": 193
        }
      ]
    },
    {
      "cell_type": "code",
      "metadata": {
        "id": "KZzTDUAAZBvw"
      },
      "source": [
        "for col in [\"DistArea_ID\",\"Medicine_Type\",\"SidEffect_Level\",\"Area_Type\",\"Area_City_Type\",\"Area_dist_level\"]:\n",
        "    \n",
        "    temp=pd.get_dummies(cf_train[col],prefix=col,drop_first=True)\n",
        "    cf_train=pd.concat([temp,cf_train],1)\n",
        "    cf_train.drop([col],1,inplace=True)\n",
        "    \n",
        "    temp=pd.get_dummies(cf_test[col],prefix=col,drop_first=True)\n",
        "    cf_test=pd.concat([temp,cf_test],1)\n",
        "    cf_test.drop([col],1,inplace=True)\n"
      ],
      "execution_count": null,
      "outputs": []
    },
    {
      "cell_type": "code",
      "metadata": {
        "id": "7wVIALDxvYIl"
      },
      "source": [
        "#test_6 - no better performance\n",
        "for col in [\"DistArea_ID\",\"Medicine_Type\",\"SidEffect_Level\",\"Area_Type\",\"Area_City_Type\"]:\n",
        "    \n",
        "    temp=pd.get_dummies(cf_train[col],prefix=col,drop_first=True)\n",
        "    cf_train=pd.concat([temp,cf_train],1)\n",
        "    cf_train.drop([col],1,inplace=True)\n",
        "    \n",
        "    temp=pd.get_dummies(cf_test[col],prefix=col,drop_first=True)\n",
        "    cf_test=pd.concat([temp,cf_test],1)\n",
        "    cf_test.drop([col],1,inplace=True)"
      ],
      "execution_count": null,
      "outputs": []
    },
    {
      "cell_type": "code",
      "metadata": {
        "id": "6Zu-KENjxBsn"
      },
      "source": [
        "#test_7\n",
        "for col in [\"Medicine_Type\",\"SidEffect_Level\",\"Area_Type\",\"Area_City_Type\",\"Area_dist_level\"]:\n",
        "    \n",
        "    temp=pd.get_dummies(cf_train[col],prefix=col,drop_first=True)\n",
        "    cf_train=pd.concat([temp,cf_train],1)\n",
        "    cf_train.drop([col],1,inplace=True)\n",
        "    \n",
        "    temp=pd.get_dummies(cf_test[col],prefix=col,drop_first=True)\n",
        "    cf_test=pd.concat([temp,cf_test],1)\n",
        "    cf_test.drop([col],1,inplace=True)"
      ],
      "execution_count": null,
      "outputs": []
    },
    {
      "cell_type": "code",
      "metadata": {
        "id": "1zT92s4bZBtB",
        "colab": {
          "base_uri": "https://localhost:8080/",
          "height": 241
        },
        "outputId": "8e26a325-b07e-4591-c56f-e30de6d7e903"
      },
      "source": [
        "cf_train.head()"
      ],
      "execution_count": null,
      "outputs": [
        {
          "output_type": "execute_result",
          "data": {
            "text/html": [
              "<div>\n",
              "<style scoped>\n",
              "    .dataframe tbody tr th:only-of-type {\n",
              "        vertical-align: middle;\n",
              "    }\n",
              "\n",
              "    .dataframe tbody tr th {\n",
              "        vertical-align: top;\n",
              "    }\n",
              "\n",
              "    .dataframe thead th {\n",
              "        text-align: right;\n",
              "    }\n",
              "</style>\n",
              "<table border=\"1\" class=\"dataframe\">\n",
              "  <thead>\n",
              "    <tr style=\"text-align: right;\">\n",
              "      <th></th>\n",
              "      <th>Area_dist_level_Medium</th>\n",
              "      <th>Area_dist_level_Small</th>\n",
              "      <th>Area_dist_level_Unknown</th>\n",
              "      <th>Area_City_Type_Tier 2</th>\n",
              "      <th>Area_City_Type_Tier 3</th>\n",
              "      <th>Area_Type_DownTown</th>\n",
              "      <th>Area_Type_Industrial</th>\n",
              "      <th>Area_Type_MidTownResidential</th>\n",
              "      <th>SidEffect_Level_mild</th>\n",
              "      <th>Medicine_Type_Antacids</th>\n",
              "      <th>Medicine_Type_Antibiotics</th>\n",
              "      <th>Medicine_Type_Antifungal</th>\n",
              "      <th>Medicine_Type_Antimalarial</th>\n",
              "      <th>Medicine_Type_Antipyretics</th>\n",
              "      <th>Medicine_Type_Antiseptics</th>\n",
              "      <th>Medicine_Type_Antiviral</th>\n",
              "      <th>Medicine_Type_Cardiac</th>\n",
              "      <th>Medicine_Type_Hreplacements</th>\n",
              "      <th>Medicine_Type_Mstablizers</th>\n",
              "      <th>Medicine_Type_MuscleRelaxants</th>\n",
              "      <th>Medicine_Type_OralContraceptives</th>\n",
              "      <th>Medicine_Type_Statins</th>\n",
              "      <th>Medicine_Type_Stimulants</th>\n",
              "      <th>Medicine_Type_Tranquilizers</th>\n",
              "      <th>DistArea_ID_Area013</th>\n",
              "      <th>DistArea_ID_Area017</th>\n",
              "      <th>DistArea_ID_Area018</th>\n",
              "      <th>DistArea_ID_Area019</th>\n",
              "      <th>DistArea_ID_Area027</th>\n",
              "      <th>DistArea_ID_Area035</th>\n",
              "      <th>DistArea_ID_Area045</th>\n",
              "      <th>DistArea_ID_Area046</th>\n",
              "      <th>DistArea_ID_Area049</th>\n",
              "      <th>Medicine_ID</th>\n",
              "      <th>Active_Since</th>\n",
              "      <th>Counterfeit_Sales</th>\n",
              "      <th>Medicine_MRP_n</th>\n",
              "      <th>Counterfeit_Weight_n</th>\n",
              "    </tr>\n",
              "  </thead>\n",
              "  <tbody>\n",
              "    <tr>\n",
              "      <th>0</th>\n",
              "      <td>0</td>\n",
              "      <td>1</td>\n",
              "      <td>0</td>\n",
              "      <td>0</td>\n",
              "      <td>0</td>\n",
              "      <td>1</td>\n",
              "      <td>0</td>\n",
              "      <td>0</td>\n",
              "      <td>0</td>\n",
              "      <td>0</td>\n",
              "      <td>0</td>\n",
              "      <td>0</td>\n",
              "      <td>1</td>\n",
              "      <td>0</td>\n",
              "      <td>0</td>\n",
              "      <td>0</td>\n",
              "      <td>0</td>\n",
              "      <td>0</td>\n",
              "      <td>0</td>\n",
              "      <td>0</td>\n",
              "      <td>0</td>\n",
              "      <td>0</td>\n",
              "      <td>0</td>\n",
              "      <td>0</td>\n",
              "      <td>0</td>\n",
              "      <td>0</td>\n",
              "      <td>0</td>\n",
              "      <td>0</td>\n",
              "      <td>0</td>\n",
              "      <td>0</td>\n",
              "      <td>0</td>\n",
              "      <td>1</td>\n",
              "      <td>0</td>\n",
              "      <td>RRA15</td>\n",
              "      <td>1995</td>\n",
              "      <td>1775.5026</td>\n",
              "      <td>0.503175</td>\n",
              "      <td>0.431378</td>\n",
              "    </tr>\n",
              "    <tr>\n",
              "      <th>1</th>\n",
              "      <td>1</td>\n",
              "      <td>0</td>\n",
              "      <td>0</td>\n",
              "      <td>0</td>\n",
              "      <td>1</td>\n",
              "      <td>0</td>\n",
              "      <td>0</td>\n",
              "      <td>0</td>\n",
              "      <td>1</td>\n",
              "      <td>0</td>\n",
              "      <td>0</td>\n",
              "      <td>0</td>\n",
              "      <td>0</td>\n",
              "      <td>0</td>\n",
              "      <td>0</td>\n",
              "      <td>0</td>\n",
              "      <td>0</td>\n",
              "      <td>0</td>\n",
              "      <td>1</td>\n",
              "      <td>0</td>\n",
              "      <td>0</td>\n",
              "      <td>0</td>\n",
              "      <td>0</td>\n",
              "      <td>0</td>\n",
              "      <td>0</td>\n",
              "      <td>0</td>\n",
              "      <td>0</td>\n",
              "      <td>0</td>\n",
              "      <td>1</td>\n",
              "      <td>0</td>\n",
              "      <td>0</td>\n",
              "      <td>0</td>\n",
              "      <td>0</td>\n",
              "      <td>YVV26</td>\n",
              "      <td>1983</td>\n",
              "      <td>3069.1520</td>\n",
              "      <td>0.291626</td>\n",
              "      <td>0.491816</td>\n",
              "    </tr>\n",
              "    <tr>\n",
              "      <th>2</th>\n",
              "      <td>0</td>\n",
              "      <td>1</td>\n",
              "      <td>0</td>\n",
              "      <td>0</td>\n",
              "      <td>0</td>\n",
              "      <td>1</td>\n",
              "      <td>0</td>\n",
              "      <td>0</td>\n",
              "      <td>1</td>\n",
              "      <td>0</td>\n",
              "      <td>0</td>\n",
              "      <td>0</td>\n",
              "      <td>0</td>\n",
              "      <td>0</td>\n",
              "      <td>0</td>\n",
              "      <td>0</td>\n",
              "      <td>1</td>\n",
              "      <td>0</td>\n",
              "      <td>0</td>\n",
              "      <td>0</td>\n",
              "      <td>0</td>\n",
              "      <td>0</td>\n",
              "      <td>0</td>\n",
              "      <td>0</td>\n",
              "      <td>0</td>\n",
              "      <td>0</td>\n",
              "      <td>0</td>\n",
              "      <td>0</td>\n",
              "      <td>0</td>\n",
              "      <td>0</td>\n",
              "      <td>0</td>\n",
              "      <td>1</td>\n",
              "      <td>0</td>\n",
              "      <td>LJC15</td>\n",
              "      <td>1995</td>\n",
              "      <td>2603.0920</td>\n",
              "      <td>0.924472</td>\n",
              "      <td>0.188747</td>\n",
              "    </tr>\n",
              "    <tr>\n",
              "      <th>3</th>\n",
              "      <td>0</td>\n",
              "      <td>1</td>\n",
              "      <td>0</td>\n",
              "      <td>0</td>\n",
              "      <td>0</td>\n",
              "      <td>1</td>\n",
              "      <td>0</td>\n",
              "      <td>0</td>\n",
              "      <td>1</td>\n",
              "      <td>0</td>\n",
              "      <td>0</td>\n",
              "      <td>0</td>\n",
              "      <td>0</td>\n",
              "      <td>0</td>\n",
              "      <td>0</td>\n",
              "      <td>0</td>\n",
              "      <td>0</td>\n",
              "      <td>0</td>\n",
              "      <td>0</td>\n",
              "      <td>0</td>\n",
              "      <td>1</td>\n",
              "      <td>0</td>\n",
              "      <td>0</td>\n",
              "      <td>0</td>\n",
              "      <td>0</td>\n",
              "      <td>0</td>\n",
              "      <td>0</td>\n",
              "      <td>0</td>\n",
              "      <td>0</td>\n",
              "      <td>0</td>\n",
              "      <td>0</td>\n",
              "      <td>1</td>\n",
              "      <td>0</td>\n",
              "      <td>GWC40</td>\n",
              "      <td>1995</td>\n",
              "      <td>1101.7130</td>\n",
              "      <td>0.247211</td>\n",
              "      <td>0.353974</td>\n",
              "    </tr>\n",
              "    <tr>\n",
              "      <th>4</th>\n",
              "      <td>0</td>\n",
              "      <td>1</td>\n",
              "      <td>0</td>\n",
              "      <td>0</td>\n",
              "      <td>0</td>\n",
              "      <td>0</td>\n",
              "      <td>0</td>\n",
              "      <td>1</td>\n",
              "      <td>0</td>\n",
              "      <td>0</td>\n",
              "      <td>0</td>\n",
              "      <td>0</td>\n",
              "      <td>0</td>\n",
              "      <td>0</td>\n",
              "      <td>0</td>\n",
              "      <td>0</td>\n",
              "      <td>0</td>\n",
              "      <td>1</td>\n",
              "      <td>0</td>\n",
              "      <td>0</td>\n",
              "      <td>0</td>\n",
              "      <td>0</td>\n",
              "      <td>0</td>\n",
              "      <td>0</td>\n",
              "      <td>0</td>\n",
              "      <td>0</td>\n",
              "      <td>0</td>\n",
              "      <td>1</td>\n",
              "      <td>0</td>\n",
              "      <td>0</td>\n",
              "      <td>0</td>\n",
              "      <td>0</td>\n",
              "      <td>0</td>\n",
              "      <td>QMN13</td>\n",
              "      <td>1983</td>\n",
              "      <td>158.9402</td>\n",
              "      <td>0.062236</td>\n",
              "      <td>0.491816</td>\n",
              "    </tr>\n",
              "  </tbody>\n",
              "</table>\n",
              "</div>"
            ],
            "text/plain": [
              "   Area_dist_level_Medium  ...  Counterfeit_Weight_n\n",
              "0                       0  ...              0.431378\n",
              "1                       1  ...              0.491816\n",
              "2                       0  ...              0.188747\n",
              "3                       0  ...              0.353974\n",
              "4                       0  ...              0.491816\n",
              "\n",
              "[5 rows x 38 columns]"
            ]
          },
          "metadata": {
            "tags": []
          },
          "execution_count": 195
        }
      ]
    },
    {
      "cell_type": "code",
      "metadata": {
        "id": "zgpofw7EZBqX",
        "colab": {
          "base_uri": "https://localhost:8080/",
          "height": 680
        },
        "outputId": "5ca5fa7d-4805-420a-93ff-02af8ff7d727"
      },
      "source": [
        "cf_train.dtypes"
      ],
      "execution_count": null,
      "outputs": [
        {
          "output_type": "execute_result",
          "data": {
            "text/plain": [
              "Area_dist_level_Medium                uint8\n",
              "Area_dist_level_Small                 uint8\n",
              "Area_dist_level_Unknown               uint8\n",
              "Area_City_Type_Tier 2                 uint8\n",
              "Area_City_Type_Tier 3                 uint8\n",
              "Area_Type_DownTown                    uint8\n",
              "Area_Type_Industrial                  uint8\n",
              "Area_Type_MidTownResidential          uint8\n",
              "SidEffect_Level_mild                  uint8\n",
              "Medicine_Type_Antacids                uint8\n",
              "Medicine_Type_Antibiotics             uint8\n",
              "Medicine_Type_Antifungal              uint8\n",
              "Medicine_Type_Antimalarial            uint8\n",
              "Medicine_Type_Antipyretics            uint8\n",
              "Medicine_Type_Antiseptics             uint8\n",
              "Medicine_Type_Antiviral               uint8\n",
              "Medicine_Type_Cardiac                 uint8\n",
              "Medicine_Type_Hreplacements           uint8\n",
              "Medicine_Type_Mstablizers             uint8\n",
              "Medicine_Type_MuscleRelaxants         uint8\n",
              "Medicine_Type_OralContraceptives      uint8\n",
              "Medicine_Type_Statins                 uint8\n",
              "Medicine_Type_Stimulants              uint8\n",
              "Medicine_Type_Tranquilizers           uint8\n",
              "DistArea_ID_Area013                   uint8\n",
              "DistArea_ID_Area017                   uint8\n",
              "DistArea_ID_Area018                   uint8\n",
              "DistArea_ID_Area019                   uint8\n",
              "DistArea_ID_Area027                   uint8\n",
              "DistArea_ID_Area035                   uint8\n",
              "DistArea_ID_Area045                   uint8\n",
              "DistArea_ID_Area046                   uint8\n",
              "DistArea_ID_Area049                   uint8\n",
              "Medicine_ID                          object\n",
              "Active_Since                          int64\n",
              "Counterfeit_Sales                   float64\n",
              "Medicine_MRP_n                      float64\n",
              "Counterfeit_Weight_n                float64\n",
              "dtype: object"
            ]
          },
          "metadata": {
            "tags": []
          },
          "execution_count": 196
        }
      ]
    },
    {
      "cell_type": "code",
      "metadata": {
        "id": "m-hHqjURoorP"
      },
      "source": [
        "#Test_5 - Failed\n",
        "for col in ['Area_dist_level_Unknown']:\n",
        "    cf_train.drop([col],1,inplace=True)\n",
        "    cf_test.drop([col],1,inplace=True)\n"
      ],
      "execution_count": null,
      "outputs": []
    },
    {
      "cell_type": "code",
      "metadata": {
        "id": "s9NsMnCffTz4"
      },
      "source": [
        "#test_4 - Failed, got more less MAE\n",
        "\n",
        "for col in ['DistArea_ID_Area018']:\n",
        "    cf_train.drop([col],1,inplace=True)\n",
        "    cf_test.drop([col],1,inplace=True)"
      ],
      "execution_count": null,
      "outputs": []
    },
    {
      "cell_type": "code",
      "metadata": {
        "id": "857zqS3YZBkq"
      },
      "source": [
        "#test - failed - removed Availability rating and created dummy for Active since manually\n",
        "for col in [\"Active_Since\",\"Availability_rating\"]:\n",
        "    \n",
        "    temp=pd.get_dummies(cf_train[col],prefix=col,drop_first=True)\n",
        "    cf_train=pd.concat([temp,cf_train],1)\n",
        "    cf_train.drop([col],1,inplace=True)\n",
        "    \n",
        "    temp=pd.get_dummies(cf_test[col],prefix=col,drop_first=True)\n",
        "    cf_test=pd.concat([temp,cf_test],1)\n",
        "    cf_test.drop([col],1,inplace=True)"
      ],
      "execution_count": null,
      "outputs": []
    },
    {
      "cell_type": "code",
      "metadata": {
        "id": "2-Z7jOpjGkEP"
      },
      "source": [
        "#latest test to get better score after submitting\n",
        "for col in [\"Availability_rating\"]:\n",
        "    \n",
        "    temp=pd.get_dummies(cf_train[col],prefix=col,drop_first=True)\n",
        "    cf_train=pd.concat([temp,cf_train],1)\n",
        "    cf_train.drop([col],1,inplace=True)\n",
        "    \n",
        "    temp=pd.get_dummies(cf_test[col],prefix=col,drop_first=True)\n",
        "    cf_test=pd.concat([temp,cf_test],1)\n",
        "    cf_test.drop([col],1,inplace=True)"
      ],
      "execution_count": null,
      "outputs": []
    },
    {
      "cell_type": "code",
      "metadata": {
        "id": "ndl09govVhxy",
        "colab": {
          "base_uri": "https://localhost:8080/",
          "height": 34
        },
        "outputId": "9db99c7f-cd87-453b-dbca-cc8e81844e67"
      },
      "source": [
        "#test_3\n",
        "cf_train['Active_Since'].unique()"
      ],
      "execution_count": null,
      "outputs": [
        {
          "output_type": "execute_result",
          "data": {
            "text/plain": [
              "array([1995, 1983, 2000, 2007, 1985, 2005, 1996, 2002, 1997])"
            ]
          },
          "metadata": {
            "tags": []
          },
          "execution_count": 197
        }
      ]
    },
    {
      "cell_type": "code",
      "metadata": {
        "id": "jZr3l9LbefR-"
      },
      "source": [
        "#test_3\n",
        "\n",
        "for col in [\"Active_Since\"]:\n",
        "\n",
        "    temp=np.subtract(2020,cf_train[col])\n",
        "\n",
        "for col in [\"Active_Since\"]:\n",
        "\n",
        "    temp_test=np.subtract(2020,cf_test[col])"
      ],
      "execution_count": null,
      "outputs": []
    },
    {
      "cell_type": "code",
      "metadata": {
        "id": "4r14aONegcV2",
        "colab": {
          "base_uri": "https://localhost:8080/",
          "height": 221
        },
        "outputId": "fc41df8a-4922-4806-b6a5-e4e9a7518f8f"
      },
      "source": [
        "#test_3\n",
        "print(temp)\n"
      ],
      "execution_count": null,
      "outputs": [
        {
          "output_type": "stream",
          "text": [
            "0       25\n",
            "1       37\n",
            "2       25\n",
            "3       25\n",
            "4       37\n",
            "        ..\n",
            "6813    25\n",
            "6814    25\n",
            "6815    15\n",
            "6816    20\n",
            "6817    13\n",
            "Name: Active_Since, Length: 6818, dtype: int64\n"
          ],
          "name": "stdout"
        }
      ]
    },
    {
      "cell_type": "code",
      "metadata": {
        "id": "1CIKz5RqgiBb",
        "colab": {
          "base_uri": "https://localhost:8080/",
          "height": 34
        },
        "outputId": "d08651a9-3a0a-4337-8a65-47e6c29f7ac0"
      },
      "source": [
        "#test_3\n",
        "temp.unique()"
      ],
      "execution_count": null,
      "outputs": [
        {
          "output_type": "execute_result",
          "data": {
            "text/plain": [
              "array([25, 37, 20, 13, 35, 15, 24, 18, 23])"
            ]
          },
          "metadata": {
            "tags": []
          },
          "execution_count": 200
        }
      ]
    },
    {
      "cell_type": "code",
      "metadata": {
        "id": "y8VUhk7ngxLF"
      },
      "source": [
        "#test_3- failed\n",
        "for col in [\"Active_Since\"]:\n",
        "    cf_train=pd.concat([temp,cf_train],1)\n",
        "    cf_train.drop([col],1,inplace=True)"
      ],
      "execution_count": null,
      "outputs": []
    },
    {
      "cell_type": "code",
      "metadata": {
        "id": "hYhydoB4iDmC"
      },
      "source": [
        "#test_3\n",
        "\n",
        "cf_train['Activesince_years'] = temp \n",
        "cf_test['Activesince_years'] = temp_test "
      ],
      "execution_count": null,
      "outputs": []
    },
    {
      "cell_type": "code",
      "metadata": {
        "id": "rVk8PrADic5Z"
      },
      "source": [
        "#test_3\n",
        "for col in ['Activesince_years']:\n",
        "    \n",
        "    temp_1=pd.get_dummies(cf_train[col],prefix=col,drop_first=True)\n",
        "    cf_train=pd.concat([temp_1,cf_train],1)\n",
        "    cf_train.drop([col],1,inplace=True)\n",
        "    \n",
        "    temp_1=pd.get_dummies(cf_test[col],prefix=col,drop_first=True)\n",
        "    cf_test=pd.concat([temp_1,cf_test],1)\n",
        "    cf_test.drop([col],1,inplace=True)"
      ],
      "execution_count": null,
      "outputs": []
    },
    {
      "cell_type": "code",
      "metadata": {
        "id": "QbL81Di4pJmK"
      },
      "source": [
        "for col in ['Active_Since']:\n",
        "    cf_train.drop([col],1,inplace=True)\n",
        "    cf_test.drop([col],1,inplace=True)"
      ],
      "execution_count": null,
      "outputs": []
    },
    {
      "cell_type": "code",
      "metadata": {
        "id": "s7pyeJHChPo-",
        "colab": {
          "base_uri": "https://localhost:8080/",
          "height": 241
        },
        "outputId": "7f611060-dc36-4161-9631-1daeac4bf192"
      },
      "source": [
        "cf_train.head()"
      ],
      "execution_count": null,
      "outputs": [
        {
          "output_type": "execute_result",
          "data": {
            "text/html": [
              "<div>\n",
              "<style scoped>\n",
              "    .dataframe tbody tr th:only-of-type {\n",
              "        vertical-align: middle;\n",
              "    }\n",
              "\n",
              "    .dataframe tbody tr th {\n",
              "        vertical-align: top;\n",
              "    }\n",
              "\n",
              "    .dataframe thead th {\n",
              "        text-align: right;\n",
              "    }\n",
              "</style>\n",
              "<table border=\"1\" class=\"dataframe\">\n",
              "  <thead>\n",
              "    <tr style=\"text-align: right;\">\n",
              "      <th></th>\n",
              "      <th>Activesince_years_15</th>\n",
              "      <th>Activesince_years_18</th>\n",
              "      <th>Activesince_years_20</th>\n",
              "      <th>Activesince_years_23</th>\n",
              "      <th>Activesince_years_24</th>\n",
              "      <th>Activesince_years_25</th>\n",
              "      <th>Activesince_years_35</th>\n",
              "      <th>Activesince_years_37</th>\n",
              "      <th>Area_dist_level_Medium</th>\n",
              "      <th>Area_dist_level_Small</th>\n",
              "      <th>Area_dist_level_Unknown</th>\n",
              "      <th>Area_City_Type_Tier 2</th>\n",
              "      <th>Area_City_Type_Tier 3</th>\n",
              "      <th>Area_Type_DownTown</th>\n",
              "      <th>Area_Type_Industrial</th>\n",
              "      <th>Area_Type_MidTownResidential</th>\n",
              "      <th>SidEffect_Level_mild</th>\n",
              "      <th>Medicine_Type_Antacids</th>\n",
              "      <th>Medicine_Type_Antibiotics</th>\n",
              "      <th>Medicine_Type_Antifungal</th>\n",
              "      <th>Medicine_Type_Antimalarial</th>\n",
              "      <th>Medicine_Type_Antipyretics</th>\n",
              "      <th>Medicine_Type_Antiseptics</th>\n",
              "      <th>Medicine_Type_Antiviral</th>\n",
              "      <th>Medicine_Type_Cardiac</th>\n",
              "      <th>Medicine_Type_Hreplacements</th>\n",
              "      <th>Medicine_Type_Mstablizers</th>\n",
              "      <th>Medicine_Type_MuscleRelaxants</th>\n",
              "      <th>Medicine_Type_OralContraceptives</th>\n",
              "      <th>Medicine_Type_Statins</th>\n",
              "      <th>Medicine_Type_Stimulants</th>\n",
              "      <th>Medicine_Type_Tranquilizers</th>\n",
              "      <th>DistArea_ID_Area013</th>\n",
              "      <th>DistArea_ID_Area017</th>\n",
              "      <th>DistArea_ID_Area018</th>\n",
              "      <th>DistArea_ID_Area019</th>\n",
              "      <th>DistArea_ID_Area027</th>\n",
              "      <th>DistArea_ID_Area035</th>\n",
              "      <th>DistArea_ID_Area045</th>\n",
              "      <th>DistArea_ID_Area046</th>\n",
              "      <th>DistArea_ID_Area049</th>\n",
              "      <th>Medicine_ID</th>\n",
              "      <th>Counterfeit_Sales</th>\n",
              "      <th>Medicine_MRP_n</th>\n",
              "      <th>Counterfeit_Weight_n</th>\n",
              "    </tr>\n",
              "  </thead>\n",
              "  <tbody>\n",
              "    <tr>\n",
              "      <th>0</th>\n",
              "      <td>0</td>\n",
              "      <td>0</td>\n",
              "      <td>0</td>\n",
              "      <td>0</td>\n",
              "      <td>0</td>\n",
              "      <td>1</td>\n",
              "      <td>0</td>\n",
              "      <td>0</td>\n",
              "      <td>0</td>\n",
              "      <td>1</td>\n",
              "      <td>0</td>\n",
              "      <td>0</td>\n",
              "      <td>0</td>\n",
              "      <td>1</td>\n",
              "      <td>0</td>\n",
              "      <td>0</td>\n",
              "      <td>0</td>\n",
              "      <td>0</td>\n",
              "      <td>0</td>\n",
              "      <td>0</td>\n",
              "      <td>1</td>\n",
              "      <td>0</td>\n",
              "      <td>0</td>\n",
              "      <td>0</td>\n",
              "      <td>0</td>\n",
              "      <td>0</td>\n",
              "      <td>0</td>\n",
              "      <td>0</td>\n",
              "      <td>0</td>\n",
              "      <td>0</td>\n",
              "      <td>0</td>\n",
              "      <td>0</td>\n",
              "      <td>0</td>\n",
              "      <td>0</td>\n",
              "      <td>0</td>\n",
              "      <td>0</td>\n",
              "      <td>0</td>\n",
              "      <td>0</td>\n",
              "      <td>0</td>\n",
              "      <td>1</td>\n",
              "      <td>0</td>\n",
              "      <td>RRA15</td>\n",
              "      <td>1775.5026</td>\n",
              "      <td>0.503175</td>\n",
              "      <td>0.431378</td>\n",
              "    </tr>\n",
              "    <tr>\n",
              "      <th>1</th>\n",
              "      <td>0</td>\n",
              "      <td>0</td>\n",
              "      <td>0</td>\n",
              "      <td>0</td>\n",
              "      <td>0</td>\n",
              "      <td>0</td>\n",
              "      <td>0</td>\n",
              "      <td>1</td>\n",
              "      <td>1</td>\n",
              "      <td>0</td>\n",
              "      <td>0</td>\n",
              "      <td>0</td>\n",
              "      <td>1</td>\n",
              "      <td>0</td>\n",
              "      <td>0</td>\n",
              "      <td>0</td>\n",
              "      <td>1</td>\n",
              "      <td>0</td>\n",
              "      <td>0</td>\n",
              "      <td>0</td>\n",
              "      <td>0</td>\n",
              "      <td>0</td>\n",
              "      <td>0</td>\n",
              "      <td>0</td>\n",
              "      <td>0</td>\n",
              "      <td>0</td>\n",
              "      <td>1</td>\n",
              "      <td>0</td>\n",
              "      <td>0</td>\n",
              "      <td>0</td>\n",
              "      <td>0</td>\n",
              "      <td>0</td>\n",
              "      <td>0</td>\n",
              "      <td>0</td>\n",
              "      <td>0</td>\n",
              "      <td>0</td>\n",
              "      <td>1</td>\n",
              "      <td>0</td>\n",
              "      <td>0</td>\n",
              "      <td>0</td>\n",
              "      <td>0</td>\n",
              "      <td>YVV26</td>\n",
              "      <td>3069.1520</td>\n",
              "      <td>0.291626</td>\n",
              "      <td>0.491816</td>\n",
              "    </tr>\n",
              "    <tr>\n",
              "      <th>2</th>\n",
              "      <td>0</td>\n",
              "      <td>0</td>\n",
              "      <td>0</td>\n",
              "      <td>0</td>\n",
              "      <td>0</td>\n",
              "      <td>1</td>\n",
              "      <td>0</td>\n",
              "      <td>0</td>\n",
              "      <td>0</td>\n",
              "      <td>1</td>\n",
              "      <td>0</td>\n",
              "      <td>0</td>\n",
              "      <td>0</td>\n",
              "      <td>1</td>\n",
              "      <td>0</td>\n",
              "      <td>0</td>\n",
              "      <td>1</td>\n",
              "      <td>0</td>\n",
              "      <td>0</td>\n",
              "      <td>0</td>\n",
              "      <td>0</td>\n",
              "      <td>0</td>\n",
              "      <td>0</td>\n",
              "      <td>0</td>\n",
              "      <td>1</td>\n",
              "      <td>0</td>\n",
              "      <td>0</td>\n",
              "      <td>0</td>\n",
              "      <td>0</td>\n",
              "      <td>0</td>\n",
              "      <td>0</td>\n",
              "      <td>0</td>\n",
              "      <td>0</td>\n",
              "      <td>0</td>\n",
              "      <td>0</td>\n",
              "      <td>0</td>\n",
              "      <td>0</td>\n",
              "      <td>0</td>\n",
              "      <td>0</td>\n",
              "      <td>1</td>\n",
              "      <td>0</td>\n",
              "      <td>LJC15</td>\n",
              "      <td>2603.0920</td>\n",
              "      <td>0.924472</td>\n",
              "      <td>0.188747</td>\n",
              "    </tr>\n",
              "    <tr>\n",
              "      <th>3</th>\n",
              "      <td>0</td>\n",
              "      <td>0</td>\n",
              "      <td>0</td>\n",
              "      <td>0</td>\n",
              "      <td>0</td>\n",
              "      <td>1</td>\n",
              "      <td>0</td>\n",
              "      <td>0</td>\n",
              "      <td>0</td>\n",
              "      <td>1</td>\n",
              "      <td>0</td>\n",
              "      <td>0</td>\n",
              "      <td>0</td>\n",
              "      <td>1</td>\n",
              "      <td>0</td>\n",
              "      <td>0</td>\n",
              "      <td>1</td>\n",
              "      <td>0</td>\n",
              "      <td>0</td>\n",
              "      <td>0</td>\n",
              "      <td>0</td>\n",
              "      <td>0</td>\n",
              "      <td>0</td>\n",
              "      <td>0</td>\n",
              "      <td>0</td>\n",
              "      <td>0</td>\n",
              "      <td>0</td>\n",
              "      <td>0</td>\n",
              "      <td>1</td>\n",
              "      <td>0</td>\n",
              "      <td>0</td>\n",
              "      <td>0</td>\n",
              "      <td>0</td>\n",
              "      <td>0</td>\n",
              "      <td>0</td>\n",
              "      <td>0</td>\n",
              "      <td>0</td>\n",
              "      <td>0</td>\n",
              "      <td>0</td>\n",
              "      <td>1</td>\n",
              "      <td>0</td>\n",
              "      <td>GWC40</td>\n",
              "      <td>1101.7130</td>\n",
              "      <td>0.247211</td>\n",
              "      <td>0.353974</td>\n",
              "    </tr>\n",
              "    <tr>\n",
              "      <th>4</th>\n",
              "      <td>0</td>\n",
              "      <td>0</td>\n",
              "      <td>0</td>\n",
              "      <td>0</td>\n",
              "      <td>0</td>\n",
              "      <td>0</td>\n",
              "      <td>0</td>\n",
              "      <td>1</td>\n",
              "      <td>0</td>\n",
              "      <td>1</td>\n",
              "      <td>0</td>\n",
              "      <td>0</td>\n",
              "      <td>0</td>\n",
              "      <td>0</td>\n",
              "      <td>0</td>\n",
              "      <td>1</td>\n",
              "      <td>0</td>\n",
              "      <td>0</td>\n",
              "      <td>0</td>\n",
              "      <td>0</td>\n",
              "      <td>0</td>\n",
              "      <td>0</td>\n",
              "      <td>0</td>\n",
              "      <td>0</td>\n",
              "      <td>0</td>\n",
              "      <td>1</td>\n",
              "      <td>0</td>\n",
              "      <td>0</td>\n",
              "      <td>0</td>\n",
              "      <td>0</td>\n",
              "      <td>0</td>\n",
              "      <td>0</td>\n",
              "      <td>0</td>\n",
              "      <td>0</td>\n",
              "      <td>0</td>\n",
              "      <td>1</td>\n",
              "      <td>0</td>\n",
              "      <td>0</td>\n",
              "      <td>0</td>\n",
              "      <td>0</td>\n",
              "      <td>0</td>\n",
              "      <td>QMN13</td>\n",
              "      <td>158.9402</td>\n",
              "      <td>0.062236</td>\n",
              "      <td>0.491816</td>\n",
              "    </tr>\n",
              "  </tbody>\n",
              "</table>\n",
              "</div>"
            ],
            "text/plain": [
              "   Activesince_years_15  ...  Counterfeit_Weight_n\n",
              "0                     0  ...              0.431378\n",
              "1                     0  ...              0.491816\n",
              "2                     0  ...              0.188747\n",
              "3                     0  ...              0.353974\n",
              "4                     0  ...              0.491816\n",
              "\n",
              "[5 rows x 45 columns]"
            ]
          },
          "metadata": {
            "tags": []
          },
          "execution_count": 205
        }
      ]
    },
    {
      "cell_type": "code",
      "metadata": {
        "id": "vTTzugDgQdkr"
      },
      "source": [
        "#test_2 - not important\n",
        "for col in [\"Active_Since\"]:\n",
        "    \n",
        "    temp=pd.get_dummies(cf_train[col],prefix=col,drop_first=True)\n",
        "    cf_train=pd.concat([temp,cf_train],1)\n",
        "    cf_train.drop([col],1,inplace=True)\n",
        "    \n",
        "    temp=pd.get_dummies(cf_test[col],prefix=col,drop_first=True)\n",
        "    cf_test=pd.concat([temp,cf_test],1)\n",
        "    cf_test.drop([col],1,inplace=True)"
      ],
      "execution_count": null,
      "outputs": []
    },
    {
      "cell_type": "code",
      "metadata": {
        "id": "7yNtAzNCZBiL",
        "colab": {
          "base_uri": "https://localhost:8080/",
          "height": 799
        },
        "outputId": "3fe80e66-c9bc-4122-b15c-0abe6a812923"
      },
      "source": [
        "cf_train.dtypes"
      ],
      "execution_count": null,
      "outputs": [
        {
          "output_type": "execute_result",
          "data": {
            "text/plain": [
              "Activesince_years_15                  uint8\n",
              "Activesince_years_18                  uint8\n",
              "Activesince_years_20                  uint8\n",
              "Activesince_years_23                  uint8\n",
              "Activesince_years_24                  uint8\n",
              "Activesince_years_25                  uint8\n",
              "Activesince_years_35                  uint8\n",
              "Activesince_years_37                  uint8\n",
              "Area_dist_level_Medium                uint8\n",
              "Area_dist_level_Small                 uint8\n",
              "Area_dist_level_Unknown               uint8\n",
              "Area_City_Type_Tier 2                 uint8\n",
              "Area_City_Type_Tier 3                 uint8\n",
              "Area_Type_DownTown                    uint8\n",
              "Area_Type_Industrial                  uint8\n",
              "Area_Type_MidTownResidential          uint8\n",
              "SidEffect_Level_mild                  uint8\n",
              "Medicine_Type_Antacids                uint8\n",
              "Medicine_Type_Antibiotics             uint8\n",
              "Medicine_Type_Antifungal              uint8\n",
              "Medicine_Type_Antimalarial            uint8\n",
              "Medicine_Type_Antipyretics            uint8\n",
              "Medicine_Type_Antiseptics             uint8\n",
              "Medicine_Type_Antiviral               uint8\n",
              "Medicine_Type_Cardiac                 uint8\n",
              "Medicine_Type_Hreplacements           uint8\n",
              "Medicine_Type_Mstablizers             uint8\n",
              "Medicine_Type_MuscleRelaxants         uint8\n",
              "Medicine_Type_OralContraceptives      uint8\n",
              "Medicine_Type_Statins                 uint8\n",
              "Medicine_Type_Stimulants              uint8\n",
              "Medicine_Type_Tranquilizers           uint8\n",
              "DistArea_ID_Area013                   uint8\n",
              "DistArea_ID_Area017                   uint8\n",
              "DistArea_ID_Area018                   uint8\n",
              "DistArea_ID_Area019                   uint8\n",
              "DistArea_ID_Area027                   uint8\n",
              "DistArea_ID_Area035                   uint8\n",
              "DistArea_ID_Area045                   uint8\n",
              "DistArea_ID_Area046                   uint8\n",
              "DistArea_ID_Area049                   uint8\n",
              "Medicine_ID                          object\n",
              "Counterfeit_Sales                   float64\n",
              "Medicine_MRP_n                      float64\n",
              "Counterfeit_Weight_n                float64\n",
              "dtype: object"
            ]
          },
          "metadata": {
            "tags": []
          },
          "execution_count": 206
        }
      ]
    },
    {
      "cell_type": "code",
      "metadata": {
        "id": "C0aKDGZtn99t"
      },
      "source": [
        "from sklearn.model_selection import train_test_split"
      ],
      "execution_count": null,
      "outputs": []
    },
    {
      "cell_type": "code",
      "metadata": {
        "id": "t6Z__URAn9sj"
      },
      "source": [
        "cf_train1,cf_train2=train_test_split(cf_train,test_size=0.2,random_state=2)"
      ],
      "execution_count": null,
      "outputs": []
    },
    {
      "cell_type": "code",
      "metadata": {
        "id": "c0xK5Wj_ZBfv",
        "colab": {
          "base_uri": "https://localhost:8080/",
          "height": 324
        },
        "outputId": "a0713380-9e59-4b3b-ae12-1694a8bfbc6a"
      },
      "source": [
        "#test-fail\n",
        "x=cf_train1.drop(['Counterfeit_Sales','Medicine_ID','Medicine_MRP'],1)\n",
        "y=cf_train1['Counterfeit_Sales']"
      ],
      "execution_count": null,
      "outputs": [
        {
          "output_type": "error",
          "ename": "KeyError",
          "evalue": "ignored",
          "traceback": [
            "\u001b[0;31m---------------------------------------------------------------------------\u001b[0m",
            "\u001b[0;31mKeyError\u001b[0m                                  Traceback (most recent call last)",
            "\u001b[0;32m<ipython-input-90-8dfa8aa4baad>\u001b[0m in \u001b[0;36m<module>\u001b[0;34m()\u001b[0m\n\u001b[0;32m----> 1\u001b[0;31m \u001b[0mx\u001b[0m\u001b[0;34m=\u001b[0m\u001b[0mcf_train1\u001b[0m\u001b[0;34m.\u001b[0m\u001b[0mdrop\u001b[0m\u001b[0;34m(\u001b[0m\u001b[0;34m[\u001b[0m\u001b[0;34m'Counterfeit_Sales'\u001b[0m\u001b[0;34m,\u001b[0m\u001b[0;34m'Medicine_ID'\u001b[0m\u001b[0;34m,\u001b[0m\u001b[0;34m'Medicine_MRP'\u001b[0m\u001b[0;34m]\u001b[0m\u001b[0;34m,\u001b[0m\u001b[0;36m1\u001b[0m\u001b[0;34m)\u001b[0m\u001b[0;34m\u001b[0m\u001b[0;34m\u001b[0m\u001b[0m\n\u001b[0m\u001b[1;32m      2\u001b[0m \u001b[0my\u001b[0m\u001b[0;34m=\u001b[0m\u001b[0mcf_train1\u001b[0m\u001b[0;34m[\u001b[0m\u001b[0;34m'Counterfeit_Sales'\u001b[0m\u001b[0;34m]\u001b[0m\u001b[0;34m\u001b[0m\u001b[0;34m\u001b[0m\u001b[0m\n",
            "\u001b[0;32m/usr/local/lib/python3.6/dist-packages/pandas/core/frame.py\u001b[0m in \u001b[0;36mdrop\u001b[0;34m(self, labels, axis, index, columns, level, inplace, errors)\u001b[0m\n\u001b[1;32m   3995\u001b[0m             \u001b[0mlevel\u001b[0m\u001b[0;34m=\u001b[0m\u001b[0mlevel\u001b[0m\u001b[0;34m,\u001b[0m\u001b[0;34m\u001b[0m\u001b[0;34m\u001b[0m\u001b[0m\n\u001b[1;32m   3996\u001b[0m             \u001b[0minplace\u001b[0m\u001b[0;34m=\u001b[0m\u001b[0minplace\u001b[0m\u001b[0;34m,\u001b[0m\u001b[0;34m\u001b[0m\u001b[0;34m\u001b[0m\u001b[0m\n\u001b[0;32m-> 3997\u001b[0;31m             \u001b[0merrors\u001b[0m\u001b[0;34m=\u001b[0m\u001b[0merrors\u001b[0m\u001b[0;34m,\u001b[0m\u001b[0;34m\u001b[0m\u001b[0;34m\u001b[0m\u001b[0m\n\u001b[0m\u001b[1;32m   3998\u001b[0m         )\n\u001b[1;32m   3999\u001b[0m \u001b[0;34m\u001b[0m\u001b[0m\n",
            "\u001b[0;32m/usr/local/lib/python3.6/dist-packages/pandas/core/generic.py\u001b[0m in \u001b[0;36mdrop\u001b[0;34m(self, labels, axis, index, columns, level, inplace, errors)\u001b[0m\n\u001b[1;32m   3934\u001b[0m         \u001b[0;32mfor\u001b[0m \u001b[0maxis\u001b[0m\u001b[0;34m,\u001b[0m \u001b[0mlabels\u001b[0m \u001b[0;32min\u001b[0m \u001b[0maxes\u001b[0m\u001b[0;34m.\u001b[0m\u001b[0mitems\u001b[0m\u001b[0;34m(\u001b[0m\u001b[0;34m)\u001b[0m\u001b[0;34m:\u001b[0m\u001b[0;34m\u001b[0m\u001b[0;34m\u001b[0m\u001b[0m\n\u001b[1;32m   3935\u001b[0m             \u001b[0;32mif\u001b[0m \u001b[0mlabels\u001b[0m \u001b[0;32mis\u001b[0m \u001b[0;32mnot\u001b[0m \u001b[0;32mNone\u001b[0m\u001b[0;34m:\u001b[0m\u001b[0;34m\u001b[0m\u001b[0;34m\u001b[0m\u001b[0m\n\u001b[0;32m-> 3936\u001b[0;31m                 \u001b[0mobj\u001b[0m \u001b[0;34m=\u001b[0m \u001b[0mobj\u001b[0m\u001b[0;34m.\u001b[0m\u001b[0m_drop_axis\u001b[0m\u001b[0;34m(\u001b[0m\u001b[0mlabels\u001b[0m\u001b[0;34m,\u001b[0m \u001b[0maxis\u001b[0m\u001b[0;34m,\u001b[0m \u001b[0mlevel\u001b[0m\u001b[0;34m=\u001b[0m\u001b[0mlevel\u001b[0m\u001b[0;34m,\u001b[0m \u001b[0merrors\u001b[0m\u001b[0;34m=\u001b[0m\u001b[0merrors\u001b[0m\u001b[0;34m)\u001b[0m\u001b[0;34m\u001b[0m\u001b[0;34m\u001b[0m\u001b[0m\n\u001b[0m\u001b[1;32m   3937\u001b[0m \u001b[0;34m\u001b[0m\u001b[0m\n\u001b[1;32m   3938\u001b[0m         \u001b[0;32mif\u001b[0m \u001b[0minplace\u001b[0m\u001b[0;34m:\u001b[0m\u001b[0;34m\u001b[0m\u001b[0;34m\u001b[0m\u001b[0m\n",
            "\u001b[0;32m/usr/local/lib/python3.6/dist-packages/pandas/core/generic.py\u001b[0m in \u001b[0;36m_drop_axis\u001b[0;34m(self, labels, axis, level, errors)\u001b[0m\n\u001b[1;32m   3968\u001b[0m                 \u001b[0mnew_axis\u001b[0m \u001b[0;34m=\u001b[0m \u001b[0maxis\u001b[0m\u001b[0;34m.\u001b[0m\u001b[0mdrop\u001b[0m\u001b[0;34m(\u001b[0m\u001b[0mlabels\u001b[0m\u001b[0;34m,\u001b[0m \u001b[0mlevel\u001b[0m\u001b[0;34m=\u001b[0m\u001b[0mlevel\u001b[0m\u001b[0;34m,\u001b[0m \u001b[0merrors\u001b[0m\u001b[0;34m=\u001b[0m\u001b[0merrors\u001b[0m\u001b[0;34m)\u001b[0m\u001b[0;34m\u001b[0m\u001b[0;34m\u001b[0m\u001b[0m\n\u001b[1;32m   3969\u001b[0m             \u001b[0;32melse\u001b[0m\u001b[0;34m:\u001b[0m\u001b[0;34m\u001b[0m\u001b[0;34m\u001b[0m\u001b[0m\n\u001b[0;32m-> 3970\u001b[0;31m                 \u001b[0mnew_axis\u001b[0m \u001b[0;34m=\u001b[0m \u001b[0maxis\u001b[0m\u001b[0;34m.\u001b[0m\u001b[0mdrop\u001b[0m\u001b[0;34m(\u001b[0m\u001b[0mlabels\u001b[0m\u001b[0;34m,\u001b[0m \u001b[0merrors\u001b[0m\u001b[0;34m=\u001b[0m\u001b[0merrors\u001b[0m\u001b[0;34m)\u001b[0m\u001b[0;34m\u001b[0m\u001b[0;34m\u001b[0m\u001b[0m\n\u001b[0m\u001b[1;32m   3971\u001b[0m             \u001b[0mresult\u001b[0m \u001b[0;34m=\u001b[0m \u001b[0mself\u001b[0m\u001b[0;34m.\u001b[0m\u001b[0mreindex\u001b[0m\u001b[0;34m(\u001b[0m\u001b[0;34m**\u001b[0m\u001b[0;34m{\u001b[0m\u001b[0maxis_name\u001b[0m\u001b[0;34m:\u001b[0m \u001b[0mnew_axis\u001b[0m\u001b[0;34m}\u001b[0m\u001b[0;34m)\u001b[0m\u001b[0;34m\u001b[0m\u001b[0;34m\u001b[0m\u001b[0m\n\u001b[1;32m   3972\u001b[0m \u001b[0;34m\u001b[0m\u001b[0m\n",
            "\u001b[0;32m/usr/local/lib/python3.6/dist-packages/pandas/core/indexes/base.py\u001b[0m in \u001b[0;36mdrop\u001b[0;34m(self, labels, errors)\u001b[0m\n\u001b[1;32m   5016\u001b[0m         \u001b[0;32mif\u001b[0m \u001b[0mmask\u001b[0m\u001b[0;34m.\u001b[0m\u001b[0many\u001b[0m\u001b[0;34m(\u001b[0m\u001b[0;34m)\u001b[0m\u001b[0;34m:\u001b[0m\u001b[0;34m\u001b[0m\u001b[0;34m\u001b[0m\u001b[0m\n\u001b[1;32m   5017\u001b[0m             \u001b[0;32mif\u001b[0m \u001b[0merrors\u001b[0m \u001b[0;34m!=\u001b[0m \u001b[0;34m\"ignore\"\u001b[0m\u001b[0;34m:\u001b[0m\u001b[0;34m\u001b[0m\u001b[0;34m\u001b[0m\u001b[0m\n\u001b[0;32m-> 5018\u001b[0;31m                 \u001b[0;32mraise\u001b[0m \u001b[0mKeyError\u001b[0m\u001b[0;34m(\u001b[0m\u001b[0;34mf\"{labels[mask]} not found in axis\"\u001b[0m\u001b[0;34m)\u001b[0m\u001b[0;34m\u001b[0m\u001b[0;34m\u001b[0m\u001b[0m\n\u001b[0m\u001b[1;32m   5019\u001b[0m             \u001b[0mindexer\u001b[0m \u001b[0;34m=\u001b[0m \u001b[0mindexer\u001b[0m\u001b[0;34m[\u001b[0m\u001b[0;34m~\u001b[0m\u001b[0mmask\u001b[0m\u001b[0;34m]\u001b[0m\u001b[0;34m\u001b[0m\u001b[0;34m\u001b[0m\u001b[0m\n\u001b[1;32m   5020\u001b[0m         \u001b[0;32mreturn\u001b[0m \u001b[0mself\u001b[0m\u001b[0;34m.\u001b[0m\u001b[0mdelete\u001b[0m\u001b[0;34m(\u001b[0m\u001b[0mindexer\u001b[0m\u001b[0;34m)\u001b[0m\u001b[0;34m\u001b[0m\u001b[0;34m\u001b[0m\u001b[0m\n",
            "\u001b[0;31mKeyError\u001b[0m: \"['Medicine_MRP'] not found in axis\""
          ]
        }
      ]
    },
    {
      "cell_type": "code",
      "metadata": {
        "id": "uSffw45b0Yom"
      },
      "source": [
        "#test\n",
        "x=cf_train1.drop(['Counterfeit_Sales','Medicine_ID'],1)\n",
        "y=cf_train1['Counterfeit_Sales']"
      ],
      "execution_count": null,
      "outputs": []
    },
    {
      "cell_type": "code",
      "metadata": {
        "id": "0pmQ35fYndyz"
      },
      "source": [
        "from sklearn.linear_model import LinearRegression"
      ],
      "execution_count": null,
      "outputs": []
    },
    {
      "cell_type": "code",
      "metadata": {
        "id": "n4I-aFKgZBdc"
      },
      "source": [
        "lm=LinearRegression()"
      ],
      "execution_count": null,
      "outputs": []
    },
    {
      "cell_type": "code",
      "metadata": {
        "id": "yk0rNXJrZBZ5",
        "colab": {
          "base_uri": "https://localhost:8080/",
          "height": 34
        },
        "outputId": "ae0cfaac-d737-42aa-8c3d-a114c0d4f504"
      },
      "source": [
        "lm.fit(x,y)"
      ],
      "execution_count": null,
      "outputs": [
        {
          "output_type": "execute_result",
          "data": {
            "text/plain": [
              "LinearRegression(copy_X=True, fit_intercept=True, n_jobs=None, normalize=False)"
            ]
          },
          "metadata": {
            "tags": []
          },
          "execution_count": 212
        }
      ]
    },
    {
      "cell_type": "code",
      "metadata": {
        "id": "2zDqHxExxaQU",
        "colab": {
          "base_uri": "https://localhost:8080/",
          "height": 765
        },
        "outputId": "09daf282-d5f9-41e3-974d-35019fb14625"
      },
      "source": [
        "x.isnull().sum()"
      ],
      "execution_count": null,
      "outputs": [
        {
          "output_type": "execute_result",
          "data": {
            "text/plain": [
              "Activesince_years_15                0\n",
              "Activesince_years_18                0\n",
              "Activesince_years_20                0\n",
              "Activesince_years_23                0\n",
              "Activesince_years_24                0\n",
              "Activesince_years_25                0\n",
              "Activesince_years_35                0\n",
              "Activesince_years_37                0\n",
              "Area_dist_level_Medium              0\n",
              "Area_dist_level_Small               0\n",
              "Area_dist_level_Unknown             0\n",
              "Area_City_Type_Tier 2               0\n",
              "Area_City_Type_Tier 3               0\n",
              "Area_Type_DownTown                  0\n",
              "Area_Type_Industrial                0\n",
              "Area_Type_MidTownResidential        0\n",
              "SidEffect_Level_mild                0\n",
              "Medicine_Type_Antacids              0\n",
              "Medicine_Type_Antibiotics           0\n",
              "Medicine_Type_Antifungal            0\n",
              "Medicine_Type_Antimalarial          0\n",
              "Medicine_Type_Antipyretics          0\n",
              "Medicine_Type_Antiseptics           0\n",
              "Medicine_Type_Antiviral             0\n",
              "Medicine_Type_Cardiac               0\n",
              "Medicine_Type_Hreplacements         0\n",
              "Medicine_Type_Mstablizers           0\n",
              "Medicine_Type_MuscleRelaxants       0\n",
              "Medicine_Type_OralContraceptives    0\n",
              "Medicine_Type_Statins               0\n",
              "Medicine_Type_Stimulants            0\n",
              "Medicine_Type_Tranquilizers         0\n",
              "DistArea_ID_Area013                 0\n",
              "DistArea_ID_Area017                 0\n",
              "DistArea_ID_Area018                 0\n",
              "DistArea_ID_Area019                 0\n",
              "DistArea_ID_Area027                 0\n",
              "DistArea_ID_Area035                 0\n",
              "DistArea_ID_Area045                 0\n",
              "DistArea_ID_Area046                 0\n",
              "DistArea_ID_Area049                 0\n",
              "Medicine_MRP_n                      0\n",
              "Counterfeit_Weight_n                0\n",
              "dtype: int64"
            ]
          },
          "metadata": {
            "tags": []
          },
          "execution_count": 213
        }
      ]
    },
    {
      "cell_type": "code",
      "metadata": {
        "id": "XpTGZ_L8xlnp",
        "colab": {
          "base_uri": "https://localhost:8080/",
          "height": 241
        },
        "outputId": "4168946f-7877-4834-af1f-4e738043891f"
      },
      "source": [
        "x.head()"
      ],
      "execution_count": null,
      "outputs": [
        {
          "output_type": "execute_result",
          "data": {
            "text/html": [
              "<div>\n",
              "<style scoped>\n",
              "    .dataframe tbody tr th:only-of-type {\n",
              "        vertical-align: middle;\n",
              "    }\n",
              "\n",
              "    .dataframe tbody tr th {\n",
              "        vertical-align: top;\n",
              "    }\n",
              "\n",
              "    .dataframe thead th {\n",
              "        text-align: right;\n",
              "    }\n",
              "</style>\n",
              "<table border=\"1\" class=\"dataframe\">\n",
              "  <thead>\n",
              "    <tr style=\"text-align: right;\">\n",
              "      <th></th>\n",
              "      <th>Activesince_years_15</th>\n",
              "      <th>Activesince_years_18</th>\n",
              "      <th>Activesince_years_20</th>\n",
              "      <th>Activesince_years_23</th>\n",
              "      <th>Activesince_years_24</th>\n",
              "      <th>Activesince_years_25</th>\n",
              "      <th>Activesince_years_35</th>\n",
              "      <th>Activesince_years_37</th>\n",
              "      <th>Area_dist_level_Medium</th>\n",
              "      <th>Area_dist_level_Small</th>\n",
              "      <th>Area_dist_level_Unknown</th>\n",
              "      <th>Area_City_Type_Tier 2</th>\n",
              "      <th>Area_City_Type_Tier 3</th>\n",
              "      <th>Area_Type_DownTown</th>\n",
              "      <th>Area_Type_Industrial</th>\n",
              "      <th>Area_Type_MidTownResidential</th>\n",
              "      <th>SidEffect_Level_mild</th>\n",
              "      <th>Medicine_Type_Antacids</th>\n",
              "      <th>Medicine_Type_Antibiotics</th>\n",
              "      <th>Medicine_Type_Antifungal</th>\n",
              "      <th>Medicine_Type_Antimalarial</th>\n",
              "      <th>Medicine_Type_Antipyretics</th>\n",
              "      <th>Medicine_Type_Antiseptics</th>\n",
              "      <th>Medicine_Type_Antiviral</th>\n",
              "      <th>Medicine_Type_Cardiac</th>\n",
              "      <th>Medicine_Type_Hreplacements</th>\n",
              "      <th>Medicine_Type_Mstablizers</th>\n",
              "      <th>Medicine_Type_MuscleRelaxants</th>\n",
              "      <th>Medicine_Type_OralContraceptives</th>\n",
              "      <th>Medicine_Type_Statins</th>\n",
              "      <th>Medicine_Type_Stimulants</th>\n",
              "      <th>Medicine_Type_Tranquilizers</th>\n",
              "      <th>DistArea_ID_Area013</th>\n",
              "      <th>DistArea_ID_Area017</th>\n",
              "      <th>DistArea_ID_Area018</th>\n",
              "      <th>DistArea_ID_Area019</th>\n",
              "      <th>DistArea_ID_Area027</th>\n",
              "      <th>DistArea_ID_Area035</th>\n",
              "      <th>DistArea_ID_Area045</th>\n",
              "      <th>DistArea_ID_Area046</th>\n",
              "      <th>DistArea_ID_Area049</th>\n",
              "      <th>Medicine_MRP_n</th>\n",
              "      <th>Counterfeit_Weight_n</th>\n",
              "    </tr>\n",
              "  </thead>\n",
              "  <tbody>\n",
              "    <tr>\n",
              "      <th>1063</th>\n",
              "      <td>0</td>\n",
              "      <td>0</td>\n",
              "      <td>0</td>\n",
              "      <td>1</td>\n",
              "      <td>0</td>\n",
              "      <td>0</td>\n",
              "      <td>0</td>\n",
              "      <td>0</td>\n",
              "      <td>1</td>\n",
              "      <td>0</td>\n",
              "      <td>0</td>\n",
              "      <td>0</td>\n",
              "      <td>0</td>\n",
              "      <td>1</td>\n",
              "      <td>0</td>\n",
              "      <td>0</td>\n",
              "      <td>0</td>\n",
              "      <td>0</td>\n",
              "      <td>0</td>\n",
              "      <td>0</td>\n",
              "      <td>1</td>\n",
              "      <td>0</td>\n",
              "      <td>0</td>\n",
              "      <td>0</td>\n",
              "      <td>0</td>\n",
              "      <td>0</td>\n",
              "      <td>0</td>\n",
              "      <td>0</td>\n",
              "      <td>0</td>\n",
              "      <td>0</td>\n",
              "      <td>0</td>\n",
              "      <td>0</td>\n",
              "      <td>0</td>\n",
              "      <td>0</td>\n",
              "      <td>0</td>\n",
              "      <td>0</td>\n",
              "      <td>0</td>\n",
              "      <td>0</td>\n",
              "      <td>0</td>\n",
              "      <td>0</td>\n",
              "      <td>1</td>\n",
              "      <td>0.534433</td>\n",
              "      <td>0.464126</td>\n",
              "    </tr>\n",
              "    <tr>\n",
              "      <th>3090</th>\n",
              "      <td>0</td>\n",
              "      <td>0</td>\n",
              "      <td>0</td>\n",
              "      <td>0</td>\n",
              "      <td>0</td>\n",
              "      <td>0</td>\n",
              "      <td>1</td>\n",
              "      <td>0</td>\n",
              "      <td>0</td>\n",
              "      <td>0</td>\n",
              "      <td>0</td>\n",
              "      <td>0</td>\n",
              "      <td>1</td>\n",
              "      <td>1</td>\n",
              "      <td>0</td>\n",
              "      <td>0</td>\n",
              "      <td>0</td>\n",
              "      <td>0</td>\n",
              "      <td>0</td>\n",
              "      <td>0</td>\n",
              "      <td>1</td>\n",
              "      <td>0</td>\n",
              "      <td>0</td>\n",
              "      <td>0</td>\n",
              "      <td>0</td>\n",
              "      <td>0</td>\n",
              "      <td>0</td>\n",
              "      <td>0</td>\n",
              "      <td>0</td>\n",
              "      <td>0</td>\n",
              "      <td>0</td>\n",
              "      <td>0</td>\n",
              "      <td>1</td>\n",
              "      <td>0</td>\n",
              "      <td>0</td>\n",
              "      <td>0</td>\n",
              "      <td>0</td>\n",
              "      <td>0</td>\n",
              "      <td>0</td>\n",
              "      <td>0</td>\n",
              "      <td>0</td>\n",
              "      <td>0.856725</td>\n",
              "      <td>0.407264</td>\n",
              "    </tr>\n",
              "    <tr>\n",
              "      <th>4768</th>\n",
              "      <td>0</td>\n",
              "      <td>0</td>\n",
              "      <td>0</td>\n",
              "      <td>0</td>\n",
              "      <td>0</td>\n",
              "      <td>0</td>\n",
              "      <td>0</td>\n",
              "      <td>1</td>\n",
              "      <td>0</td>\n",
              "      <td>1</td>\n",
              "      <td>0</td>\n",
              "      <td>0</td>\n",
              "      <td>0</td>\n",
              "      <td>0</td>\n",
              "      <td>0</td>\n",
              "      <td>1</td>\n",
              "      <td>1</td>\n",
              "      <td>0</td>\n",
              "      <td>0</td>\n",
              "      <td>0</td>\n",
              "      <td>0</td>\n",
              "      <td>0</td>\n",
              "      <td>0</td>\n",
              "      <td>0</td>\n",
              "      <td>0</td>\n",
              "      <td>1</td>\n",
              "      <td>0</td>\n",
              "      <td>0</td>\n",
              "      <td>0</td>\n",
              "      <td>0</td>\n",
              "      <td>0</td>\n",
              "      <td>0</td>\n",
              "      <td>0</td>\n",
              "      <td>0</td>\n",
              "      <td>0</td>\n",
              "      <td>1</td>\n",
              "      <td>0</td>\n",
              "      <td>0</td>\n",
              "      <td>0</td>\n",
              "      <td>0</td>\n",
              "      <td>0</td>\n",
              "      <td>0.671481</td>\n",
              "      <td>0.491816</td>\n",
              "    </tr>\n",
              "    <tr>\n",
              "      <th>2240</th>\n",
              "      <td>0</td>\n",
              "      <td>0</td>\n",
              "      <td>0</td>\n",
              "      <td>0</td>\n",
              "      <td>0</td>\n",
              "      <td>0</td>\n",
              "      <td>0</td>\n",
              "      <td>1</td>\n",
              "      <td>1</td>\n",
              "      <td>0</td>\n",
              "      <td>0</td>\n",
              "      <td>0</td>\n",
              "      <td>1</td>\n",
              "      <td>0</td>\n",
              "      <td>0</td>\n",
              "      <td>0</td>\n",
              "      <td>1</td>\n",
              "      <td>0</td>\n",
              "      <td>0</td>\n",
              "      <td>0</td>\n",
              "      <td>1</td>\n",
              "      <td>0</td>\n",
              "      <td>0</td>\n",
              "      <td>0</td>\n",
              "      <td>0</td>\n",
              "      <td>0</td>\n",
              "      <td>0</td>\n",
              "      <td>0</td>\n",
              "      <td>0</td>\n",
              "      <td>0</td>\n",
              "      <td>0</td>\n",
              "      <td>0</td>\n",
              "      <td>0</td>\n",
              "      <td>0</td>\n",
              "      <td>0</td>\n",
              "      <td>0</td>\n",
              "      <td>1</td>\n",
              "      <td>0</td>\n",
              "      <td>0</td>\n",
              "      <td>0</td>\n",
              "      <td>0</td>\n",
              "      <td>0.088541</td>\n",
              "      <td>0.491816</td>\n",
              "    </tr>\n",
              "    <tr>\n",
              "      <th>5114</th>\n",
              "      <td>0</td>\n",
              "      <td>0</td>\n",
              "      <td>0</td>\n",
              "      <td>0</td>\n",
              "      <td>0</td>\n",
              "      <td>1</td>\n",
              "      <td>0</td>\n",
              "      <td>0</td>\n",
              "      <td>0</td>\n",
              "      <td>1</td>\n",
              "      <td>0</td>\n",
              "      <td>0</td>\n",
              "      <td>0</td>\n",
              "      <td>1</td>\n",
              "      <td>0</td>\n",
              "      <td>0</td>\n",
              "      <td>1</td>\n",
              "      <td>0</td>\n",
              "      <td>0</td>\n",
              "      <td>0</td>\n",
              "      <td>0</td>\n",
              "      <td>0</td>\n",
              "      <td>1</td>\n",
              "      <td>0</td>\n",
              "      <td>0</td>\n",
              "      <td>0</td>\n",
              "      <td>0</td>\n",
              "      <td>0</td>\n",
              "      <td>0</td>\n",
              "      <td>0</td>\n",
              "      <td>0</td>\n",
              "      <td>0</td>\n",
              "      <td>0</td>\n",
              "      <td>0</td>\n",
              "      <td>0</td>\n",
              "      <td>0</td>\n",
              "      <td>0</td>\n",
              "      <td>0</td>\n",
              "      <td>0</td>\n",
              "      <td>1</td>\n",
              "      <td>0</td>\n",
              "      <td>0.759989</td>\n",
              "      <td>0.681453</td>\n",
              "    </tr>\n",
              "  </tbody>\n",
              "</table>\n",
              "</div>"
            ],
            "text/plain": [
              "      Activesince_years_15  ...  Counterfeit_Weight_n\n",
              "1063                     0  ...              0.464126\n",
              "3090                     0  ...              0.407264\n",
              "4768                     0  ...              0.491816\n",
              "2240                     0  ...              0.491816\n",
              "5114                     0  ...              0.681453\n",
              "\n",
              "[5 rows x 43 columns]"
            ]
          },
          "metadata": {
            "tags": []
          },
          "execution_count": 214
        }
      ]
    },
    {
      "cell_type": "code",
      "metadata": {
        "id": "HT2_TZF7ZBXC",
        "colab": {
          "base_uri": "https://localhost:8080/",
          "height": 34
        },
        "outputId": "efda9275-7e9e-449f-b12f-1da539520e29"
      },
      "source": [
        "x.shape"
      ],
      "execution_count": null,
      "outputs": [
        {
          "output_type": "execute_result",
          "data": {
            "text/plain": [
              "(5454, 43)"
            ]
          },
          "metadata": {
            "tags": []
          },
          "execution_count": 215
        }
      ]
    },
    {
      "cell_type": "code",
      "metadata": {
        "id": "7IoOWTDGZBSw",
        "colab": {
          "base_uri": "https://localhost:8080/",
          "height": 34
        },
        "outputId": "5d3bae8d-2fef-4ccd-8a42-04dd3ffb451e"
      },
      "source": [
        "lm.intercept_\n",
        "#test_2- -6981109987414122.0\n",
        "#test_3- -1.0105800675279288e+16\n",
        "#test_4- -2.1432928229302028e+16\n",
        "#test_5- -6720295380200376.0\n",
        "#test_6- 6674560271483168.0\n",
        "#test_7- -3.2917475990601384e+16\n",
        "#scaled down: -3258060151327394.5\n",
        "#test_new: 1110468345780996.4\n",
        "#without active_since: -7990263069545584.0"
      ],
      "execution_count": null,
      "outputs": [
        {
          "output_type": "execute_result",
          "data": {
            "text/plain": [
              "-3258060151327394.5"
            ]
          },
          "metadata": {
            "tags": []
          },
          "execution_count": 216
        }
      ]
    },
    {
      "cell_type": "code",
      "metadata": {
        "id": "g3SrmeFGZBOp",
        "colab": {
          "base_uri": "https://localhost:8080/",
          "height": 748
        },
        "outputId": "ce1424ee-b022-487a-d6be-349e5592a335"
      },
      "source": [
        "list(zip(x.columns,lm.coef_))\n",
        "#most less for DistArea_ID_Area018"
      ],
      "execution_count": null,
      "outputs": [
        {
          "output_type": "execute_result",
          "data": {
            "text/plain": [
              "[('Activesince_years_15', -1253880865415362.0),\n",
              " ('Activesince_years_18', 1.444921587370024e+16),\n",
              " ('Activesince_years_20', 267594794618970.38),\n",
              " ('Activesince_years_23', -3.466273616337851e+16),\n",
              " ('Activesince_years_24', 1.0557248347256622e+16),\n",
              " ('Activesince_years_25', -4703588128077896.0),\n",
              " ('Activesince_years_35', 1.9171624390056464e+16),\n",
              " ('Activesince_years_37', -7081796547527082.0),\n",
              " ('Area_dist_level_Medium', 1.5245605675839504e+16),\n",
              " ('Area_dist_level_Small', 2126576682669700.5),\n",
              " ('Area_dist_level_Unknown', 2215172905895033.2),\n",
              " ('Area_City_Type_Tier 2', -6897328197021313.0),\n",
              " ('Area_City_Type_Tier 3', -1635074830730663.5),\n",
              " ('Area_Type_DownTown', 1.5584497130807322e+16),\n",
              " ('Area_Type_Industrial', -4709425414655956.0),\n",
              " ('Area_Type_MidTownResidential', -7879286271094858.0),\n",
              " ('SidEffect_Level_mild', 8.035398250062117),\n",
              " ('Medicine_Type_Antacids', 10.162730680193075),\n",
              " ('Medicine_Type_Antibiotics', 77.27985476665994),\n",
              " ('Medicine_Type_Antifungal', 7.399049082969348),\n",
              " ('Medicine_Type_Antimalarial', 19.897718004657655),\n",
              " ('Medicine_Type_Antipyretics', -52.78897350269887),\n",
              " ('Medicine_Type_Antiseptics', -13.02045351889929),\n",
              " ('Medicine_Type_Antiviral', 373.69526322756394),\n",
              " ('Medicine_Type_Cardiac', 91.80613301435508),\n",
              " ('Medicine_Type_Hreplacements', -24.078901380680627),\n",
              " ('Medicine_Type_Mstablizers', -2.695184334369634),\n",
              " ('Medicine_Type_MuscleRelaxants', 108.73686912532804),\n",
              " ('Medicine_Type_OralContraceptives', 12.246531688454493),\n",
              " ('Medicine_Type_Statins', 73.04927938587971),\n",
              " ('Medicine_Type_Stimulants', 38.50131492012909),\n",
              " ('Medicine_Type_Tranquilizers', -66.20507173050329),\n",
              " ('DistArea_ID_Area013', -2.986298653880505e+16),\n",
              " ('DistArea_ID_Area017', -6390400822937530.0),\n",
              " ('DistArea_ID_Area018', -5643045279125072.0),\n",
              " ('DistArea_ID_Area019', 1.6092566287278484e+16),\n",
              " ('DistArea_ID_Area027', -3270674146252202.0),\n",
              " ('DistArea_ID_Area035', -2.200490133882758e+16),\n",
              " ('DistArea_ID_Area045', -7911876482972035.0),\n",
              " ('DistArea_ID_Area046', -9749425534071044.0),\n",
              " ('DistArea_ID_Area049', 7090693508059805.0),\n",
              " ('Medicine_MRP_n', 3625.79296875),\n",
              " ('Counterfeit_Weight_n', -72.5625)]"
            ]
          },
          "metadata": {
            "tags": []
          },
          "execution_count": 217
        }
      ]
    },
    {
      "cell_type": "code",
      "metadata": {
        "id": "FCVaQhFvZBHw"
      },
      "source": [
        "x_train2=cf_train2.drop(['Counterfeit_Sales','Medicine_ID'],axis=1)"
      ],
      "execution_count": null,
      "outputs": []
    },
    {
      "cell_type": "code",
      "metadata": {
        "id": "Uk5KZ8aJZA6L"
      },
      "source": [
        "predicted_ir=lm.predict(x_train2)"
      ],
      "execution_count": null,
      "outputs": []
    },
    {
      "cell_type": "code",
      "metadata": {
        "id": "JHItIaT5m481"
      },
      "source": [
        "from sklearn.metrics import mean_absolute_error"
      ],
      "execution_count": null,
      "outputs": []
    },
    {
      "cell_type": "code",
      "metadata": {
        "id": "lc2tocyfm4w9",
        "colab": {
          "base_uri": "https://localhost:8080/",
          "height": 34
        },
        "outputId": "10e06926-b3f6-48aa-db01-87252ea411a7"
      },
      "source": [
        "mean_absolute_error(cf_train2['Counterfeit_Sales'],predicted_ir)\n",
        "#test_2=MAE=1145.1579491202347\n",
        "#test_3=MAE=1142.4601585043988\n",
        "#test_4=1144.8599400293256\n",
        "#test_5=1146.0687306451614\n",
        "#test_6=1142.7133640762463\n",
        "#test_7=1143.777745601173\n",
        "#scaled down: 830.9371711143694\n",
        "#latest_test: 3513585173425.44\n",
        "#without_Active_since: 831.476916568915"
      ],
      "execution_count": null,
      "outputs": [
        {
          "output_type": "execute_result",
          "data": {
            "text/plain": [
              "830.9371711143694"
            ]
          },
          "metadata": {
            "tags": []
          },
          "execution_count": 221
        }
      ]
    },
    {
      "cell_type": "code",
      "metadata": {
        "id": "9SYvRp8EY7tL"
      },
      "source": [
        "MAE = mean_absolute_error(cf_train2['Counterfeit_Sales'],predicted_ir)"
      ],
      "execution_count": null,
      "outputs": []
    },
    {
      "cell_type": "code",
      "metadata": {
        "id": "RTWuqXfgm4c1",
        "colab": {
          "base_uri": "https://localhost:8080/",
          "height": 34
        },
        "outputId": "d6db406b-39d2-47f5-9901-b1dcd9a8426a"
      },
      "source": [
        "Score = 1-(MAE/1660)\n",
        "print(Score)\n",
        "#Test1: full(7645678 ..ex)(without Medicine_MRP,Counterfeit_Weight)\n",
        "#test2: 0.3101458137829912 (without Counterfeit_Weight,Medicine_MRP,Availability rating)\n",
        "#test3: 0.31177098885277177(without Counterfeit_Weight,Medicine_MRP,Availability rating and converted Active since to temp)\n",
        "#test4: 0.3103253373317316(removed DistArea_ID_Area018 additionally)\n",
        "#test5: 0.3095971502137582(removed Area_dist_level_Unknown)\n",
        "#test6: 0.3116184553757553(removed Area_dist_level)\n",
        "#test7: 0.31097726168604045(removed DistArea_ID)\n",
        "#scaled down: 0.49943543908772925(scaled down Counterfeit_Weight,Medicine_MRP and removed Availability rating)\n",
        "#latest_test: -2116617573.3526747(added 'Availability rating')\n",
        "#without_ACtive_since: 0.4991102912235451(scaled down Counterfeit_Weight,Medicine_MRP and removed Availability rating and Active_since)"
      ],
      "execution_count": null,
      "outputs": [
        {
          "output_type": "stream",
          "text": [
            "0.49943543908772925\n"
          ],
          "name": "stdout"
        }
      ]
    },
    {
      "cell_type": "code",
      "metadata": {
        "id": "p0kXRg2zUIaR"
      },
      "source": [
        ""
      ],
      "execution_count": null,
      "outputs": []
    },
    {
      "cell_type": "code",
      "metadata": {
        "id": "ruRH-5IoW41o"
      },
      "source": [
        "#feature coeffecients"
      ],
      "execution_count": null,
      "outputs": []
    },
    {
      "cell_type": "code",
      "metadata": {
        "id": "FRGpshesW4zf"
      },
      "source": [
        "def pretty_print_linear(coefs, names = None, sort = False):\n",
        "    if names == None:\n",
        "        names = [\"x%s\" % x for x in range(len(coefs))]\n",
        "    lst = zip(coefs, names)\n",
        "    if sort:\n",
        "        lst = sorted(lst,  key = lambda x:-np.abs(x[0]))\n",
        "    return \" + \".join(\"%s * %s\" % (round(coef, 3), name)\n",
        "                                   for coef, name in lst)\n",
        " \n"
      ],
      "execution_count": null,
      "outputs": []
    },
    {
      "cell_type": "code",
      "metadata": {
        "id": "lpW3R4uuW4wG",
        "colab": {
          "base_uri": "https://localhost:8080/",
          "height": 130
        },
        "outputId": "8ea0191f-3263-4544-a3a0-74266d6a9a49"
      },
      "source": [
        "print \"Linear model:\", pretty_print_linear(lm.coef_)"
      ],
      "execution_count": null,
      "outputs": [
        {
          "output_type": "error",
          "ename": "SyntaxError",
          "evalue": "ignored",
          "traceback": [
            "\u001b[0;36m  File \u001b[0;32m\"<ipython-input-96-2f2196381097>\"\u001b[0;36m, line \u001b[0;32m1\u001b[0m\n\u001b[0;31m    print \"Linear model:\", pretty_print_linear(lm.coef_)\u001b[0m\n\u001b[0m                        ^\u001b[0m\n\u001b[0;31mSyntaxError\u001b[0m\u001b[0;31m:\u001b[0m invalid syntax\n"
          ]
        }
      ]
    },
    {
      "cell_type": "code",
      "metadata": {
        "id": "0jyBxksfW4tx"
      },
      "source": [
        ""
      ],
      "execution_count": null,
      "outputs": []
    },
    {
      "cell_type": "code",
      "metadata": {
        "id": "MNPP4G_eW4oI"
      },
      "source": [
        ""
      ],
      "execution_count": null,
      "outputs": []
    },
    {
      "cell_type": "code",
      "metadata": {
        "id": "BlirJrnFW4lb"
      },
      "source": [
        ""
      ],
      "execution_count": null,
      "outputs": []
    },
    {
      "cell_type": "code",
      "metadata": {
        "id": "yDMAbutDW4iZ"
      },
      "source": [
        ""
      ],
      "execution_count": null,
      "outputs": []
    },
    {
      "cell_type": "code",
      "metadata": {
        "id": "6r-QtXCgVlnC"
      },
      "source": [
        "x_test=cf_test.drop(['Medicine_ID'],axis=1)"
      ],
      "execution_count": null,
      "outputs": []
    },
    {
      "cell_type": "code",
      "metadata": {
        "id": "9Jk2wvN4UIOy"
      },
      "source": [
        "test_pred=lm.predict(x_test)"
      ],
      "execution_count": null,
      "outputs": []
    },
    {
      "cell_type": "code",
      "metadata": {
        "id": "N9WPz6izV6Su",
        "colab": {
          "base_uri": "https://localhost:8080/",
          "height": 34
        },
        "outputId": "a4c66cfe-93b4-4cf5-eeaa-44d7cd05e02f"
      },
      "source": [
        "print(test_pred)"
      ],
      "execution_count": null,
      "outputs": [
        {
          "output_type": "stream",
          "text": [
            "[2886.5 3887.  1403.  ... 2859.  3809.  3685.5]\n"
          ],
          "name": "stdout"
        }
      ]
    },
    {
      "cell_type": "code",
      "metadata": {
        "id": "8YQdf7geUIJg"
      },
      "source": [
        "pd.DataFrame(test_pred).to_csv(\"mysubmission.csv\",index=False)"
      ],
      "execution_count": null,
      "outputs": []
    },
    {
      "cell_type": "code",
      "metadata": {
        "id": "mw84v784ZFvt"
      },
      "source": [
        "#Ridge"
      ],
      "execution_count": null,
      "outputs": []
    },
    {
      "cell_type": "code",
      "metadata": {
        "id": "3i1XDvDFSwIB"
      },
      "source": [
        "from sklearn.linear_model import Ridge,Lasso\n",
        "from sklearn.model_selection import GridSearchCV"
      ],
      "execution_count": null,
      "outputs": []
    },
    {
      "cell_type": "code",
      "metadata": {
        "id": "rbWHVU6-SwGF"
      },
      "source": [
        "lambdas=np.linspace(1,100,100)"
      ],
      "execution_count": null,
      "outputs": []
    },
    {
      "cell_type": "code",
      "metadata": {
        "id": "9reOXo1eSwEb"
      },
      "source": [
        "params={'alpha':lambdas}"
      ],
      "execution_count": null,
      "outputs": []
    },
    {
      "cell_type": "code",
      "metadata": {
        "id": "P5t8bJKdSv_6"
      },
      "source": [
        "model=Ridge(fit_intercept=True)"
      ],
      "execution_count": null,
      "outputs": []
    },
    {
      "cell_type": "code",
      "metadata": {
        "id": "iBz4JHZwSv-F"
      },
      "source": [
        "grid_search=GridSearchCV(model,param_grid=params,cv=10,scoring='neg_mean_absolute_error')\n",
        "#test_2\n",
        "#grid_search=GridSearchCV(model,param_grid=params,cv=10,scoring='neg_mean_squared_error')"
      ],
      "execution_count": null,
      "outputs": []
    },
    {
      "cell_type": "code",
      "metadata": {
        "id": "1ayTT0KrSv67",
        "colab": {
          "base_uri": "https://localhost:8080/",
          "height": 306
        },
        "outputId": "2ba77522-1536-4132-a2ca-8ba1a836ac18"
      },
      "source": [
        "grid_search.fit(x,y)"
      ],
      "execution_count": null,
      "outputs": [
        {
          "output_type": "execute_result",
          "data": {
            "text/plain": [
              "GridSearchCV(cv=10, error_score=nan,\n",
              "             estimator=Ridge(alpha=1.0, copy_X=True, fit_intercept=True,\n",
              "                             max_iter=None, normalize=False, random_state=None,\n",
              "                             solver='auto', tol=0.001),\n",
              "             iid='deprecated', n_jobs=None,\n",
              "             param_grid={'alpha': array([  1.,   2.,   3.,   4.,   5.,   6.,   7.,   8.,   9.,  10.,  11.,\n",
              "        12.,  13.,  14.,  15.,  16.,  17.,  18.,  19.,  20.,  21.,  22.,\n",
              "        23.,  24.,  25.,  26.,  27.,  28.,  29.,  30.,  31.,  32.,  33.,\n",
              "        34.,  35....,  41.,  42.,  43.,  44.,\n",
              "        45.,  46.,  47.,  48.,  49.,  50.,  51.,  52.,  53.,  54.,  55.,\n",
              "        56.,  57.,  58.,  59.,  60.,  61.,  62.,  63.,  64.,  65.,  66.,\n",
              "        67.,  68.,  69.,  70.,  71.,  72.,  73.,  74.,  75.,  76.,  77.,\n",
              "        78.,  79.,  80.,  81.,  82.,  83.,  84.,  85.,  86.,  87.,  88.,\n",
              "        89.,  90.,  91.,  92.,  93.,  94.,  95.,  96.,  97.,  98.,  99.,\n",
              "       100.])},\n",
              "             pre_dispatch='2*n_jobs', refit=True, return_train_score=False,\n",
              "             scoring='neg_mean_absolute_error', verbose=0)"
            ]
          },
          "metadata": {
            "tags": []
          },
          "execution_count": 107
        }
      ]
    },
    {
      "cell_type": "code",
      "metadata": {
        "id": "NSFYEa-fSv0j",
        "colab": {
          "base_uri": "https://localhost:8080/",
          "height": 51
        },
        "outputId": "593abca3-8f9b-4c81-895b-c95fcfe5d623"
      },
      "source": [
        "grid_search.best_estimator_"
      ],
      "execution_count": null,
      "outputs": [
        {
          "output_type": "execute_result",
          "data": {
            "text/plain": [
              "Ridge(alpha=13.0, copy_X=True, fit_intercept=True, max_iter=None,\n",
              "      normalize=False, random_state=None, solver='auto', tol=0.001)"
            ]
          },
          "metadata": {
            "tags": []
          },
          "execution_count": 108
        }
      ]
    },
    {
      "cell_type": "code",
      "metadata": {
        "id": "BqadYDK-Svs6",
        "colab": {
          "base_uri": "https://localhost:8080/",
          "height": 1000
        },
        "outputId": "467e4466-6b9e-401e-c124-3d76a2ef6cd3"
      },
      "source": [
        "grid_search.cv_results_"
      ],
      "execution_count": null,
      "outputs": [
        {
          "output_type": "execute_result",
          "data": {
            "text/plain": [
              "{'mean_fit_time': array([0.00831125, 0.00707622, 0.00720334, 0.00700102, 0.00709274,\n",
              "        0.0072715 , 0.00691988, 0.00790622, 0.00714486, 0.00711391,\n",
              "        0.00706713, 0.00711215, 0.00705745, 0.00700996, 0.00688081,\n",
              "        0.00694289, 0.00692391, 0.00690062, 0.00755885, 0.00679016,\n",
              "        0.00703251, 0.00737948, 0.00683506, 0.00676558, 0.00691633,\n",
              "        0.00700748, 0.00689845, 0.00704489, 0.00696094, 0.00721037,\n",
              "        0.00691547, 0.00714855, 0.00736833, 0.00702932, 0.00700283,\n",
              "        0.0067956 , 0.0067982 , 0.00692854, 0.00696843, 0.00681946,\n",
              "        0.00695419, 0.00680876, 0.00712748, 0.00684235, 0.00688171,\n",
              "        0.00676327, 0.00691111, 0.006971  , 0.00678589, 0.0068357 ,\n",
              "        0.00681148, 0.00796916, 0.00685651, 0.00705204, 0.00692286,\n",
              "        0.00690057, 0.0070044 , 0.00687768, 0.00686097, 0.00704675,\n",
              "        0.00692377, 0.00677769, 0.00777962, 0.00704377, 0.00702386,\n",
              "        0.00695848, 0.00676584, 0.0071548 , 0.00694652, 0.0070384 ,\n",
              "        0.00693181, 0.00700917, 0.00697231, 0.00783885, 0.00707338,\n",
              "        0.0071892 , 0.00681343, 0.00694981, 0.0069042 , 0.0071707 ,\n",
              "        0.00683606, 0.00687931, 0.00707514, 0.00708055, 0.00858612,\n",
              "        0.00728729, 0.00714333, 0.00716958, 0.0069777 , 0.00703514,\n",
              "        0.00696073, 0.00723372, 0.00686946, 0.00705121, 0.00703149,\n",
              "        0.0085341 , 0.00698307, 0.00700972, 0.00683801, 0.00706487]),\n",
              " 'mean_score_time': array([0.00174365, 0.00157325, 0.0015754 , 0.00152919, 0.00156357,\n",
              "        0.00178547, 0.00152652, 0.00202792, 0.00157268, 0.00154538,\n",
              "        0.00159097, 0.00159085, 0.00157728, 0.00152869, 0.00152864,\n",
              "        0.00153039, 0.00153964, 0.00154929, 0.00153589, 0.00149956,\n",
              "        0.0015754 , 0.00164454, 0.00151231, 0.00149426, 0.00152342,\n",
              "        0.00154927, 0.00155139, 0.00156093, 0.00156364, 0.00251739,\n",
              "        0.00151505, 0.00161591, 0.00166576, 0.00155694, 0.00154691,\n",
              "        0.00151052, 0.00151775, 0.0015794 , 0.00157175, 0.00153337,\n",
              "        0.0018182 , 0.00150511, 0.00157027, 0.00151262, 0.00153461,\n",
              "        0.00148909, 0.00152552, 0.00156934, 0.00150971, 0.00150347,\n",
              "        0.00151546, 0.00159187, 0.00152106, 0.00156674, 0.00152779,\n",
              "        0.00153391, 0.00156264, 0.00152104, 0.00151694, 0.00158415,\n",
              "        0.00151739, 0.00149999, 0.00168762, 0.00153344, 0.00154119,\n",
              "        0.00151498, 0.00151832, 0.00158238, 0.00153351, 0.00153308,\n",
              "        0.0015554 , 0.0015409 , 0.00154636, 0.00172877, 0.00154834,\n",
              "        0.00156507, 0.00151305, 0.00170684, 0.00151258, 0.00157416,\n",
              "        0.00150898, 0.00151188, 0.00155075, 0.00155814, 0.00204778,\n",
              "        0.00156488, 0.00155764, 0.00157783, 0.00153337, 0.00153556,\n",
              "        0.00153272, 0.00160468, 0.00150843, 0.00155828, 0.00159523,\n",
              "        0.00366585, 0.00160258, 0.00155182, 0.00153182, 0.00157247]),\n",
              " 'mean_test_score': array([-829.53208568, -829.44999908, -829.37270193, -829.2994964 ,\n",
              "        -829.23184972, -829.17423038, -829.12309889, -829.07822203,\n",
              "        -829.0403817 , -829.00990314, -828.98182276, -828.95635157,\n",
              "        -828.94338364, -828.94367417, -828.95023184, -828.95946466,\n",
              "        -828.97337163, -828.99180103, -829.015466  , -829.04667161,\n",
              "        -829.08560921, -829.12975153, -829.17587141, -829.22705754,\n",
              "        -829.28172014, -829.34109111, -829.40514495, -829.47318905,\n",
              "        -829.54619601, -829.62645665, -829.71348212, -829.80821648,\n",
              "        -829.91001455, -830.0163826 , -830.12838854, -830.24364509,\n",
              "        -830.36418845, -830.48919721, -830.61789759, -830.7519036 ,\n",
              "        -830.89247304, -831.03665666, -831.18302432, -831.33320474,\n",
              "        -831.4891418 , -831.64658953, -831.80485028, -831.96423143,\n",
              "        -832.12766922, -832.29267586, -832.4600784 , -832.63094437,\n",
              "        -832.80373124, -832.97915913, -833.15882389, -833.34010396,\n",
              "        -833.52119473, -833.70351346, -833.88879239, -834.0778368 ,\n",
              "        -834.26845344, -834.46149258, -834.65583159, -834.85100879,\n",
              "        -835.04730182, -835.24555627, -835.44572461, -835.64747198,\n",
              "        -835.84992681, -836.05317853, -836.25877603, -836.4676833 ,\n",
              "        -836.6794155 , -836.89045058, -837.10112603, -837.3149822 ,\n",
              "        -837.53162052, -837.74966871, -837.96762798, -838.18787696,\n",
              "        -838.41134407, -838.63740861, -838.86454945, -839.09540931,\n",
              "        -839.32709251, -839.5587007 , -839.79408791, -840.02917742,\n",
              "        -840.26456399, -840.50058132, -840.73631971, -840.97213277,\n",
              "        -841.20820744, -841.4443626 , -841.68246407, -841.92180326,\n",
              "        -842.16029126, -842.40066245, -842.64156032, -842.88505212]),\n",
              " 'param_alpha': masked_array(data=[1.0, 2.0, 3.0, 4.0, 5.0, 6.0, 7.0, 8.0, 9.0, 10.0,\n",
              "                    11.0, 12.0, 13.0, 14.0, 15.0, 16.0, 17.0, 18.0, 19.0,\n",
              "                    20.0, 21.0, 22.0, 23.0, 24.0, 25.0, 26.0, 27.0, 28.0,\n",
              "                    29.0, 30.0, 31.0, 32.0, 33.0, 34.0, 35.0, 36.0, 37.0,\n",
              "                    38.0, 39.0, 40.0, 41.0, 42.0, 43.0, 44.0, 45.0, 46.0,\n",
              "                    47.0, 48.0, 49.0, 50.0, 51.0, 52.0, 53.0, 54.0, 55.0,\n",
              "                    56.0, 57.0, 58.0, 59.0, 60.0, 61.0, 62.0, 63.0, 64.0,\n",
              "                    65.0, 66.0, 67.0, 68.0, 69.0, 70.0, 71.0, 72.0, 73.0,\n",
              "                    74.0, 75.0, 76.0, 77.0, 78.0, 79.0, 80.0, 81.0, 82.0,\n",
              "                    83.0, 84.0, 85.0, 86.0, 87.0, 88.0, 89.0, 90.0, 91.0,\n",
              "                    92.0, 93.0, 94.0, 95.0, 96.0, 97.0, 98.0, 99.0, 100.0],\n",
              "              mask=[False, False, False, False, False, False, False, False,\n",
              "                    False, False, False, False, False, False, False, False,\n",
              "                    False, False, False, False, False, False, False, False,\n",
              "                    False, False, False, False, False, False, False, False,\n",
              "                    False, False, False, False, False, False, False, False,\n",
              "                    False, False, False, False, False, False, False, False,\n",
              "                    False, False, False, False, False, False, False, False,\n",
              "                    False, False, False, False, False, False, False, False,\n",
              "                    False, False, False, False, False, False, False, False,\n",
              "                    False, False, False, False, False, False, False, False,\n",
              "                    False, False, False, False, False, False, False, False,\n",
              "                    False, False, False, False, False, False, False, False,\n",
              "                    False, False, False, False],\n",
              "        fill_value='?',\n",
              "             dtype=object),\n",
              " 'params': [{'alpha': 1.0},\n",
              "  {'alpha': 2.0},\n",
              "  {'alpha': 3.0},\n",
              "  {'alpha': 4.0},\n",
              "  {'alpha': 5.0},\n",
              "  {'alpha': 6.0},\n",
              "  {'alpha': 7.0},\n",
              "  {'alpha': 8.0},\n",
              "  {'alpha': 9.0},\n",
              "  {'alpha': 10.0},\n",
              "  {'alpha': 11.0},\n",
              "  {'alpha': 12.0},\n",
              "  {'alpha': 13.0},\n",
              "  {'alpha': 14.0},\n",
              "  {'alpha': 15.0},\n",
              "  {'alpha': 16.0},\n",
              "  {'alpha': 17.0},\n",
              "  {'alpha': 18.0},\n",
              "  {'alpha': 19.0},\n",
              "  {'alpha': 20.0},\n",
              "  {'alpha': 21.0},\n",
              "  {'alpha': 22.0},\n",
              "  {'alpha': 23.0},\n",
              "  {'alpha': 24.0},\n",
              "  {'alpha': 25.0},\n",
              "  {'alpha': 26.0},\n",
              "  {'alpha': 27.0},\n",
              "  {'alpha': 28.0},\n",
              "  {'alpha': 29.0},\n",
              "  {'alpha': 30.0},\n",
              "  {'alpha': 31.0},\n",
              "  {'alpha': 32.0},\n",
              "  {'alpha': 33.0},\n",
              "  {'alpha': 34.0},\n",
              "  {'alpha': 35.0},\n",
              "  {'alpha': 36.0},\n",
              "  {'alpha': 37.0},\n",
              "  {'alpha': 38.0},\n",
              "  {'alpha': 39.0},\n",
              "  {'alpha': 40.0},\n",
              "  {'alpha': 41.0},\n",
              "  {'alpha': 42.0},\n",
              "  {'alpha': 43.0},\n",
              "  {'alpha': 44.0},\n",
              "  {'alpha': 45.0},\n",
              "  {'alpha': 46.0},\n",
              "  {'alpha': 47.0},\n",
              "  {'alpha': 48.0},\n",
              "  {'alpha': 49.0},\n",
              "  {'alpha': 50.0},\n",
              "  {'alpha': 51.0},\n",
              "  {'alpha': 52.0},\n",
              "  {'alpha': 53.0},\n",
              "  {'alpha': 54.0},\n",
              "  {'alpha': 55.0},\n",
              "  {'alpha': 56.0},\n",
              "  {'alpha': 57.0},\n",
              "  {'alpha': 58.0},\n",
              "  {'alpha': 59.0},\n",
              "  {'alpha': 60.0},\n",
              "  {'alpha': 61.0},\n",
              "  {'alpha': 62.0},\n",
              "  {'alpha': 63.0},\n",
              "  {'alpha': 64.0},\n",
              "  {'alpha': 65.0},\n",
              "  {'alpha': 66.0},\n",
              "  {'alpha': 67.0},\n",
              "  {'alpha': 68.0},\n",
              "  {'alpha': 69.0},\n",
              "  {'alpha': 70.0},\n",
              "  {'alpha': 71.0},\n",
              "  {'alpha': 72.0},\n",
              "  {'alpha': 73.0},\n",
              "  {'alpha': 74.0},\n",
              "  {'alpha': 75.0},\n",
              "  {'alpha': 76.0},\n",
              "  {'alpha': 77.0},\n",
              "  {'alpha': 78.0},\n",
              "  {'alpha': 79.0},\n",
              "  {'alpha': 80.0},\n",
              "  {'alpha': 81.0},\n",
              "  {'alpha': 82.0},\n",
              "  {'alpha': 83.0},\n",
              "  {'alpha': 84.0},\n",
              "  {'alpha': 85.0},\n",
              "  {'alpha': 86.0},\n",
              "  {'alpha': 87.0},\n",
              "  {'alpha': 88.0},\n",
              "  {'alpha': 89.0},\n",
              "  {'alpha': 90.0},\n",
              "  {'alpha': 91.0},\n",
              "  {'alpha': 92.0},\n",
              "  {'alpha': 93.0},\n",
              "  {'alpha': 94.0},\n",
              "  {'alpha': 95.0},\n",
              "  {'alpha': 96.0},\n",
              "  {'alpha': 97.0},\n",
              "  {'alpha': 98.0},\n",
              "  {'alpha': 99.0},\n",
              "  {'alpha': 100.0}],\n",
              " 'rank_test_score': array([ 28,  26,  24,  22,  20,  17,  15,  13,  11,   9,   7,   4,   1,\n",
              "          2,   3,   5,   6,   8,  10,  12,  14,  16,  18,  19,  21,  23,\n",
              "         25,  27,  29,  30,  31,  32,  33,  34,  35,  36,  37,  38,  39,\n",
              "         40,  41,  42,  43,  44,  45,  46,  47,  48,  49,  50,  51,  52,\n",
              "         53,  54,  55,  56,  57,  58,  59,  60,  61,  62,  63,  64,  65,\n",
              "         66,  67,  68,  69,  70,  71,  72,  73,  74,  75,  76,  77,  78,\n",
              "         79,  80,  81,  82,  83,  84,  85,  86,  87,  88,  89,  90,  91,\n",
              "         92,  93,  94,  95,  96,  97,  98,  99, 100], dtype=int32),\n",
              " 'split0_test_score': array([-847.91214131, -847.67861866, -847.44846961, -847.22133901,\n",
              "        -846.99693822, -846.78507941, -846.5809717 , -846.37889279,\n",
              "        -846.18883163, -846.03650274, -845.89541921, -845.75554523,\n",
              "        -845.61680641, -845.47913726, -845.34628714, -845.22558003,\n",
              "        -845.10570929, -844.98663282, -844.8683127 , -844.75071466,\n",
              "        -844.63380759, -844.51756314, -844.40195542, -844.28696066,\n",
              "        -844.18112388, -844.08658691, -843.99496095, -843.90370108,\n",
              "        -843.81455216, -843.73216182, -843.65006082, -843.56824081,\n",
              "        -843.48669395, -843.40541284, -843.32439046, -843.25005184,\n",
              "        -843.18106789, -843.11226081, -843.04932149, -842.99664618,\n",
              "        -842.94404074, -842.89490484, -842.8515974 , -842.81220261,\n",
              "        -842.78484769, -842.75742004, -842.72991816, -842.70234067,\n",
              "        -842.67468637, -842.64695417, -842.62082944, -842.59921193,\n",
              "        -842.57747784, -842.55801426, -842.54526897, -842.53712735,\n",
              "        -842.5303365 , -842.53007179, -842.53096505, -842.53626431,\n",
              "        -842.54132021, -842.54613396, -842.55146338, -842.55836763,\n",
              "        -842.56501783, -842.57141546, -842.57756207, -842.58345919,\n",
              "        -842.58910839, -842.59451127, -842.59966943, -842.6045845 ,\n",
              "        -842.61753891, -842.63325033, -842.6486772 , -842.66382149,\n",
              "        -842.68545256, -842.71140271, -842.74075792, -842.77111283,\n",
              "        -842.80151748, -842.83811329, -842.87435648, -842.9102496 ,\n",
              "        -842.94579522, -842.98099586, -843.01585405, -843.05037231,\n",
              "        -843.0913966 , -843.14172909, -843.19186977, -843.24161016,\n",
              "        -843.29095327, -843.3399496 , -843.3928185 , -843.44528299,\n",
              "        -843.49974583, -843.56039978, -843.62061943, -843.680408  ]),\n",
              " 'split1_test_score': array([-855.58393824, -855.5279334 , -855.47513772, -855.42130117,\n",
              "        -855.37027202, -855.33411454, -855.2974861 , -855.26052774,\n",
              "        -855.2338515 , -855.2188002 , -855.20410957, -855.18931056,\n",
              "        -855.18398956, -855.20732344, -855.23044377, -855.25485687,\n",
              "        -855.27986981, -855.30717124, -855.34008875, -855.37284603,\n",
              "        -855.40545033, -855.43790752, -855.47022237, -855.50724627,\n",
              "        -855.55170035, -855.59595814, -855.64144111, -855.70054859,\n",
              "        -855.76616757, -855.83472759, -855.91851732, -856.01388555,\n",
              "        -856.12291184, -856.23143067, -856.34445734, -856.4595293 ,\n",
              "        -856.58385926, -856.72040232, -856.86826385, -857.01541938,\n",
              "        -857.16304251, -857.31326844, -857.46277698, -857.61157242,\n",
              "        -857.75965907, -857.90704119, -858.05372305, -858.20402865,\n",
              "        -858.37231995, -858.54531193, -858.72284141, -858.9074383 ,\n",
              "        -859.10237054, -859.29953432, -859.50272535, -859.71047085,\n",
              "        -859.92282468, -860.14216828, -860.36046257, -860.57771477,\n",
              "        -860.79503844, -861.02736222, -861.27762031, -861.52669172,\n",
              "        -861.77458483, -862.02130793, -862.26762476, -862.5138588 ,\n",
              "        -862.7589379 , -863.00439856, -863.25350249, -863.50145931,\n",
              "        -863.74827701, -863.99396349, -864.23852659, -864.48273776,\n",
              "        -864.74072159, -864.9975964 , -865.25774962, -865.5251082 ,\n",
              "        -865.80080083, -866.07737278, -866.35797835, -866.65372762,\n",
              "        -866.94950355, -867.24397183, -867.5371414 , -867.82902112,\n",
              "        -868.11961977, -868.40894606, -868.69758738, -868.99086618,\n",
              "        -869.28288441, -869.57365053, -869.86490734, -870.16277343,\n",
              "        -870.45936849, -870.75470099, -871.04877937, -871.34161198]),\n",
              " 'split2_test_score': array([-862.90334349, -863.06846743, -863.23172419, -863.40886297,\n",
              "        -863.59524039, -863.78647682, -863.97320924, -864.1558293 ,\n",
              "        -864.33467564, -864.51004315, -864.6821903 , -864.8513449 ,\n",
              "        -865.03851646, -865.2343081 , -865.42739997, -865.6179468 ,\n",
              "        -865.80608785, -865.99194891, -866.17564404, -866.3581074 ,\n",
              "        -866.5532389 , -866.74689576, -866.93866905, -867.12863214,\n",
              "        -867.31685273, -867.50730784, -867.70526258, -867.90398638,\n",
              "        -868.10639102, -868.31239632, -868.52112937, -868.73247659,\n",
              "        -868.95258287, -869.17753887, -869.4148852 , -869.65465184,\n",
              "        -869.90117155, -870.15596653, -870.42183652, -870.70594669,\n",
              "        -870.98836788, -871.26912735, -871.54825121, -871.82934678,\n",
              "        -872.11446386, -872.39796683, -872.67987834, -872.96095608,\n",
              "        -873.24522005, -873.53465712, -873.82262125, -874.10912775,\n",
              "        -874.39419149, -874.67782699, -874.96004838, -875.24086945,\n",
              "        -875.52030366, -875.79836417, -876.07506381, -876.35306576,\n",
              "        -876.63302248, -876.91386265, -877.19334578, -877.47148385,\n",
              "        -877.74828861, -878.02396522, -878.30622616, -878.58714417,\n",
              "        -878.86673052, -879.14517837, -879.42946901, -879.71237432,\n",
              "        -879.99390683, -880.27407886, -880.55290249, -880.83621272,\n",
              "        -881.12132935, -881.4050858 , -881.6874937 , -881.96856446,\n",
              "        -882.24830931, -882.5267393 , -882.8038653 , -883.079698  ,\n",
              "        -883.35424796, -883.62752553, -883.89954094, -884.17030426,\n",
              "        -884.43982541, -884.70811417, -884.97518018, -885.24103293,\n",
              "        -885.50568181, -885.76913606, -886.03140479, -886.29249701,\n",
              "        -886.55242159, -886.82125162, -887.09636605, -887.37026607]),\n",
              " 'split3_test_score': array([-829.80675866, -829.77600578, -829.74923033, -829.72953113,\n",
              "        -829.72958399, -829.74022501, -829.75366155, -829.77074123,\n",
              "        -829.80722338, -829.84378326, -829.87990528, -829.9156154 ,\n",
              "        -829.95632473, -830.01273636, -830.06869444, -830.12421638,\n",
              "        -830.17931787, -830.23401314, -830.28831508, -830.34223543,\n",
              "        -830.40751982, -830.48099761, -830.55403602, -830.63190764,\n",
              "        -830.71236655, -830.79237909, -830.87195269, -830.95297804,\n",
              "        -831.03911417, -831.12480821, -831.21703268, -831.31592325,\n",
              "        -831.41528767, -831.52993631, -831.65743756, -831.79844581,\n",
              "        -831.9387627 , -832.08051159, -832.22682362, -832.37242317,\n",
              "        -832.51731654, -832.66150992, -832.8133045 , -832.97272917,\n",
              "        -833.14190955, -833.31322474, -833.4913567 , -833.66863332,\n",
              "        -833.84506138, -834.02064756, -834.19539839, -834.36932034,\n",
              "        -834.54241973, -834.71470283, -834.88617577, -835.05684464,\n",
              "        -835.22671539, -835.39818465, -835.5775816 , -835.7569762 ,\n",
              "        -835.93552363, -836.12016992, -836.30497102, -836.48891706,\n",
              "        -836.67201432, -836.85426898, -837.03568717, -837.21627493,\n",
              "        -837.39603822, -837.57498296, -837.75587451, -837.95080858,\n",
              "        -838.15277725, -838.35384367, -838.55401419, -838.76444359,\n",
              "        -838.98429533, -839.20644066, -839.42760675, -839.66027412,\n",
              "        -839.89204361, -840.12605361, -840.36236138, -840.5976374 ,\n",
              "        -840.83643797, -841.07632645, -841.3207197 , -841.56406774,\n",
              "        -841.80637758, -842.04765622, -842.28791053, -842.52714738,\n",
              "        -842.76537352, -843.00259567, -843.24075936, -843.48100918,\n",
              "        -843.72025648, -843.95850782, -844.19897265, -844.45091842]),\n",
              " 'split4_test_score': array([-768.4307885 , -768.49130319, -768.5745453 , -768.66449189,\n",
              "        -768.75682248, -768.85609986, -768.95983683, -769.06493011,\n",
              "        -769.17115788, -769.27833042, -769.38628434, -769.49610461,\n",
              "        -769.62467538, -769.7805153 , -769.93642936, -770.09382894,\n",
              "        -770.26152098, -770.43203078, -770.60873069, -770.79599499,\n",
              "        -770.98616493, -771.17579066, -771.36483689, -771.55879164,\n",
              "        -771.75402221, -771.94854857, -772.14838199, -772.35990547,\n",
              "        -772.57253204, -772.78556263, -773.00474402, -773.22298979,\n",
              "        -773.4475653 , -773.67807263, -773.91550169, -774.15186078,\n",
              "        -774.38714656, -774.62740881, -774.86749063, -775.10652083,\n",
              "        -775.35538346, -775.60700429, -775.85743734, -776.10668465,\n",
              "        -776.35474868, -776.60163227, -776.84733864, -777.09314328,\n",
              "        -777.34388753, -777.59641698, -777.85825968, -778.12511378,\n",
              "        -778.39644703, -778.68823423, -778.996213  , -779.30269689,\n",
              "        -779.60769405, -779.91121271, -780.22117062, -780.54059221,\n",
              "        -780.864018  , -781.18588282, -781.50619603, -781.82496699,\n",
              "        -782.14220509, -782.45791971, -782.77929667, -783.10703667,\n",
              "        -783.44414571, -783.78064914, -784.12323361, -784.47153143,\n",
              "        -784.82492327, -785.17702539, -785.53170522, -785.89489365,\n",
              "        -786.25636876, -786.62154073, -786.98648465, -787.34971764,\n",
              "        -787.71554314, -788.08552815, -788.45546664, -788.83236608,\n",
              "        -789.2075156 , -789.58310628, -789.97034536, -790.36047932,\n",
              "        -790.7488198 , -791.13876694, -791.53159792, -791.92628288,\n",
              "        -792.32343044, -792.71878166, -793.11234843, -793.50414255,\n",
              "        -793.89417575, -794.28245964, -794.66900575, -795.05382553]),\n",
              " 'split5_test_score': array([-805.45339102, -805.39116777, -805.33053503, -805.27132547,\n",
              "        -805.21781384, -805.21033844, -805.23842078, -805.28077367,\n",
              "        -805.33107716, -805.38289993, -805.4349691 , -805.48722184,\n",
              "        -805.55249994, -805.62448532, -805.69640557, -805.76926559,\n",
              "        -805.85722527, -805.95316233, -806.05228413, -806.16995484,\n",
              "        -806.29990537, -806.43100344, -806.5621126 , -806.69264052,\n",
              "        -806.8257669 , -806.96875109, -807.1276984 , -807.28585763,\n",
              "        -807.44322247, -807.59978773, -807.7588003 , -807.93235154,\n",
              "        -808.11581848, -808.30585632, -808.5131622 , -808.72258155,\n",
              "        -808.9378534 , -809.1519836 , -809.37085279, -809.60422606,\n",
              "        -809.86567509, -810.12859944, -810.39381032, -810.65758114,\n",
              "        -810.92203255, -811.19261584, -811.46172625, -811.73791864,\n",
              "        -812.01649764, -812.29735027, -812.586663  , -812.87761125,\n",
              "        -813.17408858, -813.47696122, -813.78558889, -814.09259426,\n",
              "        -814.39798798, -814.70418101, -815.02696459, -815.35738386,\n",
              "        -815.68608737, -816.01308685, -816.33839399, -816.66338819,\n",
              "        -816.99620984, -817.32883922, -817.66490591, -817.99926119,\n",
              "        -818.33665467, -818.68220803, -819.03079414, -819.39355543,\n",
              "        -819.75452451, -820.11371404, -820.47298188, -820.83293119,\n",
              "        -821.19393242, -821.55831325, -821.92090666, -822.28292058,\n",
              "        -822.64918024, -823.0136564 , -823.37744474, -823.75500296,\n",
              "        -824.13576381, -824.51735678, -824.91030302, -825.30136473,\n",
              "        -825.69055517, -826.07788745, -826.46337458, -826.84702946,\n",
              "        -827.22886489, -827.60889354, -827.99093476, -828.37653886,\n",
              "        -828.76032883, -829.15121812, -829.54046764, -829.92789448]),\n",
              " 'split6_test_score': array([-837.16664537, -837.00510798, -836.84732746, -836.6929129 ,\n",
              "        -836.53822687, -836.38339242, -836.22851407, -836.0804272 ,\n",
              "        -835.93739772, -835.80971723, -835.68351259, -835.56362696,\n",
              "        -835.49550884, -835.43807106, -835.4099289 , -835.38413063,\n",
              "        -835.3580726 , -835.34463451, -835.35159091, -835.37499998,\n",
              "        -835.41840011, -835.49430162, -835.57717802, -835.69018941,\n",
              "        -835.80537373, -835.91970581, -836.03320373, -836.14588456,\n",
              "        -836.25776441, -836.38677601, -836.52138218, -836.66144101,\n",
              "        -836.81507285, -836.9677143 , -837.11937941, -837.27008171,\n",
              "        -837.42917903, -837.5900698 , -837.74999178, -837.90895683,\n",
              "        -838.06718558, -838.22700437, -838.38588036, -838.54382412,\n",
              "        -838.7164554 , -838.88856354, -839.05968394, -839.22982676,\n",
              "        -839.3990019 , -839.56721901, -839.73448753, -839.90539877,\n",
              "        -840.07589947, -840.24544091, -840.4152962 , -840.58563763,\n",
              "        -840.75503607, -840.92549708, -841.09673617, -841.26703761,\n",
              "        -841.43640964, -841.60486038, -841.77239778, -841.93902969,\n",
              "        -842.10476379, -842.2719787 , -842.44083237, -842.6087997 ,\n",
              "        -842.77588797, -842.94210435, -843.10745591, -843.2719496 ,\n",
              "        -843.43559229, -843.59839075, -843.76035163, -843.92148152,\n",
              "        -844.08178691, -844.2412742 , -844.39994971, -844.5591713 ,\n",
              "        -844.7358117 , -844.91159786, -845.08651601, -845.26057264,\n",
              "        -845.44201354, -845.6233321 , -845.80377836, -845.98335871,\n",
              "        -846.16918543, -846.35827785, -846.54839383, -846.73955196,\n",
              "        -846.93498972, -847.14112516, -847.3589588 , -847.58039899,\n",
              "        -847.80083357, -848.02438522, -848.25080192, -848.4961638 ]),\n",
              " 'split7_test_score': array([-856.03493538, -855.71976555, -855.4101587 , -855.10761618,\n",
              "        -854.8185709 , -854.53409208, -854.25391438, -853.9891729 ,\n",
              "        -853.74215336, -853.50459582, -853.28009997, -853.06365719,\n",
              "        -852.85122196, -852.64750302, -852.45769352, -852.27007723,\n",
              "        -852.09703436, -851.93311713, -851.77789549, -851.63298017,\n",
              "        -851.49178023, -851.35212432, -851.22303779, -851.10182128,\n",
              "        -850.99190303, -850.88587059, -850.78094146, -850.67707324,\n",
              "        -850.58101394, -850.50147421, -850.43169469, -850.38241467,\n",
              "        -850.3340253 , -850.29396652, -850.25441829, -850.22158007,\n",
              "        -850.20278364, -850.18501068, -850.16757845, -850.15046707,\n",
              "        -850.15081283, -850.16654   , -850.18238493, -850.19833285,\n",
              "        -850.21436987, -850.23385685, -850.26219465, -850.29519814,\n",
              "        -850.34028567, -850.38804527, -850.43567695, -850.48317282,\n",
              "        -850.53052546, -850.57772796, -850.62640842, -850.6845625 ,\n",
              "        -850.74248623, -850.80017491, -850.85858163, -850.92839982,\n",
              "        -851.01139127, -851.10266872, -851.19351688, -851.28393424,\n",
              "        -851.37391948, -851.46347153, -851.5525895 , -851.64127267,\n",
              "        -851.73096064, -851.82564374, -851.92622196, -852.03027105,\n",
              "        -852.14401874, -852.25719873, -852.36981234, -852.48186097,\n",
              "        -852.59360222, -852.71090134, -852.82763179, -852.94379527,\n",
              "        -853.05939351, -853.18073513, -853.30774042, -853.43880965,\n",
              "        -853.56924857, -853.69905981, -853.83088723, -853.96544462,\n",
              "        -854.09935823, -854.23263097, -854.36526578, -854.49726565,\n",
              "        -854.62863356, -854.75937253, -854.89538025, -855.03309329,\n",
              "        -855.17014543, -855.30654005, -855.44228054, -855.57737028]),\n",
              " 'split8_test_score': array([-802.06596037, -801.84466559, -801.62245154, -801.39961449,\n",
              "        -801.17639167, -800.95297509, -800.74433867, -800.55305474,\n",
              "        -800.36177147, -800.17058123, -799.97956175, -799.8002184 ,\n",
              "        -799.6244345 , -799.4658292 , -799.31473917, -799.17280866,\n",
              "        -799.03436189, -798.89613626, -798.75815461, -798.62946013,\n",
              "        -798.51176003, -798.39422536, -798.27687035, -798.15970758,\n",
              "        -798.04274812, -797.94112785, -797.84955405, -797.7708337 ,\n",
              "        -797.69486142, -797.63370408, -797.58162775, -797.54547405,\n",
              "        -797.52666188, -797.51439368, -797.50535152, -797.49795039,\n",
              "        -797.49611051, -797.51076036, -797.52497554, -797.54065052,\n",
              "        -797.56984648, -797.61092705, -797.65563212, -797.7232044 ,\n",
              "        -797.80705894, -797.89015327, -797.97249646, -798.05409732,\n",
              "        -798.13496442, -798.2151061 , -798.29630461, -798.39137533,\n",
              "        -798.48905508, -798.58595386, -798.68207971, -798.77744048,\n",
              "        -798.87204387, -798.96589742, -799.05900852, -799.15839147,\n",
              "        -799.25887989, -799.35860173, -799.45756423, -799.5558843 ,\n",
              "        -799.66491929, -799.79853311, -799.9344023 , -800.0757539 ,\n",
              "        -800.21616505, -800.35564402, -800.49419897, -800.63183794,\n",
              "        -800.76856885, -800.90439951, -801.03933765, -801.17339086,\n",
              "        -801.30656666, -801.43887246, -801.57031557, -801.70090321,\n",
              "        -801.83439643, -801.97226137, -802.10925536, -802.24538551,\n",
              "        -802.3806588 , -802.51752794, -802.66746679, -802.8165026 ,\n",
              "        -802.96464252, -803.11189362, -803.25826289, -803.40375726,\n",
              "        -803.54838355, -803.69214853, -803.83505889, -803.97712124,\n",
              "        -804.11834213, -804.25872803, -804.39828535, -804.53702041]),\n",
              " 'split9_test_score': array([-829.96295449, -829.99695544, -830.03743939, -830.07796874,\n",
              "        -830.11863679, -830.15951014, -830.20063554, -830.24787066,\n",
              "        -830.29567722, -830.34377745, -830.39217544, -830.44087058,\n",
              "        -830.48985865, -830.5468326 , -830.61429658, -830.68193551,\n",
              "        -830.75451636, -830.83916316, -830.93364361, -831.03942251,\n",
              "        -831.14806482, -831.26670587, -831.3897956 , -831.51267822,\n",
              "        -831.63534393, -831.76467526, -831.89805255, -832.03112184,\n",
              "        -832.18634089, -832.3531679 , -832.52983211, -832.70696757,\n",
              "        -832.88352533, -833.05950389, -833.23490178, -833.40971757,\n",
              "        -833.58394994, -833.75759764, -833.93184124, -834.11777929,\n",
              "        -834.30305928, -834.48768094, -834.67916801, -834.87656924,\n",
              "        -835.07587236, -835.28342072, -835.49018664, -835.69617143,\n",
              "        -835.90476726, -836.11505022, -836.3277017 , -836.54167342,\n",
              "        -836.75483715, -836.96719472, -837.18843419, -837.41279556,\n",
              "        -837.63651888, -837.85938256, -838.08138934, -838.302542  ,\n",
              "        -838.52284344, -838.74229657, -838.96284649, -839.1974242 ,\n",
              "        -839.43109512, -839.66386287, -839.89811916, -840.14185857,\n",
              "        -840.38463905, -840.62646486, -840.86734029, -841.10846084,\n",
              "        -841.35402731, -841.59864106, -841.84295112, -842.09804824,\n",
              "        -842.35214942, -842.60525954, -842.85738348, -843.11720201,\n",
              "        -843.37644444, -843.6420282 , -843.91050987, -844.18064363,\n",
              "        -844.44974003, -844.71780445, -844.98484224, -845.25085876,\n",
              "        -845.51585933, -845.77991084, -846.04375427, -846.30678387,\n",
              "        -846.57287927, -846.83797273, -847.10206957, -847.36517508,\n",
              "        -847.62729454, -847.8884332 , -848.15002448, -848.4150422 ]),\n",
              " 'std_fit_time': array([2.41622930e-03, 1.75875838e-04, 2.67469179e-04, 6.66413153e-05,\n",
              "        1.91450607e-04, 2.86528557e-04, 5.02580992e-05, 1.66504373e-03,\n",
              "        2.43352363e-04, 2.32994182e-04, 1.99265708e-04, 3.17390980e-04,\n",
              "        2.70701791e-04, 2.13143928e-04, 8.11206243e-05, 1.25675551e-04,\n",
              "        8.93468655e-05, 1.85500994e-04, 1.98694762e-03, 5.20372240e-05,\n",
              "        2.22880091e-04, 1.98935891e-04, 1.55705004e-04, 1.08515370e-04,\n",
              "        1.63851156e-04, 1.89108328e-04, 1.99322233e-04, 2.00053965e-04,\n",
              "        1.43047136e-04, 4.13916383e-04, 1.38195364e-04, 2.16778133e-04,\n",
              "        4.31291170e-04, 1.99641885e-04, 2.12214581e-04, 5.44314159e-05,\n",
              "        9.10625429e-05, 1.81058252e-04, 2.59330948e-04, 1.66691060e-04,\n",
              "        4.61985029e-04, 4.19085340e-05, 2.30848949e-04, 1.67960041e-04,\n",
              "        3.25670057e-04, 1.20307999e-04, 1.71448226e-04, 2.36174278e-04,\n",
              "        8.79671155e-05, 2.39400439e-04, 1.55691210e-04, 3.07088718e-03,\n",
              "        7.94170140e-05, 3.24874220e-04, 1.68796960e-04, 2.02260992e-04,\n",
              "        2.98905482e-04, 1.44637391e-04, 6.49635286e-05, 2.27494151e-04,\n",
              "        1.84249384e-04, 8.53124210e-05, 1.84338939e-03, 2.77760900e-04,\n",
              "        1.99770693e-04, 1.97029148e-04, 1.78578540e-04, 2.65143954e-04,\n",
              "        4.88953203e-05, 2.05692921e-04, 7.98823540e-05, 1.76438003e-04,\n",
              "        2.04610680e-04, 1.79506391e-03, 3.31932858e-04, 3.84029340e-04,\n",
              "        6.13742587e-05, 2.11015911e-04, 1.19536097e-04, 2.48282598e-04,\n",
              "        9.40176845e-05, 1.56780528e-04, 2.94404839e-04, 1.62055092e-04,\n",
              "        1.87421103e-03, 1.95990120e-04, 2.93762768e-04, 3.18707131e-04,\n",
              "        1.52888865e-04, 8.57958624e-05, 5.75328485e-05, 3.54777616e-04,\n",
              "        1.17194759e-04, 2.50998978e-04, 1.68181209e-04, 1.94120188e-03,\n",
              "        2.78681815e-04, 2.40507853e-04, 9.02201893e-05, 2.59629005e-04]),\n",
              " 'std_score_time': array([2.02200749e-04, 4.89312590e-05, 5.76667518e-05, 1.61641643e-05,\n",
              "        6.44961213e-05, 4.90240011e-04, 1.87719016e-05, 1.25062921e-03,\n",
              "        8.39895595e-05, 2.47613047e-05, 6.85044249e-05, 7.63200365e-05,\n",
              "        7.13318108e-05, 3.59604143e-05, 2.76426165e-05, 5.54148021e-05,\n",
              "        4.63165815e-05, 6.74098166e-05, 9.84013873e-05, 1.22214582e-05,\n",
              "        7.48193096e-05, 7.98440328e-05, 4.96154104e-05, 1.37620194e-05,\n",
              "        4.68182765e-05, 6.76541401e-05, 6.48906874e-05, 6.12798829e-05,\n",
              "        6.62057271e-05, 2.83213463e-03, 3.35671346e-05, 6.32842317e-05,\n",
              "        1.40603385e-04, 6.79191765e-05, 5.25525388e-05, 2.53175835e-05,\n",
              "        4.13833739e-05, 3.69756779e-05, 7.46046136e-05, 7.94464369e-05,\n",
              "        6.77114376e-04, 2.35162072e-05, 9.06652159e-05, 6.04359073e-05,\n",
              "        1.01036224e-04, 2.01984444e-05, 4.51686185e-05, 6.32450435e-05,\n",
              "        1.57514406e-05, 2.69944165e-05, 3.72023220e-05, 1.92435426e-04,\n",
              "        3.12499007e-05, 9.08771563e-05, 4.45747110e-05, 5.20614742e-05,\n",
              "        9.08749421e-05, 5.63446260e-05, 3.14915205e-05, 4.62522457e-05,\n",
              "        1.87282916e-05, 2.43040115e-05, 4.33945226e-04, 3.50840129e-05,\n",
              "        4.36564926e-05, 3.04392558e-05, 5.30498269e-05, 6.94344328e-05,\n",
              "        1.74472885e-05, 5.01744862e-05, 4.10003433e-05, 5.35582808e-05,\n",
              "        5.27536275e-05, 4.87645744e-04, 4.90852613e-05, 7.11185637e-05,\n",
              "        2.89455866e-05, 5.71417585e-04, 2.84064106e-05, 7.07845649e-05,\n",
              "        1.70949446e-05, 2.50391841e-05, 3.40801909e-05, 6.20463957e-05,\n",
              "        5.51086482e-04, 5.20634559e-05, 5.55912989e-05, 7.34113570e-05,\n",
              "        1.27909735e-05, 1.79186116e-05, 3.48056912e-05, 8.45467546e-05,\n",
              "        1.25276656e-05, 5.95628067e-05, 7.50519912e-05, 2.58346351e-03,\n",
              "        1.17682505e-04, 6.80435765e-05, 3.18585483e-05, 7.37143209e-05]),\n",
              " 'std_test_score': array([28.21108832, 28.19037565, 28.16633591, 28.14402743, 28.12430844,\n",
              "        28.10312992, 28.07749908, 28.05048628, 28.02620615, 28.00638478,\n",
              "        27.98843072, 27.96993916, 27.95139911, 27.93023435, 27.91065069,\n",
              "        27.89095964, 27.8689972 , 27.8473288 , 27.82608652, 27.80172393,\n",
              "        27.7775803 , 27.75473737, 27.73329506, 27.71292562, 27.69445979,\n",
              "        27.67530797, 27.65448205, 27.63176937, 27.61107887, 27.59201369,\n",
              "        27.57371031, 27.55619628, 27.53791694, 27.51885771, 27.49933489,\n",
              "        27.48148784, 27.46647824, 27.451459  , 27.43955087, 27.43015611,\n",
              "        27.416397  , 27.40220054, 27.38807812, 27.37237501, 27.35672557,\n",
              "        27.34132931, 27.32701864, 27.3130888 , 27.30144276, 27.29110724,\n",
              "        27.2787779 , 27.26467222, 27.25002995, 27.23133003, 27.21029182,\n",
              "        27.1911812 , 27.17316348, 27.15653018, 27.13774505, 27.11703674,\n",
              "        27.09695474, 27.07986472, 27.06518362, 27.05115885, 27.03546875,\n",
              "        27.01691491, 26.99810847, 26.97768025, 26.95539402, 26.93328509,\n",
              "        26.91190718, 26.88894201, 26.86611548, 26.84379715, 26.82106912,\n",
              "        26.79804353, 26.77760564, 26.75679646, 26.73674341, 26.7182726 ,\n",
              "        26.70005161, 26.68133103, 26.66370593, 26.64604299, 26.62897172,\n",
              "        26.61155248, 26.58963859, 26.56757963, 26.54630485, 26.52512354,\n",
              "        26.50371675, 26.48282681, 26.46187006, 26.44168953, 26.42261968,\n",
              "        26.40485155, 26.38759856, 26.37220517, 26.35868328, 26.34623426])}"
            ]
          },
          "metadata": {
            "tags": []
          },
          "execution_count": 109
        }
      ]
    },
    {
      "cell_type": "code",
      "metadata": {
        "id": "oCAVxDaQSve4"
      },
      "source": [
        "def report(results, n_top=3):\n",
        "    for i in range(1, n_top + 1):\n",
        "        candidates = np.flatnonzero(results['rank_test_score'] == i)\n",
        "        for candidate in candidates:\n",
        "            print(\"Model with rank: {0}\".format(i))\n",
        "            print(\"Mean validation score: {0:.3f} (std: {1:.3f})\".format(\n",
        "                  results['mean_test_score'][candidate],\n",
        "                  results['std_test_score'][candidate]))\n",
        "            print(\"Parameters: {0}\".format(results['params'][candidate]))\n",
        "            print(\"\")"
      ],
      "execution_count": null,
      "outputs": []
    },
    {
      "cell_type": "code",
      "metadata": {
        "id": "1jRMoO6ZSvMW",
        "colab": {
          "base_uri": "https://localhost:8080/",
          "height": 1000
        },
        "outputId": "a71567da-9198-4aec-a5f3-05006405d3c8"
      },
      "source": [
        "report(grid_search.cv_results_,100)"
      ],
      "execution_count": null,
      "outputs": [
        {
          "output_type": "stream",
          "text": [
            "Model with rank: 1\n",
            "Mean validation score: -828.943 (std: 27.951)\n",
            "Parameters: {'alpha': 13.0}\n",
            "\n",
            "Model with rank: 2\n",
            "Mean validation score: -828.944 (std: 27.930)\n",
            "Parameters: {'alpha': 14.0}\n",
            "\n",
            "Model with rank: 3\n",
            "Mean validation score: -828.950 (std: 27.911)\n",
            "Parameters: {'alpha': 15.0}\n",
            "\n",
            "Model with rank: 4\n",
            "Mean validation score: -828.956 (std: 27.970)\n",
            "Parameters: {'alpha': 12.0}\n",
            "\n",
            "Model with rank: 5\n",
            "Mean validation score: -828.959 (std: 27.891)\n",
            "Parameters: {'alpha': 16.0}\n",
            "\n",
            "Model with rank: 6\n",
            "Mean validation score: -828.973 (std: 27.869)\n",
            "Parameters: {'alpha': 17.0}\n",
            "\n",
            "Model with rank: 7\n",
            "Mean validation score: -828.982 (std: 27.988)\n",
            "Parameters: {'alpha': 11.0}\n",
            "\n",
            "Model with rank: 8\n",
            "Mean validation score: -828.992 (std: 27.847)\n",
            "Parameters: {'alpha': 18.0}\n",
            "\n",
            "Model with rank: 9\n",
            "Mean validation score: -829.010 (std: 28.006)\n",
            "Parameters: {'alpha': 10.0}\n",
            "\n",
            "Model with rank: 10\n",
            "Mean validation score: -829.015 (std: 27.826)\n",
            "Parameters: {'alpha': 19.0}\n",
            "\n",
            "Model with rank: 11\n",
            "Mean validation score: -829.040 (std: 28.026)\n",
            "Parameters: {'alpha': 9.0}\n",
            "\n",
            "Model with rank: 12\n",
            "Mean validation score: -829.047 (std: 27.802)\n",
            "Parameters: {'alpha': 20.0}\n",
            "\n",
            "Model with rank: 13\n",
            "Mean validation score: -829.078 (std: 28.050)\n",
            "Parameters: {'alpha': 8.0}\n",
            "\n",
            "Model with rank: 14\n",
            "Mean validation score: -829.086 (std: 27.778)\n",
            "Parameters: {'alpha': 21.0}\n",
            "\n",
            "Model with rank: 15\n",
            "Mean validation score: -829.123 (std: 28.077)\n",
            "Parameters: {'alpha': 7.0}\n",
            "\n",
            "Model with rank: 16\n",
            "Mean validation score: -829.130 (std: 27.755)\n",
            "Parameters: {'alpha': 22.0}\n",
            "\n",
            "Model with rank: 17\n",
            "Mean validation score: -829.174 (std: 28.103)\n",
            "Parameters: {'alpha': 6.0}\n",
            "\n",
            "Model with rank: 18\n",
            "Mean validation score: -829.176 (std: 27.733)\n",
            "Parameters: {'alpha': 23.0}\n",
            "\n",
            "Model with rank: 19\n",
            "Mean validation score: -829.227 (std: 27.713)\n",
            "Parameters: {'alpha': 24.0}\n",
            "\n",
            "Model with rank: 20\n",
            "Mean validation score: -829.232 (std: 28.124)\n",
            "Parameters: {'alpha': 5.0}\n",
            "\n",
            "Model with rank: 21\n",
            "Mean validation score: -829.282 (std: 27.694)\n",
            "Parameters: {'alpha': 25.0}\n",
            "\n",
            "Model with rank: 22\n",
            "Mean validation score: -829.299 (std: 28.144)\n",
            "Parameters: {'alpha': 4.0}\n",
            "\n",
            "Model with rank: 23\n",
            "Mean validation score: -829.341 (std: 27.675)\n",
            "Parameters: {'alpha': 26.0}\n",
            "\n",
            "Model with rank: 24\n",
            "Mean validation score: -829.373 (std: 28.166)\n",
            "Parameters: {'alpha': 3.0}\n",
            "\n",
            "Model with rank: 25\n",
            "Mean validation score: -829.405 (std: 27.654)\n",
            "Parameters: {'alpha': 27.0}\n",
            "\n",
            "Model with rank: 26\n",
            "Mean validation score: -829.450 (std: 28.190)\n",
            "Parameters: {'alpha': 2.0}\n",
            "\n",
            "Model with rank: 27\n",
            "Mean validation score: -829.473 (std: 27.632)\n",
            "Parameters: {'alpha': 28.0}\n",
            "\n",
            "Model with rank: 28\n",
            "Mean validation score: -829.532 (std: 28.211)\n",
            "Parameters: {'alpha': 1.0}\n",
            "\n",
            "Model with rank: 29\n",
            "Mean validation score: -829.546 (std: 27.611)\n",
            "Parameters: {'alpha': 29.0}\n",
            "\n",
            "Model with rank: 30\n",
            "Mean validation score: -829.626 (std: 27.592)\n",
            "Parameters: {'alpha': 30.0}\n",
            "\n",
            "Model with rank: 31\n",
            "Mean validation score: -829.713 (std: 27.574)\n",
            "Parameters: {'alpha': 31.0}\n",
            "\n",
            "Model with rank: 32\n",
            "Mean validation score: -829.808 (std: 27.556)\n",
            "Parameters: {'alpha': 32.0}\n",
            "\n",
            "Model with rank: 33\n",
            "Mean validation score: -829.910 (std: 27.538)\n",
            "Parameters: {'alpha': 33.0}\n",
            "\n",
            "Model with rank: 34\n",
            "Mean validation score: -830.016 (std: 27.519)\n",
            "Parameters: {'alpha': 34.0}\n",
            "\n",
            "Model with rank: 35\n",
            "Mean validation score: -830.128 (std: 27.499)\n",
            "Parameters: {'alpha': 35.0}\n",
            "\n",
            "Model with rank: 36\n",
            "Mean validation score: -830.244 (std: 27.481)\n",
            "Parameters: {'alpha': 36.0}\n",
            "\n",
            "Model with rank: 37\n",
            "Mean validation score: -830.364 (std: 27.466)\n",
            "Parameters: {'alpha': 37.0}\n",
            "\n",
            "Model with rank: 38\n",
            "Mean validation score: -830.489 (std: 27.451)\n",
            "Parameters: {'alpha': 38.0}\n",
            "\n",
            "Model with rank: 39\n",
            "Mean validation score: -830.618 (std: 27.440)\n",
            "Parameters: {'alpha': 39.0}\n",
            "\n",
            "Model with rank: 40\n",
            "Mean validation score: -830.752 (std: 27.430)\n",
            "Parameters: {'alpha': 40.0}\n",
            "\n",
            "Model with rank: 41\n",
            "Mean validation score: -830.892 (std: 27.416)\n",
            "Parameters: {'alpha': 41.0}\n",
            "\n",
            "Model with rank: 42\n",
            "Mean validation score: -831.037 (std: 27.402)\n",
            "Parameters: {'alpha': 42.0}\n",
            "\n",
            "Model with rank: 43\n",
            "Mean validation score: -831.183 (std: 27.388)\n",
            "Parameters: {'alpha': 43.0}\n",
            "\n",
            "Model with rank: 44\n",
            "Mean validation score: -831.333 (std: 27.372)\n",
            "Parameters: {'alpha': 44.0}\n",
            "\n",
            "Model with rank: 45\n",
            "Mean validation score: -831.489 (std: 27.357)\n",
            "Parameters: {'alpha': 45.0}\n",
            "\n",
            "Model with rank: 46\n",
            "Mean validation score: -831.647 (std: 27.341)\n",
            "Parameters: {'alpha': 46.0}\n",
            "\n",
            "Model with rank: 47\n",
            "Mean validation score: -831.805 (std: 27.327)\n",
            "Parameters: {'alpha': 47.0}\n",
            "\n",
            "Model with rank: 48\n",
            "Mean validation score: -831.964 (std: 27.313)\n",
            "Parameters: {'alpha': 48.0}\n",
            "\n",
            "Model with rank: 49\n",
            "Mean validation score: -832.128 (std: 27.301)\n",
            "Parameters: {'alpha': 49.0}\n",
            "\n",
            "Model with rank: 50\n",
            "Mean validation score: -832.293 (std: 27.291)\n",
            "Parameters: {'alpha': 50.0}\n",
            "\n",
            "Model with rank: 51\n",
            "Mean validation score: -832.460 (std: 27.279)\n",
            "Parameters: {'alpha': 51.0}\n",
            "\n",
            "Model with rank: 52\n",
            "Mean validation score: -832.631 (std: 27.265)\n",
            "Parameters: {'alpha': 52.0}\n",
            "\n",
            "Model with rank: 53\n",
            "Mean validation score: -832.804 (std: 27.250)\n",
            "Parameters: {'alpha': 53.0}\n",
            "\n",
            "Model with rank: 54\n",
            "Mean validation score: -832.979 (std: 27.231)\n",
            "Parameters: {'alpha': 54.0}\n",
            "\n",
            "Model with rank: 55\n",
            "Mean validation score: -833.159 (std: 27.210)\n",
            "Parameters: {'alpha': 55.0}\n",
            "\n",
            "Model with rank: 56\n",
            "Mean validation score: -833.340 (std: 27.191)\n",
            "Parameters: {'alpha': 56.0}\n",
            "\n",
            "Model with rank: 57\n",
            "Mean validation score: -833.521 (std: 27.173)\n",
            "Parameters: {'alpha': 57.0}\n",
            "\n",
            "Model with rank: 58\n",
            "Mean validation score: -833.704 (std: 27.157)\n",
            "Parameters: {'alpha': 58.0}\n",
            "\n",
            "Model with rank: 59\n",
            "Mean validation score: -833.889 (std: 27.138)\n",
            "Parameters: {'alpha': 59.0}\n",
            "\n",
            "Model with rank: 60\n",
            "Mean validation score: -834.078 (std: 27.117)\n",
            "Parameters: {'alpha': 60.0}\n",
            "\n",
            "Model with rank: 61\n",
            "Mean validation score: -834.268 (std: 27.097)\n",
            "Parameters: {'alpha': 61.0}\n",
            "\n",
            "Model with rank: 62\n",
            "Mean validation score: -834.461 (std: 27.080)\n",
            "Parameters: {'alpha': 62.0}\n",
            "\n",
            "Model with rank: 63\n",
            "Mean validation score: -834.656 (std: 27.065)\n",
            "Parameters: {'alpha': 63.0}\n",
            "\n",
            "Model with rank: 64\n",
            "Mean validation score: -834.851 (std: 27.051)\n",
            "Parameters: {'alpha': 64.0}\n",
            "\n",
            "Model with rank: 65\n",
            "Mean validation score: -835.047 (std: 27.035)\n",
            "Parameters: {'alpha': 65.0}\n",
            "\n",
            "Model with rank: 66\n",
            "Mean validation score: -835.246 (std: 27.017)\n",
            "Parameters: {'alpha': 66.0}\n",
            "\n",
            "Model with rank: 67\n",
            "Mean validation score: -835.446 (std: 26.998)\n",
            "Parameters: {'alpha': 67.0}\n",
            "\n",
            "Model with rank: 68\n",
            "Mean validation score: -835.647 (std: 26.978)\n",
            "Parameters: {'alpha': 68.0}\n",
            "\n",
            "Model with rank: 69\n",
            "Mean validation score: -835.850 (std: 26.955)\n",
            "Parameters: {'alpha': 69.0}\n",
            "\n",
            "Model with rank: 70\n",
            "Mean validation score: -836.053 (std: 26.933)\n",
            "Parameters: {'alpha': 70.0}\n",
            "\n",
            "Model with rank: 71\n",
            "Mean validation score: -836.259 (std: 26.912)\n",
            "Parameters: {'alpha': 71.0}\n",
            "\n",
            "Model with rank: 72\n",
            "Mean validation score: -836.468 (std: 26.889)\n",
            "Parameters: {'alpha': 72.0}\n",
            "\n",
            "Model with rank: 73\n",
            "Mean validation score: -836.679 (std: 26.866)\n",
            "Parameters: {'alpha': 73.0}\n",
            "\n",
            "Model with rank: 74\n",
            "Mean validation score: -836.890 (std: 26.844)\n",
            "Parameters: {'alpha': 74.0}\n",
            "\n",
            "Model with rank: 75\n",
            "Mean validation score: -837.101 (std: 26.821)\n",
            "Parameters: {'alpha': 75.0}\n",
            "\n",
            "Model with rank: 76\n",
            "Mean validation score: -837.315 (std: 26.798)\n",
            "Parameters: {'alpha': 76.0}\n",
            "\n",
            "Model with rank: 77\n",
            "Mean validation score: -837.532 (std: 26.778)\n",
            "Parameters: {'alpha': 77.0}\n",
            "\n",
            "Model with rank: 78\n",
            "Mean validation score: -837.750 (std: 26.757)\n",
            "Parameters: {'alpha': 78.0}\n",
            "\n",
            "Model with rank: 79\n",
            "Mean validation score: -837.968 (std: 26.737)\n",
            "Parameters: {'alpha': 79.0}\n",
            "\n",
            "Model with rank: 80\n",
            "Mean validation score: -838.188 (std: 26.718)\n",
            "Parameters: {'alpha': 80.0}\n",
            "\n",
            "Model with rank: 81\n",
            "Mean validation score: -838.411 (std: 26.700)\n",
            "Parameters: {'alpha': 81.0}\n",
            "\n",
            "Model with rank: 82\n",
            "Mean validation score: -838.637 (std: 26.681)\n",
            "Parameters: {'alpha': 82.0}\n",
            "\n",
            "Model with rank: 83\n",
            "Mean validation score: -838.865 (std: 26.664)\n",
            "Parameters: {'alpha': 83.0}\n",
            "\n",
            "Model with rank: 84\n",
            "Mean validation score: -839.095 (std: 26.646)\n",
            "Parameters: {'alpha': 84.0}\n",
            "\n",
            "Model with rank: 85\n",
            "Mean validation score: -839.327 (std: 26.629)\n",
            "Parameters: {'alpha': 85.0}\n",
            "\n",
            "Model with rank: 86\n",
            "Mean validation score: -839.559 (std: 26.612)\n",
            "Parameters: {'alpha': 86.0}\n",
            "\n",
            "Model with rank: 87\n",
            "Mean validation score: -839.794 (std: 26.590)\n",
            "Parameters: {'alpha': 87.0}\n",
            "\n",
            "Model with rank: 88\n",
            "Mean validation score: -840.029 (std: 26.568)\n",
            "Parameters: {'alpha': 88.0}\n",
            "\n",
            "Model with rank: 89\n",
            "Mean validation score: -840.265 (std: 26.546)\n",
            "Parameters: {'alpha': 89.0}\n",
            "\n",
            "Model with rank: 90\n",
            "Mean validation score: -840.501 (std: 26.525)\n",
            "Parameters: {'alpha': 90.0}\n",
            "\n",
            "Model with rank: 91\n",
            "Mean validation score: -840.736 (std: 26.504)\n",
            "Parameters: {'alpha': 91.0}\n",
            "\n",
            "Model with rank: 92\n",
            "Mean validation score: -840.972 (std: 26.483)\n",
            "Parameters: {'alpha': 92.0}\n",
            "\n",
            "Model with rank: 93\n",
            "Mean validation score: -841.208 (std: 26.462)\n",
            "Parameters: {'alpha': 93.0}\n",
            "\n",
            "Model with rank: 94\n",
            "Mean validation score: -841.444 (std: 26.442)\n",
            "Parameters: {'alpha': 94.0}\n",
            "\n",
            "Model with rank: 95\n",
            "Mean validation score: -841.682 (std: 26.423)\n",
            "Parameters: {'alpha': 95.0}\n",
            "\n",
            "Model with rank: 96\n",
            "Mean validation score: -841.922 (std: 26.405)\n",
            "Parameters: {'alpha': 96.0}\n",
            "\n",
            "Model with rank: 97\n",
            "Mean validation score: -842.160 (std: 26.388)\n",
            "Parameters: {'alpha': 97.0}\n",
            "\n",
            "Model with rank: 98\n",
            "Mean validation score: -842.401 (std: 26.372)\n",
            "Parameters: {'alpha': 98.0}\n",
            "\n",
            "Model with rank: 99\n",
            "Mean validation score: -842.642 (std: 26.359)\n",
            "Parameters: {'alpha': 99.0}\n",
            "\n",
            "Model with rank: 100\n",
            "Mean validation score: -842.885 (std: 26.346)\n",
            "Parameters: {'alpha': 100.0}\n",
            "\n"
          ],
          "name": "stdout"
        }
      ]
    },
    {
      "cell_type": "code",
      "metadata": {
        "id": "BQtZGyqbT54Z"
      },
      "source": [
        "test_pred=grid_search.predict(x_train2)"
      ],
      "execution_count": null,
      "outputs": []
    },
    {
      "cell_type": "code",
      "metadata": {
        "id": "fDOcJ4rxT5zl",
        "colab": {
          "base_uri": "https://localhost:8080/",
          "height": 34
        },
        "outputId": "502d96ae-c42c-418f-8dc0-ba855ba2f28c"
      },
      "source": [
        "mean_absolute_error(cf_train2['Counterfeit_Sales'],test_pred)"
      ],
      "execution_count": null,
      "outputs": [
        {
          "output_type": "execute_result",
          "data": {
            "text/plain": [
              "830.4062121436776"
            ]
          },
          "metadata": {
            "tags": []
          },
          "execution_count": 113
        }
      ]
    },
    {
      "cell_type": "code",
      "metadata": {
        "id": "q9SmVY3Wa0I_"
      },
      "source": [
        "MAE_Ridge = mean_absolute_error(cf_train2['Counterfeit_Sales'],test_pred)"
      ],
      "execution_count": null,
      "outputs": []
    },
    {
      "cell_type": "code",
      "metadata": {
        "id": "bFPDTCj8T5ts",
        "colab": {
          "base_uri": "https://localhost:8080/",
          "height": 34
        },
        "outputId": "46a58499-2b65-4846-cf70-150a282dcd69"
      },
      "source": [
        "Score = 1-(MAE_Ridge/1660)\n",
        "print(Score)\n"
      ],
      "execution_count": null,
      "outputs": [
        {
          "output_type": "stream",
          "text": [
            "0.4997552938893508\n"
          ],
          "name": "stdout"
        }
      ]
    },
    {
      "cell_type": "code",
      "metadata": {
        "id": "uo8tkuZxbRY8"
      },
      "source": [
        ""
      ],
      "execution_count": null,
      "outputs": []
    },
    {
      "cell_type": "code",
      "metadata": {
        "id": "Kykkczs7T5fP"
      },
      "source": [
        "#Lasso"
      ],
      "execution_count": null,
      "outputs": []
    },
    {
      "cell_type": "code",
      "metadata": {
        "id": "Baar2DJda-NM"
      },
      "source": [
        "lambdas=np.linspace(1,20,100)\n",
        "model=Lasso(fit_intercept=True)\n",
        "params={'alpha':lambdas}"
      ],
      "execution_count": null,
      "outputs": []
    },
    {
      "cell_type": "code",
      "metadata": {
        "id": "zyt31j8sa-LD"
      },
      "source": [
        "grid_search=GridSearchCV(model,param_grid=params,cv=20,scoring='neg_mean_absolute_error')"
      ],
      "execution_count": null,
      "outputs": []
    },
    {
      "cell_type": "code",
      "metadata": {
        "id": "YBj1Rt1-a-Jd",
        "colab": {
          "base_uri": "https://localhost:8080/",
          "height": 272
        },
        "outputId": "6e6a616e-4cbd-445d-c127-df29d06d2bdb"
      },
      "source": [
        "grid_search.fit(x,y)"
      ],
      "execution_count": null,
      "outputs": [
        {
          "output_type": "execute_result",
          "data": {
            "text/plain": [
              "GridSearchCV(cv=20, error_score=nan,\n",
              "             estimator=Lasso(alpha=1.0, copy_X=True, fit_intercept=True,\n",
              "                             max_iter=1000, normalize=False, positive=False,\n",
              "                             precompute=False, random_state=None,\n",
              "                             selection='cyclic', tol=0.0001, warm_start=False),\n",
              "             iid='deprecated', n_jobs=None,\n",
              "             param_grid={'alpha': array([ 1.        ,  1.19191919,  1.38383838,  1.57575758,  1.76767677,\n",
              "        1.95959596,  2.15151515,  2.343...\n",
              "       15.39393939, 15.58585859, 15.77777778, 15.96969697, 16.16161616,\n",
              "       16.35353535, 16.54545455, 16.73737374, 16.92929293, 17.12121212,\n",
              "       17.31313131, 17.50505051, 17.6969697 , 17.88888889, 18.08080808,\n",
              "       18.27272727, 18.46464646, 18.65656566, 18.84848485, 19.04040404,\n",
              "       19.23232323, 19.42424242, 19.61616162, 19.80808081, 20.        ])},\n",
              "             pre_dispatch='2*n_jobs', refit=True, return_train_score=False,\n",
              "             scoring='neg_mean_absolute_error', verbose=0)"
            ]
          },
          "metadata": {
            "tags": []
          },
          "execution_count": 249
        }
      ]
    },
    {
      "cell_type": "code",
      "metadata": {
        "id": "HmYU2qF7a-EB",
        "colab": {
          "base_uri": "https://localhost:8080/",
          "height": 68
        },
        "outputId": "be1f3c0a-4501-4c94-cfea-5ba6cbf9f937"
      },
      "source": [
        "grid_search.best_estimator_"
      ],
      "execution_count": null,
      "outputs": [
        {
          "output_type": "execute_result",
          "data": {
            "text/plain": [
              "Lasso(alpha=7.717171717171717, copy_X=True, fit_intercept=True, max_iter=1000,\n",
              "      normalize=False, positive=False, precompute=False, random_state=None,\n",
              "      selection='cyclic', tol=0.0001, warm_start=False)"
            ]
          },
          "metadata": {
            "tags": []
          },
          "execution_count": 250
        }
      ]
    },
    {
      "cell_type": "code",
      "metadata": {
        "id": "OOq10g-Ea-Br",
        "colab": {
          "base_uri": "https://localhost:8080/",
          "height": 357
        },
        "outputId": "ad3ef3d2-7cf6-46ba-bcf9-fd3c5273e5a9"
      },
      "source": [
        "report(grid_search.cv_results_,5)"
      ],
      "execution_count": null,
      "outputs": [
        {
          "output_type": "stream",
          "text": [
            "Model with rank: 1\n",
            "Mean validation score: -824.901 (std: 35.553)\n",
            "Parameters: {'alpha': 7.717171717171717}\n",
            "\n",
            "Model with rank: 2\n",
            "Mean validation score: -824.901 (std: 35.553)\n",
            "Parameters: {'alpha': 7.525252525252525}\n",
            "\n",
            "Model with rank: 3\n",
            "Mean validation score: -824.906 (std: 35.556)\n",
            "Parameters: {'alpha': 7.333333333333333}\n",
            "\n",
            "Model with rank: 4\n",
            "Mean validation score: -824.908 (std: 35.560)\n",
            "Parameters: {'alpha': 7.141414141414141}\n",
            "\n",
            "Model with rank: 5\n",
            "Mean validation score: -824.908 (std: 35.556)\n",
            "Parameters: {'alpha': 7.909090909090908}\n",
            "\n"
          ],
          "name": "stdout"
        }
      ]
    },
    {
      "cell_type": "code",
      "metadata": {
        "id": "msniTBbla99a"
      },
      "source": [
        "lasso_model=grid_search.best_estimator_"
      ],
      "execution_count": null,
      "outputs": []
    },
    {
      "cell_type": "code",
      "metadata": {
        "id": "UGq_zwPoa97s",
        "colab": {
          "base_uri": "https://localhost:8080/",
          "height": 68
        },
        "outputId": "c339a5ba-e130-4264-c771-99f5f87052b3"
      },
      "source": [
        "lasso_model.fit(x,y)"
      ],
      "execution_count": null,
      "outputs": [
        {
          "output_type": "execute_result",
          "data": {
            "text/plain": [
              "Lasso(alpha=7.717171717171717, copy_X=True, fit_intercept=True, max_iter=1000,\n",
              "      normalize=False, positive=False, precompute=False, random_state=None,\n",
              "      selection='cyclic', tol=0.0001, warm_start=False)"
            ]
          },
          "metadata": {
            "tags": []
          },
          "execution_count": 253
        }
      ]
    },
    {
      "cell_type": "code",
      "metadata": {
        "id": "Jd9HQGLxa93E",
        "colab": {
          "base_uri": "https://localhost:8080/",
          "height": 164
        },
        "outputId": "3b7163aa-3b04-4b18-f457-ef1f79999bbc"
      },
      "source": [
        "list(zip(x_train.columns,lasso_model.coef_))"
      ],
      "execution_count": null,
      "outputs": [
        {
          "output_type": "error",
          "ename": "NameError",
          "evalue": "ignored",
          "traceback": [
            "\u001b[0;31m---------------------------------------------------------------------------\u001b[0m",
            "\u001b[0;31mNameError\u001b[0m                                 Traceback (most recent call last)",
            "\u001b[0;32m<ipython-input-242-91372113544b>\u001b[0m in \u001b[0;36m<module>\u001b[0;34m()\u001b[0m\n\u001b[0;32m----> 1\u001b[0;31m \u001b[0mlist\u001b[0m\u001b[0;34m(\u001b[0m\u001b[0mzip\u001b[0m\u001b[0;34m(\u001b[0m\u001b[0mx_train\u001b[0m\u001b[0;34m.\u001b[0m\u001b[0mcolumns\u001b[0m\u001b[0;34m,\u001b[0m\u001b[0mlasso_model\u001b[0m\u001b[0;34m.\u001b[0m\u001b[0mcoef_\u001b[0m\u001b[0;34m)\u001b[0m\u001b[0;34m)\u001b[0m\u001b[0;34m\u001b[0m\u001b[0;34m\u001b[0m\u001b[0m\n\u001b[0m",
            "\u001b[0;31mNameError\u001b[0m: name 'x_train' is not defined"
          ]
        }
      ]
    },
    {
      "cell_type": "code",
      "metadata": {
        "id": "DUOr9tWFa90b",
        "colab": {
          "base_uri": "https://localhost:8080/",
          "height": 1000
        },
        "outputId": "0919845b-5f50-4075-aae2-73bc4154598d"
      },
      "source": [
        "grid_search.cv_results_"
      ],
      "execution_count": null,
      "outputs": [
        {
          "output_type": "execute_result",
          "data": {
            "text/plain": [
              "{'mean_fit_time': array([0.03732566, 0.03142312, 0.02778713, 0.02518338, 0.02382748,\n",
              "        0.02155232, 0.02033151, 0.01874433, 0.0199048 , 0.01722277,\n",
              "        0.01682832, 0.01552271, 0.01521797, 0.01493484, 0.014258  ,\n",
              "        0.01402467, 0.01417787, 0.013267  , 0.01328824, 0.01270108,\n",
              "        0.01255233, 0.01200684, 0.01161237, 0.01195693, 0.01125115,\n",
              "        0.01103394, 0.0108449 , 0.01061834, 0.0103199 , 0.01018945,\n",
              "        0.00996045, 0.01044412, 0.00984049, 0.00976404, 0.00956869,\n",
              "        0.00953801, 0.00984944, 0.00946165, 0.00912986, 0.00912681,\n",
              "        0.0094846 , 0.00889317, 0.00889436, 0.00869111, 0.00860691,\n",
              "        0.00900719, 0.00977819, 0.00855694, 0.00838104, 0.00856007,\n",
              "        0.00823828, 0.00822482, 0.00857873, 0.00809685, 0.00863531,\n",
              "        0.00815756, 0.00803001, 0.00803264, 0.00803413, 0.00800478,\n",
              "        0.00806978, 0.00833622, 0.00780563, 0.00788219, 0.00782387,\n",
              "        0.0077752 , 0.00766279, 0.00775048, 0.0076166 , 0.00768955,\n",
              "        0.00768652, 0.00759387, 0.00757073, 0.00767591, 0.00811998,\n",
              "        0.00768567, 0.00761726, 0.00855384, 0.00770721, 0.00816116,\n",
              "        0.00779495, 0.00784857, 0.0077911 , 0.00789413, 0.00843927,\n",
              "        0.00781667, 0.00777749, 0.00777352, 0.0081302 , 0.00855075,\n",
              "        0.00786439, 0.00800283, 0.00793723, 0.00802859, 0.00843484,\n",
              "        0.00798599, 0.00799252, 0.00793098, 0.009018  , 0.00795386]),\n",
              " 'mean_score_time': array([0.0018293 , 0.0016651 , 0.00168029, 0.00161122, 0.00165298,\n",
              "        0.00166812, 0.00157435, 0.00158445, 0.00182807, 0.0015637 ,\n",
              "        0.00153584, 0.00148435, 0.00155982, 0.00152836, 0.00153574,\n",
              "        0.00157553, 0.00158187, 0.00150843, 0.00152185, 0.00155652,\n",
              "        0.00152951, 0.0015039 , 0.00150398, 0.00148892, 0.00149646,\n",
              "        0.00146821, 0.00151943, 0.0017326 , 0.00145985, 0.00148799,\n",
              "        0.00147575, 0.00150734, 0.00149775, 0.00152394, 0.00150139,\n",
              "        0.0015238 , 0.00158854, 0.00155002, 0.00149232, 0.00151516,\n",
              "        0.00150231, 0.00149156, 0.00151861, 0.00147483, 0.00148911,\n",
              "        0.00159224, 0.0019195 , 0.00150495, 0.00149632, 0.00151078,\n",
              "        0.00147055, 0.00148557, 0.00165095, 0.00146556, 0.00150578,\n",
              "        0.00149834, 0.00148183, 0.00149581, 0.00148205, 0.00162383,\n",
              "        0.0014644 , 0.00152414, 0.00146173, 0.0014811 , 0.00184329,\n",
              "        0.00146796, 0.00146234, 0.00149947, 0.00145433, 0.00145888,\n",
              "        0.0014953 , 0.00146288, 0.00145147, 0.00146638, 0.00146593,\n",
              "        0.00145744, 0.00145782, 0.00152167, 0.00147058, 0.0014479 ,\n",
              "        0.00148218, 0.00149257, 0.00147759, 0.00147865, 0.00151087,\n",
              "        0.00145258, 0.00146309, 0.00145159, 0.00155107, 0.0016759 ,\n",
              "        0.00147116, 0.00150727, 0.00147911, 0.00148699, 0.00148232,\n",
              "        0.00148089, 0.00148492, 0.00149851, 0.00157027, 0.0016068 ]),\n",
              " 'mean_test_score': array([-827.15350205, -826.9255545 , -826.74208037, -826.59135479,\n",
              "        -826.46947412, -826.34604116, -826.2161179 , -826.08574219,\n",
              "        -825.96796732, -825.84766061, -825.73576454, -825.64409861,\n",
              "        -825.5929171 , -825.5508735 , -825.51834072, -825.49582376,\n",
              "        -825.46997749, -825.44567934, -825.41006581, -825.37491325,\n",
              "        -825.34705335, -825.31185645, -825.27212049, -825.23090623,\n",
              "        -825.18344992, -825.13444586, -825.09087415, -825.04796775,\n",
              "        -825.00571171, -824.96831364, -824.93677069, -824.91486182,\n",
              "        -824.90805316, -824.90615392, -824.90116232, -824.90110027,\n",
              "        -824.90846447, -824.92142717, -824.93841624, -824.95548128,\n",
              "        -824.97202236, -824.99053016, -825.00977526, -825.0296377 ,\n",
              "        -825.04785111, -825.06084466, -825.07440594, -825.08923579,\n",
              "        -825.10273197, -825.11368626, -825.12823995, -825.14400716,\n",
              "        -825.16221684, -825.18261998, -825.19922913, -825.21535   ,\n",
              "        -825.23384497, -825.25442345, -825.27635413, -825.29992353,\n",
              "        -825.32640447, -825.35622869, -825.38723901, -825.42045235,\n",
              "        -825.4547144 , -825.49006032, -825.52607256, -825.56435339,\n",
              "        -825.60438317, -825.64816372, -825.69194162, -825.73948786,\n",
              "        -825.78904981, -825.83991737, -825.89356334, -825.94920012,\n",
              "        -826.00778251, -826.06781234, -826.12957519, -826.1932873 ,\n",
              "        -826.25772324, -826.32621032, -826.39685754, -826.46821307,\n",
              "        -826.54041428, -826.6134639 , -826.68833718, -826.76401761,\n",
              "        -826.84018143, -826.91732754, -826.9950995 , -827.07280043,\n",
              "        -827.15186343, -827.23245563, -827.31380721, -827.39639493,\n",
              "        -827.47974939, -827.56379412, -827.64880204, -827.73407213]),\n",
              " 'param_alpha': masked_array(data=[1.0, 1.1919191919191918, 1.3838383838383839,\n",
              "                    1.5757575757575757, 1.7676767676767677,\n",
              "                    1.9595959595959596, 2.1515151515151514,\n",
              "                    2.3434343434343434, 2.5353535353535355,\n",
              "                    2.727272727272727, 2.919191919191919,\n",
              "                    3.111111111111111, 3.3030303030303028,\n",
              "                    3.494949494949495, 3.686868686868687,\n",
              "                    3.8787878787878785, 4.070707070707071,\n",
              "                    4.262626262626263, 4.454545454545454,\n",
              "                    4.646464646464646, 4.838383838383838, 5.03030303030303,\n",
              "                    5.222222222222222, 5.4141414141414135,\n",
              "                    5.6060606060606055, 5.797979797979798,\n",
              "                    5.98989898989899, 6.181818181818182, 6.373737373737374,\n",
              "                    6.565656565656565, 6.757575757575757,\n",
              "                    6.949494949494949, 7.141414141414141,\n",
              "                    7.333333333333333, 7.525252525252525,\n",
              "                    7.717171717171717, 7.909090909090908, 8.1010101010101,\n",
              "                    8.292929292929292, 8.484848484848484,\n",
              "                    8.676767676767676, 8.868686868686869, 9.06060606060606,\n",
              "                    9.252525252525253, 9.444444444444445,\n",
              "                    9.636363636363635, 9.828282828282827,\n",
              "                    10.020202020202019, 10.212121212121211,\n",
              "                    10.404040404040403, 10.595959595959595,\n",
              "                    10.787878787878787, 10.97979797979798,\n",
              "                    11.171717171717171, 11.363636363636363,\n",
              "                    11.555555555555555, 11.747474747474747,\n",
              "                    11.93939393939394, 12.13131313131313,\n",
              "                    12.323232323232322, 12.515151515151514,\n",
              "                    12.707070707070706, 12.898989898989898,\n",
              "                    13.09090909090909, 13.282828282828282,\n",
              "                    13.474747474747474, 13.666666666666666,\n",
              "                    13.858585858585858, 14.05050505050505,\n",
              "                    14.242424242424242, 14.434343434343434,\n",
              "                    14.626262626262625, 14.818181818181817,\n",
              "                    15.010101010101009, 15.2020202020202,\n",
              "                    15.393939393939393, 15.585858585858585,\n",
              "                    15.777777777777777, 15.969696969696969,\n",
              "                    16.16161616161616, 16.353535353535353,\n",
              "                    16.545454545454547, 16.737373737373737,\n",
              "                    16.929292929292927, 17.12121212121212,\n",
              "                    17.31313131313131, 17.505050505050505,\n",
              "                    17.696969696969695, 17.88888888888889,\n",
              "                    18.08080808080808, 18.27272727272727,\n",
              "                    18.464646464646464, 18.656565656565654,\n",
              "                    18.848484848484848, 19.040404040404038,\n",
              "                    19.232323232323232, 19.424242424242422,\n",
              "                    19.616161616161616, 19.808080808080806, 20.0],\n",
              "              mask=[False, False, False, False, False, False, False, False,\n",
              "                    False, False, False, False, False, False, False, False,\n",
              "                    False, False, False, False, False, False, False, False,\n",
              "                    False, False, False, False, False, False, False, False,\n",
              "                    False, False, False, False, False, False, False, False,\n",
              "                    False, False, False, False, False, False, False, False,\n",
              "                    False, False, False, False, False, False, False, False,\n",
              "                    False, False, False, False, False, False, False, False,\n",
              "                    False, False, False, False, False, False, False, False,\n",
              "                    False, False, False, False, False, False, False, False,\n",
              "                    False, False, False, False, False, False, False, False,\n",
              "                    False, False, False, False, False, False, False, False,\n",
              "                    False, False, False, False],\n",
              "        fill_value='?',\n",
              "             dtype=object),\n",
              " 'params': [{'alpha': 1.0},\n",
              "  {'alpha': 1.1919191919191918},\n",
              "  {'alpha': 1.3838383838383839},\n",
              "  {'alpha': 1.5757575757575757},\n",
              "  {'alpha': 1.7676767676767677},\n",
              "  {'alpha': 1.9595959595959596},\n",
              "  {'alpha': 2.1515151515151514},\n",
              "  {'alpha': 2.3434343434343434},\n",
              "  {'alpha': 2.5353535353535355},\n",
              "  {'alpha': 2.727272727272727},\n",
              "  {'alpha': 2.919191919191919},\n",
              "  {'alpha': 3.111111111111111},\n",
              "  {'alpha': 3.3030303030303028},\n",
              "  {'alpha': 3.494949494949495},\n",
              "  {'alpha': 3.686868686868687},\n",
              "  {'alpha': 3.8787878787878785},\n",
              "  {'alpha': 4.070707070707071},\n",
              "  {'alpha': 4.262626262626263},\n",
              "  {'alpha': 4.454545454545454},\n",
              "  {'alpha': 4.646464646464646},\n",
              "  {'alpha': 4.838383838383838},\n",
              "  {'alpha': 5.03030303030303},\n",
              "  {'alpha': 5.222222222222222},\n",
              "  {'alpha': 5.4141414141414135},\n",
              "  {'alpha': 5.6060606060606055},\n",
              "  {'alpha': 5.797979797979798},\n",
              "  {'alpha': 5.98989898989899},\n",
              "  {'alpha': 6.181818181818182},\n",
              "  {'alpha': 6.373737373737374},\n",
              "  {'alpha': 6.565656565656565},\n",
              "  {'alpha': 6.757575757575757},\n",
              "  {'alpha': 6.949494949494949},\n",
              "  {'alpha': 7.141414141414141},\n",
              "  {'alpha': 7.333333333333333},\n",
              "  {'alpha': 7.525252525252525},\n",
              "  {'alpha': 7.717171717171717},\n",
              "  {'alpha': 7.909090909090908},\n",
              "  {'alpha': 8.1010101010101},\n",
              "  {'alpha': 8.292929292929292},\n",
              "  {'alpha': 8.484848484848484},\n",
              "  {'alpha': 8.676767676767676},\n",
              "  {'alpha': 8.868686868686869},\n",
              "  {'alpha': 9.06060606060606},\n",
              "  {'alpha': 9.252525252525253},\n",
              "  {'alpha': 9.444444444444445},\n",
              "  {'alpha': 9.636363636363635},\n",
              "  {'alpha': 9.828282828282827},\n",
              "  {'alpha': 10.020202020202019},\n",
              "  {'alpha': 10.212121212121211},\n",
              "  {'alpha': 10.404040404040403},\n",
              "  {'alpha': 10.595959595959595},\n",
              "  {'alpha': 10.787878787878787},\n",
              "  {'alpha': 10.97979797979798},\n",
              "  {'alpha': 11.171717171717171},\n",
              "  {'alpha': 11.363636363636363},\n",
              "  {'alpha': 11.555555555555555},\n",
              "  {'alpha': 11.747474747474747},\n",
              "  {'alpha': 11.93939393939394},\n",
              "  {'alpha': 12.13131313131313},\n",
              "  {'alpha': 12.323232323232322},\n",
              "  {'alpha': 12.515151515151514},\n",
              "  {'alpha': 12.707070707070706},\n",
              "  {'alpha': 12.898989898989898},\n",
              "  {'alpha': 13.09090909090909},\n",
              "  {'alpha': 13.282828282828282},\n",
              "  {'alpha': 13.474747474747474},\n",
              "  {'alpha': 13.666666666666666},\n",
              "  {'alpha': 13.858585858585858},\n",
              "  {'alpha': 14.05050505050505},\n",
              "  {'alpha': 14.242424242424242},\n",
              "  {'alpha': 14.434343434343434},\n",
              "  {'alpha': 14.626262626262625},\n",
              "  {'alpha': 14.818181818181817},\n",
              "  {'alpha': 15.010101010101009},\n",
              "  {'alpha': 15.2020202020202},\n",
              "  {'alpha': 15.393939393939393},\n",
              "  {'alpha': 15.585858585858585},\n",
              "  {'alpha': 15.777777777777777},\n",
              "  {'alpha': 15.969696969696969},\n",
              "  {'alpha': 16.16161616161616},\n",
              "  {'alpha': 16.353535353535353},\n",
              "  {'alpha': 16.545454545454547},\n",
              "  {'alpha': 16.737373737373737},\n",
              "  {'alpha': 16.929292929292927},\n",
              "  {'alpha': 17.12121212121212},\n",
              "  {'alpha': 17.31313131313131},\n",
              "  {'alpha': 17.505050505050505},\n",
              "  {'alpha': 17.696969696969695},\n",
              "  {'alpha': 17.88888888888889},\n",
              "  {'alpha': 18.08080808080808},\n",
              "  {'alpha': 18.27272727272727},\n",
              "  {'alpha': 18.464646464646464},\n",
              "  {'alpha': 18.656565656565654},\n",
              "  {'alpha': 18.848484848484848},\n",
              "  {'alpha': 19.040404040404038},\n",
              "  {'alpha': 19.232323232323232},\n",
              "  {'alpha': 19.424242424242422},\n",
              "  {'alpha': 19.616161616161616},\n",
              "  {'alpha': 19.808080808080806},\n",
              "  {'alpha': 20.0}],\n",
              " 'rank_test_score': array([ 93,  89,  85,  82,  80,  77,  74,  71,  68,  65,  61,  58,  56,\n",
              "         54,  52,  51,  49,  47,  45,  43,  41,  39,  36,  33,  30,  26,\n",
              "         22,  18,  14,  11,   8,   6,   4,   3,   2,   1,   5,   7,   9,\n",
              "         10,  12,  13,  15,  16,  17,  19,  20,  21,  23,  24,  25,  27,\n",
              "         28,  29,  31,  32,  34,  35,  37,  38,  40,  42,  44,  46,  48,\n",
              "         50,  53,  55,  57,  59,  60,  62,  63,  64,  66,  67,  69,  70,\n",
              "         72,  73,  75,  76,  78,  79,  81,  83,  84,  86,  87,  88,  90,\n",
              "         91,  92,  94,  95,  96,  97,  98,  99, 100], dtype=int32),\n",
              " 'split0_test_score': array([-819.05559353, -818.53995875, -818.08855121, -817.7646619 ,\n",
              "        -817.46365949, -817.15922769, -816.85353873, -816.47367082,\n",
              "        -816.10173316, -815.730326  , -815.35923646, -814.98791167,\n",
              "        -814.6163696 , -814.25419197, -813.91328253, -813.58365627,\n",
              "        -813.25551313, -812.92497886, -812.62025021, -812.28185655,\n",
              "        -811.93731169, -811.59602371, -811.27676543, -810.9641488 ,\n",
              "        -810.59613071, -810.22339022, -809.85000427, -809.47757874,\n",
              "        -809.11149799, -808.7441616 , -808.38015249, -808.02385579,\n",
              "        -807.65576268, -807.27973056, -806.90404165, -806.52797865,\n",
              "        -806.17457584, -805.82550407, -805.4768149 , -805.12898629,\n",
              "        -804.7799063 , -804.43258034, -804.08455827, -803.74433705,\n",
              "        -803.40419027, -803.0646612 , -802.72544694, -802.38590369,\n",
              "        -802.04593806, -801.70599638, -801.41146974, -801.13848598,\n",
              "        -800.86478422, -800.59113285, -800.31642055, -800.04537397,\n",
              "        -799.77169573, -799.49817222, -799.22477799, -798.95393947,\n",
              "        -798.73930334, -798.52406782, -798.30888574, -798.09372442,\n",
              "        -797.87856498, -797.66402129, -797.44878512, -797.23358607,\n",
              "        -797.01840504, -796.80326634, -796.58812764, -796.37879344,\n",
              "        -796.17079384, -795.99080877, -795.81678173, -795.64275308,\n",
              "        -795.46872448, -795.29344258, -795.12012833, -794.94678535,\n",
              "        -794.77343928, -794.59973618, -794.42571235, -794.25170623,\n",
              "        -794.07769919, -793.90369215, -793.72968515, -793.55567055,\n",
              "        -793.38165473, -793.2074833 , -793.03410226, -792.86071021,\n",
              "        -792.68722519, -792.51239081, -792.34342532, -792.17677567,\n",
              "        -792.00772692, -791.84154542, -791.67069085, -791.50354537]),\n",
              " 'split10_test_score': array([-841.44923851, -841.5056069 , -841.79829196, -842.09760578,\n",
              "        -842.37308808, -842.62769472, -842.88234932, -843.14712449,\n",
              "        -843.42320423, -843.59036808, -843.7845311 , -844.01153056,\n",
              "        -844.23847432, -844.48076064, -844.73804616, -844.99526103,\n",
              "        -845.25232892, -845.50628317, -845.74270306, -845.98142647,\n",
              "        -846.21788717, -846.35750082, -846.49789587, -846.64044337,\n",
              "        -846.77687541, -846.91008109, -847.04309012, -847.17638384,\n",
              "        -847.30913931, -847.44042988, -847.5621046 , -847.68374488,\n",
              "        -847.8057798 , -847.92742176, -848.04905098, -848.17101518,\n",
              "        -848.28046884, -848.37204566, -848.46355541, -848.56345975,\n",
              "        -848.66623831, -848.76906766, -848.87179074, -848.97458766,\n",
              "        -849.07748532, -849.18016835, -849.31076625, -849.45091595,\n",
              "        -849.58217694, -849.70195436, -849.82860227, -849.96232944,\n",
              "        -850.09606239, -850.22981508, -850.33429223, -850.39894225,\n",
              "        -850.46359233, -850.52839963, -850.59283506, -850.65748591,\n",
              "        -850.72213117, -850.79194543, -850.86933425, -850.94683643,\n",
              "        -851.02891583, -851.11122058, -851.19351445, -851.28693555,\n",
              "        -851.39146495, -851.49506661, -851.59865128, -851.69803317,\n",
              "        -851.79500678, -851.8979082 , -852.0044556 , -852.11056343,\n",
              "        -852.2160711 , -852.32739587, -852.433444  , -852.53949101,\n",
              "        -852.64522016, -852.7507872 , -852.86279719, -852.97477824,\n",
              "        -853.08650183, -853.19822886, -853.30995337, -853.4266227 ,\n",
              "        -853.53813923, -853.64965637, -853.76112508, -853.87248615,\n",
              "        -853.98384723, -854.10021625, -854.2179383 , -854.33556914,\n",
              "        -854.45318622, -854.57072921, -854.68808825, -854.80544655]),\n",
              " 'split11_test_score': array([-764.48664405, -764.38905418, -764.29754182, -764.27578208,\n",
              "        -764.26083024, -764.2419085 , -764.22490268, -764.22699122,\n",
              "        -764.32306354, -764.43000206, -764.53212047, -764.66388322,\n",
              "        -764.80458132, -764.91582039, -765.05335283, -765.22486596,\n",
              "        -765.39038738, -765.55431231, -765.71756035, -765.88184179,\n",
              "        -766.04514581, -766.15883888, -766.21611639, -766.27372224,\n",
              "        -766.28171378, -766.26501583, -766.24713272, -766.23149819,\n",
              "        -766.21591557, -766.21294636, -766.2246655 , -766.23839425,\n",
              "        -766.25231603, -766.26601842, -766.27993893, -766.2936284 ,\n",
              "        -766.30753402, -766.32122375, -766.33511803, -766.34880154,\n",
              "        -766.38744761, -766.41965242, -766.45349778, -766.48710127,\n",
              "        -766.49493268, -766.45566223, -766.41626291, -766.37697704,\n",
              "        -766.33756587, -766.29812529, -766.25906542, -766.21962819,\n",
              "        -766.14573205, -766.06564954, -765.98558363, -765.90599336,\n",
              "        -765.82589435, -765.74583041, -765.66576619, -765.59265772,\n",
              "        -765.52542632, -765.45697392, -765.39416712, -765.33252339,\n",
              "        -765.27088062, -765.20923899, -765.15190341, -765.10574763,\n",
              "        -765.05872873, -765.01170705, -764.96468884, -764.92856686,\n",
              "        -764.89733411, -764.86610134, -764.83455394, -764.80736013,\n",
              "        -764.78832441, -764.76889834, -764.74947584, -764.73005334,\n",
              "        -764.71426742, -764.71093161, -764.70508822, -764.69711443,\n",
              "        -764.6927245 , -764.68534014, -764.68382949, -764.68238261,\n",
              "        -764.68395071, -764.69519599, -764.70644127, -764.71263508,\n",
              "        -764.72342751, -764.73422   , -764.74409976, -764.75401032,\n",
              "        -764.76424312, -764.77449432, -764.79900428, -764.82644414]),\n",
              " 'split12_test_score': array([-844.14501506, -844.1051331 , -844.11340452, -844.2003215 ,\n",
              "        -844.27627365, -844.01730442, -843.75981135, -843.5382617 ,\n",
              "        -843.40525431, -843.27624881, -843.15854268, -843.04408336,\n",
              "        -842.95611198, -842.86424988, -842.77742372, -842.68982372,\n",
              "        -842.60176081, -842.51206673, -842.37451502, -842.22835598,\n",
              "        -842.09458353, -841.93441663, -841.77135245, -841.60795408,\n",
              "        -841.44429206, -841.29005663, -841.14377285, -841.01259625,\n",
              "        -840.8701641 , -840.71601108, -840.61966045, -840.52772505,\n",
              "        -840.43234913, -840.34195108, -840.22569418, -840.12000191,\n",
              "        -840.0278674 , -839.94264658, -839.85776451, -839.77432751,\n",
              "        -839.69029872, -839.62850283, -839.56469009, -839.50304251,\n",
              "        -839.43864692, -839.37726831, -839.3154111 , -839.25096595,\n",
              "        -839.18933863, -839.12753377, -839.02635217, -838.91605522,\n",
              "        -838.80704325, -838.70727123, -838.60763467, -838.50796928,\n",
              "        -838.40805864, -838.3087054 , -838.22490848, -838.15394148,\n",
              "        -838.08275952, -838.01150137, -837.94012943, -837.86875533,\n",
              "        -837.79727591, -837.72635997, -837.65503214, -837.58367169,\n",
              "        -837.51231144, -837.44094557, -837.36883778, -837.29826675,\n",
              "        -837.22726355, -837.1559072 , -837.08455115, -837.01319503,\n",
              "        -836.94183931, -836.87524413, -836.80727859, -836.7348111 ,\n",
              "        -836.66378755, -836.59065206, -836.52057007, -836.45048822,\n",
              "        -836.3768643 , -836.30612988, -836.23694104, -836.17291958,\n",
              "        -836.10889812, -836.04719827, -835.99527754, -835.94344332,\n",
              "        -835.89163456, -835.84010816, -835.78819587, -835.74533959,\n",
              "        -835.70835368, -835.67136777, -835.63438186, -835.59739595]),\n",
              " 'split13_test_score': array([-824.1465313 , -823.91813962, -823.76573932, -823.7445907 ,\n",
              "        -823.75517412, -823.81194086, -823.84925099, -823.9134295 ,\n",
              "        -823.84931901, -823.83351865, -823.84918427, -823.87735348,\n",
              "        -823.94989013, -824.03678734, -824.11428022, -824.17403415,\n",
              "        -824.23353185, -824.2943621 , -824.35366645, -824.42809662,\n",
              "        -824.5032748 , -824.57829187, -824.56467706, -824.55216478,\n",
              "        -824.56572345, -824.57075739, -824.57644083, -824.5807121 ,\n",
              "        -824.58603439, -824.60122097, -824.61570767, -824.63025989,\n",
              "        -824.64570718, -824.66621648, -824.68620782, -824.71024245,\n",
              "        -824.75035565, -824.81613809, -824.88383804, -824.9297492 ,\n",
              "        -824.95152754, -824.97353437, -824.99551941, -825.01755985,\n",
              "        -825.03963888, -825.0614307 , -825.08336571, -825.10527107,\n",
              "        -825.1273899 , -825.14925124, -825.17313901, -825.20112803,\n",
              "        -825.24222238, -825.28895333, -825.34650721, -825.41092367,\n",
              "        -825.4776324 , -825.54423586, -825.61086984, -825.67750842,\n",
              "        -825.74414767, -825.81080142, -825.8562452 , -825.90009683,\n",
              "        -825.94943797, -826.00527867, -826.06112204, -826.11696165,\n",
              "        -826.1728013 , -826.22864173, -826.28448241, -826.35111464,\n",
              "        -826.42369838, -826.50003152, -826.5764395 , -826.66091867,\n",
              "        -826.74899335, -826.83708463, -826.92531756, -827.01355819,\n",
              "        -827.10179737, -827.1900246 , -827.27824177, -827.36642374,\n",
              "        -827.45462568, -827.54282672, -827.63101914, -827.71923615,\n",
              "        -827.80742561, -827.89561224, -827.98383008, -828.07202097,\n",
              "        -828.16021186, -828.24840275, -828.33662598, -828.42479647,\n",
              "        -828.51302151, -828.60121857, -828.68941563, -828.77761268]),\n",
              " 'split14_test_score': array([-867.10977556, -866.73596822, -866.37940143, -866.04468169,\n",
              "        -865.76596525, -865.4881495 , -865.20919427, -864.93609996,\n",
              "        -864.69248102, -864.45278677, -864.22087522, -864.10404319,\n",
              "        -864.07542873, -864.04230679, -864.02903284, -864.03154715,\n",
              "        -864.02583511, -864.01929296, -863.95642005, -863.86348301,\n",
              "        -863.77068265, -863.67756273, -863.58852161, -863.50207854,\n",
              "        -863.42710638, -863.36531553, -863.29901589, -863.20761418,\n",
              "        -863.11698658, -863.05517425, -862.99337842, -862.93130164,\n",
              "        -862.8695403 , -862.80748078, -862.74574409, -862.68367781,\n",
              "        -862.62167387, -862.55991021, -862.49790456, -862.43619522,\n",
              "        -862.37406254, -862.31134286, -862.2486406 , -862.18620443,\n",
              "        -862.12348482, -862.06076524, -861.99808766, -861.93542552,\n",
              "        -861.87275608, -861.81029002, -861.77607492, -861.73681583,\n",
              "        -861.70625988, -861.66959613, -861.5743425 , -861.47877751,\n",
              "        -861.38327272, -861.3184786 , -861.25875801, -861.20580713,\n",
              "        -861.16639582, -861.12697408, -861.08751714, -861.04942456,\n",
              "        -861.02596753, -861.00243804, -860.97890653, -860.9553751 ,\n",
              "        -860.93175007, -860.90822896, -860.88469793, -860.85384611,\n",
              "        -860.83235221, -860.80751001, -860.81931   , -860.83845526,\n",
              "        -860.85578894, -860.87484006, -860.90459685, -860.93435375,\n",
              "        -860.96913158, -861.00354454, -861.03864537, -861.07347275,\n",
              "        -861.10814716, -861.14282557, -861.19371133, -861.24924043,\n",
              "        -861.30477144, -861.36029951, -861.41584216, -861.47140111,\n",
              "        -861.52730328, -861.58352909, -861.63974279, -861.69591477,\n",
              "        -861.75200755, -861.80782133, -861.86362644, -861.9194315 ]),\n",
              " 'split15_test_score': array([-838.63217469, -838.41175083, -838.19118302, -837.97121726,\n",
              "        -837.753199  , -837.53600615, -837.29907365, -837.05362727,\n",
              "        -836.8058336 , -836.55755842, -836.31391178, -836.07574411,\n",
              "        -835.97602763, -835.93361577, -835.92934695, -835.93913365,\n",
              "        -835.96392111, -836.03532639, -836.10831891, -836.15809541,\n",
              "        -836.20559277, -836.26108999, -836.30365063, -836.31685602,\n",
              "        -836.33469192, -836.35263564, -836.37027306, -836.38826678,\n",
              "        -836.40478655, -836.42304651, -836.44074973, -836.4590676 ,\n",
              "        -836.49071048, -836.53272867, -836.57909901, -836.62459709,\n",
              "        -836.66524956, -836.70982039, -836.74914541, -836.78093975,\n",
              "        -836.81168236, -836.84416332, -836.88108692, -836.92356651,\n",
              "        -836.96672148, -837.00793618, -837.05125294, -837.09420118,\n",
              "        -837.11189899, -837.10233853, -837.09961591, -837.09681815,\n",
              "        -837.10018818, -837.12560756, -837.15575934, -837.19341927,\n",
              "        -837.23540666, -837.27848846, -837.32118813, -837.36389858,\n",
              "        -837.40642716, -837.45232889, -837.50047455, -837.54906784,\n",
              "        -837.59762393, -837.64618155, -837.69586515, -837.74375395,\n",
              "        -837.7916523 , -837.84021459, -837.8600726 , -837.91273156,\n",
              "        -837.96232055, -838.00731726, -838.0523302 , -838.09739744,\n",
              "        -838.15671797, -838.20329082, -838.24871456, -838.29396002,\n",
              "        -838.34283594, -838.39306763, -838.44125703, -838.48931518,\n",
              "        -838.53645969, -838.58360191, -838.64387142, -838.691555  ,\n",
              "        -838.73904006, -838.7863096 , -838.83484554, -838.90128282,\n",
              "        -838.96752673, -839.03377347, -839.10002022, -839.1662098 ,\n",
              "        -839.23177375, -839.29721447, -839.36265518, -839.42809897]),\n",
              " 'split16_test_score': array([-790.99233666, -790.22168168, -789.44979141, -788.66051643,\n",
              "        -788.13508183, -787.6097876 , -787.12442437, -786.65088314,\n",
              "        -786.10104821, -785.66385705, -785.24093491, -784.82646953,\n",
              "        -784.43713636, -784.047508  , -783.66146102, -783.31750542,\n",
              "        -782.98077945, -782.65129318, -782.3184702 , -781.95851566,\n",
              "        -781.62845829, -781.30374514, -780.98576573, -780.6700465 ,\n",
              "        -780.35589155, -780.06420363, -779.77431253, -779.48521553,\n",
              "        -779.19588605, -778.93073495, -778.67886709, -778.43848137,\n",
              "        -778.2520431 , -778.06640289, -777.88001064, -777.69333037,\n",
              "        -777.50789529, -777.32123409, -777.13569283, -776.93581084,\n",
              "        -776.73312052, -776.53008155, -776.32660646, -776.12357232,\n",
              "        -775.91986571, -775.71693294, -775.51399315, -775.31081056,\n",
              "        -775.11179178, -774.93013534, -774.74845151, -774.56672689,\n",
              "        -774.39150924, -774.22892246, -774.06596916, -773.90312937,\n",
              "        -773.74029864, -773.57747134, -773.4146331 , -773.25267924,\n",
              "        -773.1055389 , -772.99139712, -772.87728056, -772.7631606 ,\n",
              "        -772.64923113, -772.53508697, -772.43108741, -772.33995326,\n",
              "        -772.24818546, -772.15737514, -772.06656482, -771.97567677,\n",
              "        -771.88450411, -771.79334578, -771.70218671, -771.61104081,\n",
              "        -771.51937232, -771.42852335, -771.33767807, -771.24683278,\n",
              "        -771.16320648, -771.08846519, -771.01910383, -770.95317095,\n",
              "        -770.89200337, -770.8348257 , -770.77754823, -770.72140106,\n",
              "        -770.66577235, -770.60939478, -770.55301065, -770.49660188,\n",
              "        -770.44103832, -770.38466052, -770.32828272, -770.27190493,\n",
              "        -770.21652553, -770.16035989, -770.10416953, -770.04797839]),\n",
              " 'split17_test_score': array([-808.32835345, -808.23731398, -808.1576219 , -808.07786384,\n",
              "        -808.03988959, -808.05715548, -808.04268434, -808.02999191,\n",
              "        -808.02229401, -807.99297123, -807.95269291, -807.93136185,\n",
              "        -807.91025992, -807.8890749 , -807.87009072, -807.87144038,\n",
              "        -807.88107863, -807.87389158, -807.80395331, -807.73220766,\n",
              "        -807.70630113, -807.66754784, -807.62725111, -807.58790508,\n",
              "        -807.54788866, -807.50804095, -807.50699051, -807.52452461,\n",
              "        -807.53524243, -807.54666367, -807.56780638, -807.58087342,\n",
              "        -807.61101997, -807.65893766, -807.64503093, -807.63017368,\n",
              "        -807.61530649, -807.59981151, -807.58561504, -807.57090506,\n",
              "        -807.55623744, -807.54134096, -807.52663153, -807.48567888,\n",
              "        -807.41050119, -807.33531726, -807.26047149, -807.1852984 ,\n",
              "        -807.11660557, -807.05116823, -806.98526602, -806.91940562,\n",
              "        -806.85354881, -806.78806256, -806.72216748, -806.65629408,\n",
              "        -806.58919455, -806.52330709, -806.45688279, -806.39020628,\n",
              "        -806.32353094, -806.25616984, -806.21124639, -806.16685675,\n",
              "        -806.12192749, -806.07699713, -806.03206764, -805.9871282 ,\n",
              "        -805.9420272 , -805.89763461, -805.85306398, -805.80805848,\n",
              "        -805.7631013 , -805.71817946, -805.67325767, -805.62833589,\n",
              "        -805.58297215, -805.53881298, -805.49439808, -805.44959026,\n",
              "        -805.40459009, -805.3595941 , -805.31460059, -805.26966729,\n",
              "        -805.22475105, -805.18102415, -805.13725465, -805.09236882,\n",
              "        -805.04767935, -805.00296171, -804.96392137, -804.92535088,\n",
              "        -804.88972195, -804.85544308, -804.82116422, -804.78688537,\n",
              "        -804.75104671, -804.71807468, -804.69001366, -804.66195325]),\n",
              " 'split18_test_score': array([-859.22655221, -858.86513023, -858.59892492, -858.39429805,\n",
              "        -858.16059527, -857.9751984 , -857.79682689, -857.64246618,\n",
              "        -857.49679234, -857.39775358, -857.3487172 , -857.33244563,\n",
              "        -857.33185272, -857.34359735, -857.35217844, -857.3605944 ,\n",
              "        -857.36873989, -857.35818875, -857.33871527, -857.33580909,\n",
              "        -857.33450813, -857.33853955, -857.34242231, -857.34763009,\n",
              "        -857.33472069, -857.34121426, -857.35661377, -857.34960194,\n",
              "        -857.31559643, -857.24665331, -857.17823287, -857.13481684,\n",
              "        -857.12265053, -857.12233094, -857.12205246, -857.12201017,\n",
              "        -857.12178865, -857.12192092, -857.12215869, -857.13115242,\n",
              "        -857.14862193, -857.16574978, -857.1830834 , -857.20019076,\n",
              "        -857.21802974, -857.23501281, -857.25174341, -857.2696481 ,\n",
              "        -857.28551879, -857.3028002 , -857.32242912, -857.34209326,\n",
              "        -857.35372259, -857.36348725, -857.37324904, -857.38272419,\n",
              "        -857.39252065, -857.40227636, -857.4177312 , -857.43477121,\n",
              "        -857.45158055, -857.46861597, -857.48565707, -857.50269605,\n",
              "        -857.5197341 , -857.53656654, -857.55364597, -857.57069172,\n",
              "        -857.58773721, -857.64551193, -857.70564009, -857.76552643,\n",
              "        -857.82542152, -857.885427  , -857.94543248, -858.00543798,\n",
              "        -858.08792528, -858.18114841, -858.27627182, -858.37139625,\n",
              "        -858.46514887, -858.56867375, -858.6753188 , -858.78314342,\n",
              "        -858.88914631, -858.99789277, -859.105067  , -859.21235972,\n",
              "        -859.31956066, -859.42658811, -859.53363539, -859.64305353,\n",
              "        -859.75024306, -859.85732207, -859.96440112, -860.07181379,\n",
              "        -860.17928237, -860.28663925, -860.39399594, -860.50135255]),\n",
              " 'split19_test_score': array([-794.48137156, -794.35622347, -794.38311289, -794.42019896,\n",
              "        -794.47756865, -794.57441043, -794.69584539, -794.81268208,\n",
              "        -794.92969759, -795.03745134, -795.13173028, -795.22638795,\n",
              "        -795.31969931, -795.4205055 , -795.57926203, -795.75162111,\n",
              "        -795.93447185, -796.11670375, -796.29671091, -796.48135991,\n",
              "        -796.66602484, -796.85073599, -797.0200789 , -797.17416411,\n",
              "        -797.32480067, -797.42563277, -797.58544332, -797.74618051,\n",
              "        -797.90699635, -798.07111637, -798.2353508 , -798.39960622,\n",
              "        -798.5653673 , -798.73576104, -798.90627322, -799.0768607 ,\n",
              "        -799.24746156, -799.431373  , -799.63008396, -799.82836651,\n",
              "        -800.03005392, -800.22134409, -800.39564223, -800.57055175,\n",
              "        -800.75047543, -800.93212738, -801.11857097, -801.30483867,\n",
              "        -801.4906764 , -801.67693028, -801.86322013, -802.04945214,\n",
              "        -802.23533887, -802.42157347, -802.60777493, -802.79400614,\n",
              "        -802.98543475, -803.18045538, -803.37543324, -803.54731545,\n",
              "        -803.69658867, -803.84585152, -803.99538246, -804.15392   ,\n",
              "        -804.3160482 , -804.47817708, -804.64074577, -804.80233972,\n",
              "        -804.96394237, -805.1260097 , -805.28820881, -805.45037028,\n",
              "        -805.61248939, -805.77143022, -805.93057273, -806.09655765,\n",
              "        -806.27098327, -806.46130219, -806.65257625, -806.84385037,\n",
              "        -807.03948572, -807.23182262, -807.42466436, -807.61737918,\n",
              "        -807.8100933 , -808.00280965, -808.19550177, -808.38792431,\n",
              "        -808.58018683, -808.77242563, -808.96860039, -809.16106651,\n",
              "        -809.35747861, -809.5609449 , -809.76440351, -809.967852  ,\n",
              "        -810.17117548, -810.37442528, -810.57767507, -810.78092486]),\n",
              " 'split1_test_score': array([-868.71549259, -868.19271531, -867.65428508, -867.16865877,\n",
              "        -866.69904405, -866.29975254, -865.9371004 , -865.59538173,\n",
              "        -865.26927331, -864.94363686, -864.61853454, -864.30791092,\n",
              "        -864.13422687, -864.01610328, -863.89807808, -863.78016356,\n",
              "        -863.66225586, -863.48940469, -863.26971717, -863.06214983,\n",
              "        -862.8547986 , -862.67410591, -862.51053653, -862.36705557,\n",
              "        -862.22486942, -862.08416207, -861.94336849, -861.79795147,\n",
              "        -861.63614983, -861.52005247, -861.40395445, -861.29736136,\n",
              "        -861.20036978, -861.10349093, -861.00636343, -860.90922472,\n",
              "        -860.81230733, -860.71517428, -860.61825442, -860.52106914,\n",
              "        -860.424103  , -860.32708293, -860.23630872, -860.14845351,\n",
              "        -860.0605184 , -859.98308976, -859.90766806, -859.83229334,\n",
              "        -859.75976305, -859.69666794, -859.63360227, -859.57246498,\n",
              "        -859.51365192, -859.45490363, -859.39620107, -859.33739304,\n",
              "        -859.27856858, -859.22351422, -859.18225379, -859.14107003,\n",
              "        -859.09981599, -859.05855305, -859.01729938, -858.97604609,\n",
              "        -858.94253483, -858.91428486, -858.89911843, -858.89211544,\n",
              "        -858.88511244, -858.87813472, -858.87225366, -858.86811129,\n",
              "        -858.86905192, -858.8699819 , -858.87091349, -858.87184584,\n",
              "        -858.87249828, -858.87355398, -858.88198266, -858.90074643,\n",
              "        -858.91949716, -858.94255313, -858.9625538 , -858.9821635 ,\n",
              "        -859.00907551, -859.03213355, -859.05725532, -859.08249498,\n",
              "        -859.10798545, -859.13341997, -859.15885036, -859.18122333,\n",
              "        -859.20665886, -859.23209438, -859.25753003, -859.28251524,\n",
              "        -859.30732632, -859.33235275, -859.35741557, -859.38247278]),\n",
              " 'split2_test_score': array([-825.31091823, -824.90680451, -824.70743192, -824.504083  ,\n",
              "        -824.30104612, -824.09858454, -823.89537504, -823.72608215,\n",
              "        -823.59907275, -823.47588346, -823.36609871, -823.25260376,\n",
              "        -823.15309678, -823.09124469, -823.03867676, -823.02798137,\n",
              "        -823.02062952, -823.04736551, -823.04407142, -823.04170737,\n",
              "        -823.04324855, -823.04413355, -823.03977461, -823.01800892,\n",
              "        -822.97822166, -822.92444291, -822.87026895, -822.81618389,\n",
              "        -822.76038151, -822.70621326, -822.65229886, -822.60618582,\n",
              "        -822.62330753, -822.64917488, -822.66305008, -822.67930856,\n",
              "        -822.70173865, -822.72916223, -822.8227954 , -822.91578891,\n",
              "        -823.01063105, -823.103503  , -823.1961716 , -823.28999182,\n",
              "        -823.37627648, -823.43633028, -823.45512945, -823.47456453,\n",
              "        -823.49384081, -823.51310156, -823.53200643, -823.5512811 ,\n",
              "        -823.58732673, -823.62641676, -823.66637048, -823.71420356,\n",
              "        -823.76315264, -823.81166853, -823.86068033, -823.90957383,\n",
              "        -823.95845931, -824.00734431, -824.05624477, -824.10492297,\n",
              "        -824.15686533, -824.2296393 , -824.30239058, -824.37552583,\n",
              "        -824.44798954, -824.52045396, -824.60126474, -824.70480901,\n",
              "        -824.81084783, -824.92588414, -825.04631334, -825.16679058,\n",
              "        -825.28936648, -825.41081851, -825.5337301 , -825.65521257,\n",
              "        -825.77669507, -825.89964379, -826.02161245, -826.1435811 ,\n",
              "        -826.26555048, -826.3875172 , -826.50945778, -826.63132506,\n",
              "        -826.75319061, -826.87499508, -826.99679937, -827.11860357,\n",
              "        -827.24177701, -827.37937482, -827.51714828, -827.65492032,\n",
              "        -827.79257674, -827.93342659, -828.07510139, -828.21677894]),\n",
              " 'split3_test_score': array([-882.34505074, -882.10076954, -881.79595923, -881.49224106,\n",
              "        -881.18764588, -880.88311779, -880.60855997, -880.38077323,\n",
              "        -880.14322062, -879.97804034, -879.88603232, -879.83535713,\n",
              "        -879.75838786, -879.65058116, -879.54417607, -879.47020064,\n",
              "        -879.39603698, -879.3217962 , -879.24821183, -879.17004439,\n",
              "        -879.10551905, -879.03015055, -878.95302009, -878.86808178,\n",
              "        -878.7751825 , -878.6818801 , -878.58824931, -878.49500458,\n",
              "        -878.40177952, -878.30857643, -878.21542521, -878.12188759,\n",
              "        -878.04167743, -877.99300123, -877.94397922, -877.89537692,\n",
              "        -877.84635926, -877.79775203, -877.74879285, -877.70055492,\n",
              "        -877.65123074, -877.60635571, -877.56954967, -877.53124375,\n",
              "        -877.50304076, -877.47944861, -877.45573354, -877.43209235,\n",
              "        -877.41357234, -877.41269718, -877.41167505, -877.41144707,\n",
              "        -877.45231543, -877.49693034, -877.54512032, -877.58548443,\n",
              "        -877.62577625, -877.66640883, -877.70707721, -877.74844438,\n",
              "        -877.78870017, -877.84103238, -877.90103478, -877.96104514,\n",
              "        -878.02105545, -878.08194731, -878.14156904, -878.20112577,\n",
              "        -878.26076125, -878.320903  , -878.38100477, -878.44187225,\n",
              "        -878.50159582, -878.56134422, -878.62109265, -878.68084107,\n",
              "        -878.74056494, -878.80049976, -878.86062846, -878.9207514 ,\n",
              "        -878.99372898, -879.07090159, -879.14721668, -879.22522464,\n",
              "        -879.30275512, -879.38186026, -879.45961717, -879.53737407,\n",
              "        -879.61639245, -879.69417582, -879.77195874, -879.84974097,\n",
              "        -879.92890257, -880.00574346, -880.08397121, -880.16207128,\n",
              "        -880.24012022, -880.31816915, -880.39757225, -880.4755894 ]),\n",
              " 'split4_test_score': array([-862.80802169, -862.71009929, -862.77744411, -862.91325195,\n",
              "        -863.06082981, -863.19774831, -863.31630531, -863.43440891,\n",
              "        -863.52704303, -863.4628571 , -863.40180055, -863.34042625,\n",
              "        -863.27917548, -863.21800065, -863.15692023, -863.09591679,\n",
              "        -863.03315836, -862.97349179, -862.9073277 , -862.82134847,\n",
              "        -862.74191724, -862.67737077, -862.61528532, -862.55322489,\n",
              "        -862.49119552, -862.41486135, -862.33414116, -862.25231673,\n",
              "        -862.17058827, -862.08911137, -862.00865805, -861.92951417,\n",
              "        -861.84902995, -861.78013383, -861.72844377, -861.72652885,\n",
              "        -861.75141607, -861.79949781, -861.84749695, -861.89691834,\n",
              "        -861.94699054, -862.00097544, -862.05863076, -862.11495456,\n",
              "        -862.17134756, -862.22778   , -862.29304674, -862.3705895 ,\n",
              "        -862.4481583 , -862.52685607, -862.60430775, -862.68330513,\n",
              "        -862.75948938, -862.83738018, -862.91530508, -863.00413289,\n",
              "        -863.1319853 , -863.26043458, -863.38889041, -863.53274004,\n",
              "        -863.68091247, -863.83023399, -863.98714816, -864.1573518 ,\n",
              "        -864.3274975 , -864.48979255, -864.6369842 , -864.76781874,\n",
              "        -864.92316329, -865.08886848, -865.25196375, -865.41382611,\n",
              "        -865.5756746 , -865.7483748 , -865.91007193, -866.07330791,\n",
              "        -866.23756045, -866.40181581, -866.56608616, -866.73033787,\n",
              "        -866.89373383, -867.05797175, -867.22231873, -867.38648315,\n",
              "        -867.55057694, -867.71467151, -867.87876799, -868.04286874,\n",
              "        -868.20699801, -868.37112871, -868.5353138 , -868.69949889,\n",
              "        -868.86463479, -869.02970061, -869.19446912, -869.36103477,\n",
              "        -869.53752815, -869.72103538, -869.90733769, -870.09363998]),\n",
              " 'split5_test_score': array([-862.01094884, -862.35077293, -862.74414972, -863.13693707,\n",
              "        -863.52907865, -863.92235558, -864.11856466, -864.18235101,\n",
              "        -864.24797747, -864.31613088, -864.40088268, -864.48547448,\n",
              "        -864.60711174, -864.73623887, -864.87901695, -865.03077887,\n",
              "        -865.18416385, -865.35498779, -865.55277416, -865.78155727,\n",
              "        -866.00851155, -866.19727246, -866.38589728, -866.54441598,\n",
              "        -866.70209462, -866.85855985, -867.01501851, -867.18299747,\n",
              "        -867.35672883, -867.53730709, -867.71073658, -867.89030666,\n",
              "        -868.06475498, -868.24522779, -868.42253934, -868.59891015,\n",
              "        -868.79254073, -868.99242621, -869.19232291, -869.39222206,\n",
              "        -869.56876737, -869.7282952 , -869.88782895, -870.04733822,\n",
              "        -870.2068832 , -870.31603128, -870.41084235, -870.50566531,\n",
              "        -870.60072336, -870.69554712, -870.79035555, -870.8854243 ,\n",
              "        -870.98025443, -871.07508235, -871.16991065, -871.26496283,\n",
              "        -871.35981779, -871.45465433, -871.54948715, -871.64432806,\n",
              "        -871.739304  , -871.83418337, -871.92906169, -872.02393497,\n",
              "        -872.12634671, -872.23188002, -872.33746051, -872.46740092,\n",
              "        -872.59999646, -872.73273125, -872.86628672, -872.99930364,\n",
              "        -873.13153357, -873.26450525, -873.39672989, -873.52950264,\n",
              "        -873.66211396, -873.79472528, -873.93034544, -874.0778429 ,\n",
              "        -874.22464779, -874.37143172, -874.51830604, -874.66516442,\n",
              "        -874.81202231, -874.9588756 , -875.11779097, -875.27692488,\n",
              "        -875.43605875, -875.59519275, -875.7543133 , -875.91336045,\n",
              "        -876.07253574, -876.23181337, -876.39106854, -876.55032372,\n",
              "        -876.70951906, -876.86866903, -877.02781899, -877.18696648]),\n",
              " 'split6_test_score': array([-816.53904972, -816.82564851, -816.93590641, -816.96522818,\n",
              "        -817.00060597, -817.09809303, -817.20337838, -817.32233897,\n",
              "        -817.46266148, -817.60813868, -817.7296641 , -817.85411132,\n",
              "        -817.9937117 , -818.13286272, -818.2698217 , -818.40672815,\n",
              "        -818.46674074, -818.51780516, -818.56935094, -818.62450317,\n",
              "        -818.68569762, -818.76212763, -818.85776282, -818.97088388,\n",
              "        -819.09028769, -819.21546132, -819.34020623, -819.46144273,\n",
              "        -819.58424569, -819.70502261, -819.83180748, -819.98691699,\n",
              "        -820.1457395 , -820.30251746, -820.46034507, -820.6269889 ,\n",
              "        -820.82042386, -821.03879167, -821.25876431, -821.47922462,\n",
              "        -821.6989201 , -821.9197072 , -822.13916862, -822.35998946,\n",
              "        -822.57918688, -822.80010295, -823.02464011, -823.25140435,\n",
              "        -823.47725928, -823.67339673, -823.89047741, -824.10805939,\n",
              "        -824.32563414, -824.54320533, -824.76025838, -824.97777767,\n",
              "        -825.1953543 , -825.41292104, -825.63046094, -825.84753658,\n",
              "        -826.06509633, -826.28260907, -826.49254692, -826.71140583,\n",
              "        -826.9368176 , -827.16980349, -827.40437734, -827.63475147,\n",
              "        -827.864571  , -828.09440489, -828.32423872, -828.55455725,\n",
              "        -828.78519367, -829.01583009, -829.24646651, -829.47710293,\n",
              "        -829.70757607, -829.93763424, -830.17905377, -830.43532527,\n",
              "        -830.67461504, -830.92266856, -831.17620844, -831.43694973,\n",
              "        -831.70619781, -831.97545137, -832.2447048 , -832.5139566 ,\n",
              "        -832.7828738 , -833.06201626, -833.33166623, -833.59150677,\n",
              "        -833.86156173, -834.13140234, -834.4011773 , -834.67095227,\n",
              "        -834.94048892, -835.20974354, -835.47899817, -835.74824464]),\n",
              " 'split7_test_score': array([-839.06373703, -838.41556205, -837.77148274, -837.24928227,\n",
              "        -836.85766747, -836.47556991, -836.06858389, -835.55783038,\n",
              "        -835.18161184, -834.80536576, -834.42915493, -834.09324916,\n",
              "        -833.88473279, -833.69842614, -833.51532602, -833.33221299,\n",
              "        -833.13972136, -832.94609593, -832.75385795, -832.62031308,\n",
              "        -832.48837801, -832.32531581, -832.17819627, -832.03188567,\n",
              "        -831.88470828, -831.73745483, -831.59096991, -831.44365923,\n",
              "        -831.36166529, -831.28775071, -831.21896932, -831.17518676,\n",
              "        -831.15390725, -831.13106961, -831.10601833, -831.1069993 ,\n",
              "        -831.14592477, -831.18796864, -831.2316947 , -831.29911106,\n",
              "        -831.36635788, -831.43871164, -831.51795836, -831.62162688,\n",
              "        -831.74378864, -831.86464579, -831.99612088, -832.12781196,\n",
              "        -832.25219015, -832.37216626, -832.4924676 , -832.61215533,\n",
              "        -832.73261086, -832.85292367, -832.97322291, -833.09301979,\n",
              "        -833.21330013, -833.33359822, -833.44186472, -833.55779808,\n",
              "        -833.66838464, -833.79169904, -833.90868846, -834.02894331,\n",
              "        -834.11692468, -834.18884091, -834.26087268, -834.33443309,\n",
              "        -834.40813391, -834.48675566, -834.57497057, -834.66368568,\n",
              "        -834.75241618, -834.84071307, -834.92900996, -835.0235326 ,\n",
              "        -835.12646786, -835.22940034, -835.3323883 , -835.43678535,\n",
              "        -835.54128326, -835.65622222, -835.7757184 , -835.8952159 ,\n",
              "        -836.01471962, -836.13422331, -836.25368712, -836.3775308 ,\n",
              "        -836.50998093, -836.64260267, -836.77617477, -836.90967194,\n",
              "        -837.04309803, -837.1763114 , -837.3095039 , -837.45471904,\n",
              "        -837.60349025, -837.75225959, -837.90102857, -838.04979563]),\n",
              " 'split8_test_score': array([-756.78200463, -756.62353917, -756.47296506, -756.33256204,\n",
              "        -756.2192457 , -756.10537591, -755.99251663, -755.90229473,\n",
              "        -755.83254898, -755.71995342, -755.59300646, -755.50724287,\n",
              "        -755.56880432, -755.63300361, -755.71212525, -755.79165845,\n",
              "        -755.83445296, -755.87712422, -755.92025933, -755.9633401 ,\n",
              "        -756.03340789, -756.13267346, -756.23296596, -756.34851719,\n",
              "        -756.44081828, -756.55053231, -756.66063072, -756.79953856,\n",
              "        -756.94568597, -757.09728896, -757.25619562, -757.43728045,\n",
              "        -757.61712634, -757.79651426, -757.97634066, -758.1439119 ,\n",
              "        -758.30724784, -758.47137334, -758.6340812 , -758.79758522,\n",
              "        -758.9607969 , -759.12409917, -759.28895256, -759.45072634,\n",
              "        -759.61433506, -759.77828338, -759.94838864, -760.1226242 ,\n",
              "        -760.2931343 , -760.43506569, -760.5778042 , -760.72045326,\n",
              "        -760.86304674, -761.00500917, -761.14768214, -761.29026003,\n",
              "        -761.43278982, -761.57533681, -761.71751893, -761.85989218,\n",
              "        -761.99610872, -762.13388749, -762.27230953, -762.41069247,\n",
              "        -762.54947585, -762.68851363, -762.82755157, -762.96659681,\n",
              "        -763.10619477, -763.25001346, -763.40685483, -763.56437488,\n",
              "        -763.72209528, -763.86268022, -764.01589028, -764.17467672,\n",
              "        -764.32886827, -764.48564571, -764.64072767, -764.80638899,\n",
              "        -764.96495222, -765.13865834, -765.31309617, -765.48944895,\n",
              "        -765.66573647, -765.8534318 , -766.02988473, -766.2157229 ,\n",
              "        -766.40331866, -766.59088322, -766.778016  , -766.96475329,\n",
              "        -767.15148745, -767.3392296 , -767.52753202, -767.71583445,\n",
              "        -767.90412812, -768.09182613, -768.27946711, -768.46711124]),\n",
              " 'split9_test_score': array([-777.44123096, -777.09921766, -776.75841881, -776.41311324,\n",
              "        -776.07299353, -775.74144195, -775.44407182, -775.18815445,\n",
              "        -774.94521589, -774.68036382, -774.3976393 , -774.1243817 ,\n",
              "        -773.86326242, -773.61259042, -773.33491587, -773.04135105,\n",
              "        -772.774042  , -772.53881573, -772.30446188, -772.08225328,\n",
              "        -771.86981771, -771.66968569, -771.47447343, -771.27893705,\n",
              "        -771.09178515, -770.9052186 , -770.72153992, -770.53008764,\n",
              "        -770.32876354, -770.12679091, -769.9406923 , -769.80446954,\n",
              "        -769.76190396, -769.71696807, -769.69302251, -769.68123972,\n",
              "        -769.6711538 , -769.67476898, -769.67643069, -769.67845726,\n",
              "        -769.68345253, -769.72451266, -769.76918863, -769.8120364 ,\n",
              "        -769.8576728 , -769.90389854, -769.95117647, -769.99741407,\n",
              "        -770.0443408 , -770.09170304, -770.13841654, -770.18661388,\n",
              "        -770.2335954 , -770.28047675, -770.32081084, -770.36221264,\n",
              "        -770.40315324, -770.44411168, -770.48506514, -770.52687653,\n",
              "        -770.56747766, -770.60840366, -770.65412651, -770.70764211,\n",
              "        -770.76116228, -770.81493762, -770.86845118, -770.92115525,\n",
              "        -770.97273461, -771.03640678, -771.09695847, -771.15823262,\n",
              "        -771.23830155, -771.31506696, -771.39490704, -771.47438663,\n",
              "        -771.55292129, -771.63216986, -771.7166813 , -771.79767276,\n",
              "        -771.88240097, -771.9768558 , -772.09412059, -772.21337045,\n",
              "        -772.3326349 , -772.45191583, -772.57119518, -772.69047319,\n",
              "        -772.80975091, -772.92901074, -773.04826563, -773.16759691,\n",
              "        -773.2869541 , -773.41243142, -773.54544402, -773.6784556 ,\n",
              "        -773.81146718, -773.94451003, -774.07758441, -774.21065921]),\n",
              " 'std_fit_time': array([0.00222095, 0.0008845 , 0.00082801, 0.00063574, 0.00213095,\n",
              "        0.00077423, 0.0020938 , 0.00053425, 0.00402656, 0.00063871,\n",
              "        0.00242298, 0.000559  , 0.00064427, 0.00154442, 0.00064707,\n",
              "        0.00069183, 0.00241952, 0.00062069, 0.00121808, 0.00054472,\n",
              "        0.00147496, 0.00049169, 0.00053592, 0.00226544, 0.00058944,\n",
              "        0.00058791, 0.00052164, 0.00059392, 0.00055228, 0.00048429,\n",
              "        0.00044311, 0.0022118 , 0.0004099 , 0.00039668, 0.00031343,\n",
              "        0.0002874 , 0.00087502, 0.00028578, 0.00019912, 0.00021339,\n",
              "        0.00236231, 0.00022254, 0.00021967, 0.00017529, 0.00016184,\n",
              "        0.00202854, 0.00267893, 0.00029787, 0.0001887 , 0.00101472,\n",
              "        0.00020252, 0.00020163, 0.00064526, 0.00012398, 0.00214155,\n",
              "        0.00019933, 0.00011138, 0.00012644, 0.00018826, 0.00027987,\n",
              "        0.00080143, 0.00133892, 0.00014117, 0.00027025, 0.00058738,\n",
              "        0.00022127, 0.00019034, 0.00025422, 0.00025614, 0.00086304,\n",
              "        0.00033578, 0.00023801, 0.00019736, 0.00027978, 0.00215665,\n",
              "        0.00040742, 0.00026361, 0.00243562, 0.00027454, 0.00184781,\n",
              "        0.00028915, 0.00036106, 0.00027655, 0.00033341, 0.00222804,\n",
              "        0.00036374, 0.00022883, 0.00029123, 0.00031324, 0.00188783,\n",
              "        0.00020621, 0.00031581, 0.00019215, 0.00030827, 0.002087  ,\n",
              "        0.00024025, 0.00021902, 0.0002042 , 0.00184007, 0.00050661]),\n",
              " 'std_score_time': array([1.87508979e-04, 1.45272032e-04, 3.96108446e-04, 1.00198070e-04,\n",
              "        1.10485595e-04, 9.73489773e-05, 9.39988976e-05, 8.40729048e-05,\n",
              "        1.03440506e-03, 1.18420525e-04, 8.29065291e-05, 4.91205693e-05,\n",
              "        1.22296328e-04, 4.96927123e-05, 8.66455326e-05, 8.24886206e-05,\n",
              "        1.04191327e-04, 7.05151555e-05, 6.18496534e-05, 5.73563205e-05,\n",
              "        5.43384593e-05, 3.05148399e-05, 5.86441507e-05, 5.07374679e-05,\n",
              "        7.27088094e-05, 3.25109676e-05, 7.61386839e-05, 1.11249329e-03,\n",
              "        4.11135869e-05, 6.36397159e-05, 3.26486258e-05, 6.15636695e-05,\n",
              "        3.36024747e-05, 6.38647801e-05, 3.86595634e-05, 5.49789366e-05,\n",
              "        1.55889375e-04, 7.06636983e-05, 4.99934185e-05, 4.37864321e-05,\n",
              "        6.94538437e-05, 5.08200527e-05, 8.31988440e-05, 3.80366862e-05,\n",
              "        6.16359571e-05, 5.22707189e-04, 9.61743161e-04, 6.38496172e-05,\n",
              "        7.55545430e-05, 2.19076335e-04, 5.53686009e-05, 5.25865389e-05,\n",
              "        4.02873457e-04, 1.40844653e-05, 6.45333563e-05, 3.72762321e-05,\n",
              "        2.70042986e-05, 3.34018303e-05, 4.88684390e-05, 4.80435008e-04,\n",
              "        1.98767719e-05, 6.28221012e-05, 2.22917515e-05, 4.49737707e-05,\n",
              "        1.65262634e-03, 3.28094177e-05, 3.91714905e-05, 5.37051212e-05,\n",
              "        3.43792564e-05, 8.00294854e-05, 1.40547942e-04, 3.57707233e-05,\n",
              "        3.03120791e-05, 5.10568516e-05, 3.82438915e-05, 3.40463463e-05,\n",
              "        2.86706123e-05, 8.95591482e-05, 2.15290096e-05, 1.79018023e-05,\n",
              "        5.12535679e-05, 7.18545540e-05, 4.32564159e-05, 3.94360402e-05,\n",
              "        4.33229242e-05, 4.39247313e-05, 3.93558434e-05, 2.62647473e-05,\n",
              "        9.86985615e-05, 6.12714276e-04, 3.79758588e-05, 8.56291695e-05,\n",
              "        1.81662246e-05, 4.29598194e-05, 1.13887070e-04, 5.53734580e-05,\n",
              "        3.80922909e-05, 5.88372227e-05, 2.30095813e-04, 6.07453411e-04]),\n",
              " 'std_test_score': array([35.30044376, 35.31141477, 35.3336033 , 35.36522891, 35.38285585,\n",
              "        35.39465215, 35.39524322, 35.38890661, 35.38171257, 35.37190346,\n",
              "        35.37670475, 35.38720026, 35.39776756, 35.41277879, 35.42667037,\n",
              "        35.43971841, 35.45496484, 35.46654873, 35.47393692, 35.48338142,\n",
              "        35.48895874, 35.49114427, 35.49893829, 35.50454639, 35.51668371,\n",
              "        35.53124561, 35.54291271, 35.55064127, 35.55765327, 35.56458151,\n",
              "        35.56836784, 35.56793152, 35.5597834 , 35.55598248, 35.55271535,\n",
              "        35.55313628, 35.55597865, 35.55880145, 35.56142874, 35.56636201,\n",
              "        35.56857264, 35.56929274, 35.57177562, 35.57586448, 35.58380356,\n",
              "        35.59357096, 35.60377773, 35.61516445, 35.62659477, 35.64076292,\n",
              "        35.65483201, 35.66855604, 35.68832783, 35.70864362, 35.72618038,\n",
              "        35.74253585, 35.76145398, 35.78242566, 35.80511377, 35.82966963,\n",
              "        35.85299297, 35.87551359, 35.89798257, 35.92060577, 35.94472659,\n",
              "        35.9689595 , 35.99212105, 36.01519063, 36.04059141, 36.0673371 ,\n",
              "        36.09313668, 36.11804233, 36.14175035, 36.16698702, 36.19217472,\n",
              "        36.21714862, 36.24322821, 36.26950265, 36.2966527 , 36.32472475,\n",
              "        36.35340331, 36.37984084, 36.40490247, 36.43002214, 36.45493513,\n",
              "        36.47918658, 36.50588281, 36.53235955, 36.55868141, 36.58453377,\n",
              "        36.61046375, 36.63735655, 36.66416778, 36.69065357, 36.7167311 ,\n",
              "        36.74330871, 36.77086197, 36.79893963, 36.82639169, 36.85357177])}"
            ]
          },
          "metadata": {
            "tags": []
          },
          "execution_count": 254
        }
      ]
    },
    {
      "cell_type": "code",
      "metadata": {
        "id": "8NoBzgBza9wH"
      },
      "source": [
        "test_pred_L=grid_search.predict(x_train2)"
      ],
      "execution_count": null,
      "outputs": []
    },
    {
      "cell_type": "code",
      "metadata": {
        "id": "HDkK0k03c7_5"
      },
      "source": [
        "MAE_Lasso = mean_absolute_error(cf_train2['Counterfeit_Sales'],test_pred_L)"
      ],
      "execution_count": null,
      "outputs": []
    },
    {
      "cell_type": "code",
      "metadata": {
        "id": "o9MCprwAc79I",
        "colab": {
          "base_uri": "https://localhost:8080/",
          "height": 34
        },
        "outputId": "f18deeff-f3df-40cb-b0ee-9d20338bd32c"
      },
      "source": [
        "Score = 1-(MAE_Lasso/1660)\n",
        "print(Score)"
      ],
      "execution_count": null,
      "outputs": [
        {
          "output_type": "stream",
          "text": [
            "0.5026773921691574\n"
          ],
          "name": "stdout"
        }
      ]
    },
    {
      "cell_type": "code",
      "metadata": {
        "id": "3i3w-ai3c76O"
      },
      "source": [
        "test_pred_L1=grid_search.predict(x_test)"
      ],
      "execution_count": null,
      "outputs": []
    },
    {
      "cell_type": "code",
      "metadata": {
        "id": "XB7_4y6Wc70p",
        "colab": {
          "base_uri": "https://localhost:8080/",
          "height": 51
        },
        "outputId": "f9915b75-b82a-4040-9364-179ecd321099"
      },
      "source": [
        "print(test_pred_L1)\n",
        "pd.DataFrame(test_pred_L1).to_csv(\"mysubmission.csv\",index=False)"
      ],
      "execution_count": null,
      "outputs": [
        {
          "output_type": "stream",
          "text": [
            "[2767.20884573 3943.90340816 1569.33629391 ... 2867.44730237 3867.59547825\n",
            " 3678.72546121]\n"
          ],
          "name": "stdout"
        }
      ]
    },
    {
      "cell_type": "code",
      "metadata": {
        "id": "8wrcN8TkheKD",
        "colab": {
          "base_uri": "https://localhost:8080/",
          "height": 51
        },
        "outputId": "245549fc-06d4-41db-bba6-051fdf3d867d"
      },
      "source": [
        "test_pred_L1"
      ],
      "execution_count": null,
      "outputs": [
        {
          "output_type": "execute_result",
          "data": {
            "text/plain": [
              "array([2761.48992607, 3945.87334144, 1575.68209   , ..., 2866.0708827 ,\n",
              "       3869.27836367, 3677.45995454])"
            ]
          },
          "metadata": {
            "tags": []
          },
          "execution_count": 131
        }
      ]
    },
    {
      "cell_type": "code",
      "metadata": {
        "id": "OD8-NWB3owNO",
        "colab": {
          "base_uri": "https://localhost:8080/",
          "height": 51
        },
        "outputId": "d27bd39d-80da-45e6-d58c-5116a2534160"
      },
      "source": [
        "test_pred"
      ],
      "execution_count": null,
      "outputs": [
        {
          "output_type": "execute_result",
          "data": {
            "text/plain": [
              "array([1085.68071808,  898.97074415, 3820.67204142, ..., 1700.56208416,\n",
              "       3854.70259697, 1735.58178285])"
            ]
          },
          "metadata": {
            "tags": []
          },
          "execution_count": 132
        }
      ]
    },
    {
      "cell_type": "code",
      "source": [
        ""
      ],
      "metadata": {
        "id": "tYDXk2yc1Pvs"
      },
      "execution_count": null,
      "outputs": []
    },
    {
      "cell_type": "code",
      "source": [
        ""
      ],
      "metadata": {
        "id": "1Cr8Y5bs1Pao"
      },
      "execution_count": null,
      "outputs": []
    },
    {
      "cell_type": "code",
      "metadata": {
        "id": "ckjxaG3Cc7vB"
      },
      "source": [
        "#data analysis"
      ],
      "execution_count": null,
      "outputs": []
    },
    {
      "cell_type": "code",
      "metadata": {
        "id": "MRdZn_WyHidT",
        "colab": {
          "base_uri": "https://localhost:8080/",
          "height": 342
        },
        "outputId": "8b55e71f-f4ce-4f56-b882-8091be530f19"
      },
      "source": [
        "import seaborn as sns\n",
        "\n",
        "sns.set(style='whitegrid', palette=\"deep\", font_scale=1.1, rc={\"figure.figsize\": [8, 5]})\n",
        "sns.distplot(\n",
        "    cf_train['Counterfeit_Sales'], norm_hist=False, kde=False, bins=20, hist_kws={\"alpha\": 1}\n",
        ").set(xlabel='Counterfeit_Sales', ylabel='Count');"
      ],
      "execution_count": null,
      "outputs": [
        {
          "output_type": "display_data",
          "data": {
            "image/png": "[encoded data removed]",
            "text/plain": [
              "<Figure size 576x360 with 1 Axes>"
            ]
          },
          "metadata": {
            "tags": []
          }
        }
      ]
    },
    {
      "cell_type": "code",
      "metadata": {
        "id": "apyB6q6IJWj_",
        "colab": {
          "base_uri": "https://localhost:8080/",
          "height": 342
        },
        "outputId": "db3a6b41-aa07-4354-cec9-576a46d5f4ff"
      },
      "source": [
        "sns.set(style='whitegrid', palette=\"deep\", font_scale=1.1, rc={\"figure.figsize\": [8, 5]})\n",
        "sns.distplot(\n",
        "    cf_train['Counterfeit_Sales'], norm_hist=False, kde=False, bins=20, hist_kws={\"alpha\": 1}\n",
        ").set(xlabel='Counterfeit_Sales', ylabel='Count');"
      ],
      "execution_count": null,
      "outputs": [
        {
          "output_type": "display_data",
          "data": {
            "image/png": "[encoded data removed]",
            "text/plain": [
              "<Figure size 576x360 with 1 Axes>"
            ]
          },
          "metadata": {
            "tags": []
          }
        }
      ]
    },
    {
      "cell_type": "code",
      "metadata": {
        "id": "JQENcQU-KMHC",
        "colab": {
          "base_uri": "https://localhost:8080/",
          "height": 238
        },
        "outputId": "b6b38e2d-ac41-49e4-e0c9-a5001448ed4f"
      },
      "source": [
        "cf_train.dtypes"
      ],
      "execution_count": null,
      "outputs": [
        {
          "output_type": "execute_result",
          "data": {
            "text/plain": [
              "Medicine_ID             object\n",
              "Counterfeit_Weight     float64\n",
              "DistArea_ID             object\n",
              "Active_Since             int64\n",
              "Medicine_MRP           float64\n",
              "Medicine_Type           object\n",
              "SidEffect_Level         object\n",
              "Availability_rating    float64\n",
              "Area_Type               object\n",
              "Area_City_Type          object\n",
              "Area_dist_level         object\n",
              "Counterfeit_Sales      float64\n",
              "dtype: object"
            ]
          },
          "metadata": {
            "tags": []
          },
          "execution_count": 13
        }
      ]
    },
    {
      "cell_type": "code",
      "metadata": {
        "id": "OdL2IGTgJ8Y5",
        "colab": {
          "base_uri": "https://localhost:8080/",
          "height": 344
        },
        "outputId": "97207563-2e64-4b12-c284-7b291447f918"
      },
      "source": [
        "sns.set(style='whitegrid', palette=\"deep\", font_scale=1.1, rc={\"figure.figsize\": [8, 5]})\n",
        "sns.distplot(\n",
        "    cf_train['Counterfeit_Weight'], norm_hist=False, kde=False, bins=20, hist_kws={\"alpha\": 1}\n",
        ").set(xlabel='Counterfeit_Weight', ylabel='Count');"
      ],
      "execution_count": null,
      "outputs": [
        {
          "output_type": "display_data",
          "data": {
            "image/png": "[encoded data removed]",
            "text/plain": [
              "<Figure size 576x360 with 1 Axes>"
            ]
          },
          "metadata": {
            "tags": []
          }
        }
      ]
    },
    {
      "cell_type": "code",
      "metadata": {
        "id": "UxrvOaP2KT8U",
        "colab": {
          "base_uri": "https://localhost:8080/",
          "height": 342
        },
        "outputId": "1b3f573b-df04-4423-a15e-c6db03a2b1a0"
      },
      "source": [
        "sns.set(style='whitegrid', palette=\"deep\", font_scale=1.1, rc={\"figure.figsize\": [8, 5]})\n",
        "sns.distplot(\n",
        "    cf_train['Medicine_MRP'], norm_hist=False, kde=False, bins=20, hist_kws={\"alpha\": 1}\n",
        ").set(xlabel='Medicine_MRP', ylabel='Count');"
      ],
      "execution_count": null,
      "outputs": [
        {
          "output_type": "display_data",
          "data": {
            "image/png": "[encoded data removed]",
            "text/plain": [
              "<Figure size 576x360 with 1 Axes>"
            ]
          },
          "metadata": {
            "tags": []
          }
        }
      ]
    },
    {
      "cell_type": "code",
      "metadata": {
        "id": "Qu6z_UZUKca4",
        "colab": {
          "base_uri": "https://localhost:8080/",
          "height": 342
        },
        "outputId": "f173e50e-da85-4dcb-88eb-ae201cd63376"
      },
      "source": [
        "sns.set(style='whitegrid', palette=\"deep\", font_scale=1.1, rc={\"figure.figsize\": [8, 5]})\n",
        "sns.distplot(\n",
        "    cf_train['Active_Since'], norm_hist=False, kde=False, bins=20, hist_kws={\"alpha\": 1}\n",
        ").set(xlabel='Active_Since', ylabel='Count');"
      ],
      "execution_count": null,
      "outputs": [
        {
          "output_type": "display_data",
          "data": {
            "image/png": "[encoded data removed]",
            "text/plain": [
              "<Figure size 576x360 with 1 Axes>"
            ]
          },
          "metadata": {
            "tags": []
          }
        }
      ]
    },
    {
      "cell_type": "code",
      "metadata": {
        "id": "Lj7m_PxQKs22",
        "colab": {
          "base_uri": "https://localhost:8080/",
          "height": 342
        },
        "outputId": "26544702-bee3-406c-ac1f-abc47da6e620"
      },
      "source": [
        "sns.set(style='whitegrid', palette=\"deep\", font_scale=1.1, rc={\"figure.figsize\": [8, 5]})\n",
        "sns.distplot(\n",
        "    cf_train['Availability_rating'], norm_hist=False, kde=False, bins=20, hist_kws={\"alpha\": 1}\n",
        ").set(xlabel='Availability_rating', ylabel='Count');"
      ],
      "execution_count": null,
      "outputs": [
        {
          "output_type": "display_data",
          "data": {
            "image/png": "[encoded data removed]",
            "text/plain": [
              "<Figure size 576x360 with 1 Axes>"
            ]
          },
          "metadata": {
            "tags": []
          }
        }
      ]
    },
    {
      "cell_type": "code",
      "metadata": {
        "id": "nOODLAAIKrBB",
        "colab": {
          "base_uri": "https://localhost:8080/",
          "height": 342
        },
        "outputId": "5ab72dcc-98c0-4193-f488-2d65de5ed2ef"
      },
      "source": [
        "sns.scatterplot(x=cf_train['Medicine_MRP'], y=cf_train['Counterfeit_Sales']);"
      ],
      "execution_count": null,
      "outputs": [
        {
          "output_type": "display_data",
          "data": {
            "image/png": "[encoded data removed]",
            "text/plain": [
              "<Figure size 576x360 with 1 Axes>"
            ]
          },
          "metadata": {
            "tags": []
          }
        }
      ]
    },
    {
      "cell_type": "code",
      "metadata": {
        "id": "x7XPO7crKRGc",
        "colab": {
          "base_uri": "https://localhost:8080/",
          "height": 835
        },
        "outputId": "5759c251-05f4-463a-96bf-e78ed747d535"
      },
      "source": [
        "sns.boxplot(x=cf_train['Medicine_MRP_n'], y=cf_train['Counterfeit_Sales']);"
      ],
      "execution_count": null,
      "outputs": [
        {
          "output_type": "stream",
          "text": [
            "Error in callback <function install_repl_displayhook.<locals>.post_execute at 0x7fa90ee89620> (for post_execute):\n"
          ],
          "name": "stdout"
        },
        {
          "output_type": "error",
          "ename": "KeyboardInterrupt",
          "evalue": "ignored",
          "traceback": [
            "\u001b[0;31m---------------------------------------------------------------------------\u001b[0m",
            "\u001b[0;31mKeyboardInterrupt\u001b[0m                         Traceback (most recent call last)",
            "\u001b[0;32m/usr/local/lib/python3.6/dist-packages/matplotlib/pyplot.py\u001b[0m in \u001b[0;36mpost_execute\u001b[0;34m()\u001b[0m\n\u001b[1;32m    107\u001b[0m             \u001b[0;32mdef\u001b[0m \u001b[0mpost_execute\u001b[0m\u001b[0;34m(\u001b[0m\u001b[0;34m)\u001b[0m\u001b[0;34m:\u001b[0m\u001b[0;34m\u001b[0m\u001b[0;34m\u001b[0m\u001b[0m\n\u001b[1;32m    108\u001b[0m                 \u001b[0;32mif\u001b[0m \u001b[0mmatplotlib\u001b[0m\u001b[0;34m.\u001b[0m\u001b[0mis_interactive\u001b[0m\u001b[0;34m(\u001b[0m\u001b[0;34m)\u001b[0m\u001b[0;34m:\u001b[0m\u001b[0;34m\u001b[0m\u001b[0;34m\u001b[0m\u001b[0m\n\u001b[0;32m--> 109\u001b[0;31m                     \u001b[0mdraw_all\u001b[0m\u001b[0;34m(\u001b[0m\u001b[0;34m)\u001b[0m\u001b[0;34m\u001b[0m\u001b[0;34m\u001b[0m\u001b[0m\n\u001b[0m\u001b[1;32m    110\u001b[0m \u001b[0;34m\u001b[0m\u001b[0m\n\u001b[1;32m    111\u001b[0m             \u001b[0;31m# IPython >= 2\u001b[0m\u001b[0;34m\u001b[0m\u001b[0;34m\u001b[0m\u001b[0;34m\u001b[0m\u001b[0m\n",
            "\u001b[0;32m/usr/local/lib/python3.6/dist-packages/matplotlib/_pylab_helpers.py\u001b[0m in \u001b[0;36mdraw_all\u001b[0;34m(cls, force)\u001b[0m\n\u001b[1;32m    125\u001b[0m         \u001b[0;32mfor\u001b[0m \u001b[0mf_mgr\u001b[0m \u001b[0;32min\u001b[0m \u001b[0mcls\u001b[0m\u001b[0;34m.\u001b[0m\u001b[0mget_all_fig_managers\u001b[0m\u001b[0;34m(\u001b[0m\u001b[0;34m)\u001b[0m\u001b[0;34m:\u001b[0m\u001b[0;34m\u001b[0m\u001b[0;34m\u001b[0m\u001b[0m\n\u001b[1;32m    126\u001b[0m             \u001b[0;32mif\u001b[0m \u001b[0mforce\u001b[0m \u001b[0;32mor\u001b[0m \u001b[0mf_mgr\u001b[0m\u001b[0;34m.\u001b[0m\u001b[0mcanvas\u001b[0m\u001b[0;34m.\u001b[0m\u001b[0mfigure\u001b[0m\u001b[0;34m.\u001b[0m\u001b[0mstale\u001b[0m\u001b[0;34m:\u001b[0m\u001b[0;34m\u001b[0m\u001b[0;34m\u001b[0m\u001b[0m\n\u001b[0;32m--> 127\u001b[0;31m                 \u001b[0mf_mgr\u001b[0m\u001b[0;34m.\u001b[0m\u001b[0mcanvas\u001b[0m\u001b[0;34m.\u001b[0m\u001b[0mdraw_idle\u001b[0m\u001b[0;34m(\u001b[0m\u001b[0;34m)\u001b[0m\u001b[0;34m\u001b[0m\u001b[0;34m\u001b[0m\u001b[0m\n\u001b[0m\u001b[1;32m    128\u001b[0m \u001b[0;34m\u001b[0m\u001b[0m\n\u001b[1;32m    129\u001b[0m \u001b[0matexit\u001b[0m\u001b[0;34m.\u001b[0m\u001b[0mregister\u001b[0m\u001b[0;34m(\u001b[0m\u001b[0mGcf\u001b[0m\u001b[0;34m.\u001b[0m\u001b[0mdestroy_all\u001b[0m\u001b[0;34m)\u001b[0m\u001b[0;34m\u001b[0m\u001b[0;34m\u001b[0m\u001b[0m\n",
            "\u001b[0;32m/usr/local/lib/python3.6/dist-packages/matplotlib/backend_bases.py\u001b[0m in \u001b[0;36mdraw_idle\u001b[0;34m(self, *args, **kwargs)\u001b[0m\n\u001b[1;32m   1929\u001b[0m         \u001b[0;32mif\u001b[0m \u001b[0;32mnot\u001b[0m \u001b[0mself\u001b[0m\u001b[0;34m.\u001b[0m\u001b[0m_is_idle_drawing\u001b[0m\u001b[0;34m:\u001b[0m\u001b[0;34m\u001b[0m\u001b[0;34m\u001b[0m\u001b[0m\n\u001b[1;32m   1930\u001b[0m             \u001b[0;32mwith\u001b[0m \u001b[0mself\u001b[0m\u001b[0;34m.\u001b[0m\u001b[0m_idle_draw_cntx\u001b[0m\u001b[0;34m(\u001b[0m\u001b[0;34m)\u001b[0m\u001b[0;34m:\u001b[0m\u001b[0;34m\u001b[0m\u001b[0;34m\u001b[0m\u001b[0m\n\u001b[0;32m-> 1931\u001b[0;31m                 \u001b[0mself\u001b[0m\u001b[0;34m.\u001b[0m\u001b[0mdraw\u001b[0m\u001b[0;34m(\u001b[0m\u001b[0;34m*\u001b[0m\u001b[0margs\u001b[0m\u001b[0;34m,\u001b[0m \u001b[0;34m**\u001b[0m\u001b[0mkwargs\u001b[0m\u001b[0;34m)\u001b[0m\u001b[0;34m\u001b[0m\u001b[0;34m\u001b[0m\u001b[0m\n\u001b[0m\u001b[1;32m   1932\u001b[0m \u001b[0;34m\u001b[0m\u001b[0m\n\u001b[1;32m   1933\u001b[0m     \u001b[0;34m@\u001b[0m\u001b[0mcbook\u001b[0m\u001b[0;34m.\u001b[0m\u001b[0mdeprecated\u001b[0m\u001b[0;34m(\u001b[0m\u001b[0;34m\"3.2\"\u001b[0m\u001b[0;34m)\u001b[0m\u001b[0;34m\u001b[0m\u001b[0;34m\u001b[0m\u001b[0m\n",
            "\u001b[0;32m/usr/local/lib/python3.6/dist-packages/matplotlib/backends/backend_agg.py\u001b[0m in \u001b[0;36mdraw\u001b[0;34m(self)\u001b[0m\n\u001b[1;32m    391\u001b[0m              (self.toolbar._wait_cursor_for_draw_cm() if self.toolbar\n\u001b[1;32m    392\u001b[0m               else nullcontext()):\n\u001b[0;32m--> 393\u001b[0;31m             \u001b[0mself\u001b[0m\u001b[0;34m.\u001b[0m\u001b[0mfigure\u001b[0m\u001b[0;34m.\u001b[0m\u001b[0mdraw\u001b[0m\u001b[0;34m(\u001b[0m\u001b[0mself\u001b[0m\u001b[0;34m.\u001b[0m\u001b[0mrenderer\u001b[0m\u001b[0;34m)\u001b[0m\u001b[0;34m\u001b[0m\u001b[0;34m\u001b[0m\u001b[0m\n\u001b[0m\u001b[1;32m    394\u001b[0m             \u001b[0;31m# A GUI class may be need to update a window using this draw, so\u001b[0m\u001b[0;34m\u001b[0m\u001b[0;34m\u001b[0m\u001b[0;34m\u001b[0m\u001b[0m\n\u001b[1;32m    395\u001b[0m             \u001b[0;31m# don't forget to call the superclass.\u001b[0m\u001b[0;34m\u001b[0m\u001b[0;34m\u001b[0m\u001b[0;34m\u001b[0m\u001b[0m\n",
            "\u001b[0;32m/usr/local/lib/python3.6/dist-packages/matplotlib/artist.py\u001b[0m in \u001b[0;36mdraw_wrapper\u001b[0;34m(artist, renderer, *args, **kwargs)\u001b[0m\n\u001b[1;32m     36\u001b[0m                 \u001b[0mrenderer\u001b[0m\u001b[0;34m.\u001b[0m\u001b[0mstart_filter\u001b[0m\u001b[0;34m(\u001b[0m\u001b[0;34m)\u001b[0m\u001b[0;34m\u001b[0m\u001b[0;34m\u001b[0m\u001b[0m\n\u001b[1;32m     37\u001b[0m \u001b[0;34m\u001b[0m\u001b[0m\n\u001b[0;32m---> 38\u001b[0;31m             \u001b[0;32mreturn\u001b[0m \u001b[0mdraw\u001b[0m\u001b[0;34m(\u001b[0m\u001b[0martist\u001b[0m\u001b[0;34m,\u001b[0m \u001b[0mrenderer\u001b[0m\u001b[0;34m,\u001b[0m \u001b[0;34m*\u001b[0m\u001b[0margs\u001b[0m\u001b[0;34m,\u001b[0m \u001b[0;34m**\u001b[0m\u001b[0mkwargs\u001b[0m\u001b[0;34m)\u001b[0m\u001b[0;34m\u001b[0m\u001b[0;34m\u001b[0m\u001b[0m\n\u001b[0m\u001b[1;32m     39\u001b[0m         \u001b[0;32mfinally\u001b[0m\u001b[0;34m:\u001b[0m\u001b[0;34m\u001b[0m\u001b[0;34m\u001b[0m\u001b[0m\n\u001b[1;32m     40\u001b[0m             \u001b[0;32mif\u001b[0m \u001b[0martist\u001b[0m\u001b[0;34m.\u001b[0m\u001b[0mget_agg_filter\u001b[0m\u001b[0;34m(\u001b[0m\u001b[0;34m)\u001b[0m \u001b[0;32mis\u001b[0m \u001b[0;32mnot\u001b[0m \u001b[0;32mNone\u001b[0m\u001b[0;34m:\u001b[0m\u001b[0;34m\u001b[0m\u001b[0;34m\u001b[0m\u001b[0m\n",
            "\u001b[0;32m/usr/local/lib/python3.6/dist-packages/matplotlib/figure.py\u001b[0m in \u001b[0;36mdraw\u001b[0;34m(self, renderer)\u001b[0m\n\u001b[1;32m   1734\u001b[0m             \u001b[0mself\u001b[0m\u001b[0;34m.\u001b[0m\u001b[0mpatch\u001b[0m\u001b[0;34m.\u001b[0m\u001b[0mdraw\u001b[0m\u001b[0;34m(\u001b[0m\u001b[0mrenderer\u001b[0m\u001b[0;34m)\u001b[0m\u001b[0;34m\u001b[0m\u001b[0;34m\u001b[0m\u001b[0m\n\u001b[1;32m   1735\u001b[0m             mimage._draw_list_compositing_images(\n\u001b[0;32m-> 1736\u001b[0;31m                 renderer, self, artists, self.suppressComposite)\n\u001b[0m\u001b[1;32m   1737\u001b[0m \u001b[0;34m\u001b[0m\u001b[0m\n\u001b[1;32m   1738\u001b[0m             \u001b[0mrenderer\u001b[0m\u001b[0;34m.\u001b[0m\u001b[0mclose_group\u001b[0m\u001b[0;34m(\u001b[0m\u001b[0;34m'figure'\u001b[0m\u001b[0;34m)\u001b[0m\u001b[0;34m\u001b[0m\u001b[0;34m\u001b[0m\u001b[0m\n",
            "\u001b[0;32m/usr/local/lib/python3.6/dist-packages/matplotlib/image.py\u001b[0m in \u001b[0;36m_draw_list_compositing_images\u001b[0;34m(renderer, parent, artists, suppress_composite)\u001b[0m\n\u001b[1;32m    135\u001b[0m     \u001b[0;32mif\u001b[0m \u001b[0mnot_composite\u001b[0m \u001b[0;32mor\u001b[0m \u001b[0;32mnot\u001b[0m \u001b[0mhas_images\u001b[0m\u001b[0;34m:\u001b[0m\u001b[0;34m\u001b[0m\u001b[0;34m\u001b[0m\u001b[0m\n\u001b[1;32m    136\u001b[0m         \u001b[0;32mfor\u001b[0m \u001b[0ma\u001b[0m \u001b[0;32min\u001b[0m \u001b[0martists\u001b[0m\u001b[0;34m:\u001b[0m\u001b[0;34m\u001b[0m\u001b[0;34m\u001b[0m\u001b[0m\n\u001b[0;32m--> 137\u001b[0;31m             \u001b[0ma\u001b[0m\u001b[0;34m.\u001b[0m\u001b[0mdraw\u001b[0m\u001b[0;34m(\u001b[0m\u001b[0mrenderer\u001b[0m\u001b[0;34m)\u001b[0m\u001b[0;34m\u001b[0m\u001b[0;34m\u001b[0m\u001b[0m\n\u001b[0m\u001b[1;32m    138\u001b[0m     \u001b[0;32melse\u001b[0m\u001b[0;34m:\u001b[0m\u001b[0;34m\u001b[0m\u001b[0;34m\u001b[0m\u001b[0m\n\u001b[1;32m    139\u001b[0m         \u001b[0;31m# Composite any adjacent images together\u001b[0m\u001b[0;34m\u001b[0m\u001b[0;34m\u001b[0m\u001b[0;34m\u001b[0m\u001b[0m\n",
            "\u001b[0;32m/usr/local/lib/python3.6/dist-packages/matplotlib/artist.py\u001b[0m in \u001b[0;36mdraw_wrapper\u001b[0;34m(artist, renderer, *args, **kwargs)\u001b[0m\n\u001b[1;32m     36\u001b[0m                 \u001b[0mrenderer\u001b[0m\u001b[0;34m.\u001b[0m\u001b[0mstart_filter\u001b[0m\u001b[0;34m(\u001b[0m\u001b[0;34m)\u001b[0m\u001b[0;34m\u001b[0m\u001b[0;34m\u001b[0m\u001b[0m\n\u001b[1;32m     37\u001b[0m \u001b[0;34m\u001b[0m\u001b[0m\n\u001b[0;32m---> 38\u001b[0;31m             \u001b[0;32mreturn\u001b[0m \u001b[0mdraw\u001b[0m\u001b[0;34m(\u001b[0m\u001b[0martist\u001b[0m\u001b[0;34m,\u001b[0m \u001b[0mrenderer\u001b[0m\u001b[0;34m,\u001b[0m \u001b[0;34m*\u001b[0m\u001b[0margs\u001b[0m\u001b[0;34m,\u001b[0m \u001b[0;34m**\u001b[0m\u001b[0mkwargs\u001b[0m\u001b[0;34m)\u001b[0m\u001b[0;34m\u001b[0m\u001b[0;34m\u001b[0m\u001b[0m\n\u001b[0m\u001b[1;32m     39\u001b[0m         \u001b[0;32mfinally\u001b[0m\u001b[0;34m:\u001b[0m\u001b[0;34m\u001b[0m\u001b[0;34m\u001b[0m\u001b[0m\n\u001b[1;32m     40\u001b[0m             \u001b[0;32mif\u001b[0m \u001b[0martist\u001b[0m\u001b[0;34m.\u001b[0m\u001b[0mget_agg_filter\u001b[0m\u001b[0;34m(\u001b[0m\u001b[0;34m)\u001b[0m \u001b[0;32mis\u001b[0m \u001b[0;32mnot\u001b[0m \u001b[0;32mNone\u001b[0m\u001b[0;34m:\u001b[0m\u001b[0;34m\u001b[0m\u001b[0;34m\u001b[0m\u001b[0m\n",
            "\u001b[0;32m/usr/local/lib/python3.6/dist-packages/matplotlib/axes/_base.py\u001b[0m in \u001b[0;36mdraw\u001b[0;34m(self, renderer, inframe)\u001b[0m\n\u001b[1;32m   2628\u001b[0m             \u001b[0mrenderer\u001b[0m\u001b[0;34m.\u001b[0m\u001b[0mstop_rasterizing\u001b[0m\u001b[0;34m(\u001b[0m\u001b[0;34m)\u001b[0m\u001b[0;34m\u001b[0m\u001b[0;34m\u001b[0m\u001b[0m\n\u001b[1;32m   2629\u001b[0m \u001b[0;34m\u001b[0m\u001b[0m\n\u001b[0;32m-> 2630\u001b[0;31m         \u001b[0mmimage\u001b[0m\u001b[0;34m.\u001b[0m\u001b[0m_draw_list_compositing_images\u001b[0m\u001b[0;34m(\u001b[0m\u001b[0mrenderer\u001b[0m\u001b[0;34m,\u001b[0m \u001b[0mself\u001b[0m\u001b[0;34m,\u001b[0m \u001b[0martists\u001b[0m\u001b[0;34m)\u001b[0m\u001b[0;34m\u001b[0m\u001b[0;34m\u001b[0m\u001b[0m\n\u001b[0m\u001b[1;32m   2631\u001b[0m \u001b[0;34m\u001b[0m\u001b[0m\n\u001b[1;32m   2632\u001b[0m         \u001b[0mrenderer\u001b[0m\u001b[0;34m.\u001b[0m\u001b[0mclose_group\u001b[0m\u001b[0;34m(\u001b[0m\u001b[0;34m'axes'\u001b[0m\u001b[0;34m)\u001b[0m\u001b[0;34m\u001b[0m\u001b[0;34m\u001b[0m\u001b[0m\n",
            "\u001b[0;32m/usr/local/lib/python3.6/dist-packages/matplotlib/image.py\u001b[0m in \u001b[0;36m_draw_list_compositing_images\u001b[0;34m(renderer, parent, artists, suppress_composite)\u001b[0m\n\u001b[1;32m    135\u001b[0m     \u001b[0;32mif\u001b[0m \u001b[0mnot_composite\u001b[0m \u001b[0;32mor\u001b[0m \u001b[0;32mnot\u001b[0m \u001b[0mhas_images\u001b[0m\u001b[0;34m:\u001b[0m\u001b[0;34m\u001b[0m\u001b[0;34m\u001b[0m\u001b[0m\n\u001b[1;32m    136\u001b[0m         \u001b[0;32mfor\u001b[0m \u001b[0ma\u001b[0m \u001b[0;32min\u001b[0m \u001b[0martists\u001b[0m\u001b[0;34m:\u001b[0m\u001b[0;34m\u001b[0m\u001b[0;34m\u001b[0m\u001b[0m\n\u001b[0;32m--> 137\u001b[0;31m             \u001b[0ma\u001b[0m\u001b[0;34m.\u001b[0m\u001b[0mdraw\u001b[0m\u001b[0;34m(\u001b[0m\u001b[0mrenderer\u001b[0m\u001b[0;34m)\u001b[0m\u001b[0;34m\u001b[0m\u001b[0;34m\u001b[0m\u001b[0m\n\u001b[0m\u001b[1;32m    138\u001b[0m     \u001b[0;32melse\u001b[0m\u001b[0;34m:\u001b[0m\u001b[0;34m\u001b[0m\u001b[0;34m\u001b[0m\u001b[0m\n\u001b[1;32m    139\u001b[0m         \u001b[0;31m# Composite any adjacent images together\u001b[0m\u001b[0;34m\u001b[0m\u001b[0;34m\u001b[0m\u001b[0;34m\u001b[0m\u001b[0m\n",
            "\u001b[0;32m/usr/local/lib/python3.6/dist-packages/matplotlib/artist.py\u001b[0m in \u001b[0;36mdraw_wrapper\u001b[0;34m(artist, renderer, *args, **kwargs)\u001b[0m\n\u001b[1;32m     36\u001b[0m                 \u001b[0mrenderer\u001b[0m\u001b[0;34m.\u001b[0m\u001b[0mstart_filter\u001b[0m\u001b[0;34m(\u001b[0m\u001b[0;34m)\u001b[0m\u001b[0;34m\u001b[0m\u001b[0;34m\u001b[0m\u001b[0m\n\u001b[1;32m     37\u001b[0m \u001b[0;34m\u001b[0m\u001b[0m\n\u001b[0;32m---> 38\u001b[0;31m             \u001b[0;32mreturn\u001b[0m \u001b[0mdraw\u001b[0m\u001b[0;34m(\u001b[0m\u001b[0martist\u001b[0m\u001b[0;34m,\u001b[0m \u001b[0mrenderer\u001b[0m\u001b[0;34m,\u001b[0m \u001b[0;34m*\u001b[0m\u001b[0margs\u001b[0m\u001b[0;34m,\u001b[0m \u001b[0;34m**\u001b[0m\u001b[0mkwargs\u001b[0m\u001b[0;34m)\u001b[0m\u001b[0;34m\u001b[0m\u001b[0;34m\u001b[0m\u001b[0m\n\u001b[0m\u001b[1;32m     39\u001b[0m         \u001b[0;32mfinally\u001b[0m\u001b[0;34m:\u001b[0m\u001b[0;34m\u001b[0m\u001b[0;34m\u001b[0m\u001b[0m\n\u001b[1;32m     40\u001b[0m             \u001b[0;32mif\u001b[0m \u001b[0martist\u001b[0m\u001b[0;34m.\u001b[0m\u001b[0mget_agg_filter\u001b[0m\u001b[0;34m(\u001b[0m\u001b[0;34m)\u001b[0m \u001b[0;32mis\u001b[0m \u001b[0;32mnot\u001b[0m \u001b[0;32mNone\u001b[0m\u001b[0;34m:\u001b[0m\u001b[0;34m\u001b[0m\u001b[0;34m\u001b[0m\u001b[0m\n",
            "\u001b[0;32m/usr/local/lib/python3.6/dist-packages/matplotlib/axis.py\u001b[0m in \u001b[0;36mdraw\u001b[0;34m(self, renderer, *args, **kwargs)\u001b[0m\n\u001b[1;32m   1230\u001b[0m \u001b[0;34m\u001b[0m\u001b[0m\n\u001b[1;32m   1231\u001b[0m         \u001b[0;32mfor\u001b[0m \u001b[0mtick\u001b[0m \u001b[0;32min\u001b[0m \u001b[0mticks_to_draw\u001b[0m\u001b[0;34m:\u001b[0m\u001b[0;34m\u001b[0m\u001b[0;34m\u001b[0m\u001b[0m\n\u001b[0;32m-> 1232\u001b[0;31m             \u001b[0mtick\u001b[0m\u001b[0;34m.\u001b[0m\u001b[0mdraw\u001b[0m\u001b[0;34m(\u001b[0m\u001b[0mrenderer\u001b[0m\u001b[0;34m)\u001b[0m\u001b[0;34m\u001b[0m\u001b[0;34m\u001b[0m\u001b[0m\n\u001b[0m\u001b[1;32m   1233\u001b[0m \u001b[0;34m\u001b[0m\u001b[0m\n\u001b[1;32m   1234\u001b[0m         \u001b[0;31m# scale up the axis label box to also find the neighbors, not\u001b[0m\u001b[0;34m\u001b[0m\u001b[0;34m\u001b[0m\u001b[0;34m\u001b[0m\u001b[0m\n",
            "\u001b[0;32m/usr/local/lib/python3.6/dist-packages/matplotlib/artist.py\u001b[0m in \u001b[0;36mdraw_wrapper\u001b[0;34m(artist, renderer, *args, **kwargs)\u001b[0m\n\u001b[1;32m     36\u001b[0m                 \u001b[0mrenderer\u001b[0m\u001b[0;34m.\u001b[0m\u001b[0mstart_filter\u001b[0m\u001b[0;34m(\u001b[0m\u001b[0;34m)\u001b[0m\u001b[0;34m\u001b[0m\u001b[0;34m\u001b[0m\u001b[0m\n\u001b[1;32m     37\u001b[0m \u001b[0;34m\u001b[0m\u001b[0m\n\u001b[0;32m---> 38\u001b[0;31m             \u001b[0;32mreturn\u001b[0m \u001b[0mdraw\u001b[0m\u001b[0;34m(\u001b[0m\u001b[0martist\u001b[0m\u001b[0;34m,\u001b[0m \u001b[0mrenderer\u001b[0m\u001b[0;34m,\u001b[0m \u001b[0;34m*\u001b[0m\u001b[0margs\u001b[0m\u001b[0;34m,\u001b[0m \u001b[0;34m**\u001b[0m\u001b[0mkwargs\u001b[0m\u001b[0;34m)\u001b[0m\u001b[0;34m\u001b[0m\u001b[0;34m\u001b[0m\u001b[0m\n\u001b[0m\u001b[1;32m     39\u001b[0m         \u001b[0;32mfinally\u001b[0m\u001b[0;34m:\u001b[0m\u001b[0;34m\u001b[0m\u001b[0;34m\u001b[0m\u001b[0m\n\u001b[1;32m     40\u001b[0m             \u001b[0;32mif\u001b[0m \u001b[0martist\u001b[0m\u001b[0;34m.\u001b[0m\u001b[0mget_agg_filter\u001b[0m\u001b[0;34m(\u001b[0m\u001b[0;34m)\u001b[0m \u001b[0;32mis\u001b[0m \u001b[0;32mnot\u001b[0m \u001b[0;32mNone\u001b[0m\u001b[0;34m:\u001b[0m\u001b[0;34m\u001b[0m\u001b[0;34m\u001b[0m\u001b[0m\n",
            "\u001b[0;32m/usr/local/lib/python3.6/dist-packages/matplotlib/axis.py\u001b[0m in \u001b[0;36mdraw\u001b[0;34m(self, renderer)\u001b[0m\n\u001b[1;32m    295\u001b[0m         for artist in [self.gridline, self.tick1line, self.tick2line,\n\u001b[1;32m    296\u001b[0m                        self.label1, self.label2]:\n\u001b[0;32m--> 297\u001b[0;31m             \u001b[0martist\u001b[0m\u001b[0;34m.\u001b[0m\u001b[0mdraw\u001b[0m\u001b[0;34m(\u001b[0m\u001b[0mrenderer\u001b[0m\u001b[0;34m)\u001b[0m\u001b[0;34m\u001b[0m\u001b[0;34m\u001b[0m\u001b[0m\n\u001b[0m\u001b[1;32m    298\u001b[0m         \u001b[0mrenderer\u001b[0m\u001b[0;34m.\u001b[0m\u001b[0mclose_group\u001b[0m\u001b[0;34m(\u001b[0m\u001b[0mself\u001b[0m\u001b[0;34m.\u001b[0m\u001b[0m__name__\u001b[0m\u001b[0;34m)\u001b[0m\u001b[0;34m\u001b[0m\u001b[0;34m\u001b[0m\u001b[0m\n\u001b[1;32m    299\u001b[0m         \u001b[0mself\u001b[0m\u001b[0;34m.\u001b[0m\u001b[0mstale\u001b[0m \u001b[0;34m=\u001b[0m \u001b[0;32mFalse\u001b[0m\u001b[0;34m\u001b[0m\u001b[0;34m\u001b[0m\u001b[0m\n",
            "\u001b[0;32m/usr/local/lib/python3.6/dist-packages/matplotlib/artist.py\u001b[0m in \u001b[0;36mdraw_wrapper\u001b[0;34m(artist, renderer, *args, **kwargs)\u001b[0m\n\u001b[1;32m     36\u001b[0m                 \u001b[0mrenderer\u001b[0m\u001b[0;34m.\u001b[0m\u001b[0mstart_filter\u001b[0m\u001b[0;34m(\u001b[0m\u001b[0;34m)\u001b[0m\u001b[0;34m\u001b[0m\u001b[0;34m\u001b[0m\u001b[0m\n\u001b[1;32m     37\u001b[0m \u001b[0;34m\u001b[0m\u001b[0m\n\u001b[0;32m---> 38\u001b[0;31m             \u001b[0;32mreturn\u001b[0m \u001b[0mdraw\u001b[0m\u001b[0;34m(\u001b[0m\u001b[0martist\u001b[0m\u001b[0;34m,\u001b[0m \u001b[0mrenderer\u001b[0m\u001b[0;34m,\u001b[0m \u001b[0;34m*\u001b[0m\u001b[0margs\u001b[0m\u001b[0;34m,\u001b[0m \u001b[0;34m**\u001b[0m\u001b[0mkwargs\u001b[0m\u001b[0;34m)\u001b[0m\u001b[0;34m\u001b[0m\u001b[0;34m\u001b[0m\u001b[0m\n\u001b[0m\u001b[1;32m     39\u001b[0m         \u001b[0;32mfinally\u001b[0m\u001b[0;34m:\u001b[0m\u001b[0;34m\u001b[0m\u001b[0;34m\u001b[0m\u001b[0m\n\u001b[1;32m     40\u001b[0m             \u001b[0;32mif\u001b[0m \u001b[0martist\u001b[0m\u001b[0;34m.\u001b[0m\u001b[0mget_agg_filter\u001b[0m\u001b[0;34m(\u001b[0m\u001b[0;34m)\u001b[0m \u001b[0;32mis\u001b[0m \u001b[0;32mnot\u001b[0m \u001b[0;32mNone\u001b[0m\u001b[0;34m:\u001b[0m\u001b[0;34m\u001b[0m\u001b[0;34m\u001b[0m\u001b[0m\n",
            "\u001b[0;32m/usr/local/lib/python3.6/dist-packages/matplotlib/lines.py\u001b[0m in \u001b[0;36mdraw\u001b[0;34m(self, renderer)\u001b[0m\n\u001b[1;32m    757\u001b[0m \u001b[0;34m\u001b[0m\u001b[0m\n\u001b[1;32m    758\u001b[0m         \u001b[0;32mif\u001b[0m \u001b[0mself\u001b[0m\u001b[0;34m.\u001b[0m\u001b[0m_invalidy\u001b[0m \u001b[0;32mor\u001b[0m \u001b[0mself\u001b[0m\u001b[0;34m.\u001b[0m\u001b[0m_invalidx\u001b[0m\u001b[0;34m:\u001b[0m\u001b[0;34m\u001b[0m\u001b[0;34m\u001b[0m\u001b[0m\n\u001b[0;32m--> 759\u001b[0;31m             \u001b[0mself\u001b[0m\u001b[0;34m.\u001b[0m\u001b[0mrecache\u001b[0m\u001b[0;34m(\u001b[0m\u001b[0;34m)\u001b[0m\u001b[0;34m\u001b[0m\u001b[0;34m\u001b[0m\u001b[0m\n\u001b[0m\u001b[1;32m    760\u001b[0m         \u001b[0mself\u001b[0m\u001b[0;34m.\u001b[0m\u001b[0mind_offset\u001b[0m \u001b[0;34m=\u001b[0m \u001b[0;36m0\u001b[0m  \u001b[0;31m# Needed for contains() method.\u001b[0m\u001b[0;34m\u001b[0m\u001b[0;34m\u001b[0m\u001b[0m\n\u001b[1;32m    761\u001b[0m         \u001b[0;32mif\u001b[0m \u001b[0mself\u001b[0m\u001b[0;34m.\u001b[0m\u001b[0m_subslice\u001b[0m \u001b[0;32mand\u001b[0m \u001b[0mself\u001b[0m\u001b[0;34m.\u001b[0m\u001b[0maxes\u001b[0m\u001b[0;34m:\u001b[0m\u001b[0;34m\u001b[0m\u001b[0;34m\u001b[0m\u001b[0m\n",
            "\u001b[0;32m/usr/local/lib/python3.6/dist-packages/matplotlib/lines.py\u001b[0m in \u001b[0;36mrecache\u001b[0;34m(self, always)\u001b[0m\n\u001b[1;32m    677\u001b[0m             \u001b[0my\u001b[0m \u001b[0;34m=\u001b[0m \u001b[0mself\u001b[0m\u001b[0;34m.\u001b[0m\u001b[0m_y\u001b[0m\u001b[0;34m\u001b[0m\u001b[0;34m\u001b[0m\u001b[0m\n\u001b[1;32m    678\u001b[0m \u001b[0;34m\u001b[0m\u001b[0m\n\u001b[0;32m--> 679\u001b[0;31m         \u001b[0mself\u001b[0m\u001b[0;34m.\u001b[0m\u001b[0m_xy\u001b[0m \u001b[0;34m=\u001b[0m \u001b[0mnp\u001b[0m\u001b[0;34m.\u001b[0m\u001b[0mcolumn_stack\u001b[0m\u001b[0;34m(\u001b[0m\u001b[0mnp\u001b[0m\u001b[0;34m.\u001b[0m\u001b[0mbroadcast_arrays\u001b[0m\u001b[0;34m(\u001b[0m\u001b[0mx\u001b[0m\u001b[0;34m,\u001b[0m \u001b[0my\u001b[0m\u001b[0;34m)\u001b[0m\u001b[0;34m)\u001b[0m\u001b[0;34m.\u001b[0m\u001b[0mastype\u001b[0m\u001b[0;34m(\u001b[0m\u001b[0mfloat\u001b[0m\u001b[0;34m)\u001b[0m\u001b[0;34m\u001b[0m\u001b[0;34m\u001b[0m\u001b[0m\n\u001b[0m\u001b[1;32m    680\u001b[0m         \u001b[0mself\u001b[0m\u001b[0;34m.\u001b[0m\u001b[0m_x\u001b[0m\u001b[0;34m,\u001b[0m \u001b[0mself\u001b[0m\u001b[0;34m.\u001b[0m\u001b[0m_y\u001b[0m \u001b[0;34m=\u001b[0m \u001b[0mself\u001b[0m\u001b[0;34m.\u001b[0m\u001b[0m_xy\u001b[0m\u001b[0;34m.\u001b[0m\u001b[0mT\u001b[0m  \u001b[0;31m# views\u001b[0m\u001b[0;34m\u001b[0m\u001b[0;34m\u001b[0m\u001b[0m\n\u001b[1;32m    681\u001b[0m \u001b[0;34m\u001b[0m\u001b[0m\n",
            "\u001b[0;32m<__array_function__ internals>\u001b[0m in \u001b[0;36mbroadcast_arrays\u001b[0;34m(*args, **kwargs)\u001b[0m\n",
            "\u001b[0;32m/usr/local/lib/python3.6/dist-packages/numpy/lib/stride_tricks.py\u001b[0m in \u001b[0;36mbroadcast_arrays\u001b[0;34m(*args, **kwargs)\u001b[0m\n\u001b[1;32m    262\u001b[0m     \u001b[0margs\u001b[0m \u001b[0;34m=\u001b[0m \u001b[0;34m[\u001b[0m\u001b[0mnp\u001b[0m\u001b[0;34m.\u001b[0m\u001b[0marray\u001b[0m\u001b[0;34m(\u001b[0m\u001b[0m_m\u001b[0m\u001b[0;34m,\u001b[0m \u001b[0mcopy\u001b[0m\u001b[0;34m=\u001b[0m\u001b[0;32mFalse\u001b[0m\u001b[0;34m,\u001b[0m \u001b[0msubok\u001b[0m\u001b[0;34m=\u001b[0m\u001b[0msubok\u001b[0m\u001b[0;34m)\u001b[0m \u001b[0;32mfor\u001b[0m \u001b[0m_m\u001b[0m \u001b[0;32min\u001b[0m \u001b[0margs\u001b[0m\u001b[0;34m]\u001b[0m\u001b[0;34m\u001b[0m\u001b[0;34m\u001b[0m\u001b[0m\n\u001b[1;32m    263\u001b[0m \u001b[0;34m\u001b[0m\u001b[0m\n\u001b[0;32m--> 264\u001b[0;31m     \u001b[0mshape\u001b[0m \u001b[0;34m=\u001b[0m \u001b[0m_broadcast_shape\u001b[0m\u001b[0;34m(\u001b[0m\u001b[0;34m*\u001b[0m\u001b[0margs\u001b[0m\u001b[0;34m)\u001b[0m\u001b[0;34m\u001b[0m\u001b[0;34m\u001b[0m\u001b[0m\n\u001b[0m\u001b[1;32m    265\u001b[0m \u001b[0;34m\u001b[0m\u001b[0m\n\u001b[1;32m    266\u001b[0m     \u001b[0;32mif\u001b[0m \u001b[0mall\u001b[0m\u001b[0;34m(\u001b[0m\u001b[0marray\u001b[0m\u001b[0;34m.\u001b[0m\u001b[0mshape\u001b[0m \u001b[0;34m==\u001b[0m \u001b[0mshape\u001b[0m \u001b[0;32mfor\u001b[0m \u001b[0marray\u001b[0m \u001b[0;32min\u001b[0m \u001b[0margs\u001b[0m\u001b[0;34m)\u001b[0m\u001b[0;34m:\u001b[0m\u001b[0;34m\u001b[0m\u001b[0;34m\u001b[0m\u001b[0m\n",
            "\u001b[0;31mKeyboardInterrupt\u001b[0m: "
          ]
        },
        {
          "output_type": "stream",
          "text": [
            "Error in callback <function flush_figures at 0x7fa90dd7bae8> (for post_execute):\n"
          ],
          "name": "stdout"
        },
        {
          "output_type": "error",
          "ename": "KeyboardInterrupt",
          "evalue": "ignored",
          "traceback": [
            "\u001b[0;31m---------------------------------------------------------------------------\u001b[0m",
            "\u001b[0;31mKeyboardInterrupt\u001b[0m                         Traceback (most recent call last)",
            "\u001b[0;32m/usr/local/lib/python3.6/dist-packages/ipykernel/pylab/backend_inline.py\u001b[0m in \u001b[0;36mflush_figures\u001b[0;34m()\u001b[0m\n\u001b[1;32m    115\u001b[0m         \u001b[0;31m# ignore the tracking, just draw and close all figures\u001b[0m\u001b[0;34m\u001b[0m\u001b[0;34m\u001b[0m\u001b[0;34m\u001b[0m\u001b[0m\n\u001b[1;32m    116\u001b[0m         \u001b[0;32mtry\u001b[0m\u001b[0;34m:\u001b[0m\u001b[0;34m\u001b[0m\u001b[0;34m\u001b[0m\u001b[0m\n\u001b[0;32m--> 117\u001b[0;31m             \u001b[0;32mreturn\u001b[0m \u001b[0mshow\u001b[0m\u001b[0;34m(\u001b[0m\u001b[0;32mTrue\u001b[0m\u001b[0;34m)\u001b[0m\u001b[0;34m\u001b[0m\u001b[0;34m\u001b[0m\u001b[0m\n\u001b[0m\u001b[1;32m    118\u001b[0m         \u001b[0;32mexcept\u001b[0m \u001b[0mException\u001b[0m \u001b[0;32mas\u001b[0m \u001b[0me\u001b[0m\u001b[0;34m:\u001b[0m\u001b[0;34m\u001b[0m\u001b[0;34m\u001b[0m\u001b[0m\n\u001b[1;32m    119\u001b[0m             \u001b[0;31m# safely show traceback if in IPython, else raise\u001b[0m\u001b[0;34m\u001b[0m\u001b[0;34m\u001b[0m\u001b[0;34m\u001b[0m\u001b[0m\n",
            "\u001b[0;32m/usr/local/lib/python3.6/dist-packages/ipykernel/pylab/backend_inline.py\u001b[0m in \u001b[0;36mshow\u001b[0;34m(close, block)\u001b[0m\n\u001b[1;32m     37\u001b[0m             display(\n\u001b[1;32m     38\u001b[0m                 \u001b[0mfigure_manager\u001b[0m\u001b[0;34m.\u001b[0m\u001b[0mcanvas\u001b[0m\u001b[0;34m.\u001b[0m\u001b[0mfigure\u001b[0m\u001b[0;34m,\u001b[0m\u001b[0;34m\u001b[0m\u001b[0;34m\u001b[0m\u001b[0m\n\u001b[0;32m---> 39\u001b[0;31m                 \u001b[0mmetadata\u001b[0m\u001b[0;34m=\u001b[0m\u001b[0m_fetch_figure_metadata\u001b[0m\u001b[0;34m(\u001b[0m\u001b[0mfigure_manager\u001b[0m\u001b[0;34m.\u001b[0m\u001b[0mcanvas\u001b[0m\u001b[0;34m.\u001b[0m\u001b[0mfigure\u001b[0m\u001b[0;34m)\u001b[0m\u001b[0;34m\u001b[0m\u001b[0;34m\u001b[0m\u001b[0m\n\u001b[0m\u001b[1;32m     40\u001b[0m             )\n\u001b[1;32m     41\u001b[0m     \u001b[0;32mfinally\u001b[0m\u001b[0;34m:\u001b[0m\u001b[0;34m\u001b[0m\u001b[0;34m\u001b[0m\u001b[0m\n",
            "\u001b[0;32m/usr/local/lib/python3.6/dist-packages/IPython/core/display.py\u001b[0m in \u001b[0;36mdisplay\u001b[0;34m(*objs, **kwargs)\u001b[0m\n\u001b[1;32m    304\u001b[0m             \u001b[0mpublish_display_data\u001b[0m\u001b[0;34m(\u001b[0m\u001b[0mdata\u001b[0m\u001b[0;34m=\u001b[0m\u001b[0mobj\u001b[0m\u001b[0;34m,\u001b[0m \u001b[0mmetadata\u001b[0m\u001b[0;34m=\u001b[0m\u001b[0mmetadata\u001b[0m\u001b[0;34m,\u001b[0m \u001b[0;34m**\u001b[0m\u001b[0mkwargs\u001b[0m\u001b[0;34m)\u001b[0m\u001b[0;34m\u001b[0m\u001b[0;34m\u001b[0m\u001b[0m\n\u001b[1;32m    305\u001b[0m         \u001b[0;32melse\u001b[0m\u001b[0;34m:\u001b[0m\u001b[0;34m\u001b[0m\u001b[0;34m\u001b[0m\u001b[0m\n\u001b[0;32m--> 306\u001b[0;31m             \u001b[0mformat_dict\u001b[0m\u001b[0;34m,\u001b[0m \u001b[0mmd_dict\u001b[0m \u001b[0;34m=\u001b[0m \u001b[0mformat\u001b[0m\u001b[0;34m(\u001b[0m\u001b[0mobj\u001b[0m\u001b[0;34m,\u001b[0m \u001b[0minclude\u001b[0m\u001b[0;34m=\u001b[0m\u001b[0minclude\u001b[0m\u001b[0;34m,\u001b[0m \u001b[0mexclude\u001b[0m\u001b[0;34m=\u001b[0m\u001b[0mexclude\u001b[0m\u001b[0;34m)\u001b[0m\u001b[0;34m\u001b[0m\u001b[0;34m\u001b[0m\u001b[0m\n\u001b[0m\u001b[1;32m    307\u001b[0m             \u001b[0;32mif\u001b[0m \u001b[0;32mnot\u001b[0m \u001b[0mformat_dict\u001b[0m\u001b[0;34m:\u001b[0m\u001b[0;34m\u001b[0m\u001b[0;34m\u001b[0m\u001b[0m\n\u001b[1;32m    308\u001b[0m                 \u001b[0;31m# nothing to display (e.g. _ipython_display_ took over)\u001b[0m\u001b[0;34m\u001b[0m\u001b[0;34m\u001b[0m\u001b[0;34m\u001b[0m\u001b[0m\n",
            "\u001b[0;32m/usr/local/lib/python3.6/dist-packages/IPython/core/formatters.py\u001b[0m in \u001b[0;36mformat\u001b[0;34m(self, obj, include, exclude)\u001b[0m\n\u001b[1;32m    171\u001b[0m             \u001b[0mmd\u001b[0m \u001b[0;34m=\u001b[0m \u001b[0;32mNone\u001b[0m\u001b[0;34m\u001b[0m\u001b[0;34m\u001b[0m\u001b[0m\n\u001b[1;32m    172\u001b[0m             \u001b[0;32mtry\u001b[0m\u001b[0;34m:\u001b[0m\u001b[0;34m\u001b[0m\u001b[0;34m\u001b[0m\u001b[0m\n\u001b[0;32m--> 173\u001b[0;31m                 \u001b[0mdata\u001b[0m \u001b[0;34m=\u001b[0m \u001b[0mformatter\u001b[0m\u001b[0;34m(\u001b[0m\u001b[0mobj\u001b[0m\u001b[0;34m)\u001b[0m\u001b[0;34m\u001b[0m\u001b[0;34m\u001b[0m\u001b[0m\n\u001b[0m\u001b[1;32m    174\u001b[0m             \u001b[0;32mexcept\u001b[0m\u001b[0;34m:\u001b[0m\u001b[0;34m\u001b[0m\u001b[0;34m\u001b[0m\u001b[0m\n\u001b[1;32m    175\u001b[0m                 \u001b[0;31m# FIXME: log the exception\u001b[0m\u001b[0;34m\u001b[0m\u001b[0;34m\u001b[0m\u001b[0;34m\u001b[0m\u001b[0m\n",
            "\u001b[0;32m<decorator-gen-9>\u001b[0m in \u001b[0;36m__call__\u001b[0;34m(self, obj)\u001b[0m\n",
            "\u001b[0;32m/usr/local/lib/python3.6/dist-packages/IPython/core/formatters.py\u001b[0m in \u001b[0;36mcatch_format_error\u001b[0;34m(method, self, *args, **kwargs)\u001b[0m\n\u001b[1;32m    215\u001b[0m     \u001b[0;34m\"\"\"show traceback on failed format call\"\"\"\u001b[0m\u001b[0;34m\u001b[0m\u001b[0;34m\u001b[0m\u001b[0m\n\u001b[1;32m    216\u001b[0m     \u001b[0;32mtry\u001b[0m\u001b[0;34m:\u001b[0m\u001b[0;34m\u001b[0m\u001b[0;34m\u001b[0m\u001b[0m\n\u001b[0;32m--> 217\u001b[0;31m         \u001b[0mr\u001b[0m \u001b[0;34m=\u001b[0m \u001b[0mmethod\u001b[0m\u001b[0;34m(\u001b[0m\u001b[0mself\u001b[0m\u001b[0;34m,\u001b[0m \u001b[0;34m*\u001b[0m\u001b[0margs\u001b[0m\u001b[0;34m,\u001b[0m \u001b[0;34m**\u001b[0m\u001b[0mkwargs\u001b[0m\u001b[0;34m)\u001b[0m\u001b[0;34m\u001b[0m\u001b[0;34m\u001b[0m\u001b[0m\n\u001b[0m\u001b[1;32m    218\u001b[0m     \u001b[0;32mexcept\u001b[0m \u001b[0mNotImplementedError\u001b[0m\u001b[0;34m:\u001b[0m\u001b[0;34m\u001b[0m\u001b[0;34m\u001b[0m\u001b[0m\n\u001b[1;32m    219\u001b[0m         \u001b[0;31m# don't warn on NotImplementedErrors\u001b[0m\u001b[0;34m\u001b[0m\u001b[0;34m\u001b[0m\u001b[0;34m\u001b[0m\u001b[0m\n",
            "\u001b[0;32m/usr/local/lib/python3.6/dist-packages/IPython/core/formatters.py\u001b[0m in \u001b[0;36m__call__\u001b[0;34m(self, obj)\u001b[0m\n\u001b[1;32m    332\u001b[0m                 \u001b[0;32mpass\u001b[0m\u001b[0;34m\u001b[0m\u001b[0;34m\u001b[0m\u001b[0m\n\u001b[1;32m    333\u001b[0m             \u001b[0;32melse\u001b[0m\u001b[0;34m:\u001b[0m\u001b[0;34m\u001b[0m\u001b[0;34m\u001b[0m\u001b[0m\n\u001b[0;32m--> 334\u001b[0;31m                 \u001b[0;32mreturn\u001b[0m \u001b[0mprinter\u001b[0m\u001b[0;34m(\u001b[0m\u001b[0mobj\u001b[0m\u001b[0;34m)\u001b[0m\u001b[0;34m\u001b[0m\u001b[0;34m\u001b[0m\u001b[0m\n\u001b[0m\u001b[1;32m    335\u001b[0m             \u001b[0;31m# Finally look for special method names\u001b[0m\u001b[0;34m\u001b[0m\u001b[0;34m\u001b[0m\u001b[0;34m\u001b[0m\u001b[0m\n\u001b[1;32m    336\u001b[0m             \u001b[0mmethod\u001b[0m \u001b[0;34m=\u001b[0m \u001b[0mget_real_method\u001b[0m\u001b[0;34m(\u001b[0m\u001b[0mobj\u001b[0m\u001b[0;34m,\u001b[0m \u001b[0mself\u001b[0m\u001b[0;34m.\u001b[0m\u001b[0mprint_method\u001b[0m\u001b[0;34m)\u001b[0m\u001b[0;34m\u001b[0m\u001b[0;34m\u001b[0m\u001b[0m\n",
            "\u001b[0;32m/usr/local/lib/python3.6/dist-packages/IPython/core/pylabtools.py\u001b[0m in \u001b[0;36m<lambda>\u001b[0;34m(fig)\u001b[0m\n\u001b[1;32m    239\u001b[0m \u001b[0;34m\u001b[0m\u001b[0m\n\u001b[1;32m    240\u001b[0m     \u001b[0;32mif\u001b[0m \u001b[0;34m'png'\u001b[0m \u001b[0;32min\u001b[0m \u001b[0mformats\u001b[0m\u001b[0;34m:\u001b[0m\u001b[0;34m\u001b[0m\u001b[0;34m\u001b[0m\u001b[0m\n\u001b[0;32m--> 241\u001b[0;31m         \u001b[0mpng_formatter\u001b[0m\u001b[0;34m.\u001b[0m\u001b[0mfor_type\u001b[0m\u001b[0;34m(\u001b[0m\u001b[0mFigure\u001b[0m\u001b[0;34m,\u001b[0m \u001b[0;32mlambda\u001b[0m \u001b[0mfig\u001b[0m\u001b[0;34m:\u001b[0m \u001b[0mprint_figure\u001b[0m\u001b[0;34m(\u001b[0m\u001b[0mfig\u001b[0m\u001b[0;34m,\u001b[0m \u001b[0;34m'png'\u001b[0m\u001b[0;34m,\u001b[0m \u001b[0;34m**\u001b[0m\u001b[0mkwargs\u001b[0m\u001b[0;34m)\u001b[0m\u001b[0;34m)\u001b[0m\u001b[0;34m\u001b[0m\u001b[0;34m\u001b[0m\u001b[0m\n\u001b[0m\u001b[1;32m    242\u001b[0m     \u001b[0;32mif\u001b[0m \u001b[0;34m'retina'\u001b[0m \u001b[0;32min\u001b[0m \u001b[0mformats\u001b[0m \u001b[0;32mor\u001b[0m \u001b[0;34m'png2x'\u001b[0m \u001b[0;32min\u001b[0m \u001b[0mformats\u001b[0m\u001b[0;34m:\u001b[0m\u001b[0;34m\u001b[0m\u001b[0;34m\u001b[0m\u001b[0m\n\u001b[1;32m    243\u001b[0m         \u001b[0mpng_formatter\u001b[0m\u001b[0;34m.\u001b[0m\u001b[0mfor_type\u001b[0m\u001b[0;34m(\u001b[0m\u001b[0mFigure\u001b[0m\u001b[0;34m,\u001b[0m \u001b[0;32mlambda\u001b[0m \u001b[0mfig\u001b[0m\u001b[0;34m:\u001b[0m \u001b[0mretina_figure\u001b[0m\u001b[0;34m(\u001b[0m\u001b[0mfig\u001b[0m\u001b[0;34m,\u001b[0m \u001b[0;34m**\u001b[0m\u001b[0mkwargs\u001b[0m\u001b[0;34m)\u001b[0m\u001b[0;34m)\u001b[0m\u001b[0;34m\u001b[0m\u001b[0;34m\u001b[0m\u001b[0m\n",
            "\u001b[0;32m/usr/local/lib/python3.6/dist-packages/IPython/core/pylabtools.py\u001b[0m in \u001b[0;36mprint_figure\u001b[0;34m(fig, fmt, bbox_inches, **kwargs)\u001b[0m\n\u001b[1;32m    123\u001b[0m \u001b[0;34m\u001b[0m\u001b[0m\n\u001b[1;32m    124\u001b[0m     \u001b[0mbytes_io\u001b[0m \u001b[0;34m=\u001b[0m \u001b[0mBytesIO\u001b[0m\u001b[0;34m(\u001b[0m\u001b[0;34m)\u001b[0m\u001b[0;34m\u001b[0m\u001b[0;34m\u001b[0m\u001b[0m\n\u001b[0;32m--> 125\u001b[0;31m     \u001b[0mfig\u001b[0m\u001b[0;34m.\u001b[0m\u001b[0mcanvas\u001b[0m\u001b[0;34m.\u001b[0m\u001b[0mprint_figure\u001b[0m\u001b[0;34m(\u001b[0m\u001b[0mbytes_io\u001b[0m\u001b[0;34m,\u001b[0m \u001b[0;34m**\u001b[0m\u001b[0mkw\u001b[0m\u001b[0;34m)\u001b[0m\u001b[0;34m\u001b[0m\u001b[0;34m\u001b[0m\u001b[0m\n\u001b[0m\u001b[1;32m    126\u001b[0m     \u001b[0mdata\u001b[0m \u001b[0;34m=\u001b[0m \u001b[0mbytes_io\u001b[0m\u001b[0;34m.\u001b[0m\u001b[0mgetvalue\u001b[0m\u001b[0;34m(\u001b[0m\u001b[0;34m)\u001b[0m\u001b[0;34m\u001b[0m\u001b[0;34m\u001b[0m\u001b[0m\n\u001b[1;32m    127\u001b[0m     \u001b[0;32mif\u001b[0m \u001b[0mfmt\u001b[0m \u001b[0;34m==\u001b[0m \u001b[0;34m'svg'\u001b[0m\u001b[0;34m:\u001b[0m\u001b[0;34m\u001b[0m\u001b[0;34m\u001b[0m\u001b[0m\n",
            "\u001b[0;32m/usr/local/lib/python3.6/dist-packages/matplotlib/backend_bases.py\u001b[0m in \u001b[0;36mprint_figure\u001b[0;34m(self, filename, dpi, facecolor, edgecolor, orientation, format, bbox_inches, **kwargs)\u001b[0m\n\u001b[1;32m   2077\u001b[0m                             print_method, dpi=dpi, orientation=orientation),\n\u001b[1;32m   2078\u001b[0m                         draw_disabled=True)\n\u001b[0;32m-> 2079\u001b[0;31m                     \u001b[0mself\u001b[0m\u001b[0;34m.\u001b[0m\u001b[0mfigure\u001b[0m\u001b[0;34m.\u001b[0m\u001b[0mdraw\u001b[0m\u001b[0;34m(\u001b[0m\u001b[0mrenderer\u001b[0m\u001b[0;34m)\u001b[0m\u001b[0;34m\u001b[0m\u001b[0;34m\u001b[0m\u001b[0m\n\u001b[0m\u001b[1;32m   2080\u001b[0m                     \u001b[0mbbox_artists\u001b[0m \u001b[0;34m=\u001b[0m \u001b[0mkwargs\u001b[0m\u001b[0;34m.\u001b[0m\u001b[0mpop\u001b[0m\u001b[0;34m(\u001b[0m\u001b[0;34m\"bbox_extra_artists\"\u001b[0m\u001b[0;34m,\u001b[0m \u001b[0;32mNone\u001b[0m\u001b[0;34m)\u001b[0m\u001b[0;34m\u001b[0m\u001b[0;34m\u001b[0m\u001b[0m\n\u001b[1;32m   2081\u001b[0m                     bbox_inches = self.figure.get_tightbbox(renderer,\n",
            "\u001b[0;32m/usr/local/lib/python3.6/dist-packages/matplotlib/artist.py\u001b[0m in \u001b[0;36mdraw_wrapper\u001b[0;34m(artist, renderer, *args, **kwargs)\u001b[0m\n\u001b[1;32m     36\u001b[0m                 \u001b[0mrenderer\u001b[0m\u001b[0;34m.\u001b[0m\u001b[0mstart_filter\u001b[0m\u001b[0;34m(\u001b[0m\u001b[0;34m)\u001b[0m\u001b[0;34m\u001b[0m\u001b[0;34m\u001b[0m\u001b[0m\n\u001b[1;32m     37\u001b[0m \u001b[0;34m\u001b[0m\u001b[0m\n\u001b[0;32m---> 38\u001b[0;31m             \u001b[0;32mreturn\u001b[0m \u001b[0mdraw\u001b[0m\u001b[0;34m(\u001b[0m\u001b[0martist\u001b[0m\u001b[0;34m,\u001b[0m \u001b[0mrenderer\u001b[0m\u001b[0;34m,\u001b[0m \u001b[0;34m*\u001b[0m\u001b[0margs\u001b[0m\u001b[0;34m,\u001b[0m \u001b[0;34m**\u001b[0m\u001b[0mkwargs\u001b[0m\u001b[0;34m)\u001b[0m\u001b[0;34m\u001b[0m\u001b[0;34m\u001b[0m\u001b[0m\n\u001b[0m\u001b[1;32m     39\u001b[0m         \u001b[0;32mfinally\u001b[0m\u001b[0;34m:\u001b[0m\u001b[0;34m\u001b[0m\u001b[0;34m\u001b[0m\u001b[0m\n\u001b[1;32m     40\u001b[0m             \u001b[0;32mif\u001b[0m \u001b[0martist\u001b[0m\u001b[0;34m.\u001b[0m\u001b[0mget_agg_filter\u001b[0m\u001b[0;34m(\u001b[0m\u001b[0;34m)\u001b[0m \u001b[0;32mis\u001b[0m \u001b[0;32mnot\u001b[0m \u001b[0;32mNone\u001b[0m\u001b[0;34m:\u001b[0m\u001b[0;34m\u001b[0m\u001b[0;34m\u001b[0m\u001b[0m\n",
            "\u001b[0;32m/usr/local/lib/python3.6/dist-packages/matplotlib/figure.py\u001b[0m in \u001b[0;36mdraw\u001b[0;34m(self, renderer)\u001b[0m\n\u001b[1;32m   1734\u001b[0m             \u001b[0mself\u001b[0m\u001b[0;34m.\u001b[0m\u001b[0mpatch\u001b[0m\u001b[0;34m.\u001b[0m\u001b[0mdraw\u001b[0m\u001b[0;34m(\u001b[0m\u001b[0mrenderer\u001b[0m\u001b[0;34m)\u001b[0m\u001b[0;34m\u001b[0m\u001b[0;34m\u001b[0m\u001b[0m\n\u001b[1;32m   1735\u001b[0m             mimage._draw_list_compositing_images(\n\u001b[0;32m-> 1736\u001b[0;31m                 renderer, self, artists, self.suppressComposite)\n\u001b[0m\u001b[1;32m   1737\u001b[0m \u001b[0;34m\u001b[0m\u001b[0m\n\u001b[1;32m   1738\u001b[0m             \u001b[0mrenderer\u001b[0m\u001b[0;34m.\u001b[0m\u001b[0mclose_group\u001b[0m\u001b[0;34m(\u001b[0m\u001b[0;34m'figure'\u001b[0m\u001b[0;34m)\u001b[0m\u001b[0;34m\u001b[0m\u001b[0;34m\u001b[0m\u001b[0m\n",
            "\u001b[0;32m/usr/local/lib/python3.6/dist-packages/matplotlib/image.py\u001b[0m in \u001b[0;36m_draw_list_compositing_images\u001b[0;34m(renderer, parent, artists, suppress_composite)\u001b[0m\n\u001b[1;32m    135\u001b[0m     \u001b[0;32mif\u001b[0m \u001b[0mnot_composite\u001b[0m \u001b[0;32mor\u001b[0m \u001b[0;32mnot\u001b[0m \u001b[0mhas_images\u001b[0m\u001b[0;34m:\u001b[0m\u001b[0;34m\u001b[0m\u001b[0;34m\u001b[0m\u001b[0m\n\u001b[1;32m    136\u001b[0m         \u001b[0;32mfor\u001b[0m \u001b[0ma\u001b[0m \u001b[0;32min\u001b[0m \u001b[0martists\u001b[0m\u001b[0;34m:\u001b[0m\u001b[0;34m\u001b[0m\u001b[0;34m\u001b[0m\u001b[0m\n\u001b[0;32m--> 137\u001b[0;31m             \u001b[0ma\u001b[0m\u001b[0;34m.\u001b[0m\u001b[0mdraw\u001b[0m\u001b[0;34m(\u001b[0m\u001b[0mrenderer\u001b[0m\u001b[0;34m)\u001b[0m\u001b[0;34m\u001b[0m\u001b[0;34m\u001b[0m\u001b[0m\n\u001b[0m\u001b[1;32m    138\u001b[0m     \u001b[0;32melse\u001b[0m\u001b[0;34m:\u001b[0m\u001b[0;34m\u001b[0m\u001b[0;34m\u001b[0m\u001b[0m\n\u001b[1;32m    139\u001b[0m         \u001b[0;31m# Composite any adjacent images together\u001b[0m\u001b[0;34m\u001b[0m\u001b[0;34m\u001b[0m\u001b[0;34m\u001b[0m\u001b[0m\n",
            "\u001b[0;32m/usr/local/lib/python3.6/dist-packages/matplotlib/artist.py\u001b[0m in \u001b[0;36mdraw_wrapper\u001b[0;34m(artist, renderer, *args, **kwargs)\u001b[0m\n\u001b[1;32m     36\u001b[0m                 \u001b[0mrenderer\u001b[0m\u001b[0;34m.\u001b[0m\u001b[0mstart_filter\u001b[0m\u001b[0;34m(\u001b[0m\u001b[0;34m)\u001b[0m\u001b[0;34m\u001b[0m\u001b[0;34m\u001b[0m\u001b[0m\n\u001b[1;32m     37\u001b[0m \u001b[0;34m\u001b[0m\u001b[0m\n\u001b[0;32m---> 38\u001b[0;31m             \u001b[0;32mreturn\u001b[0m \u001b[0mdraw\u001b[0m\u001b[0;34m(\u001b[0m\u001b[0martist\u001b[0m\u001b[0;34m,\u001b[0m \u001b[0mrenderer\u001b[0m\u001b[0;34m,\u001b[0m \u001b[0;34m*\u001b[0m\u001b[0margs\u001b[0m\u001b[0;34m,\u001b[0m \u001b[0;34m**\u001b[0m\u001b[0mkwargs\u001b[0m\u001b[0;34m)\u001b[0m\u001b[0;34m\u001b[0m\u001b[0;34m\u001b[0m\u001b[0m\n\u001b[0m\u001b[1;32m     39\u001b[0m         \u001b[0;32mfinally\u001b[0m\u001b[0;34m:\u001b[0m\u001b[0;34m\u001b[0m\u001b[0;34m\u001b[0m\u001b[0m\n\u001b[1;32m     40\u001b[0m             \u001b[0;32mif\u001b[0m \u001b[0martist\u001b[0m\u001b[0;34m.\u001b[0m\u001b[0mget_agg_filter\u001b[0m\u001b[0;34m(\u001b[0m\u001b[0;34m)\u001b[0m \u001b[0;32mis\u001b[0m \u001b[0;32mnot\u001b[0m \u001b[0;32mNone\u001b[0m\u001b[0;34m:\u001b[0m\u001b[0;34m\u001b[0m\u001b[0;34m\u001b[0m\u001b[0m\n",
            "\u001b[0;32m/usr/local/lib/python3.6/dist-packages/matplotlib/axes/_base.py\u001b[0m in \u001b[0;36mdraw\u001b[0;34m(self, renderer, inframe)\u001b[0m\n\u001b[1;32m   2628\u001b[0m             \u001b[0mrenderer\u001b[0m\u001b[0;34m.\u001b[0m\u001b[0mstop_rasterizing\u001b[0m\u001b[0;34m(\u001b[0m\u001b[0;34m)\u001b[0m\u001b[0;34m\u001b[0m\u001b[0;34m\u001b[0m\u001b[0m\n\u001b[1;32m   2629\u001b[0m \u001b[0;34m\u001b[0m\u001b[0m\n\u001b[0;32m-> 2630\u001b[0;31m         \u001b[0mmimage\u001b[0m\u001b[0;34m.\u001b[0m\u001b[0m_draw_list_compositing_images\u001b[0m\u001b[0;34m(\u001b[0m\u001b[0mrenderer\u001b[0m\u001b[0;34m,\u001b[0m \u001b[0mself\u001b[0m\u001b[0;34m,\u001b[0m \u001b[0martists\u001b[0m\u001b[0;34m)\u001b[0m\u001b[0;34m\u001b[0m\u001b[0;34m\u001b[0m\u001b[0m\n\u001b[0m\u001b[1;32m   2631\u001b[0m \u001b[0;34m\u001b[0m\u001b[0m\n\u001b[1;32m   2632\u001b[0m         \u001b[0mrenderer\u001b[0m\u001b[0;34m.\u001b[0m\u001b[0mclose_group\u001b[0m\u001b[0;34m(\u001b[0m\u001b[0;34m'axes'\u001b[0m\u001b[0;34m)\u001b[0m\u001b[0;34m\u001b[0m\u001b[0;34m\u001b[0m\u001b[0m\n",
            "\u001b[0;32m/usr/local/lib/python3.6/dist-packages/matplotlib/image.py\u001b[0m in \u001b[0;36m_draw_list_compositing_images\u001b[0;34m(renderer, parent, artists, suppress_composite)\u001b[0m\n\u001b[1;32m    135\u001b[0m     \u001b[0;32mif\u001b[0m \u001b[0mnot_composite\u001b[0m \u001b[0;32mor\u001b[0m \u001b[0;32mnot\u001b[0m \u001b[0mhas_images\u001b[0m\u001b[0;34m:\u001b[0m\u001b[0;34m\u001b[0m\u001b[0;34m\u001b[0m\u001b[0m\n\u001b[1;32m    136\u001b[0m         \u001b[0;32mfor\u001b[0m \u001b[0ma\u001b[0m \u001b[0;32min\u001b[0m \u001b[0martists\u001b[0m\u001b[0;34m:\u001b[0m\u001b[0;34m\u001b[0m\u001b[0;34m\u001b[0m\u001b[0m\n\u001b[0;32m--> 137\u001b[0;31m             \u001b[0ma\u001b[0m\u001b[0;34m.\u001b[0m\u001b[0mdraw\u001b[0m\u001b[0;34m(\u001b[0m\u001b[0mrenderer\u001b[0m\u001b[0;34m)\u001b[0m\u001b[0;34m\u001b[0m\u001b[0;34m\u001b[0m\u001b[0m\n\u001b[0m\u001b[1;32m    138\u001b[0m     \u001b[0;32melse\u001b[0m\u001b[0;34m:\u001b[0m\u001b[0;34m\u001b[0m\u001b[0;34m\u001b[0m\u001b[0m\n\u001b[1;32m    139\u001b[0m         \u001b[0;31m# Composite any adjacent images together\u001b[0m\u001b[0;34m\u001b[0m\u001b[0;34m\u001b[0m\u001b[0;34m\u001b[0m\u001b[0m\n",
            "\u001b[0;32m/usr/local/lib/python3.6/dist-packages/matplotlib/artist.py\u001b[0m in \u001b[0;36mdraw_wrapper\u001b[0;34m(artist, renderer, *args, **kwargs)\u001b[0m\n\u001b[1;32m     36\u001b[0m                 \u001b[0mrenderer\u001b[0m\u001b[0;34m.\u001b[0m\u001b[0mstart_filter\u001b[0m\u001b[0;34m(\u001b[0m\u001b[0;34m)\u001b[0m\u001b[0;34m\u001b[0m\u001b[0;34m\u001b[0m\u001b[0m\n\u001b[1;32m     37\u001b[0m \u001b[0;34m\u001b[0m\u001b[0m\n\u001b[0;32m---> 38\u001b[0;31m             \u001b[0;32mreturn\u001b[0m \u001b[0mdraw\u001b[0m\u001b[0;34m(\u001b[0m\u001b[0martist\u001b[0m\u001b[0;34m,\u001b[0m \u001b[0mrenderer\u001b[0m\u001b[0;34m,\u001b[0m \u001b[0;34m*\u001b[0m\u001b[0margs\u001b[0m\u001b[0;34m,\u001b[0m \u001b[0;34m**\u001b[0m\u001b[0mkwargs\u001b[0m\u001b[0;34m)\u001b[0m\u001b[0;34m\u001b[0m\u001b[0;34m\u001b[0m\u001b[0m\n\u001b[0m\u001b[1;32m     39\u001b[0m         \u001b[0;32mfinally\u001b[0m\u001b[0;34m:\u001b[0m\u001b[0;34m\u001b[0m\u001b[0;34m\u001b[0m\u001b[0m\n\u001b[1;32m     40\u001b[0m             \u001b[0;32mif\u001b[0m \u001b[0martist\u001b[0m\u001b[0;34m.\u001b[0m\u001b[0mget_agg_filter\u001b[0m\u001b[0;34m(\u001b[0m\u001b[0;34m)\u001b[0m \u001b[0;32mis\u001b[0m \u001b[0;32mnot\u001b[0m \u001b[0;32mNone\u001b[0m\u001b[0;34m:\u001b[0m\u001b[0;34m\u001b[0m\u001b[0;34m\u001b[0m\u001b[0m\n",
            "\u001b[0;32m/usr/local/lib/python3.6/dist-packages/matplotlib/axis.py\u001b[0m in \u001b[0;36mdraw\u001b[0;34m(self, renderer, *args, **kwargs)\u001b[0m\n\u001b[1;32m   1227\u001b[0m         \u001b[0mticks_to_draw\u001b[0m \u001b[0;34m=\u001b[0m \u001b[0mself\u001b[0m\u001b[0;34m.\u001b[0m\u001b[0m_update_ticks\u001b[0m\u001b[0;34m(\u001b[0m\u001b[0;34m)\u001b[0m\u001b[0;34m\u001b[0m\u001b[0;34m\u001b[0m\u001b[0m\n\u001b[1;32m   1228\u001b[0m         ticklabelBoxes, ticklabelBoxes2 = self._get_tick_bboxes(ticks_to_draw,\n\u001b[0;32m-> 1229\u001b[0;31m                                                                 renderer)\n\u001b[0m\u001b[1;32m   1230\u001b[0m \u001b[0;34m\u001b[0m\u001b[0m\n\u001b[1;32m   1231\u001b[0m         \u001b[0;32mfor\u001b[0m \u001b[0mtick\u001b[0m \u001b[0;32min\u001b[0m \u001b[0mticks_to_draw\u001b[0m\u001b[0;34m:\u001b[0m\u001b[0;34m\u001b[0m\u001b[0;34m\u001b[0m\u001b[0m\n",
            "\u001b[0;32m/usr/local/lib/python3.6/dist-packages/matplotlib/axis.py\u001b[0m in \u001b[0;36m_get_tick_bboxes\u001b[0;34m(self, ticks, renderer)\u001b[0m\n\u001b[1;32m   1172\u001b[0m         \u001b[0;34m\"\"\"Return lists of bboxes for ticks' label1's and label2's.\"\"\"\u001b[0m\u001b[0;34m\u001b[0m\u001b[0;34m\u001b[0m\u001b[0m\n\u001b[1;32m   1173\u001b[0m         return ([tick.label1.get_window_extent(renderer)\n\u001b[0;32m-> 1174\u001b[0;31m                  for tick in ticks if tick.label1.get_visible()],\n\u001b[0m\u001b[1;32m   1175\u001b[0m                 [tick.label2.get_window_extent(renderer)\n\u001b[1;32m   1176\u001b[0m                  for tick in ticks if tick.label2.get_visible()])\n",
            "\u001b[0;32m/usr/local/lib/python3.6/dist-packages/matplotlib/axis.py\u001b[0m in \u001b[0;36m<listcomp>\u001b[0;34m(.0)\u001b[0m\n\u001b[1;32m   1172\u001b[0m         \u001b[0;34m\"\"\"Return lists of bboxes for ticks' label1's and label2's.\"\"\"\u001b[0m\u001b[0;34m\u001b[0m\u001b[0;34m\u001b[0m\u001b[0m\n\u001b[1;32m   1173\u001b[0m         return ([tick.label1.get_window_extent(renderer)\n\u001b[0;32m-> 1174\u001b[0;31m                  for tick in ticks if tick.label1.get_visible()],\n\u001b[0m\u001b[1;32m   1175\u001b[0m                 [tick.label2.get_window_extent(renderer)\n\u001b[1;32m   1176\u001b[0m                  for tick in ticks if tick.label2.get_visible()])\n",
            "\u001b[0;32m/usr/local/lib/python3.6/dist-packages/matplotlib/text.py\u001b[0m in \u001b[0;36mget_window_extent\u001b[0;34m(self, renderer, dpi)\u001b[0m\n\u001b[1;32m    903\u001b[0m             \u001b[0;32mraise\u001b[0m \u001b[0mRuntimeError\u001b[0m\u001b[0;34m(\u001b[0m\u001b[0;34m'Cannot get window extent w/o renderer'\u001b[0m\u001b[0;34m)\u001b[0m\u001b[0;34m\u001b[0m\u001b[0;34m\u001b[0m\u001b[0m\n\u001b[1;32m    904\u001b[0m \u001b[0;34m\u001b[0m\u001b[0m\n\u001b[0;32m--> 905\u001b[0;31m         \u001b[0mbbox\u001b[0m\u001b[0;34m,\u001b[0m \u001b[0minfo\u001b[0m\u001b[0;34m,\u001b[0m \u001b[0mdescent\u001b[0m \u001b[0;34m=\u001b[0m \u001b[0mself\u001b[0m\u001b[0;34m.\u001b[0m\u001b[0m_get_layout\u001b[0m\u001b[0;34m(\u001b[0m\u001b[0mself\u001b[0m\u001b[0;34m.\u001b[0m\u001b[0m_renderer\u001b[0m\u001b[0;34m)\u001b[0m\u001b[0;34m\u001b[0m\u001b[0;34m\u001b[0m\u001b[0m\n\u001b[0m\u001b[1;32m    906\u001b[0m         \u001b[0mx\u001b[0m\u001b[0;34m,\u001b[0m \u001b[0my\u001b[0m \u001b[0;34m=\u001b[0m \u001b[0mself\u001b[0m\u001b[0;34m.\u001b[0m\u001b[0mget_unitless_position\u001b[0m\u001b[0;34m(\u001b[0m\u001b[0;34m)\u001b[0m\u001b[0;34m\u001b[0m\u001b[0;34m\u001b[0m\u001b[0m\n\u001b[1;32m    907\u001b[0m         \u001b[0mx\u001b[0m\u001b[0;34m,\u001b[0m \u001b[0my\u001b[0m \u001b[0;34m=\u001b[0m \u001b[0mself\u001b[0m\u001b[0;34m.\u001b[0m\u001b[0mget_transform\u001b[0m\u001b[0;34m(\u001b[0m\u001b[0;34m)\u001b[0m\u001b[0;34m.\u001b[0m\u001b[0mtransform\u001b[0m\u001b[0;34m(\u001b[0m\u001b[0;34m(\u001b[0m\u001b[0mx\u001b[0m\u001b[0;34m,\u001b[0m \u001b[0my\u001b[0m\u001b[0;34m)\u001b[0m\u001b[0;34m)\u001b[0m\u001b[0;34m\u001b[0m\u001b[0;34m\u001b[0m\u001b[0m\n",
            "\u001b[0;32m/usr/local/lib/python3.6/dist-packages/matplotlib/text.py\u001b[0m in \u001b[0;36m_get_layout\u001b[0;34m(self, renderer)\u001b[0m\n\u001b[1;32m    298\u001b[0m             \u001b[0;32mif\u001b[0m \u001b[0mclean_line\u001b[0m\u001b[0;34m:\u001b[0m\u001b[0;34m\u001b[0m\u001b[0;34m\u001b[0m\u001b[0m\n\u001b[1;32m    299\u001b[0m                 w, h, d = renderer.get_text_width_height_descent(\n\u001b[0;32m--> 300\u001b[0;31m                     clean_line, self._fontproperties, ismath=ismath)\n\u001b[0m\u001b[1;32m    301\u001b[0m             \u001b[0;32melse\u001b[0m\u001b[0;34m:\u001b[0m\u001b[0;34m\u001b[0m\u001b[0;34m\u001b[0m\u001b[0m\n\u001b[1;32m    302\u001b[0m                 \u001b[0mw\u001b[0m \u001b[0;34m=\u001b[0m \u001b[0mh\u001b[0m \u001b[0;34m=\u001b[0m \u001b[0md\u001b[0m \u001b[0;34m=\u001b[0m \u001b[0;36m0\u001b[0m\u001b[0;34m\u001b[0m\u001b[0;34m\u001b[0m\u001b[0m\n",
            "\u001b[0;32m/usr/local/lib/python3.6/dist-packages/matplotlib/backends/backend_agg.py\u001b[0m in \u001b[0;36mget_text_width_height_descent\u001b[0;34m(self, s, prop, ismath)\u001b[0m\n\u001b[1;32m    212\u001b[0m         \u001b[0mflags\u001b[0m \u001b[0;34m=\u001b[0m \u001b[0mget_hinting_flag\u001b[0m\u001b[0;34m(\u001b[0m\u001b[0;34m)\u001b[0m\u001b[0;34m\u001b[0m\u001b[0;34m\u001b[0m\u001b[0m\n\u001b[1;32m    213\u001b[0m         \u001b[0mfont\u001b[0m \u001b[0;34m=\u001b[0m \u001b[0mself\u001b[0m\u001b[0;34m.\u001b[0m\u001b[0m_get_agg_font\u001b[0m\u001b[0;34m(\u001b[0m\u001b[0mprop\u001b[0m\u001b[0;34m)\u001b[0m\u001b[0;34m\u001b[0m\u001b[0;34m\u001b[0m\u001b[0m\n\u001b[0;32m--> 214\u001b[0;31m         \u001b[0mfont\u001b[0m\u001b[0;34m.\u001b[0m\u001b[0mset_text\u001b[0m\u001b[0;34m(\u001b[0m\u001b[0ms\u001b[0m\u001b[0;34m,\u001b[0m \u001b[0;36m0.0\u001b[0m\u001b[0;34m,\u001b[0m \u001b[0mflags\u001b[0m\u001b[0;34m=\u001b[0m\u001b[0mflags\u001b[0m\u001b[0;34m)\u001b[0m\u001b[0;34m\u001b[0m\u001b[0;34m\u001b[0m\u001b[0m\n\u001b[0m\u001b[1;32m    215\u001b[0m         \u001b[0mw\u001b[0m\u001b[0;34m,\u001b[0m \u001b[0mh\u001b[0m \u001b[0;34m=\u001b[0m \u001b[0mfont\u001b[0m\u001b[0;34m.\u001b[0m\u001b[0mget_width_height\u001b[0m\u001b[0;34m(\u001b[0m\u001b[0;34m)\u001b[0m  \u001b[0;31m# width and height of unrotated string\u001b[0m\u001b[0;34m\u001b[0m\u001b[0;34m\u001b[0m\u001b[0m\n\u001b[1;32m    216\u001b[0m         \u001b[0md\u001b[0m \u001b[0;34m=\u001b[0m \u001b[0mfont\u001b[0m\u001b[0;34m.\u001b[0m\u001b[0mget_descent\u001b[0m\u001b[0;34m(\u001b[0m\u001b[0;34m)\u001b[0m\u001b[0;34m\u001b[0m\u001b[0;34m\u001b[0m\u001b[0m\n",
            "\u001b[0;31mKeyboardInterrupt\u001b[0m: "
          ]
        }
      ]
    },
    {
      "cell_type": "code",
      "metadata": {
        "id": "IXb0caoIZTmD",
        "colab": {
          "base_uri": "https://localhost:8080/",
          "height": 434
        },
        "outputId": "117f37c0-7af2-4f7b-95cd-40f293d91a03"
      },
      "source": [
        "sns.jointplot(x=cf_train['Medicine_MRP'], y=cf_train['Counterfeit_Sales']);"
      ],
      "execution_count": null,
      "outputs": [
        {
          "output_type": "display_data",
          "data": {
            "image/png": "[encoded data removed]",
            "text/plain": [
              "<Figure size 432x432 with 3 Axes>"
            ]
          },
          "metadata": {
            "tags": []
          }
        }
      ]
    },
    {
      "cell_type": "code",
      "metadata": {
        "id": "6Bcj3wT9KxDm"
      },
      "source": [
        "Medicine_ID             object\n",
        "Counterfeit_Weight     float64\n",
        "DistArea_ID             object\n",
        "Active_Since             int64\n",
        "Medicine_MRP           float64\n",
        "Medicine_Type           object\n",
        "SidEffect_Level         object\n",
        "Availability_rating    float64\n",
        "Area_Type               object\n",
        "Area_City_Type          object\n",
        "Area_dist_level         object\n",
        "Counterfeit_Sales      float64\n",
        "dtype: object"
      ],
      "execution_count": null,
      "outputs": []
    },
    {
      "cell_type": "code",
      "metadata": {
        "id": "RS4qWXHAZo7p",
        "colab": {
          "base_uri": "https://localhost:8080/",
          "height": 731
        },
        "outputId": "2bea808c-3ba0-46b3-807c-14790f966a0c"
      },
      "source": [
        "sns.jointplot(x=cf_train['DistArea_ID'], y=cf_train['Counterfeit_Sales']);"
      ],
      "execution_count": null,
      "outputs": [
        {
          "output_type": "error",
          "ename": "ValueError",
          "evalue": "ignored",
          "traceback": [
            "\u001b[0;31m---------------------------------------------------------------------------\u001b[0m",
            "\u001b[0;31mValueError\u001b[0m                                Traceback (most recent call last)",
            "\u001b[0;32m<ipython-input-163-28dc85fabb03>\u001b[0m in \u001b[0;36m<module>\u001b[0;34m()\u001b[0m\n\u001b[0;32m----> 1\u001b[0;31m \u001b[0msns\u001b[0m\u001b[0;34m.\u001b[0m\u001b[0mjointplot\u001b[0m\u001b[0;34m(\u001b[0m\u001b[0mx\u001b[0m\u001b[0;34m=\u001b[0m\u001b[0mcf_train\u001b[0m\u001b[0;34m[\u001b[0m\u001b[0;34m'DistArea_ID'\u001b[0m\u001b[0;34m]\u001b[0m\u001b[0;34m,\u001b[0m \u001b[0my\u001b[0m\u001b[0;34m=\u001b[0m\u001b[0mcf_train\u001b[0m\u001b[0;34m[\u001b[0m\u001b[0;34m'Counterfeit_Sales'\u001b[0m\u001b[0;34m]\u001b[0m\u001b[0;34m)\u001b[0m\u001b[0;34m;\u001b[0m\u001b[0;34m\u001b[0m\u001b[0;34m\u001b[0m\u001b[0m\n\u001b[0m",
            "\u001b[0;32m/usr/local/lib/python3.6/dist-packages/seaborn/axisgrid.py\u001b[0m in \u001b[0;36mjointplot\u001b[0;34m(x, y, data, kind, stat_func, color, height, ratio, space, dropna, xlim, ylim, joint_kws, marginal_kws, annot_kws, **kwargs)\u001b[0m\n\u001b[1;32m   2291\u001b[0m         \u001b[0mmarginal_kws\u001b[0m\u001b[0;34m.\u001b[0m\u001b[0msetdefault\u001b[0m\u001b[0;34m(\u001b[0m\u001b[0;34m\"kde\"\u001b[0m\u001b[0;34m,\u001b[0m \u001b[0;32mFalse\u001b[0m\u001b[0;34m)\u001b[0m\u001b[0;34m\u001b[0m\u001b[0;34m\u001b[0m\u001b[0m\n\u001b[1;32m   2292\u001b[0m         \u001b[0mmarginal_kws\u001b[0m\u001b[0;34m.\u001b[0m\u001b[0msetdefault\u001b[0m\u001b[0;34m(\u001b[0m\u001b[0;34m\"color\"\u001b[0m\u001b[0;34m,\u001b[0m \u001b[0mcolor\u001b[0m\u001b[0;34m)\u001b[0m\u001b[0;34m\u001b[0m\u001b[0;34m\u001b[0m\u001b[0m\n\u001b[0;32m-> 2293\u001b[0;31m         \u001b[0mgrid\u001b[0m\u001b[0;34m.\u001b[0m\u001b[0mplot_marginals\u001b[0m\u001b[0;34m(\u001b[0m\u001b[0mdistplot\u001b[0m\u001b[0;34m,\u001b[0m \u001b[0;34m**\u001b[0m\u001b[0mmarginal_kws\u001b[0m\u001b[0;34m)\u001b[0m\u001b[0;34m\u001b[0m\u001b[0;34m\u001b[0m\u001b[0m\n\u001b[0m\u001b[1;32m   2294\u001b[0m \u001b[0;34m\u001b[0m\u001b[0m\n\u001b[1;32m   2295\u001b[0m     \u001b[0;32melif\u001b[0m \u001b[0mkind\u001b[0m\u001b[0;34m.\u001b[0m\u001b[0mstartswith\u001b[0m\u001b[0;34m(\u001b[0m\u001b[0;34m\"hex\"\u001b[0m\u001b[0;34m)\u001b[0m\u001b[0;34m:\u001b[0m\u001b[0;34m\u001b[0m\u001b[0;34m\u001b[0m\u001b[0m\n",
            "\u001b[0;32m/usr/local/lib/python3.6/dist-packages/seaborn/axisgrid.py\u001b[0m in \u001b[0;36mplot_marginals\u001b[0;34m(self, func, **kwargs)\u001b[0m\n\u001b[1;32m   1800\u001b[0m         \u001b[0mkwargs\u001b[0m\u001b[0;34m[\u001b[0m\u001b[0;34m\"vertical\"\u001b[0m\u001b[0;34m]\u001b[0m \u001b[0;34m=\u001b[0m \u001b[0;32mFalse\u001b[0m\u001b[0;34m\u001b[0m\u001b[0;34m\u001b[0m\u001b[0m\n\u001b[1;32m   1801\u001b[0m         \u001b[0mplt\u001b[0m\u001b[0;34m.\u001b[0m\u001b[0msca\u001b[0m\u001b[0;34m(\u001b[0m\u001b[0mself\u001b[0m\u001b[0;34m.\u001b[0m\u001b[0max_marg_x\u001b[0m\u001b[0;34m)\u001b[0m\u001b[0;34m\u001b[0m\u001b[0;34m\u001b[0m\u001b[0m\n\u001b[0;32m-> 1802\u001b[0;31m         \u001b[0mfunc\u001b[0m\u001b[0;34m(\u001b[0m\u001b[0mself\u001b[0m\u001b[0;34m.\u001b[0m\u001b[0mx\u001b[0m\u001b[0;34m,\u001b[0m \u001b[0;34m**\u001b[0m\u001b[0mkwargs\u001b[0m\u001b[0;34m)\u001b[0m\u001b[0;34m\u001b[0m\u001b[0;34m\u001b[0m\u001b[0m\n\u001b[0m\u001b[1;32m   1803\u001b[0m \u001b[0;34m\u001b[0m\u001b[0m\n\u001b[1;32m   1804\u001b[0m         \u001b[0mkwargs\u001b[0m\u001b[0;34m[\u001b[0m\u001b[0;34m\"vertical\"\u001b[0m\u001b[0;34m]\u001b[0m \u001b[0;34m=\u001b[0m \u001b[0;32mTrue\u001b[0m\u001b[0;34m\u001b[0m\u001b[0;34m\u001b[0m\u001b[0m\n",
            "\u001b[0;32m/usr/local/lib/python3.6/dist-packages/seaborn/distributions.py\u001b[0m in \u001b[0;36mdistplot\u001b[0;34m(a, bins, hist, kde, rug, fit, hist_kws, kde_kws, rug_kws, fit_kws, color, vertical, norm_hist, axlabel, label, ax)\u001b[0m\n\u001b[1;32m    175\u001b[0m \u001b[0;34m\u001b[0m\u001b[0m\n\u001b[1;32m    176\u001b[0m     \u001b[0;31m# Make a a 1-d float array\u001b[0m\u001b[0;34m\u001b[0m\u001b[0;34m\u001b[0m\u001b[0;34m\u001b[0m\u001b[0m\n\u001b[0;32m--> 177\u001b[0;31m     \u001b[0ma\u001b[0m \u001b[0;34m=\u001b[0m \u001b[0mnp\u001b[0m\u001b[0;34m.\u001b[0m\u001b[0masarray\u001b[0m\u001b[0;34m(\u001b[0m\u001b[0ma\u001b[0m\u001b[0;34m,\u001b[0m \u001b[0mnp\u001b[0m\u001b[0;34m.\u001b[0m\u001b[0mfloat\u001b[0m\u001b[0;34m)\u001b[0m\u001b[0;34m\u001b[0m\u001b[0;34m\u001b[0m\u001b[0m\n\u001b[0m\u001b[1;32m    178\u001b[0m     \u001b[0;32mif\u001b[0m \u001b[0ma\u001b[0m\u001b[0;34m.\u001b[0m\u001b[0mndim\u001b[0m \u001b[0;34m>\u001b[0m \u001b[0;36m1\u001b[0m\u001b[0;34m:\u001b[0m\u001b[0;34m\u001b[0m\u001b[0;34m\u001b[0m\u001b[0m\n\u001b[1;32m    179\u001b[0m         \u001b[0ma\u001b[0m \u001b[0;34m=\u001b[0m \u001b[0ma\u001b[0m\u001b[0;34m.\u001b[0m\u001b[0msqueeze\u001b[0m\u001b[0;34m(\u001b[0m\u001b[0;34m)\u001b[0m\u001b[0;34m\u001b[0m\u001b[0;34m\u001b[0m\u001b[0m\n",
            "\u001b[0;32m/usr/local/lib/python3.6/dist-packages/numpy/core/_asarray.py\u001b[0m in \u001b[0;36masarray\u001b[0;34m(a, dtype, order)\u001b[0m\n\u001b[1;32m     83\u001b[0m \u001b[0;34m\u001b[0m\u001b[0m\n\u001b[1;32m     84\u001b[0m     \"\"\"\n\u001b[0;32m---> 85\u001b[0;31m     \u001b[0;32mreturn\u001b[0m \u001b[0marray\u001b[0m\u001b[0;34m(\u001b[0m\u001b[0ma\u001b[0m\u001b[0;34m,\u001b[0m \u001b[0mdtype\u001b[0m\u001b[0;34m,\u001b[0m \u001b[0mcopy\u001b[0m\u001b[0;34m=\u001b[0m\u001b[0;32mFalse\u001b[0m\u001b[0;34m,\u001b[0m \u001b[0morder\u001b[0m\u001b[0;34m=\u001b[0m\u001b[0morder\u001b[0m\u001b[0;34m)\u001b[0m\u001b[0;34m\u001b[0m\u001b[0;34m\u001b[0m\u001b[0m\n\u001b[0m\u001b[1;32m     86\u001b[0m \u001b[0;34m\u001b[0m\u001b[0m\n\u001b[1;32m     87\u001b[0m \u001b[0;34m\u001b[0m\u001b[0m\n",
            "\u001b[0;31mValueError\u001b[0m: could not convert string to float: 'Area046'"
          ]
        },
        {
          "output_type": "display_data",
          "data": {
            "image/png": "[encoded data removed]",
            "text/plain": [
              "<Figure size 432x432 with 3 Axes>"
            ]
          },
          "metadata": {
            "tags": [],
            "needs_background": "light"
          }
        }
      ]
    },
    {
      "cell_type": "code",
      "metadata": {
        "id": "5KALc1rLK0Hi",
        "colab": {
          "base_uri": "https://localhost:8080/",
          "height": 731
        },
        "outputId": "47db1a3b-de2c-43ac-ac2d-0595d53d17ee"
      },
      "source": [
        "sns.jointplot(x=cf_train['Medicine_Type'], y=cf_train['Counterfeit_Sales']);"
      ],
      "execution_count": null,
      "outputs": [
        {
          "output_type": "error",
          "ename": "ValueError",
          "evalue": "ignored",
          "traceback": [
            "\u001b[0;31m---------------------------------------------------------------------------\u001b[0m",
            "\u001b[0;31mValueError\u001b[0m                                Traceback (most recent call last)",
            "\u001b[0;32m<ipython-input-164-35bae910e34d>\u001b[0m in \u001b[0;36m<module>\u001b[0;34m()\u001b[0m\n\u001b[0;32m----> 1\u001b[0;31m \u001b[0msns\u001b[0m\u001b[0;34m.\u001b[0m\u001b[0mjointplot\u001b[0m\u001b[0;34m(\u001b[0m\u001b[0mx\u001b[0m\u001b[0;34m=\u001b[0m\u001b[0mcf_train\u001b[0m\u001b[0;34m[\u001b[0m\u001b[0;34m'Medicine_Type'\u001b[0m\u001b[0;34m]\u001b[0m\u001b[0;34m,\u001b[0m \u001b[0my\u001b[0m\u001b[0;34m=\u001b[0m\u001b[0mcf_train\u001b[0m\u001b[0;34m[\u001b[0m\u001b[0;34m'Counterfeit_Sales'\u001b[0m\u001b[0;34m]\u001b[0m\u001b[0;34m)\u001b[0m\u001b[0;34m;\u001b[0m\u001b[0;34m\u001b[0m\u001b[0;34m\u001b[0m\u001b[0m\n\u001b[0m",
            "\u001b[0;32m/usr/local/lib/python3.6/dist-packages/seaborn/axisgrid.py\u001b[0m in \u001b[0;36mjointplot\u001b[0;34m(x, y, data, kind, stat_func, color, height, ratio, space, dropna, xlim, ylim, joint_kws, marginal_kws, annot_kws, **kwargs)\u001b[0m\n\u001b[1;32m   2291\u001b[0m         \u001b[0mmarginal_kws\u001b[0m\u001b[0;34m.\u001b[0m\u001b[0msetdefault\u001b[0m\u001b[0;34m(\u001b[0m\u001b[0;34m\"kde\"\u001b[0m\u001b[0;34m,\u001b[0m \u001b[0;32mFalse\u001b[0m\u001b[0;34m)\u001b[0m\u001b[0;34m\u001b[0m\u001b[0;34m\u001b[0m\u001b[0m\n\u001b[1;32m   2292\u001b[0m         \u001b[0mmarginal_kws\u001b[0m\u001b[0;34m.\u001b[0m\u001b[0msetdefault\u001b[0m\u001b[0;34m(\u001b[0m\u001b[0;34m\"color\"\u001b[0m\u001b[0;34m,\u001b[0m \u001b[0mcolor\u001b[0m\u001b[0;34m)\u001b[0m\u001b[0;34m\u001b[0m\u001b[0;34m\u001b[0m\u001b[0m\n\u001b[0;32m-> 2293\u001b[0;31m         \u001b[0mgrid\u001b[0m\u001b[0;34m.\u001b[0m\u001b[0mplot_marginals\u001b[0m\u001b[0;34m(\u001b[0m\u001b[0mdistplot\u001b[0m\u001b[0;34m,\u001b[0m \u001b[0;34m**\u001b[0m\u001b[0mmarginal_kws\u001b[0m\u001b[0;34m)\u001b[0m\u001b[0;34m\u001b[0m\u001b[0;34m\u001b[0m\u001b[0m\n\u001b[0m\u001b[1;32m   2294\u001b[0m \u001b[0;34m\u001b[0m\u001b[0m\n\u001b[1;32m   2295\u001b[0m     \u001b[0;32melif\u001b[0m \u001b[0mkind\u001b[0m\u001b[0;34m.\u001b[0m\u001b[0mstartswith\u001b[0m\u001b[0;34m(\u001b[0m\u001b[0;34m\"hex\"\u001b[0m\u001b[0;34m)\u001b[0m\u001b[0;34m:\u001b[0m\u001b[0;34m\u001b[0m\u001b[0;34m\u001b[0m\u001b[0m\n",
            "\u001b[0;32m/usr/local/lib/python3.6/dist-packages/seaborn/axisgrid.py\u001b[0m in \u001b[0;36mplot_marginals\u001b[0;34m(self, func, **kwargs)\u001b[0m\n\u001b[1;32m   1800\u001b[0m         \u001b[0mkwargs\u001b[0m\u001b[0;34m[\u001b[0m\u001b[0;34m\"vertical\"\u001b[0m\u001b[0;34m]\u001b[0m \u001b[0;34m=\u001b[0m \u001b[0;32mFalse\u001b[0m\u001b[0;34m\u001b[0m\u001b[0;34m\u001b[0m\u001b[0m\n\u001b[1;32m   1801\u001b[0m         \u001b[0mplt\u001b[0m\u001b[0;34m.\u001b[0m\u001b[0msca\u001b[0m\u001b[0;34m(\u001b[0m\u001b[0mself\u001b[0m\u001b[0;34m.\u001b[0m\u001b[0max_marg_x\u001b[0m\u001b[0;34m)\u001b[0m\u001b[0;34m\u001b[0m\u001b[0;34m\u001b[0m\u001b[0m\n\u001b[0;32m-> 1802\u001b[0;31m         \u001b[0mfunc\u001b[0m\u001b[0;34m(\u001b[0m\u001b[0mself\u001b[0m\u001b[0;34m.\u001b[0m\u001b[0mx\u001b[0m\u001b[0;34m,\u001b[0m \u001b[0;34m**\u001b[0m\u001b[0mkwargs\u001b[0m\u001b[0;34m)\u001b[0m\u001b[0;34m\u001b[0m\u001b[0;34m\u001b[0m\u001b[0m\n\u001b[0m\u001b[1;32m   1803\u001b[0m \u001b[0;34m\u001b[0m\u001b[0m\n\u001b[1;32m   1804\u001b[0m         \u001b[0mkwargs\u001b[0m\u001b[0;34m[\u001b[0m\u001b[0;34m\"vertical\"\u001b[0m\u001b[0;34m]\u001b[0m \u001b[0;34m=\u001b[0m \u001b[0;32mTrue\u001b[0m\u001b[0;34m\u001b[0m\u001b[0;34m\u001b[0m\u001b[0m\n",
            "\u001b[0;32m/usr/local/lib/python3.6/dist-packages/seaborn/distributions.py\u001b[0m in \u001b[0;36mdistplot\u001b[0;34m(a, bins, hist, kde, rug, fit, hist_kws, kde_kws, rug_kws, fit_kws, color, vertical, norm_hist, axlabel, label, ax)\u001b[0m\n\u001b[1;32m    175\u001b[0m \u001b[0;34m\u001b[0m\u001b[0m\n\u001b[1;32m    176\u001b[0m     \u001b[0;31m# Make a a 1-d float array\u001b[0m\u001b[0;34m\u001b[0m\u001b[0;34m\u001b[0m\u001b[0;34m\u001b[0m\u001b[0m\n\u001b[0;32m--> 177\u001b[0;31m     \u001b[0ma\u001b[0m \u001b[0;34m=\u001b[0m \u001b[0mnp\u001b[0m\u001b[0;34m.\u001b[0m\u001b[0masarray\u001b[0m\u001b[0;34m(\u001b[0m\u001b[0ma\u001b[0m\u001b[0;34m,\u001b[0m \u001b[0mnp\u001b[0m\u001b[0;34m.\u001b[0m\u001b[0mfloat\u001b[0m\u001b[0;34m)\u001b[0m\u001b[0;34m\u001b[0m\u001b[0;34m\u001b[0m\u001b[0m\n\u001b[0m\u001b[1;32m    178\u001b[0m     \u001b[0;32mif\u001b[0m \u001b[0ma\u001b[0m\u001b[0;34m.\u001b[0m\u001b[0mndim\u001b[0m \u001b[0;34m>\u001b[0m \u001b[0;36m1\u001b[0m\u001b[0;34m:\u001b[0m\u001b[0;34m\u001b[0m\u001b[0;34m\u001b[0m\u001b[0m\n\u001b[1;32m    179\u001b[0m         \u001b[0ma\u001b[0m \u001b[0;34m=\u001b[0m \u001b[0ma\u001b[0m\u001b[0;34m.\u001b[0m\u001b[0msqueeze\u001b[0m\u001b[0;34m(\u001b[0m\u001b[0;34m)\u001b[0m\u001b[0;34m\u001b[0m\u001b[0;34m\u001b[0m\u001b[0m\n",
            "\u001b[0;32m/usr/local/lib/python3.6/dist-packages/numpy/core/_asarray.py\u001b[0m in \u001b[0;36masarray\u001b[0;34m(a, dtype, order)\u001b[0m\n\u001b[1;32m     83\u001b[0m \u001b[0;34m\u001b[0m\u001b[0m\n\u001b[1;32m     84\u001b[0m     \"\"\"\n\u001b[0;32m---> 85\u001b[0;31m     \u001b[0;32mreturn\u001b[0m \u001b[0marray\u001b[0m\u001b[0;34m(\u001b[0m\u001b[0ma\u001b[0m\u001b[0;34m,\u001b[0m \u001b[0mdtype\u001b[0m\u001b[0;34m,\u001b[0m \u001b[0mcopy\u001b[0m\u001b[0;34m=\u001b[0m\u001b[0;32mFalse\u001b[0m\u001b[0;34m,\u001b[0m \u001b[0morder\u001b[0m\u001b[0;34m=\u001b[0m\u001b[0morder\u001b[0m\u001b[0;34m)\u001b[0m\u001b[0;34m\u001b[0m\u001b[0;34m\u001b[0m\u001b[0m\n\u001b[0m\u001b[1;32m     86\u001b[0m \u001b[0;34m\u001b[0m\u001b[0m\n\u001b[1;32m     87\u001b[0m \u001b[0;34m\u001b[0m\u001b[0m\n",
            "\u001b[0;31mValueError\u001b[0m: could not convert string to float: 'Antimalarial'"
          ]
        },
        {
          "output_type": "display_data",
          "data": {
            "image/png": "[encoded data removed]",
            "text/plain": [
              "<Figure size 432x432 with 3 Axes>"
            ]
          },
          "metadata": {
            "tags": [],
            "needs_background": "light"
          }
        }
      ]
    },
    {
      "cell_type": "code",
      "metadata": {
        "id": "JN48C4kCK-nC",
        "colab": {
          "base_uri": "https://localhost:8080/",
          "height": 731
        },
        "outputId": "49962c69-5df3-428a-ce36-14e97298da63"
      },
      "source": [
        "sns.jointplot(x=cf_train['SidEffect_Level'], y=cf_train['Counterfeit_Sales']);"
      ],
      "execution_count": null,
      "outputs": [
        {
          "output_type": "error",
          "ename": "ValueError",
          "evalue": "ignored",
          "traceback": [
            "\u001b[0;31m---------------------------------------------------------------------------\u001b[0m",
            "\u001b[0;31mValueError\u001b[0m                                Traceback (most recent call last)",
            "\u001b[0;32m<ipython-input-165-4f20cfc764dc>\u001b[0m in \u001b[0;36m<module>\u001b[0;34m()\u001b[0m\n\u001b[0;32m----> 1\u001b[0;31m \u001b[0msns\u001b[0m\u001b[0;34m.\u001b[0m\u001b[0mjointplot\u001b[0m\u001b[0;34m(\u001b[0m\u001b[0mx\u001b[0m\u001b[0;34m=\u001b[0m\u001b[0mcf_train\u001b[0m\u001b[0;34m[\u001b[0m\u001b[0;34m'SidEffect_Level'\u001b[0m\u001b[0;34m]\u001b[0m\u001b[0;34m,\u001b[0m \u001b[0my\u001b[0m\u001b[0;34m=\u001b[0m\u001b[0mcf_train\u001b[0m\u001b[0;34m[\u001b[0m\u001b[0;34m'Counterfeit_Sales'\u001b[0m\u001b[0;34m]\u001b[0m\u001b[0;34m)\u001b[0m\u001b[0;34m;\u001b[0m\u001b[0;34m\u001b[0m\u001b[0;34m\u001b[0m\u001b[0m\n\u001b[0m",
            "\u001b[0;32m/usr/local/lib/python3.6/dist-packages/seaborn/axisgrid.py\u001b[0m in \u001b[0;36mjointplot\u001b[0;34m(x, y, data, kind, stat_func, color, height, ratio, space, dropna, xlim, ylim, joint_kws, marginal_kws, annot_kws, **kwargs)\u001b[0m\n\u001b[1;32m   2291\u001b[0m         \u001b[0mmarginal_kws\u001b[0m\u001b[0;34m.\u001b[0m\u001b[0msetdefault\u001b[0m\u001b[0;34m(\u001b[0m\u001b[0;34m\"kde\"\u001b[0m\u001b[0;34m,\u001b[0m \u001b[0;32mFalse\u001b[0m\u001b[0;34m)\u001b[0m\u001b[0;34m\u001b[0m\u001b[0;34m\u001b[0m\u001b[0m\n\u001b[1;32m   2292\u001b[0m         \u001b[0mmarginal_kws\u001b[0m\u001b[0;34m.\u001b[0m\u001b[0msetdefault\u001b[0m\u001b[0;34m(\u001b[0m\u001b[0;34m\"color\"\u001b[0m\u001b[0;34m,\u001b[0m \u001b[0mcolor\u001b[0m\u001b[0;34m)\u001b[0m\u001b[0;34m\u001b[0m\u001b[0;34m\u001b[0m\u001b[0m\n\u001b[0;32m-> 2293\u001b[0;31m         \u001b[0mgrid\u001b[0m\u001b[0;34m.\u001b[0m\u001b[0mplot_marginals\u001b[0m\u001b[0;34m(\u001b[0m\u001b[0mdistplot\u001b[0m\u001b[0;34m,\u001b[0m \u001b[0;34m**\u001b[0m\u001b[0mmarginal_kws\u001b[0m\u001b[0;34m)\u001b[0m\u001b[0;34m\u001b[0m\u001b[0;34m\u001b[0m\u001b[0m\n\u001b[0m\u001b[1;32m   2294\u001b[0m \u001b[0;34m\u001b[0m\u001b[0m\n\u001b[1;32m   2295\u001b[0m     \u001b[0;32melif\u001b[0m \u001b[0mkind\u001b[0m\u001b[0;34m.\u001b[0m\u001b[0mstartswith\u001b[0m\u001b[0;34m(\u001b[0m\u001b[0;34m\"hex\"\u001b[0m\u001b[0;34m)\u001b[0m\u001b[0;34m:\u001b[0m\u001b[0;34m\u001b[0m\u001b[0;34m\u001b[0m\u001b[0m\n",
            "\u001b[0;32m/usr/local/lib/python3.6/dist-packages/seaborn/axisgrid.py\u001b[0m in \u001b[0;36mplot_marginals\u001b[0;34m(self, func, **kwargs)\u001b[0m\n\u001b[1;32m   1800\u001b[0m         \u001b[0mkwargs\u001b[0m\u001b[0;34m[\u001b[0m\u001b[0;34m\"vertical\"\u001b[0m\u001b[0;34m]\u001b[0m \u001b[0;34m=\u001b[0m \u001b[0;32mFalse\u001b[0m\u001b[0;34m\u001b[0m\u001b[0;34m\u001b[0m\u001b[0m\n\u001b[1;32m   1801\u001b[0m         \u001b[0mplt\u001b[0m\u001b[0;34m.\u001b[0m\u001b[0msca\u001b[0m\u001b[0;34m(\u001b[0m\u001b[0mself\u001b[0m\u001b[0;34m.\u001b[0m\u001b[0max_marg_x\u001b[0m\u001b[0;34m)\u001b[0m\u001b[0;34m\u001b[0m\u001b[0;34m\u001b[0m\u001b[0m\n\u001b[0;32m-> 1802\u001b[0;31m         \u001b[0mfunc\u001b[0m\u001b[0;34m(\u001b[0m\u001b[0mself\u001b[0m\u001b[0;34m.\u001b[0m\u001b[0mx\u001b[0m\u001b[0;34m,\u001b[0m \u001b[0;34m**\u001b[0m\u001b[0mkwargs\u001b[0m\u001b[0;34m)\u001b[0m\u001b[0;34m\u001b[0m\u001b[0;34m\u001b[0m\u001b[0m\n\u001b[0m\u001b[1;32m   1803\u001b[0m \u001b[0;34m\u001b[0m\u001b[0m\n\u001b[1;32m   1804\u001b[0m         \u001b[0mkwargs\u001b[0m\u001b[0;34m[\u001b[0m\u001b[0;34m\"vertical\"\u001b[0m\u001b[0;34m]\u001b[0m \u001b[0;34m=\u001b[0m \u001b[0;32mTrue\u001b[0m\u001b[0;34m\u001b[0m\u001b[0;34m\u001b[0m\u001b[0m\n",
            "\u001b[0;32m/usr/local/lib/python3.6/dist-packages/seaborn/distributions.py\u001b[0m in \u001b[0;36mdistplot\u001b[0;34m(a, bins, hist, kde, rug, fit, hist_kws, kde_kws, rug_kws, fit_kws, color, vertical, norm_hist, axlabel, label, ax)\u001b[0m\n\u001b[1;32m    175\u001b[0m \u001b[0;34m\u001b[0m\u001b[0m\n\u001b[1;32m    176\u001b[0m     \u001b[0;31m# Make a a 1-d float array\u001b[0m\u001b[0;34m\u001b[0m\u001b[0;34m\u001b[0m\u001b[0;34m\u001b[0m\u001b[0m\n\u001b[0;32m--> 177\u001b[0;31m     \u001b[0ma\u001b[0m \u001b[0;34m=\u001b[0m \u001b[0mnp\u001b[0m\u001b[0;34m.\u001b[0m\u001b[0masarray\u001b[0m\u001b[0;34m(\u001b[0m\u001b[0ma\u001b[0m\u001b[0;34m,\u001b[0m \u001b[0mnp\u001b[0m\u001b[0;34m.\u001b[0m\u001b[0mfloat\u001b[0m\u001b[0;34m)\u001b[0m\u001b[0;34m\u001b[0m\u001b[0;34m\u001b[0m\u001b[0m\n\u001b[0m\u001b[1;32m    178\u001b[0m     \u001b[0;32mif\u001b[0m \u001b[0ma\u001b[0m\u001b[0;34m.\u001b[0m\u001b[0mndim\u001b[0m \u001b[0;34m>\u001b[0m \u001b[0;36m1\u001b[0m\u001b[0;34m:\u001b[0m\u001b[0;34m\u001b[0m\u001b[0;34m\u001b[0m\u001b[0m\n\u001b[1;32m    179\u001b[0m         \u001b[0ma\u001b[0m \u001b[0;34m=\u001b[0m \u001b[0ma\u001b[0m\u001b[0;34m.\u001b[0m\u001b[0msqueeze\u001b[0m\u001b[0;34m(\u001b[0m\u001b[0;34m)\u001b[0m\u001b[0;34m\u001b[0m\u001b[0;34m\u001b[0m\u001b[0m\n",
            "\u001b[0;32m/usr/local/lib/python3.6/dist-packages/numpy/core/_asarray.py\u001b[0m in \u001b[0;36masarray\u001b[0;34m(a, dtype, order)\u001b[0m\n\u001b[1;32m     83\u001b[0m \u001b[0;34m\u001b[0m\u001b[0m\n\u001b[1;32m     84\u001b[0m     \"\"\"\n\u001b[0;32m---> 85\u001b[0;31m     \u001b[0;32mreturn\u001b[0m \u001b[0marray\u001b[0m\u001b[0;34m(\u001b[0m\u001b[0ma\u001b[0m\u001b[0;34m,\u001b[0m \u001b[0mdtype\u001b[0m\u001b[0;34m,\u001b[0m \u001b[0mcopy\u001b[0m\u001b[0;34m=\u001b[0m\u001b[0;32mFalse\u001b[0m\u001b[0;34m,\u001b[0m \u001b[0morder\u001b[0m\u001b[0;34m=\u001b[0m\u001b[0morder\u001b[0m\u001b[0;34m)\u001b[0m\u001b[0;34m\u001b[0m\u001b[0;34m\u001b[0m\u001b[0m\n\u001b[0m\u001b[1;32m     86\u001b[0m \u001b[0;34m\u001b[0m\u001b[0m\n\u001b[1;32m     87\u001b[0m \u001b[0;34m\u001b[0m\u001b[0m\n",
            "\u001b[0;31mValueError\u001b[0m: could not convert string to float: 'critical'"
          ]
        },
        {
          "output_type": "display_data",
          "data": {
            "image/png": "[encoded data removed]",
            "text/plain": [
              "<Figure size 432x432 with 3 Axes>"
            ]
          },
          "metadata": {
            "tags": [],
            "needs_background": "light"
          }
        }
      ]
    },
    {
      "cell_type": "code",
      "metadata": {
        "id": "j8i04RVZLI6V",
        "colab": {
          "base_uri": "https://localhost:8080/",
          "height": 731
        },
        "outputId": "89af7713-f64a-4fea-dcb9-fe15fdb35367"
      },
      "source": [
        "sns.jointplot(x=cf_train['Area_Type'], y=cf_train['Counterfeit_Sales']);"
      ],
      "execution_count": null,
      "outputs": [
        {
          "output_type": "error",
          "ename": "ValueError",
          "evalue": "ignored",
          "traceback": [
            "\u001b[0;31m---------------------------------------------------------------------------\u001b[0m",
            "\u001b[0;31mValueError\u001b[0m                                Traceback (most recent call last)",
            "\u001b[0;32m<ipython-input-166-e996cf769f51>\u001b[0m in \u001b[0;36m<module>\u001b[0;34m()\u001b[0m\n\u001b[0;32m----> 1\u001b[0;31m \u001b[0msns\u001b[0m\u001b[0;34m.\u001b[0m\u001b[0mjointplot\u001b[0m\u001b[0;34m(\u001b[0m\u001b[0mx\u001b[0m\u001b[0;34m=\u001b[0m\u001b[0mcf_train\u001b[0m\u001b[0;34m[\u001b[0m\u001b[0;34m'Area_Type'\u001b[0m\u001b[0;34m]\u001b[0m\u001b[0;34m,\u001b[0m \u001b[0my\u001b[0m\u001b[0;34m=\u001b[0m\u001b[0mcf_train\u001b[0m\u001b[0;34m[\u001b[0m\u001b[0;34m'Counterfeit_Sales'\u001b[0m\u001b[0;34m]\u001b[0m\u001b[0;34m)\u001b[0m\u001b[0;34m;\u001b[0m\u001b[0;34m\u001b[0m\u001b[0;34m\u001b[0m\u001b[0m\n\u001b[0m",
            "\u001b[0;32m/usr/local/lib/python3.6/dist-packages/seaborn/axisgrid.py\u001b[0m in \u001b[0;36mjointplot\u001b[0;34m(x, y, data, kind, stat_func, color, height, ratio, space, dropna, xlim, ylim, joint_kws, marginal_kws, annot_kws, **kwargs)\u001b[0m\n\u001b[1;32m   2291\u001b[0m         \u001b[0mmarginal_kws\u001b[0m\u001b[0;34m.\u001b[0m\u001b[0msetdefault\u001b[0m\u001b[0;34m(\u001b[0m\u001b[0;34m\"kde\"\u001b[0m\u001b[0;34m,\u001b[0m \u001b[0;32mFalse\u001b[0m\u001b[0;34m)\u001b[0m\u001b[0;34m\u001b[0m\u001b[0;34m\u001b[0m\u001b[0m\n\u001b[1;32m   2292\u001b[0m         \u001b[0mmarginal_kws\u001b[0m\u001b[0;34m.\u001b[0m\u001b[0msetdefault\u001b[0m\u001b[0;34m(\u001b[0m\u001b[0;34m\"color\"\u001b[0m\u001b[0;34m,\u001b[0m \u001b[0mcolor\u001b[0m\u001b[0;34m)\u001b[0m\u001b[0;34m\u001b[0m\u001b[0;34m\u001b[0m\u001b[0m\n\u001b[0;32m-> 2293\u001b[0;31m         \u001b[0mgrid\u001b[0m\u001b[0;34m.\u001b[0m\u001b[0mplot_marginals\u001b[0m\u001b[0;34m(\u001b[0m\u001b[0mdistplot\u001b[0m\u001b[0;34m,\u001b[0m \u001b[0;34m**\u001b[0m\u001b[0mmarginal_kws\u001b[0m\u001b[0;34m)\u001b[0m\u001b[0;34m\u001b[0m\u001b[0;34m\u001b[0m\u001b[0m\n\u001b[0m\u001b[1;32m   2294\u001b[0m \u001b[0;34m\u001b[0m\u001b[0m\n\u001b[1;32m   2295\u001b[0m     \u001b[0;32melif\u001b[0m \u001b[0mkind\u001b[0m\u001b[0;34m.\u001b[0m\u001b[0mstartswith\u001b[0m\u001b[0;34m(\u001b[0m\u001b[0;34m\"hex\"\u001b[0m\u001b[0;34m)\u001b[0m\u001b[0;34m:\u001b[0m\u001b[0;34m\u001b[0m\u001b[0;34m\u001b[0m\u001b[0m\n",
            "\u001b[0;32m/usr/local/lib/python3.6/dist-packages/seaborn/axisgrid.py\u001b[0m in \u001b[0;36mplot_marginals\u001b[0;34m(self, func, **kwargs)\u001b[0m\n\u001b[1;32m   1800\u001b[0m         \u001b[0mkwargs\u001b[0m\u001b[0;34m[\u001b[0m\u001b[0;34m\"vertical\"\u001b[0m\u001b[0;34m]\u001b[0m \u001b[0;34m=\u001b[0m \u001b[0;32mFalse\u001b[0m\u001b[0;34m\u001b[0m\u001b[0;34m\u001b[0m\u001b[0m\n\u001b[1;32m   1801\u001b[0m         \u001b[0mplt\u001b[0m\u001b[0;34m.\u001b[0m\u001b[0msca\u001b[0m\u001b[0;34m(\u001b[0m\u001b[0mself\u001b[0m\u001b[0;34m.\u001b[0m\u001b[0max_marg_x\u001b[0m\u001b[0;34m)\u001b[0m\u001b[0;34m\u001b[0m\u001b[0;34m\u001b[0m\u001b[0m\n\u001b[0;32m-> 1802\u001b[0;31m         \u001b[0mfunc\u001b[0m\u001b[0;34m(\u001b[0m\u001b[0mself\u001b[0m\u001b[0;34m.\u001b[0m\u001b[0mx\u001b[0m\u001b[0;34m,\u001b[0m \u001b[0;34m**\u001b[0m\u001b[0mkwargs\u001b[0m\u001b[0;34m)\u001b[0m\u001b[0;34m\u001b[0m\u001b[0;34m\u001b[0m\u001b[0m\n\u001b[0m\u001b[1;32m   1803\u001b[0m \u001b[0;34m\u001b[0m\u001b[0m\n\u001b[1;32m   1804\u001b[0m         \u001b[0mkwargs\u001b[0m\u001b[0;34m[\u001b[0m\u001b[0;34m\"vertical\"\u001b[0m\u001b[0;34m]\u001b[0m \u001b[0;34m=\u001b[0m \u001b[0;32mTrue\u001b[0m\u001b[0;34m\u001b[0m\u001b[0;34m\u001b[0m\u001b[0m\n",
            "\u001b[0;32m/usr/local/lib/python3.6/dist-packages/seaborn/distributions.py\u001b[0m in \u001b[0;36mdistplot\u001b[0;34m(a, bins, hist, kde, rug, fit, hist_kws, kde_kws, rug_kws, fit_kws, color, vertical, norm_hist, axlabel, label, ax)\u001b[0m\n\u001b[1;32m    175\u001b[0m \u001b[0;34m\u001b[0m\u001b[0m\n\u001b[1;32m    176\u001b[0m     \u001b[0;31m# Make a a 1-d float array\u001b[0m\u001b[0;34m\u001b[0m\u001b[0;34m\u001b[0m\u001b[0;34m\u001b[0m\u001b[0m\n\u001b[0;32m--> 177\u001b[0;31m     \u001b[0ma\u001b[0m \u001b[0;34m=\u001b[0m \u001b[0mnp\u001b[0m\u001b[0;34m.\u001b[0m\u001b[0masarray\u001b[0m\u001b[0;34m(\u001b[0m\u001b[0ma\u001b[0m\u001b[0;34m,\u001b[0m \u001b[0mnp\u001b[0m\u001b[0;34m.\u001b[0m\u001b[0mfloat\u001b[0m\u001b[0;34m)\u001b[0m\u001b[0;34m\u001b[0m\u001b[0;34m\u001b[0m\u001b[0m\n\u001b[0m\u001b[1;32m    178\u001b[0m     \u001b[0;32mif\u001b[0m \u001b[0ma\u001b[0m\u001b[0;34m.\u001b[0m\u001b[0mndim\u001b[0m \u001b[0;34m>\u001b[0m \u001b[0;36m1\u001b[0m\u001b[0;34m:\u001b[0m\u001b[0;34m\u001b[0m\u001b[0;34m\u001b[0m\u001b[0m\n\u001b[1;32m    179\u001b[0m         \u001b[0ma\u001b[0m \u001b[0;34m=\u001b[0m \u001b[0ma\u001b[0m\u001b[0;34m.\u001b[0m\u001b[0msqueeze\u001b[0m\u001b[0;34m(\u001b[0m\u001b[0;34m)\u001b[0m\u001b[0;34m\u001b[0m\u001b[0;34m\u001b[0m\u001b[0m\n",
            "\u001b[0;32m/usr/local/lib/python3.6/dist-packages/numpy/core/_asarray.py\u001b[0m in \u001b[0;36masarray\u001b[0;34m(a, dtype, order)\u001b[0m\n\u001b[1;32m     83\u001b[0m \u001b[0;34m\u001b[0m\u001b[0m\n\u001b[1;32m     84\u001b[0m     \"\"\"\n\u001b[0;32m---> 85\u001b[0;31m     \u001b[0;32mreturn\u001b[0m \u001b[0marray\u001b[0m\u001b[0;34m(\u001b[0m\u001b[0ma\u001b[0m\u001b[0;34m,\u001b[0m \u001b[0mdtype\u001b[0m\u001b[0;34m,\u001b[0m \u001b[0mcopy\u001b[0m\u001b[0;34m=\u001b[0m\u001b[0;32mFalse\u001b[0m\u001b[0;34m,\u001b[0m \u001b[0morder\u001b[0m\u001b[0;34m=\u001b[0m\u001b[0morder\u001b[0m\u001b[0;34m)\u001b[0m\u001b[0;34m\u001b[0m\u001b[0;34m\u001b[0m\u001b[0m\n\u001b[0m\u001b[1;32m     86\u001b[0m \u001b[0;34m\u001b[0m\u001b[0m\n\u001b[1;32m     87\u001b[0m \u001b[0;34m\u001b[0m\u001b[0m\n",
            "\u001b[0;31mValueError\u001b[0m: could not convert string to float: 'DownTown'"
          ]
        },
        {
          "output_type": "display_data",
          "data": {
            "image/png": "[encoded data removed]",
            "text/plain": [
              "<Figure size 432x432 with 3 Axes>"
            ]
          },
          "metadata": {
            "tags": [],
            "needs_background": "light"
          }
        }
      ]
    },
    {
      "cell_type": "code",
      "metadata": {
        "id": "8Mu5Kyz0LTTN",
        "colab": {
          "base_uri": "https://localhost:8080/",
          "height": 731
        },
        "outputId": "f9bd0cf5-a0bc-436f-f882-9ff949a9f96f"
      },
      "source": [
        "sns.jointplot(x=cf_train['Area_City_Type'], y=cf_train['Counterfeit_Sales']);"
      ],
      "execution_count": null,
      "outputs": [
        {
          "output_type": "error",
          "ename": "ValueError",
          "evalue": "ignored",
          "traceback": [
            "\u001b[0;31m---------------------------------------------------------------------------\u001b[0m",
            "\u001b[0;31mValueError\u001b[0m                                Traceback (most recent call last)",
            "\u001b[0;32m<ipython-input-167-c788df375652>\u001b[0m in \u001b[0;36m<module>\u001b[0;34m()\u001b[0m\n\u001b[0;32m----> 1\u001b[0;31m \u001b[0msns\u001b[0m\u001b[0;34m.\u001b[0m\u001b[0mjointplot\u001b[0m\u001b[0;34m(\u001b[0m\u001b[0mx\u001b[0m\u001b[0;34m=\u001b[0m\u001b[0mcf_train\u001b[0m\u001b[0;34m[\u001b[0m\u001b[0;34m'Area_City_Type'\u001b[0m\u001b[0;34m]\u001b[0m\u001b[0;34m,\u001b[0m \u001b[0my\u001b[0m\u001b[0;34m=\u001b[0m\u001b[0mcf_train\u001b[0m\u001b[0;34m[\u001b[0m\u001b[0;34m'Counterfeit_Sales'\u001b[0m\u001b[0;34m]\u001b[0m\u001b[0;34m)\u001b[0m\u001b[0;34m;\u001b[0m\u001b[0;34m\u001b[0m\u001b[0;34m\u001b[0m\u001b[0m\n\u001b[0m",
            "\u001b[0;32m/usr/local/lib/python3.6/dist-packages/seaborn/axisgrid.py\u001b[0m in \u001b[0;36mjointplot\u001b[0;34m(x, y, data, kind, stat_func, color, height, ratio, space, dropna, xlim, ylim, joint_kws, marginal_kws, annot_kws, **kwargs)\u001b[0m\n\u001b[1;32m   2291\u001b[0m         \u001b[0mmarginal_kws\u001b[0m\u001b[0;34m.\u001b[0m\u001b[0msetdefault\u001b[0m\u001b[0;34m(\u001b[0m\u001b[0;34m\"kde\"\u001b[0m\u001b[0;34m,\u001b[0m \u001b[0;32mFalse\u001b[0m\u001b[0;34m)\u001b[0m\u001b[0;34m\u001b[0m\u001b[0;34m\u001b[0m\u001b[0m\n\u001b[1;32m   2292\u001b[0m         \u001b[0mmarginal_kws\u001b[0m\u001b[0;34m.\u001b[0m\u001b[0msetdefault\u001b[0m\u001b[0;34m(\u001b[0m\u001b[0;34m\"color\"\u001b[0m\u001b[0;34m,\u001b[0m \u001b[0mcolor\u001b[0m\u001b[0;34m)\u001b[0m\u001b[0;34m\u001b[0m\u001b[0;34m\u001b[0m\u001b[0m\n\u001b[0;32m-> 2293\u001b[0;31m         \u001b[0mgrid\u001b[0m\u001b[0;34m.\u001b[0m\u001b[0mplot_marginals\u001b[0m\u001b[0;34m(\u001b[0m\u001b[0mdistplot\u001b[0m\u001b[0;34m,\u001b[0m \u001b[0;34m**\u001b[0m\u001b[0mmarginal_kws\u001b[0m\u001b[0;34m)\u001b[0m\u001b[0;34m\u001b[0m\u001b[0;34m\u001b[0m\u001b[0m\n\u001b[0m\u001b[1;32m   2294\u001b[0m \u001b[0;34m\u001b[0m\u001b[0m\n\u001b[1;32m   2295\u001b[0m     \u001b[0;32melif\u001b[0m \u001b[0mkind\u001b[0m\u001b[0;34m.\u001b[0m\u001b[0mstartswith\u001b[0m\u001b[0;34m(\u001b[0m\u001b[0;34m\"hex\"\u001b[0m\u001b[0;34m)\u001b[0m\u001b[0;34m:\u001b[0m\u001b[0;34m\u001b[0m\u001b[0;34m\u001b[0m\u001b[0m\n",
            "\u001b[0;32m/usr/local/lib/python3.6/dist-packages/seaborn/axisgrid.py\u001b[0m in \u001b[0;36mplot_marginals\u001b[0;34m(self, func, **kwargs)\u001b[0m\n\u001b[1;32m   1800\u001b[0m         \u001b[0mkwargs\u001b[0m\u001b[0;34m[\u001b[0m\u001b[0;34m\"vertical\"\u001b[0m\u001b[0;34m]\u001b[0m \u001b[0;34m=\u001b[0m \u001b[0;32mFalse\u001b[0m\u001b[0;34m\u001b[0m\u001b[0;34m\u001b[0m\u001b[0m\n\u001b[1;32m   1801\u001b[0m         \u001b[0mplt\u001b[0m\u001b[0;34m.\u001b[0m\u001b[0msca\u001b[0m\u001b[0;34m(\u001b[0m\u001b[0mself\u001b[0m\u001b[0;34m.\u001b[0m\u001b[0max_marg_x\u001b[0m\u001b[0;34m)\u001b[0m\u001b[0;34m\u001b[0m\u001b[0;34m\u001b[0m\u001b[0m\n\u001b[0;32m-> 1802\u001b[0;31m         \u001b[0mfunc\u001b[0m\u001b[0;34m(\u001b[0m\u001b[0mself\u001b[0m\u001b[0;34m.\u001b[0m\u001b[0mx\u001b[0m\u001b[0;34m,\u001b[0m \u001b[0;34m**\u001b[0m\u001b[0mkwargs\u001b[0m\u001b[0;34m)\u001b[0m\u001b[0;34m\u001b[0m\u001b[0;34m\u001b[0m\u001b[0m\n\u001b[0m\u001b[1;32m   1803\u001b[0m \u001b[0;34m\u001b[0m\u001b[0m\n\u001b[1;32m   1804\u001b[0m         \u001b[0mkwargs\u001b[0m\u001b[0;34m[\u001b[0m\u001b[0;34m\"vertical\"\u001b[0m\u001b[0;34m]\u001b[0m \u001b[0;34m=\u001b[0m \u001b[0;32mTrue\u001b[0m\u001b[0;34m\u001b[0m\u001b[0;34m\u001b[0m\u001b[0m\n",
            "\u001b[0;32m/usr/local/lib/python3.6/dist-packages/seaborn/distributions.py\u001b[0m in \u001b[0;36mdistplot\u001b[0;34m(a, bins, hist, kde, rug, fit, hist_kws, kde_kws, rug_kws, fit_kws, color, vertical, norm_hist, axlabel, label, ax)\u001b[0m\n\u001b[1;32m    175\u001b[0m \u001b[0;34m\u001b[0m\u001b[0m\n\u001b[1;32m    176\u001b[0m     \u001b[0;31m# Make a a 1-d float array\u001b[0m\u001b[0;34m\u001b[0m\u001b[0;34m\u001b[0m\u001b[0;34m\u001b[0m\u001b[0m\n\u001b[0;32m--> 177\u001b[0;31m     \u001b[0ma\u001b[0m \u001b[0;34m=\u001b[0m \u001b[0mnp\u001b[0m\u001b[0;34m.\u001b[0m\u001b[0masarray\u001b[0m\u001b[0;34m(\u001b[0m\u001b[0ma\u001b[0m\u001b[0;34m,\u001b[0m \u001b[0mnp\u001b[0m\u001b[0;34m.\u001b[0m\u001b[0mfloat\u001b[0m\u001b[0;34m)\u001b[0m\u001b[0;34m\u001b[0m\u001b[0;34m\u001b[0m\u001b[0m\n\u001b[0m\u001b[1;32m    178\u001b[0m     \u001b[0;32mif\u001b[0m \u001b[0ma\u001b[0m\u001b[0;34m.\u001b[0m\u001b[0mndim\u001b[0m \u001b[0;34m>\u001b[0m \u001b[0;36m1\u001b[0m\u001b[0;34m:\u001b[0m\u001b[0;34m\u001b[0m\u001b[0;34m\u001b[0m\u001b[0m\n\u001b[1;32m    179\u001b[0m         \u001b[0ma\u001b[0m \u001b[0;34m=\u001b[0m \u001b[0ma\u001b[0m\u001b[0;34m.\u001b[0m\u001b[0msqueeze\u001b[0m\u001b[0;34m(\u001b[0m\u001b[0;34m)\u001b[0m\u001b[0;34m\u001b[0m\u001b[0;34m\u001b[0m\u001b[0m\n",
            "\u001b[0;32m/usr/local/lib/python3.6/dist-packages/numpy/core/_asarray.py\u001b[0m in \u001b[0;36masarray\u001b[0;34m(a, dtype, order)\u001b[0m\n\u001b[1;32m     83\u001b[0m \u001b[0;34m\u001b[0m\u001b[0m\n\u001b[1;32m     84\u001b[0m     \"\"\"\n\u001b[0;32m---> 85\u001b[0;31m     \u001b[0;32mreturn\u001b[0m \u001b[0marray\u001b[0m\u001b[0;34m(\u001b[0m\u001b[0ma\u001b[0m\u001b[0;34m,\u001b[0m \u001b[0mdtype\u001b[0m\u001b[0;34m,\u001b[0m \u001b[0mcopy\u001b[0m\u001b[0;34m=\u001b[0m\u001b[0;32mFalse\u001b[0m\u001b[0;34m,\u001b[0m \u001b[0morder\u001b[0m\u001b[0;34m=\u001b[0m\u001b[0morder\u001b[0m\u001b[0;34m)\u001b[0m\u001b[0;34m\u001b[0m\u001b[0;34m\u001b[0m\u001b[0m\n\u001b[0m\u001b[1;32m     86\u001b[0m \u001b[0;34m\u001b[0m\u001b[0m\n\u001b[1;32m     87\u001b[0m \u001b[0;34m\u001b[0m\u001b[0m\n",
            "\u001b[0;31mValueError\u001b[0m: could not convert string to float: 'Tier 1'"
          ]
        },
        {
          "output_type": "display_data",
          "data": {
            "image/png": "[encoded data removed]",
            "text/plain": [
              "<Figure size 432x432 with 3 Axes>"
            ]
          },
          "metadata": {
            "tags": [],
            "needs_background": "light"
          }
        }
      ]
    },
    {
      "cell_type": "code",
      "metadata": {
        "id": "F1vlRWMrLdnm",
        "colab": {
          "base_uri": "https://localhost:8080/",
          "height": 731
        },
        "outputId": "7d7b55fa-5136-47e8-c819-7fa93c9e19d1"
      },
      "source": [
        "sns.jointplot(x=cf_train['Area_dist_level'], y=cf_train['Counterfeit_Sales']);"
      ],
      "execution_count": null,
      "outputs": [
        {
          "output_type": "error",
          "ename": "ValueError",
          "evalue": "ignored",
          "traceback": [
            "\u001b[0;31m---------------------------------------------------------------------------\u001b[0m",
            "\u001b[0;31mValueError\u001b[0m                                Traceback (most recent call last)",
            "\u001b[0;32m<ipython-input-168-dfed2c52ecc1>\u001b[0m in \u001b[0;36m<module>\u001b[0;34m()\u001b[0m\n\u001b[0;32m----> 1\u001b[0;31m \u001b[0msns\u001b[0m\u001b[0;34m.\u001b[0m\u001b[0mjointplot\u001b[0m\u001b[0;34m(\u001b[0m\u001b[0mx\u001b[0m\u001b[0;34m=\u001b[0m\u001b[0mcf_train\u001b[0m\u001b[0;34m[\u001b[0m\u001b[0;34m'Area_dist_level'\u001b[0m\u001b[0;34m]\u001b[0m\u001b[0;34m,\u001b[0m \u001b[0my\u001b[0m\u001b[0;34m=\u001b[0m\u001b[0mcf_train\u001b[0m\u001b[0;34m[\u001b[0m\u001b[0;34m'Counterfeit_Sales'\u001b[0m\u001b[0;34m]\u001b[0m\u001b[0;34m)\u001b[0m\u001b[0;34m;\u001b[0m\u001b[0;34m\u001b[0m\u001b[0;34m\u001b[0m\u001b[0m\n\u001b[0m",
            "\u001b[0;32m/usr/local/lib/python3.6/dist-packages/seaborn/axisgrid.py\u001b[0m in \u001b[0;36mjointplot\u001b[0;34m(x, y, data, kind, stat_func, color, height, ratio, space, dropna, xlim, ylim, joint_kws, marginal_kws, annot_kws, **kwargs)\u001b[0m\n\u001b[1;32m   2291\u001b[0m         \u001b[0mmarginal_kws\u001b[0m\u001b[0;34m.\u001b[0m\u001b[0msetdefault\u001b[0m\u001b[0;34m(\u001b[0m\u001b[0;34m\"kde\"\u001b[0m\u001b[0;34m,\u001b[0m \u001b[0;32mFalse\u001b[0m\u001b[0;34m)\u001b[0m\u001b[0;34m\u001b[0m\u001b[0;34m\u001b[0m\u001b[0m\n\u001b[1;32m   2292\u001b[0m         \u001b[0mmarginal_kws\u001b[0m\u001b[0;34m.\u001b[0m\u001b[0msetdefault\u001b[0m\u001b[0;34m(\u001b[0m\u001b[0;34m\"color\"\u001b[0m\u001b[0;34m,\u001b[0m \u001b[0mcolor\u001b[0m\u001b[0;34m)\u001b[0m\u001b[0;34m\u001b[0m\u001b[0;34m\u001b[0m\u001b[0m\n\u001b[0;32m-> 2293\u001b[0;31m         \u001b[0mgrid\u001b[0m\u001b[0;34m.\u001b[0m\u001b[0mplot_marginals\u001b[0m\u001b[0;34m(\u001b[0m\u001b[0mdistplot\u001b[0m\u001b[0;34m,\u001b[0m \u001b[0;34m**\u001b[0m\u001b[0mmarginal_kws\u001b[0m\u001b[0;34m)\u001b[0m\u001b[0;34m\u001b[0m\u001b[0;34m\u001b[0m\u001b[0m\n\u001b[0m\u001b[1;32m   2294\u001b[0m \u001b[0;34m\u001b[0m\u001b[0m\n\u001b[1;32m   2295\u001b[0m     \u001b[0;32melif\u001b[0m \u001b[0mkind\u001b[0m\u001b[0;34m.\u001b[0m\u001b[0mstartswith\u001b[0m\u001b[0;34m(\u001b[0m\u001b[0;34m\"hex\"\u001b[0m\u001b[0;34m)\u001b[0m\u001b[0;34m:\u001b[0m\u001b[0;34m\u001b[0m\u001b[0;34m\u001b[0m\u001b[0m\n",
            "\u001b[0;32m/usr/local/lib/python3.6/dist-packages/seaborn/axisgrid.py\u001b[0m in \u001b[0;36mplot_marginals\u001b[0;34m(self, func, **kwargs)\u001b[0m\n\u001b[1;32m   1800\u001b[0m         \u001b[0mkwargs\u001b[0m\u001b[0;34m[\u001b[0m\u001b[0;34m\"vertical\"\u001b[0m\u001b[0;34m]\u001b[0m \u001b[0;34m=\u001b[0m \u001b[0;32mFalse\u001b[0m\u001b[0;34m\u001b[0m\u001b[0;34m\u001b[0m\u001b[0m\n\u001b[1;32m   1801\u001b[0m         \u001b[0mplt\u001b[0m\u001b[0;34m.\u001b[0m\u001b[0msca\u001b[0m\u001b[0;34m(\u001b[0m\u001b[0mself\u001b[0m\u001b[0;34m.\u001b[0m\u001b[0max_marg_x\u001b[0m\u001b[0;34m)\u001b[0m\u001b[0;34m\u001b[0m\u001b[0;34m\u001b[0m\u001b[0m\n\u001b[0;32m-> 1802\u001b[0;31m         \u001b[0mfunc\u001b[0m\u001b[0;34m(\u001b[0m\u001b[0mself\u001b[0m\u001b[0;34m.\u001b[0m\u001b[0mx\u001b[0m\u001b[0;34m,\u001b[0m \u001b[0;34m**\u001b[0m\u001b[0mkwargs\u001b[0m\u001b[0;34m)\u001b[0m\u001b[0;34m\u001b[0m\u001b[0;34m\u001b[0m\u001b[0m\n\u001b[0m\u001b[1;32m   1803\u001b[0m \u001b[0;34m\u001b[0m\u001b[0m\n\u001b[1;32m   1804\u001b[0m         \u001b[0mkwargs\u001b[0m\u001b[0;34m[\u001b[0m\u001b[0;34m\"vertical\"\u001b[0m\u001b[0;34m]\u001b[0m \u001b[0;34m=\u001b[0m \u001b[0;32mTrue\u001b[0m\u001b[0;34m\u001b[0m\u001b[0;34m\u001b[0m\u001b[0m\n",
            "\u001b[0;32m/usr/local/lib/python3.6/dist-packages/seaborn/distributions.py\u001b[0m in \u001b[0;36mdistplot\u001b[0;34m(a, bins, hist, kde, rug, fit, hist_kws, kde_kws, rug_kws, fit_kws, color, vertical, norm_hist, axlabel, label, ax)\u001b[0m\n\u001b[1;32m    175\u001b[0m \u001b[0;34m\u001b[0m\u001b[0m\n\u001b[1;32m    176\u001b[0m     \u001b[0;31m# Make a a 1-d float array\u001b[0m\u001b[0;34m\u001b[0m\u001b[0;34m\u001b[0m\u001b[0;34m\u001b[0m\u001b[0m\n\u001b[0;32m--> 177\u001b[0;31m     \u001b[0ma\u001b[0m \u001b[0;34m=\u001b[0m \u001b[0mnp\u001b[0m\u001b[0;34m.\u001b[0m\u001b[0masarray\u001b[0m\u001b[0;34m(\u001b[0m\u001b[0ma\u001b[0m\u001b[0;34m,\u001b[0m \u001b[0mnp\u001b[0m\u001b[0;34m.\u001b[0m\u001b[0mfloat\u001b[0m\u001b[0;34m)\u001b[0m\u001b[0;34m\u001b[0m\u001b[0;34m\u001b[0m\u001b[0m\n\u001b[0m\u001b[1;32m    178\u001b[0m     \u001b[0;32mif\u001b[0m \u001b[0ma\u001b[0m\u001b[0;34m.\u001b[0m\u001b[0mndim\u001b[0m \u001b[0;34m>\u001b[0m \u001b[0;36m1\u001b[0m\u001b[0;34m:\u001b[0m\u001b[0;34m\u001b[0m\u001b[0;34m\u001b[0m\u001b[0m\n\u001b[1;32m    179\u001b[0m         \u001b[0ma\u001b[0m \u001b[0;34m=\u001b[0m \u001b[0ma\u001b[0m\u001b[0;34m.\u001b[0m\u001b[0msqueeze\u001b[0m\u001b[0;34m(\u001b[0m\u001b[0;34m)\u001b[0m\u001b[0;34m\u001b[0m\u001b[0;34m\u001b[0m\u001b[0m\n",
            "\u001b[0;32m/usr/local/lib/python3.6/dist-packages/numpy/core/_asarray.py\u001b[0m in \u001b[0;36masarray\u001b[0;34m(a, dtype, order)\u001b[0m\n\u001b[1;32m     83\u001b[0m \u001b[0;34m\u001b[0m\u001b[0m\n\u001b[1;32m     84\u001b[0m     \"\"\"\n\u001b[0;32m---> 85\u001b[0;31m     \u001b[0;32mreturn\u001b[0m \u001b[0marray\u001b[0m\u001b[0;34m(\u001b[0m\u001b[0ma\u001b[0m\u001b[0;34m,\u001b[0m \u001b[0mdtype\u001b[0m\u001b[0;34m,\u001b[0m \u001b[0mcopy\u001b[0m\u001b[0;34m=\u001b[0m\u001b[0;32mFalse\u001b[0m\u001b[0;34m,\u001b[0m \u001b[0morder\u001b[0m\u001b[0;34m=\u001b[0m\u001b[0morder\u001b[0m\u001b[0;34m)\u001b[0m\u001b[0;34m\u001b[0m\u001b[0;34m\u001b[0m\u001b[0m\n\u001b[0m\u001b[1;32m     86\u001b[0m \u001b[0;34m\u001b[0m\u001b[0m\n\u001b[1;32m     87\u001b[0m \u001b[0;34m\u001b[0m\u001b[0m\n",
            "\u001b[0;31mValueError\u001b[0m: could not convert string to float: 'Small'"
          ]
        },
        {
          "output_type": "display_data",
          "data": {
            "image/png": "[encoded data removed]",
            "text/plain": [
              "<Figure size 432x432 with 3 Axes>"
            ]
          },
          "metadata": {
            "tags": [],
            "needs_background": "light"
          }
        }
      ]
    },
    {
      "cell_type": "code",
      "metadata": {
        "id": "ujpstX-JLmD7"
      },
      "source": [
        ""
      ],
      "execution_count": null,
      "outputs": []
    }
  ]
}